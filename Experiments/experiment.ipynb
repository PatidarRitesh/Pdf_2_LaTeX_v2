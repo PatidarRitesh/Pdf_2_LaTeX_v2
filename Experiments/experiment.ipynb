{
 "cells": [
  {
   "cell_type": "code",
   "execution_count": 1,
   "metadata": {},
   "outputs": [],
   "source": [
    "latex_string1 = \"\"\"[PAD]\\\\importpackages{}\\n\\\\graphicspath{ {./images/} }\\n\\n\\n\\\\title{Equilibration and Thermalization of Classical Systems}\\n\\\\author{Fengping Jin}\\n\\\\affiliation{Institute for Advanced Simulation, J\\\\\"ulich Supercomputing Centre,\\\\\\\\\\nForschungzentrum J\\\\\"ulich, D-52425 J\\\\\"ulich, Germany}\\n\\\\author{Thomas Neuhaus}\\n\\\\affiliation{Institute for Advanced Simulation, J\\\\\"ulich Supercomputing Centre,\\\\\\\\\\nForschungzentrum J\\\\\"ulich, D-52425 J\\\\\"ulich, Germany}\\n\\\\author{Kristel Michielsen}\\n\\\\affiliation{Institute for Advanced Simulation, J\\\\\"ulich Supercomputing Centre,\\\\\\\\\\nForschungzentrum J\\\\\"ulich, D-52425 J\\\\\"ulich, Germany}\\n\\\\affiliation{RWTH Aachen University, D-52056 Aachen, Germany}\\n\\\\author{Seiji Miyashita}\\n\\\\affiliation{Department of Physics, Graduate School of Science,\\\\\\\\\\nUniversity of Tokyo, Bunkyo-ku, Tokyo 113-0033, Japan}\\n\\\\affiliation{CREST, JST, 4-1-8 Honcho Kawaguchi, Saitama, 332-0012, Japan}\\n\\\\author{Mark Novotny}\\n\\\\affiliation{Department of Physics and Astronomy, Mississippi State University, Mississippi State, MS 39762-5167, USA}\\n\\\\affiliation{HPC$^2$ Center for Computational Sciences, Mississippi State University, Mississippi State, MS 39762-9627, USA}\\n\\\\author{Mikhail I. Katsnelson}\\n\\\\affiliation{Institute of Molecules and Materials, Radboud University of Nijmegen,\\nNL-6525ED Nijmegen, The Netherlands}\\n\\\\author{Hans De Raedt}\\n\\\\affiliation{Department of Applied Physics, Zernike Institute for Advanced Materials,\\\\\\\\\\nUniversity of Groningen, Nijenborgh 4, NL-9747AG Groningen, The Netherlands}\\n\\\\date{\\\\today}\\n\\\\begin{abstract}\\nIt is demonstrated that the\\ncanonical distribution for a subsystem of a closed system\\nfollows directly from the solution of the time-reversible Newtonian equation of motion\\nin which the total energy is strictly conserved.\\nIt is shown that this conclusion holds for both integrable or nonintegrable systems\\neven though the whole system may contain as little as a few thousand particles.\\nIn other words, we demonstrate that the canonical distribution holds\\nfor subsystems of experimentally relevant sizes and observation times.\\n\\\\end{abstract}\\n\\\\pacs{05.20.-y, 05.45.Pq, 75.10.Pq}\\n\\\\maketitle\\nBoltzmann\\'s postulate of equal \\\\textit{a-priori} probability is the cornerstone of statistical mechanics.\\nThis postulate eliminates the difficulties of deriving the statistical properties\\nof a many-body system from its dynamical evolution by\\nintroducing a probabilistic description in terms of the (micro)canonical ensemble.\\nIn classical mechanics, the equivalence of these two fundamentally\\ndifferent levels of description remains elusive~\\\\cite{KUBO85,GREI97}.\\nAlthough considerable progress has been made through the development of ergodic theory,\\nmore than hundred years after its conception\\na direct demonstration that the equal \\\\textit{a-priori} principle\\nor, equivalently, the canonical distribution follows directly from the dynamical behavior\\nof a finite number of particles is still missing~\\\\cite{KUBO85,GREI97}.\\nThe discovery of ``deterministic chaos\\'\\' has made a huge impact on old discussions of the relations\\nbetween classical and statistical mechanics~\\\\cite{SCHU95,ZASL85,SAGD88,PRIG80}.\\nThe irreversibility in the macroworld is often related with unstable motion in generic mechanical systems\\ncharacterized by positive Lyapunov exponents and a non-zero Kolmogorov entropy.\\nIntegrable systems are considered from this point of view as exceptional (not to say pathological)\\nand irrelevant for the problem of justification of statistical physics.\\nThe famous Fermi-Pasta-Ulam paradox~\\\\cite{FERM55,FORD92,GALL08,PORT09} and its interpretation in terms of closeness of their\\nmodel to the completely integrable KdV model (see Ref[SEP]'\"\"\"\n"
   ]
  },
  {
   "cell_type": "code",
   "execution_count": 2,
   "metadata": {},
   "outputs": [],
   "source": [
    "latex_string=\"\"\" [PAD]\\\\importpackages{}\\n\\\\graphicspath{ {./images/} }\\n\\n\\n\\\\title{ Gauge aspect of tetrad field in gravity}\\n\\\\author{Tao Zhou}\\n\\\\email{taaozhou@swjtu.edu.cn}\\n\\\\affiliation{Schoo\n",
    "l of Physical Science and Technology, Southwest Jiaotong University, Chengdu 610031, China}\\n\\\\date{\\\\today}\\n\\\\begin{abstract}\\nIn general relativity, an inertial frame can only be establi\n",
    "shed in a small region of spacetime, and locally inertial frames are mathematically represented by a tetrad field in gravity. The tetrad field is not unique due to the freedom to perform Lo\n",
    "rentz transformations in locally inertial frames, and there exists freedom to choose the locally inertial frame at each spacetime. The local Lorentz transformations are known as non-Abelian\n",
    " gauge transformations for the tetrad field, and to fix the gauge freedom, corresponding to the Lorentz gauge $\\\\partial_\\\\mu A^\\\\mu=0$ and Coulomb gauge $\\\\partial_i A^i=0$ in electrodynam\n",
    "ics, the Lorentz gauge and Coulomb gauge for the tetrad field are proposed in the present work. Moreover, properties of the Lorentz gauge and Coulomb gauge for tetrad field are discussed, w\n",
    "hich show the similarities to those in electromagnetic field.\\n\\\\end{abstract}\\n\\\\pacs{04.20.Cv, 11.15.-q}\\n\\\\maketitle\\n\\\\section{Introduction}\\n\\\\label{sec:intro}\\nCosmological is flat in\n",
    " special relativity, and a globally inertial frame (GIF) can always be established. Any observer with a constant three-velocity in GIF is an inertial observer, and the laws of physics look \n",
    "the same to all such observers. In general relativity, one main issue, that no unique globally inertial frame can be established, arises from flat to curved spacetime. However, in small reg\n",
    "ions of spacetime, the spacetime looks approximately flat, and the freely falling observers, who perform physics experiments in small regions of spacetime around them, would see that physic\n",
    "s is approximately the same as that seen by an inertial observer in flat spacetime. Therefore, to retain the notation of inertial frames, we define locally inertial frames (LIFs) in the sma\n",
    "ll enough regions of spacetime, and they cannot be globally extended throughout the spacetime. The LIFs are described by the tetrad field \\\\cite{1,2}, which will be briefly discussed later.\n",
    " The freedom of tetrad field due to the local Lorentz transformations (LLTs) provides different LIFs at the same spacetime point, and the choice of a LIF at the same spacetime point is acco\n",
    "rding to the real physical degrees of freedom.\\nLorentz gauge, however, leaves some degrees of unphysical freedom, while Coulomb gauge is sufficient to specify the two physical degrees of p\n",
    "hoton's polarization. Similar to that in electrodynamics, the vector potential $A^\\\\mu$ is used to describe the massless photon, where the Lorentz gauge $\\\\partial_\\\\mu A^\\\\mu=0$ and Coulom\n",
    "b gauge $\\\\partial_i A^i=0$ can both remove certain degrees of the gauge freedom.\\nLorentz gauge, however, leaves some degrees of unphysical freedom, while Coulomb gauge is sufficient to sp\n",
    "ecify the two physical degrees of photon's polarization. Similar to that in electrodynamics, the Coulomb gauge for gravity in weak field approximation was proposed and discussed in Refs. \\\\\n",
    "cite{1}. Due to the freedom to the local choice of inertial frame in curved spacetime, there is no way to determine the same direction of the LIFs at two separated spacetime points. This is\n",
    " a dramatic problem, for instance, the spin entanglement state shared by two separated parties has an ambiguous meaning in curved spacetime. To overcome this issue, a gauge condition can be\n",
    " introduced to remove the degrees of freedom as usual in gauge theory, and an appropriate gauge condition leaving only physical freedom is further appreciated. In this paper, corresponding \n",
    "to that in electrodynamics, we investigate the Lorentz gauge and Coulomb gauge for tetrad field, and the opposite limit of the gauge field is not unique.\\n\\\\section{Theoretical results}\\n\\\\\n",
    "label{sec:intro}\\nIn this paper, we consider the Lorentz gauge and Coulomb gauge for tetrad field in gravity. The gauge field is not unique as a non-Abelian gauge transformations for the te\n",
    "trad field, and to fix the gauge freedom, corresponding to the Lorentz gauge, corresponding to the tetrad field, and the Coulomb gauge, corresponding to the tetrad field. The gauge field is\n",
    " not unique as a non-Abelian gauge transformations for the tetrad field, and to fix the gauge field, corresponding to the tetrad field, corresponding to the tetrad field, corresponding to t\n",
    "he tetrad field, corresponding to the tetrad field, corresponding to the tetrad field, corresponding to the tetrad field, corresponding to the tetrad field, corresponding to the tetrad fiel\n",
    "d, corresponding[SEP]  \"\"\""
   ]
  },
  {
   "cell_type": "code",
   "execution_count": 1,
   "metadata": {},
   "outputs": [],
   "source": [
    "latex_string2= ''' \\\\importpackages{}\\n\\\\graphicspath{ {./images/} }\\n\\n\\n\\\\title{Gauge aspect of tetrad field in gravity} \\n\\\\author{Tao Zhou}\\n\\\\email{taozhou@swjtu.edu.cn}\\n\\\\affiliation{School of\n",
    " Physical Science and Technology, Southwest Jiaotong University, Chengdu 610031, China}\\n\\\\date{\\\\today}\\n\\\\begin{abstract}\\nIn general relativity, an inertial frame can only be established\n",
    " in a small region of spacetime, and locally inertial frames are mathematically represented by a tetrad field in gravity. The tetrad field is not unique due to the freedom to perform Lorent\n",
    "z transformations in locally inertial frames, and there exists freedom to choose the locally inertial frame at each spacetime. The local Lorentz transformations are known as non-Abelian gau\n",
    "ge transformations for the tetrad field, and to fix the gauge freedom, corresponding to the Lorentz gauge $\\\\partial^\\\\mu\\\\mathcal{A}_\\\\mu=0$ and Coulomb gauge $\\\\partial^i\\\\mathcal{A}_i=0$\n",
    " in electrodynamics, the Lorentz gauge and Coulomb gauge for the tetrad field are proposed in the present work. Moreover, properties of the Lorentz gauge and Coulomb gauge for tetrad field \n",
    "are discussed, which show the similarities to those in electromagnetic field.\\n\\\\end{abstract}\\n\\\\pacs{04.20.Cv, 11.15.-q}\\n\\\\maketitle\\n\\\\textit{Introduction.---}\\nSpacetime is flat in spe\n",
    "cial relativity, and a globally inertial frame (GIF) can always be established. Any observer with a constant three-velocity in GIF is an inertial observer, and the laws of physics look the \n",
    "same to all such observers. In general relativity, one main issue, that no unique globally inertial frame can be established, arises from flat to curved spacetime. However, in small regions\n",
    " of spacetime, the spacetime looks approximately flat, and the freely falling observers, who perform physics experiments in small regions of spacetime around them, would see that physics is\n",
    " approximately the same as that seen by an inertial observer in flat spacetime. Therefore, to retain the notation of inertial frames, one can define \\\\textit{locally inertial frames} (LIFs)\n",
    " in the small enough regions of spacetime, and they cannot be globally extended throughout the spacetime.\\n The LIFs are described by the tetrad field~\\\\cite{Space_Carroll,Geo_Nakahra}, whic\n",
    "h will be briefly discussed later. The freedom of tetrad field due to the local Lorentz transformations (LLTs) provides different LIFs at the same spacetime point, and the choice of a LIF a\n",
    "t the same spacetime point is accordingly quite arbitrary. In the view of gauge theory, the Lorentz transformations play the role of gauge transformations. The redundant gauge freedoms comp\n",
    "ensate elegant mathematical expressions, but meanwhile, result in the obstacle to identify the real physical degrees of freedom. In electrodynamics, the vector potential $\\\\mathcal{A}^\\\\mu$\n",
    " is used to describe the massless photon, where the Lorentz gauge $\\\\partial^\\\\mu\\\\mathcal{A}_\\\\mu=0$ and Coulomb gauge $\\\\partial^i\\\\mathcal{A}_i=0$ can both remove certain degrees of the \n",
    "gauge freedom. Lorentz gauge, however, leaves some degrees of unphysical freedom, while Coulomb gauge is sufficient to specify the two physical degrees of photon's  polarization. Similar to\n",
    " that in electrodynamics, the Coulomb gauge for gravity in weak field approximation was proposed and discussed in Refs.~\\\\cite{PhysRevD.83.061501,*PhysRevD.83.084006}.\\nDue to the freedom t\n",
    "o the local choice of inertial frame in curved spacetime, there is no way to determine the same direction of the LIFs at two separated spacetime points. This is a dramatic problem, for inst\n",
    "ance, the spin entanglement state shared by two separated parties has an ambiguous meaning in curved spacetime. To overcome this issue, a gauge condition can be introduced to remove the deg\n",
    "rees of freedom as usual in gauge theory, and an appropriate gauge condition leaving only physical freedom is further appreciated. In this paper, corresponding to that in electrodynamics, w\n",
    "e investigate the Lorentz gauge and Coulomb gauge for tetrad field, and the properties of the two gauge conditions will be discussed.\\n\\\\textit{Mathematical representation of LIFs.---}\\nIn \n",
    "general relativity, spacetime is a four-dimensional Lorentzian manifold~$\\\\mathcal{M}$ with metric tensor $g_{\\\\mu\\\\nu}(x)$, and the tangent space $T_x\\\\mathcal{M}$ at some point $x\\\\in \\\\m\n",
    "athcal{M}$ is spanned by the natural basis $\\\\{e_\\\\mu=\\\\partial/\\\\partial x^\\\\mu\\\\}$. L[SEP]\n",
    "'''"
   ]
  },
  {
   "cell_type": "code",
   "execution_count": 3,
   "metadata": {},
   "outputs": [],
   "source": [
    "latex_string3= ''' \n",
    "gt [\"[PAD]\\\\importpackages{}\\n\\\\graphicspath{ {./images/} }\\n\\n\\n\\\\title{Speech Corpora Divergence Based Unsupervised Data Selection for ASR}\\n\\\\author{Changfeng~Gao,\n",
    "~\\\\IEEEmembership{Student Member,~IEEE,}\\n        Gaofeng~Cheng,~\\\\IEEEmembership{Member,~IEEE,}\\n        Pengyuan~Zhang,~\\\\IEEEmembership{Member,~IEEE,}\\n        Yon\n",
    "ghong~Yan,~\\\\IEEEmembership{Member,~IEEE,}\\n\\\\thanks{The authors are with the Key Laboratory of Speech Acoustics and Content Understanding, Institute of Acoustics, Ch\n",
    "inese Academy of Sciences,\\nBeijing 100864, China. University of Chinese Academy of Sciences (e-mail: gaochangfeng@hccl.ioa.ac.cn;  chenggaofeng@hccl.ioa.ac.cn; zhang\n",
    "pengyuan@hccl.ioa.ac.cn; yanyonghong@hccl.ioa.ac.cn}\\n}\\n\\\\maketitle\\n\\\\begin{abstract}\\nSelecting application scenarios matching data is important for the automatic \n",
    "speech recognition (ASR) training, but it is difficult to measure the matching degree of the training corpus.\\nThis study proposes a unsupervised target-aware data se\n",
    "lection method based on speech corpora divergence (SCD), which can measure the similarity between two speech corpora.\\nWe first use the self-supervised Hubert model t\n",
    "o discretize the speech corpora into label sequence and calculate the N-gram probability distribution. \\nThen we calculate the Kullback-Leibler divergence between the\n",
    " N-grams as the SCD.\\nFinally, we can choose the subset which has minimum SCD to the target corpus for annotation and training.\\nCompared to previous data selection m\n",
    "ethod, the SCD data selection method can focus on more acoustic details and guarantee the diversity of the selected set.\\nWe evaluate our method on different accents \n",
    "from Common Voice. Experiments show that the proposed SCD data selection can realize 14.8\\\\% relative improvements to the random selection, comparable or even superio\n",
    "r to the result of supervised selection.\\n\\\\end{abstract}\\n\\\\begin{IEEEkeywords}\\nAutomatic speech recognition, data selection, self-supervised learning.\\n\\\\end{IEEEk\n",
    "eywords}\\n\\\\section{Introduction}\\nFor the automatic speech recognition (ASR), speech annotation is an expensive and time-consuming work. People can easily collect en\n",
    "ormous unsupervised corpus from websites, broadcasts, and podcasts, but only a minority of them can be annotated artificially.\\nMoreover, as the training data matchin\n",
    "g is crucial for the ASR system \\\\cite{is_robust,robust-wav2vec}, it is important to select a suitable subset for annotation and training according to the target scen\n",
    "arios like accented\\\\cite{google-accent}, far-field\\\\cite{ami-pre} and children\\\\cite{childern} ASR.\\nAlthough we can manually select the matching training corpus by \n",
    "accent, speaker, or channel for annotation, it is difficult to describe the corpus's similarity mathematically and select the training speech automatically.  \\nIn gen\n",
    "eral, most works\\\\cite{es-ivector,es-gmm-u,es-gmm-u2,select-text, select-text2,es-nbest,es-gmm-s} believes that a well-designed training set should have similar distr\n",
    "ibution with the target corpus, but it is difficult to measure the speech corpus distribution.\\nTo solve this problem, the most common method is measuring the speech \n",
    "distribution with the transcription\\\\cite{select-text, select-text2, es-nbest, es-gmm-s}. \\\\cite{select-text} uses the frequency of the word, character or phoneme to \n",
    "measure the transcription distribution and then samples data uniformly. And to sample unlabeled speech, \\\\cite{es-nbest} uses a baseline ASR model to decode the N-Bes\n",
    "t hypothesis and then calculate the term frequency-inverse document frequency (tf-idf) for data selection.\\nAs the text-level distribution is too rough to measure the\n",
    " acoustic difference of the speech, \\\\cite{es-gmm-s} count the distribution according to the context-dependent HMM states to capture more acoustic details. However, t\n",
    "he HMM states still largely depends on the speech transcription and the lexicon, it can not still measure the difference between sex, accent or other acoustic charact\n",
    "eristics.\\nBesides selection by the distribution, contrastive sampling\\\\cite{contrastive-selection,cs-gmm,accent-selection,contrastive-ds2,contrastive-new,google-ds} \n",
    "is another recent popular data selection method. Most[SEP]\"]\n",
    "'''"
   ]
  },
  {
   "cell_type": "code",
   "execution_count": 5,
   "metadata": {},
   "outputs": [],
   "source": [
    "latex_string4=''' \n",
    "pred ['[PAD]\\\\importpackages{}\\n\\\\graphicspath{ {./images/} }\\n\\n\\n\\\\title{Speech Corpus Determination Based Unsupervised Data Selection for ASR}\\n\\\\author{Changfeng \n",
    "Gao,~\\\\IEEEmembership{Student Member,~IEEE,}\\n        Gaofeng Cheng,~\\\\IEEEmembership{Member,~IEEE,}\\n Pengyuan Zhang,~\\\\IEEEmembership{Member,~IEEE,}\\n       \n",
    " Yonghong Yan,~\\\\IEEEmembership{Member,~IEEE,}\\n\\\\thanks{The authors are with the Key Laboratory of Speech Activity and Content Understanding, Institute of Activity, \n",
    "Chinese Academy of Sciences, Beijing 100848, China. University of Chinese Academy of Sciences (e-mail: gaochangfeng@hccl.ioa.ac.cn; chenggaofeng@hccl.ioa.ac.cn; zhang\n",
    "penggyuan@hccl.ioa.ac.cn; yanyhongong@hccl.ioa.ac.cn}\\n}\\n\\\\maketitle\\n\\\\begin{abstract}\\nSelecting application scenarios matching data is important for the automatic\n",
    " speech recognition (ASR) training, but it is difficult to measure the matching degree of the training corpus. This study proposes a unsupervised target-aware data se\n",
    "lection method based on speech corpora divergence (SCD), which can measure the similarity between two speech corpora. We first use the self-supervised Hubert model to\n",
    " discretize the speech corpora into label sequence and calculate the N-gram probability distribution. Then we calculate the Kullback-Leibler divergence between the N-\n",
    "grams as the SCD. Finally, we can choose the subset which has minimum SCD to the target corpus for annotation and training. Compared to previous data selection method\n",
    ", the SCD data selection method can focus on more acoustic details and guarantee the diversity of the selected set. We evaluate our method on different accents from Common Voice. \n",
    "Experiments show that the proposed SCD data selection can realize 14.8\\\\% relative improvements to the random selection, comparable or even superior to the result of supervised selection.\\n\\\\\n",
    "end{abstract}\\n\\\\begin{IEEEkeywords}\\nAutomatic speech recognition, data selection, self-supervised learning.\\n\\\\end{IEEEkeywords}\\n\\\\IEEEpeerreviewmaketitle\\n\\\\section{Introduction}\\n\n",
    "For the automatic speech recognition (ASR), speech annotation is an expensive and time-consuming work. People can easily collect enormous unsupervised corpus from websites,\n",
    " broadcasts, and pauses, but only a minority of them can be annotated artificially. Moreover, as the training data matching is crucial for the ASR system \\\\\n",
    "'''"
   ]
  },
  {
   "cell_type": "code",
   "execution_count": 6,
   "metadata": {},
   "outputs": [
    {
     "name": "stdout",
     "output_type": "stream",
     "text": [
      "The LaTeX code has been saved to output.tex.\n"
     ]
    }
   ],
   "source": [
    "\n",
    "\n",
    "# Removing the initial '[PAD]' if present and replacing escaped newline characters\n",
    "formatted_latex = latex_string3.replace('[PAD]', '').replace('\\\\n', '\\n')\n",
    "\n",
    "# Save the formatted string to a .tex file\n",
    "with open(\"output.tex\", \"w\") as file:\n",
    "    file.write(formatted_latex)\n",
    "\n",
    "print(\"The LaTeX code has been saved to output.tex.\")\n"
   ]
  },
  {
   "cell_type": "code",
   "execution_count": 5,
   "metadata": {},
   "outputs": [
    {
     "name": "stdout",
     "output_type": "stream",
     "text": [
      "2171237\n"
     ]
    }
   ],
   "source": [
    "# copy this : /mnt/NAS/patidarritesh/latex_files/1310.8136.tex to .\n",
    "\n",
    "import os\n",
    "os.system(\"cp /mnt/NAS/patidarritesh/root/train.jsonl \")\n",
    "# print(len(os.listdir(\"/mnt/NAS/patidarritesh/Grounding_latex\")))"
   ]
  },
  {
   "cell_type": "code",
   "execution_count": 6,
   "metadata": {},
   "outputs": [
    {
     "data": {
      "text/plain": [
       "64"
      ]
     },
     "execution_count": 6,
     "metadata": {},
     "output_type": "execute_result"
    }
   ],
   "source": [
    "os.cpu_count()"
   ]
  }
 ],
 "metadata": {
  "kernelspec": {
   "display_name": "base",
   "language": "python",
   "name": "python3"
  },
  "language_info": {
   "codemirror_mode": {
    "name": "ipython",
    "version": 3
   },
   "file_extension": ".py",
   "mimetype": "text/x-python",
   "name": "python",
   "nbconvert_exporter": "python",
   "pygments_lexer": "ipython3",
   "version": "3.11.5"
  }
 },
 "nbformat": 4,
 "nbformat_minor": 2
}
