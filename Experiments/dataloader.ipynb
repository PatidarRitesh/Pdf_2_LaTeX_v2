{
 "cells": [
  {
   "cell_type": "code",
   "execution_count": null,
   "metadata": {},
   "outputs": [],
   "source": [
    "!pip install orjson"
   ]
  },
  {
   "cell_type": "code",
   "execution_count": 27,
   "metadata": {},
   "outputs": [
    {
     "name": "stdout",
     "output_type": "stream",
     "text": [
      "Collecting PyMuPDF\n",
      "  Downloading PyMuPDF-1.23.8-cp311-none-manylinux2014_x86_64.whl.metadata (3.4 kB)\n",
      "Collecting PyMuPDFb==1.23.7 (from PyMuPDF)\n",
      "  Downloading PyMuPDFb-1.23.7-py3-none-manylinux2014_x86_64.manylinux_2_17_x86_64.whl.metadata (1.3 kB)\n",
      "Downloading PyMuPDF-1.23.8-cp311-none-manylinux2014_x86_64.whl (4.4 MB)\n",
      "\u001b[2K   \u001b[90m━━━━━━━━━━━━━━━━━━━━━━━━━━━━━━━━━━━━━━━━\u001b[0m \u001b[32m4.4/4.4 MB\u001b[0m \u001b[31m6.4 MB/s\u001b[0m eta \u001b[36m0:00:00\u001b[0m00:01\u001b[0m00:01\u001b[0m\n",
      "\u001b[?25hDownloading PyMuPDFb-1.23.7-py3-none-manylinux2014_x86_64.manylinux_2_17_x86_64.whl (30.6 MB)\n",
      "\u001b[2K   \u001b[90m━━━━━━━━━━━━━━━━━━━━━━━━━━━━━━━━━━━━━━━━\u001b[0m \u001b[32m30.6/30.6 MB\u001b[0m \u001b[31m7.3 MB/s\u001b[0m eta \u001b[36m0:00:00\u001b[0m:00:01\u001b[0m00:01\u001b[0m\n",
      "\u001b[?25hInstalling collected packages: PyMuPDFb, PyMuPDF\n",
      "Successfully installed PyMuPDF-1.23.8 PyMuPDFb-1.23.7\n",
      "Requirement already satisfied: Pillow in /home/patidarritesh/miniconda3/envs/venv/lib/python3.11/site-packages (10.1.0)\n"
     ]
    }
   ],
   "source": [
    "!pip install PyMuPDF\n",
    "!pip install Pillow"
   ]
  },
  {
   "cell_type": "code",
   "execution_count": 7,
   "metadata": {},
   "outputs": [
    {
     "name": "stdout",
     "output_type": "stream",
     "text": [
      "Collecting jsonlines\n",
      "  Downloading jsonlines-4.0.0-py3-none-any.whl.metadata (1.6 kB)\n",
      "Collecting attrs>=19.2.0 (from jsonlines)\n",
      "  Downloading attrs-23.1.0-py3-none-any.whl (61 kB)\n",
      "\u001b[2K     \u001b[90m━━━━━━━━━━━━━━━━━━━━━━━━━━━━━━━━━━━━━━━\u001b[0m \u001b[32m61.2/61.2 kB\u001b[0m \u001b[31m439.6 kB/s\u001b[0m eta \u001b[36m0:00:00\u001b[0m \u001b[36m0:00:01\u001b[0mm\n",
      "\u001b[?25hDownloading jsonlines-4.0.0-py3-none-any.whl (8.7 kB)\n",
      "Installing collected packages: attrs, jsonlines\n",
      "Successfully installed attrs-23.1.0 jsonlines-4.0.0\n"
     ]
    }
   ],
   "source": [
    "!pip install jsonlines"
   ]
  },
  {
   "cell_type": "code",
   "execution_count": 1,
   "metadata": {},
   "outputs": [],
   "source": [
    "import os\n",
    "import torch\n",
    "import pandas as pd\n",
    "from skimage import io, transform\n",
    "import numpy as np\n",
    "import matplotlib.pyplot as plt\n",
    "from torch.utils.data import Dataset, DataLoader\n",
    "\n",
    "from pathlib import Path\n",
    "from functools import partial\n",
    "import random\n",
    "from typing import Dict, Tuple, Callable\n",
    "from PIL import Image, UnidentifiedImageError\n",
    "from typing import List, Optional\n",
    "import pypdf\n",
    "import orjson\n",
    "import jsonlines     \n",
    "import fitz  # PyMuPDF\n"
   ]
  },
  {
   "cell_type": "code",
   "execution_count": 2,
   "metadata": {},
   "outputs": [
    {
     "ename": "FileNotFoundError",
     "evalue": "[Errno 2] No such file or directory: '/mnt/NAS/patidarritesh/Pdf_2_LaTeX/pdf_2_tex/dataset/root/train.jsonl'",
     "output_type": "error",
     "traceback": [
      "\u001b[0;31m---------------------------------------------------------------------------\u001b[0m",
      "\u001b[0;31mFileNotFoundError\u001b[0m                         Traceback (most recent call last)",
      "Cell \u001b[0;32mIn[2], line 4\u001b[0m\n\u001b[1;32m      1\u001b[0m json_path \u001b[38;5;241m=\u001b[39m Path(\u001b[38;5;124m'\u001b[39m\u001b[38;5;124m/mnt/NAS/patidarritesh/Pdf_2_LaTeX/pdf_2_tex/dataset/root/train.jsonl\u001b[39m\u001b[38;5;124m'\u001b[39m)\n\u001b[1;32m      3\u001b[0m \u001b[38;5;66;03m# Open the JSONL file for reading\u001b[39;00m\n\u001b[0;32m----> 4\u001b[0m \u001b[38;5;28;01mwith\u001b[39;00m jsonlines\u001b[38;5;241m.\u001b[39mopen(json_path) \u001b[38;5;28;01mas\u001b[39;00m reader:\n\u001b[1;32m      5\u001b[0m     \u001b[38;5;28;01mfor\u001b[39;00m line_number, line \u001b[38;5;129;01min\u001b[39;00m \u001b[38;5;28menumerate\u001b[39m(reader, start\u001b[38;5;241m=\u001b[39m\u001b[38;5;241m1\u001b[39m):\n\u001b[1;32m      6\u001b[0m         \u001b[38;5;66;03m# Process each line as needed\u001b[39;00m\n\u001b[1;32m      7\u001b[0m         \u001b[38;5;28mprint\u001b[39m(line[\u001b[38;5;124m'\u001b[39m\u001b[38;5;124mpdf\u001b[39m\u001b[38;5;124m'\u001b[39m])\n",
      "File \u001b[0;32m~/miniconda3/lib/python3.11/site-packages/jsonlines/jsonlines.py:643\u001b[0m, in \u001b[0;36mopen\u001b[0;34m(file, mode, loads, dumps, compact, sort_keys, flush)\u001b[0m\n\u001b[1;32m    641\u001b[0m \u001b[38;5;28mcls\u001b[39m \u001b[38;5;241m=\u001b[39m Reader \u001b[38;5;28;01mif\u001b[39;00m mode \u001b[38;5;241m==\u001b[39m \u001b[38;5;124m\"\u001b[39m\u001b[38;5;124mr\u001b[39m\u001b[38;5;124m\"\u001b[39m \u001b[38;5;28;01melse\u001b[39;00m Writer\n\u001b[1;32m    642\u001b[0m encoding \u001b[38;5;241m=\u001b[39m \u001b[38;5;124m\"\u001b[39m\u001b[38;5;124mutf-8-sig\u001b[39m\u001b[38;5;124m\"\u001b[39m \u001b[38;5;28;01mif\u001b[39;00m mode \u001b[38;5;241m==\u001b[39m \u001b[38;5;124m\"\u001b[39m\u001b[38;5;124mr\u001b[39m\u001b[38;5;124m\"\u001b[39m \u001b[38;5;28;01melse\u001b[39;00m \u001b[38;5;124m\"\u001b[39m\u001b[38;5;124mutf-8\u001b[39m\u001b[38;5;124m\"\u001b[39m\n\u001b[0;32m--> 643\u001b[0m fp \u001b[38;5;241m=\u001b[39m builtins\u001b[38;5;241m.\u001b[39mopen(file, mode\u001b[38;5;241m=\u001b[39mmode \u001b[38;5;241m+\u001b[39m \u001b[38;5;124m\"\u001b[39m\u001b[38;5;124mt\u001b[39m\u001b[38;5;124m\"\u001b[39m, encoding\u001b[38;5;241m=\u001b[39mencoding)\n\u001b[1;32m    644\u001b[0m kwargs \u001b[38;5;241m=\u001b[39m \u001b[38;5;28mdict\u001b[39m(\n\u001b[1;32m    645\u001b[0m     loads\u001b[38;5;241m=\u001b[39mloads,\n\u001b[1;32m    646\u001b[0m     dumps\u001b[38;5;241m=\u001b[39mdumps,\n\u001b[0;32m   (...)\u001b[0m\n\u001b[1;32m    649\u001b[0m     flush\u001b[38;5;241m=\u001b[39mflush,\n\u001b[1;32m    650\u001b[0m )\n\u001b[1;32m    651\u001b[0m kwargs \u001b[38;5;241m=\u001b[39m {key: value \u001b[38;5;28;01mfor\u001b[39;00m key, value \u001b[38;5;129;01min\u001b[39;00m kwargs\u001b[38;5;241m.\u001b[39mitems() \u001b[38;5;28;01mif\u001b[39;00m value \u001b[38;5;129;01mis\u001b[39;00m \u001b[38;5;129;01mnot\u001b[39;00m \u001b[38;5;28;01mNone\u001b[39;00m}\n",
      "\u001b[0;31mFileNotFoundError\u001b[0m: [Errno 2] No such file or directory: '/mnt/NAS/patidarritesh/Pdf_2_LaTeX/pdf_2_tex/dataset/root/train.jsonl'"
     ]
    }
   ],
   "source": [
    "json_path = Path('/mnt/NAS/patidarritesh/Pdf_2_LaTeX/pdf_2_tex/dataset/root/train.jsonl')\n",
    "\n",
    "# Open the JSONL file for reading\n",
    "with jsonlines.open(json_path) as reader:\n",
    "    for line_number, line in enumerate(reader, start=1):\n",
    "        # Process each line as needed\n",
    "        print(line['pdf'])\n",
    "\n",
    "print(line_number)\n"
   ]
  },
  {
   "cell_type": "code",
   "execution_count": null,
   "metadata": {},
   "outputs": [],
   "source": [
    "\"\"\"\n",
    "Copyright (c) Meta Platforms, Inc. and affiliates.\n",
    "\n",
    "This source code is licensed under the MIT license found in the\n",
    "LICENSE file in the root directory of this source tree.\n",
    "\"\"\"\n",
    "# Implements image augmentation\n",
    "\n",
    "import albumentations as alb\n",
    "from albumentations.pytorch import ToTensorV2\n",
    "import cv2\n",
    "import numpy as np\n",
    "from timm.data.constants import IMAGENET_DEFAULT_MEAN, IMAGENET_DEFAULT_STD\n",
    "\n",
    "\n",
    "def alb_wrapper(transform):\n",
    "    def f(im):\n",
    "        return transform(image=np.asarray(im))[\"image\"]\n",
    "\n",
    "    return f\n",
    "\n",
    "\n",
    "class Erosion(alb.ImageOnlyTransform):\n",
    "    \"\"\"\n",
    "    Apply erosion operation to an image.\n",
    "\n",
    "    Erosion is a morphological operation that shrinks the white regions in a binary image.\n",
    "\n",
    "    Args:\n",
    "        scale (int or tuple/list of int): The scale or range for the size of the erosion kernel.\n",
    "            If an integer is provided, a square kernel of that size will be used.\n",
    "            If a tuple or list is provided, it should contain two integers representing the minimum\n",
    "            and maximum sizes for the erosion kernel.\n",
    "        always_apply (bool, optional): Whether to always apply this transformation. Default is False.\n",
    "        p (float, optional): The probability of applying this transformation. Default is 0.5.\n",
    "\n",
    "    Returns:\n",
    "        numpy.ndarray: The transformed image.\n",
    "    \"\"\"\n",
    "\n",
    "    def __init__(self, scale, always_apply=False, p=0.5):\n",
    "        super().__init__(always_apply=always_apply, p=p)\n",
    "        if type(scale) is tuple or type(scale) is list:\n",
    "            assert len(scale) == 2\n",
    "            self.scale = scale\n",
    "        else:\n",
    "            self.scale = (scale, scale)\n",
    "\n",
    "    def apply(self, img, **params):\n",
    "        kernel = cv2.getStructuringElement(\n",
    "            cv2.MORPH_ELLIPSE, tuple(np.random.randint(self.scale[0], self.scale[1], 2))\n",
    "        )\n",
    "        img = cv2.erode(img, kernel, iterations=1)\n",
    "        return img\n",
    "\n",
    "\n",
    "class Dilation(alb.ImageOnlyTransform):\n",
    "    \"\"\"\n",
    "    Apply dilation operation to an image.\n",
    "\n",
    "    Dilation is a morphological operation that expands the white regions in a binary image.\n",
    "\n",
    "    Args:\n",
    "        scale (int or tuple/list of int): The scale or range for the size of the dilation kernel.\n",
    "            If an integer is provided, a square kernel of that size will be used.\n",
    "            If a tuple or list is provided, it should contain two integers representing the minimum\n",
    "            and maximum sizes for the dilation kernel.\n",
    "        always_apply (bool, optional): Whether to always apply this transformation. Default is False.\n",
    "        p (float, optional): The probability of applying this transformation. Default is 0.5.\n",
    "\n",
    "    Returns:\n",
    "        numpy.ndarray: The transformed image.\n",
    "    \"\"\"\n",
    "\n",
    "    def __init__(self, scale, always_apply=False, p=0.5):\n",
    "        super().__init__(always_apply=always_apply, p=p)\n",
    "        if type(scale) is tuple or type(scale) is list:\n",
    "            assert len(scale) == 2\n",
    "            self.scale = scale\n",
    "        else:\n",
    "            self.scale = (scale, scale)\n",
    "\n",
    "    def apply(self, img, **params):\n",
    "        kernel = cv2.getStructuringElement(\n",
    "            cv2.MORPH_ELLIPSE, tuple(np.random.randint(self.scale[0], self.scale[1], 2))\n",
    "        )\n",
    "        img = cv2.dilate(img, kernel, iterations=1)\n",
    "        return img\n",
    "\n",
    "\n",
    "class Bitmap(alb.ImageOnlyTransform):\n",
    "    \"\"\"\n",
    "    Apply a bitmap-style transformation to an image.\n",
    "\n",
    "    This transformation replaces all pixel values below a certain threshold with a specified value.\n",
    "\n",
    "    Args:\n",
    "        value (int, optional): The value to replace pixels below the threshold with. Default is 0.\n",
    "        lower (int, optional): The threshold value below which pixels will be replaced. Default is 200.\n",
    "        always_apply (bool, optional): Whether to always apply this transformation. Default is False.\n",
    "        p (float, optional): The probability of applying this transformation. Default is 0.5.\n",
    "\n",
    "    Returns:\n",
    "        numpy.ndarray: The transformed image.\n",
    "    \"\"\"\n",
    "\n",
    "    def __init__(self, value=0, lower=200, always_apply=False, p=0.5):\n",
    "        super().__init__(always_apply=always_apply, p=p)\n",
    "        self.lower = lower\n",
    "        self.value = value\n",
    "\n",
    "    def apply(self, img, **params):\n",
    "        img = img.copy()\n",
    "        img[img < self.lower] = self.value\n",
    "        return img\n",
    "\n",
    "\n",
    "train_transform = alb_wrapper(\n",
    "    alb.Compose(\n",
    "        [\n",
    "            Bitmap(p=0.05),\n",
    "            alb.OneOf([Erosion((2, 3)), Dilation((2, 3))], p=0.02),\n",
    "            alb.Affine(shear={\"x\": (0, 3), \"y\": (-3, 0)}, cval=(255, 255, 255), p=0.03),\n",
    "            alb.ShiftScaleRotate(\n",
    "                shift_limit_x=(0, 0.04),\n",
    "                shift_limit_y=(0, 0.03),\n",
    "                scale_limit=(-0.15, 0.03),\n",
    "                rotate_limit=2,\n",
    "                border_mode=0,\n",
    "                interpolation=2,\n",
    "                value=(255, 255, 255),\n",
    "                p=0.03,\n",
    "            ),\n",
    "            alb.GridDistortion(\n",
    "                distort_limit=0.05,\n",
    "                border_mode=0,\n",
    "                interpolation=2,\n",
    "                value=(255, 255, 255),\n",
    "                p=0.04,\n",
    "            ),\n",
    "            alb.Compose(\n",
    "                [\n",
    "                    alb.Affine(\n",
    "                        translate_px=(0, 5), always_apply=True, cval=(255, 255, 255)\n",
    "                    ),\n",
    "                    alb.ElasticTransform(\n",
    "                        p=1,\n",
    "                        alpha=50,\n",
    "                        sigma=120 * 0.1,\n",
    "                        alpha_affine=120 * 0.01,\n",
    "                        border_mode=0,\n",
    "                        value=(255, 255, 255),\n",
    "                    ),\n",
    "                ],\n",
    "                p=0.04,\n",
    "            ),\n",
    "            alb.RandomBrightnessContrast(0.1, 0.1, True, p=0.03),\n",
    "            alb.ImageCompression(95, p=0.07),\n",
    "            alb.GaussNoise(20, p=0.08),\n",
    "            alb.GaussianBlur((3, 3), p=0.03),\n",
    "            alb.Normalize(IMAGENET_DEFAULT_MEAN, IMAGENET_DEFAULT_STD),\n",
    "            ToTensorV2(),\n",
    "        ]\n",
    "    )\n",
    ")\n",
    "test_transform = alb_wrapper(\n",
    "    alb.Compose(\n",
    "        [\n",
    "            alb.Normalize(IMAGENET_DEFAULT_MEAN, IMAGENET_DEFAULT_STD),\n",
    "            ToTensorV2(),\n",
    "        ]\n",
    "    )\n",
    ")\n"
   ]
  },
  {
   "cell_type": "code",
   "execution_count": null,
   "metadata": {},
   "outputs": [],
   "source": [
    "# import albumentations as alb\n",
    "# from albumentations.pytorch import ToTensorV2\n",
    "\n",
    "# def alb_wrapper(transform):\n",
    "#     def f(im):\n",
    "#         return transform(image=np.asarray(im))[\"image\"]\n",
    "\n",
    "#     return f\n",
    "\n",
    "# train_transform = alb_wrapper(\n",
    "#         alb.Compose(\n",
    "#         [\n",
    "#             alb.Compose(\n",
    "#                 [alb.ShiftScaleRotate(shift_limit=0, scale_limit=(-.15, 0), rotate_limit=1, border_mode=0, interpolation=3,\n",
    "#                                     value=[255, 255, 255], p=1),\n",
    "#                 alb.GridDistortion(distort_limit=0.1, border_mode=0, interpolation=3, value=[255, 255, 255], p=.5)], p=.15),\n",
    "#             # alb.InvertImg(p=.15),\n",
    "#             alb.RGBShift(r_shift_limit=15, g_shift_limit=15,\n",
    "#                         b_shift_limit=15, p=0.3),\n",
    "#             alb.GaussNoise(10, p=.2),\n",
    "#             alb.RandomBrightnessContrast(.05, (-.2, 0), True, p=0.2),\n",
    "#             alb.ImageCompression(95, p=.3),\n",
    "#             alb.ToGray(always_apply=True),\n",
    "#             alb.Normalize((0.7931, 0.7931, 0.7931), (0.1738, 0.1738, 0.1738)),\n",
    "#             # alb.Sharpen()\n",
    "#             ToTensorV2(),\n",
    "            \n",
    "#         ]\n",
    "#     )\n",
    "# )\n",
    "# test_transform = alb.Compose(\n",
    "#     [\n",
    "#         alb.ToGray(always_apply=True),\n",
    "#         alb.Normalize((0.7931, 0.7931, 0.7931), (0.1738, 0.1738, 0.1738)),\n",
    "#         # alb.Sharpen()\n",
    "#         ToTensorV2(),\n",
    "#     ]\n",
    "# )"
   ]
  },
  {
   "cell_type": "code",
   "execution_count": null,
   "metadata": {},
   "outputs": [
    {
     "name": "stderr",
     "output_type": "stream",
     "text": [
      "/home/patidarritesh/miniconda3/envs/venv/lib/python3.11/site-packages/tqdm/auto.py:21: TqdmWarning: IProgress not found. Please update jupyter and ipywidgets. See https://ipywidgets.readthedocs.io/en/stable/user_install.html\n",
      "  from .autonotebook import tqdm as notebook_tqdm\n"
     ]
    }
   ],
   "source": [
    "\n",
    "import numpy as np\n",
    "from PIL import Image\n",
    "import cv2\n",
    "from torchvision import transforms\n",
    "\n",
    "\n",
    "from PIL import ImageOps\n",
    "from timm.models.swin_transformer import SwinTransformer\n",
    "from torchvision.transforms.functional import resize, rotate\n",
    "\n",
    "class enc():\n",
    "\n",
    "    def __init__(self):\n",
    "        self.input_size = [896,16800]\n",
    "        self.align_long_axis = True\n",
    "        self.training = True\n",
    "\n",
    "    def crop_margin(self, img: Image.Image) -> Image.Image:\n",
    "        data = np.array(img.convert(\"L\"))\n",
    "        data = data.astype(np.uint8)\n",
    "        max_val = data.max()\n",
    "        min_val = data.min()\n",
    "        if max_val == min_val:\n",
    "            return img\n",
    "        data = (data - min_val) / (max_val - min_val) * 255\n",
    "        gray = 255 * (data < 200).astype(np.uint8)\n",
    "\n",
    "        coords = cv2.findNonZero(gray)  # Find all non-zero points (text)\n",
    "        a, b, w, h = cv2.boundingRect(coords)  # Find minimum spanning bounding box\n",
    "        return img.crop((a, b, w + a, h + b))\n",
    "\n",
    "    # def to_tensor(self, img: Image.Image):\n",
    "    #     if self.training:\n",
    "    #         return train_transform\n",
    "    #     else:\n",
    "    #         return test_transform\n",
    "    def to_tensor(self, img: Image.Image):\n",
    "        if self.training:\n",
    "            # return train_transform(image = img)['image']\n",
    "            return transforms.ToTensor()(img)\n",
    "        else:\n",
    "            return transforms.ToTensor()(img)\n",
    "    def prepare_input(self, pdf_path:str, random_padding: bool = False):\n",
    "        self.input_tensor = None\n",
    "        if pdf_path is None:\n",
    "            return\n",
    "        img_list = []\n",
    "        # Convert PDF to images using PyMuPDF\n",
    "        input_size = [896,672]\n",
    "        doc = fitz.open(pdf_path)\n",
    "        for page_number in range(len(doc)):\n",
    "            page = doc[page_number]\n",
    "            image = page.get_pixmap()\n",
    "            # Convert Pixmap to PIL Image\n",
    "            img = Image.frombytes(\"RGB\", [image.width, image.height], image.samples)\n",
    "\n",
    "            # crop margins\n",
    "            try:\n",
    "                img = self.crop_margin(img.convert(\"RGB\"))\n",
    "            except OSError:\n",
    "                # might throw an error for broken files\n",
    "                return\n",
    "            if img.height == 0 or img.width == 0:\n",
    "                return\n",
    "            if self.align_long_axis and (\n",
    "                (input_size[0] > input_size[1] and img.width > img.height)\n",
    "                or (input_size[0] < input_size[1] and img.width < img.height)\n",
    "            ):\n",
    "                img = rotate(img, angle=-90, expand=True)\n",
    "            img = resize(img, min(input_size))\n",
    "            img.thumbnail((input_size[1], input_size[0]))\n",
    "            delta_width = input_size[1] - img.width\n",
    "            delta_height = input_size[0] - img.height\n",
    "            if random_padding:\n",
    "                pad_width = np.random.randint(low=0, high=delta_width + 1)\n",
    "                pad_height = np.random.randint(low=0, high=delta_height + 1)\n",
    "            else:\n",
    "                pad_width = delta_width // 2\n",
    "                pad_height = delta_height // 2\n",
    "            padding = (\n",
    "                pad_width,\n",
    "                pad_height,\n",
    "                delta_width - pad_width,\n",
    "                delta_height - pad_height,\n",
    "            )\n",
    "            padded_img = ImageOps.expand(img, padding)\n",
    "            img_list.append(padded_img)\n",
    "\n",
    "            # page_tensor = self.to_tensor(ImageOps.expand(img, padding))\n",
    "            # page_tensor = self.to_tensor(img)\n",
    "            # print(page_tensor)\n",
    "            # page_tensor=page_tensor.to('cuda')\n",
    "            # print(page_tensor.shape)\n",
    "            # if self.input_tensor is None:\n",
    "            #    self.input_tensor = page_tensor\n",
    "            # else:\n",
    "            #     self.input_tensor = torch.cat([self.input_tensor, page_tensor], dim=2)\n",
    "\n",
    "\n",
    "                # Calculate the padding to be added\n",
    "        target_shape = (3, 896, self.input_size[1])\n",
    "        original_shape = self.input_tensor.shape\n",
    "        padding = [0, target_shape[2] - original_shape[2]]\n",
    "\n",
    "        # Apply padding using torch.nn.functional.pad\n",
    "        padded_tensor = torch.nn.functional.pad(self.input_tensor, padding)\n",
    "\n",
    "        return padded_tensor"
   ]
  },
  {
   "cell_type": "code",
   "execution_count": null,
   "metadata": {},
   "outputs": [],
   "source": [
    "import json\n",
    "class pdfDataset(Dataset):\n",
    "\n",
    "    def __init__(self, dataset_path, split: str = \"train\"):\n",
    "        super().__init__()\n",
    "        self.dataset_path = dataset_path\n",
    "        self.split = split\n",
    "        self.pdf_path = []\n",
    "        self.latex_path = []    \n",
    "\n",
    "        with jsonlines.open(self.dataset_path) as reader:\n",
    "            for line_number, line in enumerate(reader, start=1):\n",
    "                self.pdf_path.append(line['pdf'])\n",
    "                self.latex_path.append(line['latex'])\n",
    "        self.dataset_length = line_number\n",
    "\n",
    "    def __len__(self):\n",
    "        return self.dataset_length\n",
    "\n",
    "    def __getitem__(self, idx):\n",
    "\n",
    "        pdf_path = self.pdf_path[idx]\n",
    "        latex_path = self.latex_path[idx]\n",
    "\n",
    "        # print(\"pdf: \", pdf_path)\n",
    "        # print(\"latex: \", latex_path)\n",
    "        encoder = enc()\n",
    "        input_tensor = encoder.prepare_input(pdf_path, random_padding=True)\n",
    "\n",
    "        print(\"input_tensor: \", input_tensor)\n",
    "        print(\"input_tensor.shape: \", input_tensor.shape)\n",
    "\n",
    "        # with open(latex_path, \"rb\") as f:\n",
    "        #     gnd_truth_data = f.read()\n",
    "        #     try:\n",
    "        #         gnd_truth_data = gnd_truth_data.decode(\"utf-8\")  # Try decoding with UTF-8\n",
    "        #     except:\n",
    "        #         gnd_truth_data = gnd_truth_data.decode(\"latin-1\", errors=\"ignore\")  # Fallback to Latin-1, ignore errors\n",
    "\n",
    "        # # print(\"gnd_truth_data: \", gnd_truth_data)\n",
    "        # tokenizer_out = self.nougat_model.decoder.tokenizer(\n",
    "        #     gnd_truth_data,\n",
    "        #     max_length=self.max_length,\n",
    "        #     padding=\"max_length\",\n",
    "        #     return_token_type_ids=False,\n",
    "        #     truncation=True,\n",
    "        #     return_tensors=\"pt\",\n",
    "        # )\n",
    "        # input_ids = tokenizer_out[\"input_ids\"].squeeze(0)\n",
    "        # attention_mask = tokenizer_out[\"attention_mask\"].squeeze(0)\n",
    "        \"\"\"      \n",
    "        # randomly perturb ground truth tokens\n",
    "        if self.split == \"train\" and self.perturb:\n",
    "            # check if we perturb tokens\n",
    "            unpadded_length = attention_mask.sum()\n",
    "            while random.random() < 0.1:\n",
    "                try:\n",
    "                    pos = random.randint(1, unpadded_length - 2)\n",
    "                    token = random.randint(\n",
    "                        23, len(self.nougat_model.decoder.tokenizer) - 1\n",
    "                    )\n",
    "                    input_ids[pos] = token\n",
    "                except ValueError:\n",
    "                    break\"\"\"\n",
    "        return input_tensor\n",
    "\n",
    "\n",
    "\n",
    "        # Save input_tensor to JSON file\n",
    "        # json_path = '/mnt/NAS/patidarritesh/Pdf_2_LaTeX/Experiments/dataloader.json'\n",
    "        # with open(json_path, \"w\") as file:\n",
    "        #     json.dump(input_tensor.tolist(), file)\n",
    "        \n",
    "\n",
    "\n",
    "        return pdf_path, latex_path"
   ]
  },
  {
   "cell_type": "code",
   "execution_count": null,
   "metadata": {},
   "outputs": [],
   "source": [
    "dataset = pdfDataset(dataset_path=\"/mnt/NAS/patidarritesh/Pdf_2_LaTeX/pdf_2_tex/dataset/root/train.jsonl\")"
   ]
  },
  {
   "cell_type": "markdown",
   "metadata": {},
   "source": []
  },
  {
   "cell_type": "code",
   "execution_count": null,
   "metadata": {},
   "outputs": [
    {
     "name": "stdout",
     "output_type": "stream",
     "text": [
      "input_tensor:  tensor([[[0., 0., 0.,  ..., 0., 0., 0.],\n",
      "         [0., 0., 0.,  ..., 0., 0., 0.],\n",
      "         [0., 0., 0.,  ..., 0., 0., 0.],\n",
      "         ...,\n",
      "         [0., 0., 0.,  ..., 0., 0., 0.],\n",
      "         [0., 0., 0.,  ..., 0., 0., 0.],\n",
      "         [0., 0., 0.,  ..., 0., 0., 0.]],\n",
      "\n",
      "        [[0., 0., 0.,  ..., 0., 0., 0.],\n",
      "         [0., 0., 0.,  ..., 0., 0., 0.],\n",
      "         [0., 0., 0.,  ..., 0., 0., 0.],\n",
      "         ...,\n",
      "         [0., 0., 0.,  ..., 0., 0., 0.],\n",
      "         [0., 0., 0.,  ..., 0., 0., 0.],\n",
      "         [0., 0., 0.,  ..., 0., 0., 0.]],\n",
      "\n",
      "        [[0., 0., 0.,  ..., 0., 0., 0.],\n",
      "         [0., 0., 0.,  ..., 0., 0., 0.],\n",
      "         [0., 0., 0.,  ..., 0., 0., 0.],\n",
      "         ...,\n",
      "         [0., 0., 0.,  ..., 0., 0., 0.],\n",
      "         [0., 0., 0.,  ..., 0., 0., 0.],\n",
      "         [0., 0., 0.,  ..., 0., 0., 0.]]])\n",
      "input_tensor.shape:  torch.Size([3, 896, 16800])\n",
      "iteration:: 0 tensor([[[0., 0., 0.,  ..., 0., 0., 0.],\n",
      "         [0., 0., 0.,  ..., 0., 0., 0.],\n",
      "         [0., 0., 0.,  ..., 0., 0., 0.],\n",
      "         ...,\n",
      "         [0., 0., 0.,  ..., 0., 0., 0.],\n",
      "         [0., 0., 0.,  ..., 0., 0., 0.],\n",
      "         [0., 0., 0.,  ..., 0., 0., 0.]],\n",
      "\n",
      "        [[0., 0., 0.,  ..., 0., 0., 0.],\n",
      "         [0., 0., 0.,  ..., 0., 0., 0.],\n",
      "         [0., 0., 0.,  ..., 0., 0., 0.],\n",
      "         ...,\n",
      "         [0., 0., 0.,  ..., 0., 0., 0.],\n",
      "         [0., 0., 0.,  ..., 0., 0., 0.],\n",
      "         [0., 0., 0.,  ..., 0., 0., 0.]],\n",
      "\n",
      "        [[0., 0., 0.,  ..., 0., 0., 0.],\n",
      "         [0., 0., 0.,  ..., 0., 0., 0.],\n",
      "         [0., 0., 0.,  ..., 0., 0., 0.],\n",
      "         ...,\n",
      "         [0., 0., 0.,  ..., 0., 0., 0.],\n",
      "         [0., 0., 0.,  ..., 0., 0., 0.],\n",
      "         [0., 0., 0.,  ..., 0., 0., 0.]]])\n"
     ]
    }
   ],
   "source": [
    "for i, sample in enumerate(dataset):\n",
    "    print(\"iteration::\",i, sample)\n",
    "    break\n",
    "\n"
   ]
  },
  {
   "cell_type": "code",
   "execution_count": 3,
   "metadata": {},
   "outputs": [
    {
     "ename": "FileNotFoundError",
     "evalue": "[Errno 2] No such file or directory: '/mnt/NAS/patidarritesh/Pdf_2_LaTeX/Experiments/dataloader.json'",
     "output_type": "error",
     "traceback": [
      "\u001b[0;31m---------------------------------------------------------------------------\u001b[0m",
      "\u001b[0;31mFileNotFoundError\u001b[0m                         Traceback (most recent call last)",
      "Cell \u001b[0;32mIn[3], line 4\u001b[0m\n\u001b[1;32m      2\u001b[0m \u001b[38;5;28;01mimport\u001b[39;00m \u001b[38;5;21;01mjson\u001b[39;00m\n\u001b[1;32m      3\u001b[0m json_path \u001b[38;5;241m=\u001b[39m \u001b[38;5;124m'\u001b[39m\u001b[38;5;124m/mnt/NAS/patidarritesh/Pdf_2_LaTeX/Experiments/dataloader.json\u001b[39m\u001b[38;5;124m'\u001b[39m\n\u001b[0;32m----> 4\u001b[0m \u001b[38;5;28;01mwith\u001b[39;00m \u001b[38;5;28mopen\u001b[39m(json_path, \u001b[38;5;124m\"\u001b[39m\u001b[38;5;124mr\u001b[39m\u001b[38;5;124m\"\u001b[39m) \u001b[38;5;28;01mas\u001b[39;00m file:\n\u001b[1;32m      5\u001b[0m     loaded_data \u001b[38;5;241m=\u001b[39m json\u001b[38;5;241m.\u001b[39mload(file)\n\u001b[1;32m      9\u001b[0m \u001b[38;5;28;01mfor\u001b[39;00m j \u001b[38;5;129;01min\u001b[39;00m \u001b[38;5;28mrange\u001b[39m(\u001b[38;5;28mlen\u001b[39m(loaded_data[\u001b[38;5;241m0\u001b[39m])):\n",
      "File \u001b[0;32m~/miniconda3/lib/python3.11/site-packages/IPython/core/interactiveshell.py:286\u001b[0m, in \u001b[0;36m_modified_open\u001b[0;34m(file, *args, **kwargs)\u001b[0m\n\u001b[1;32m    279\u001b[0m \u001b[38;5;28;01mif\u001b[39;00m file \u001b[38;5;129;01min\u001b[39;00m {\u001b[38;5;241m0\u001b[39m, \u001b[38;5;241m1\u001b[39m, \u001b[38;5;241m2\u001b[39m}:\n\u001b[1;32m    280\u001b[0m     \u001b[38;5;28;01mraise\u001b[39;00m \u001b[38;5;167;01mValueError\u001b[39;00m(\n\u001b[1;32m    281\u001b[0m         \u001b[38;5;124mf\u001b[39m\u001b[38;5;124m\"\u001b[39m\u001b[38;5;124mIPython won\u001b[39m\u001b[38;5;124m'\u001b[39m\u001b[38;5;124mt let you open fd=\u001b[39m\u001b[38;5;132;01m{\u001b[39;00mfile\u001b[38;5;132;01m}\u001b[39;00m\u001b[38;5;124m by default \u001b[39m\u001b[38;5;124m\"\u001b[39m\n\u001b[1;32m    282\u001b[0m         \u001b[38;5;124m\"\u001b[39m\u001b[38;5;124mas it is likely to crash IPython. If you know what you are doing, \u001b[39m\u001b[38;5;124m\"\u001b[39m\n\u001b[1;32m    283\u001b[0m         \u001b[38;5;124m\"\u001b[39m\u001b[38;5;124myou can use builtins\u001b[39m\u001b[38;5;124m'\u001b[39m\u001b[38;5;124m open.\u001b[39m\u001b[38;5;124m\"\u001b[39m\n\u001b[1;32m    284\u001b[0m     )\n\u001b[0;32m--> 286\u001b[0m \u001b[38;5;28;01mreturn\u001b[39;00m io_open(file, \u001b[38;5;241m*\u001b[39margs, \u001b[38;5;241m*\u001b[39m\u001b[38;5;241m*\u001b[39mkwargs)\n",
      "\u001b[0;31mFileNotFoundError\u001b[0m: [Errno 2] No such file or directory: '/mnt/NAS/patidarritesh/Pdf_2_LaTeX/Experiments/dataloader.json'"
     ]
    }
   ],
   "source": [
    "## Padding Details\n",
    "import json\n",
    "json_path = '/mnt/NAS/patidarritesh/Pdf_2_LaTeX/Experiments/dataloader.json'\n",
    "with open(json_path, \"r\") as file:\n",
    "    loaded_data = json.load(file)\n",
    "\n",
    "\n",
    "\n",
    "for j in range(len(loaded_data[0])):\n",
    "    count =0\n",
    "    for i in range(len(loaded_data[0][0])):\n",
    "        if loaded_data[0][j][i]!=0 and loaded_data[0][0][i]!=1:\n",
    "            # print(loaded_data[0][0][i])\n",
    "            count+=1\n",
    "    print(\"count: \", count)"
   ]
  },
  {
   "cell_type": "code",
   "execution_count": null,
   "metadata": {},
   "outputs": [],
   "source": []
  },
  {
   "cell_type": "code",
   "execution_count": 4,
   "metadata": {},
   "outputs": [
    {
     "data": {
      "text/plain": [
       "'class pdfDataset(Dataset):\\n\\n    def __init__(self, \\n                dataset_path,\\n                split: str = \"traisn\",\\n                root_name: str = \"pdf\",):\\n        super().__init__()\\n        self.dataset_path = dataset_path\\n        self.split = split\\n        self.root_name = root_name\\n        self.path_to_root = Path(dataset_path).parent\\n        self.root_name = root_name\\n        # self.path_to_root = self.path_to_root.parent\\n\\n        # if not split in self.dataset_path:\\n        #     pti = self.path_to_root / (template % split + \".jsonl\")\\n        #     if pti.exists():\\n        #         self.dataset_path = pti\\n        #     else:\\n        #         raise ValueError(f\\'Dataset file for split \"{split}\" not found: {pti}\\')\\n        \\n        self.dataset_file = None  # mulitprocessing\\n        \\n        if self.dataset_file is None:\\n            self.dataset_file = Path(self.dataset_path).open()\\n        line = self.dataset_file.readline()\\n        data: Dict = orjson.loads(line)\\n\\n        pdf_path: Path = self.path_to_root / self.root_name / data.pop(\"pdf\")\\n        latex_path: Path = self.path_to_root / self.root_name / data.pop(\"latex\")\\n\\n        self.dataset = {\"pdf\": pdf_path, \"ground_truth\": latex_path}\\n        self.dataset_length = len(self.dataset)\\n\\n\\n    def __len__(self):\\n        return self.dataset_length\\n\\n    def __getitem__(self, idx: int):\\n\\n        sample = self.dataset[idx]\\n        # print(\"idx:\", idx)\\n        # print(\"sample:\", sample)\\n        return sample\\n        # if sample is None:\\n        #     # if sample is broken choose another randomly\\n        #     return self[random.randint(0, self.dataset_length - 1)]\\n        # if sample is None or sample[\"image\"] is None or prod(sample[\"image\"].size) == 0:\\n        #     input_tensor = None\\n        # else:\\n        #     input_tensor = self.nougat_model.encoder.prepare_input(\\n        #         sample[\"image\"], random_padding=self.split == \"train\"\\n                \\n        #     )\\n\\n        # tokenizer_out = self.nougat_model.decoder.tokenizer(\\n        #     sample[\"ground_truth\"],\\n        #     max_length=self.max_length,\\n        #     padding=\"max_length\",\\n        #     return_token_type_ids=False,\\n        #     truncation=True,\\n        #     return_tensors=\"pt\",\\n        # )\\n        # input_ids = tokenizer_out[\"input_ids\"].squeeze(0)\\n        # attention_mask = tokenizer_out[\"attention_mask\"].squeeze(0)\\n        # # randomly perturb ground truth tokens\\n        # if self.split == \"train\" and self.perturb:\\n        #     # check if we perturb tokens\\n        #     unpadded_length = attention_mask.sum()\\n        #     while random.random() < 0.1:\\n        #         try:\\n        #             pos = random.randint(1, unpadded_length - 2)\\n        #             token = random.randint(\\n        #                 23, len(self.nougat_model.decoder.tokenizer) - 1\\n        #             )\\n        #             input_ids[pos] = token\\n        #         except ValueError:\\n        #             break\\n        # return input_tensor, input_ids, attention_mask\\n    def __iter__(self):\\n        for i in range(self.dataset_length):\\n            yield self[i]'"
      ]
     },
     "execution_count": 4,
     "metadata": {},
     "output_type": "execute_result"
    }
   ],
   "source": [
    "\n",
    "\"\"\"class pdfDataset(Dataset):\n",
    "\n",
    "    def __init__(self, \n",
    "                dataset_path,\n",
    "                split: str = \"traisn\",\n",
    "                root_name: str = \"pdf\",):\n",
    "        super().__init__()\n",
    "        self.dataset_path = dataset_path\n",
    "        self.split = split\n",
    "        self.root_name = root_name\n",
    "        self.path_to_root = Path(dataset_path).parent\n",
    "        self.root_name = root_name\n",
    "        # self.path_to_root = self.path_to_root.parent\n",
    "\n",
    "        # if not split in self.dataset_path:\n",
    "        #     pti = self.path_to_root / (template % split + \".jsonl\")\n",
    "        #     if pti.exists():\n",
    "        #         self.dataset_path = pti\n",
    "        #     else:\n",
    "        #         raise ValueError(f'Dataset file for split \"{split}\" not found: {pti}')\n",
    "        \n",
    "        self.dataset_file = None  # mulitprocessing\n",
    "        \n",
    "        if self.dataset_file is None:\n",
    "            self.dataset_file = Path(self.dataset_path).open()\n",
    "        line = self.dataset_file.readline()\n",
    "        data: Dict = orjson.loads(line)\n",
    "\n",
    "        pdf_path: Path = self.path_to_root / self.root_name / data.pop(\"pdf\")\n",
    "        latex_path: Path = self.path_to_root / self.root_name / data.pop(\"latex\")\n",
    "\n",
    "        self.dataset = {\"pdf\": pdf_path, \"ground_truth\": latex_path}\n",
    "        self.dataset_length = len(self.dataset)\n",
    "\n",
    "\n",
    "    def __len__(self):\n",
    "        return self.dataset_length\n",
    "\n",
    "    def __getitem__(self, idx: int):\n",
    "\n",
    "        sample = self.dataset[idx]\n",
    "        # print(\"idx:\", idx)\n",
    "        # print(\"sample:\", sample)\n",
    "        return sample\n",
    "        # if sample is None:\n",
    "        #     # if sample is broken choose another randomly\n",
    "        #     return self[random.randint(0, self.dataset_length - 1)]\n",
    "        # if sample is None or sample[\"image\"] is None or prod(sample[\"image\"].size) == 0:\n",
    "        #     input_tensor = None\n",
    "        # else:\n",
    "        #     input_tensor = self.nougat_model.encoder.prepare_input(\n",
    "        #         sample[\"image\"], random_padding=self.split == \"train\"\n",
    "                \n",
    "        #     )\n",
    "\n",
    "        # tokenizer_out = self.nougat_model.decoder.tokenizer(\n",
    "        #     sample[\"ground_truth\"],\n",
    "        #     max_length=self.max_length,\n",
    "        #     padding=\"max_length\",\n",
    "        #     return_token_type_ids=False,\n",
    "        #     truncation=True,\n",
    "        #     return_tensors=\"pt\",\n",
    "        # )\n",
    "        # input_ids = tokenizer_out[\"input_ids\"].squeeze(0)\n",
    "        # attention_mask = tokenizer_out[\"attention_mask\"].squeeze(0)\n",
    "        # # randomly perturb ground truth tokens\n",
    "        # if self.split == \"train\" and self.perturb:\n",
    "        #     # check if we perturb tokens\n",
    "        #     unpadded_length = attention_mask.sum()\n",
    "        #     while random.random() < 0.1:\n",
    "        #         try:\n",
    "        #             pos = random.randint(1, unpadded_length - 2)\n",
    "        #             token = random.randint(\n",
    "        #                 23, len(self.nougat_model.decoder.tokenizer) - 1\n",
    "        #             )\n",
    "        #             input_ids[pos] = token\n",
    "        #         except ValueError:\n",
    "        #             break\n",
    "        # return input_tensor, input_ids, attention_mask\n",
    "    def __iter__(self):\n",
    "        for i in range(self.dataset_length):\n",
    "            yield self[i]\"\"\"\n",
    "\n"
   ]
  },
  {
   "cell_type": "code",
   "execution_count": 5,
   "metadata": {},
   "outputs": [],
   "source": [
    "import fitz  # PyMuPDF\n",
    "from PIL import Image\n",
    "\n",
    "\n",
    "\n",
    "def pdf_to_imgs(pdf_path):  \n",
    "    doc = fitz.open(pdf_path)\n",
    "    images = []\n",
    "    for page_number in range(len(doc)):\n",
    "        page = doc[page_number]\n",
    "        image = page.get_pixmap()\n",
    "        # Convert Pixmap to PIL Image\n",
    "        img = Image.frombytes(\"RGB\", [image.width, image.height], image.samples)\n",
    "        images.append(img)\n",
    "    return images\n",
    "\n",
    "\n",
    "\n",
    "def load_latex_code(self, pdf_path):\n",
    "    # Implement this function to extract LaTeX code from the PDF\n",
    "    # You may use a PDF parsing library or any other method\n",
    "    # Return the extracted LaTeX code as a string\n",
    "    latex_code = \"Your LaTeX code here\"\n",
    "    return latex_code\n",
    "\n",
    "def images_to_tensor(self, images):\n",
    "    # Convert a list of images to a PyTorch tensor\n",
    "    tensor_list = [self.transform(image) for image in images]\n",
    "    return torch.stack(tensor_list, dim=0)\n",
    "\n",
    "imgs = pdf_to_imgs(\"/mnt/NAS/patidarritesh/swin_transformer.pdf\")\n",
    "\n",
    "\n"
   ]
  },
  {
   "cell_type": "code",
   "execution_count": 6,
   "metadata": {},
   "outputs": [],
   "source": [
    "import numpy as np\n",
    "import cv2\n",
    "\n",
    "def crop_margin(img: Image.Image) -> Image.Image:\n",
    "        data = np.array(img.convert(\"L\"))\n",
    "        data = data.astype(np.uint8)\n",
    "        max_val = data.max()\n",
    "        min_val = data.min()\n",
    "        if max_val == min_val:\n",
    "            return img\n",
    "        data = (data - min_val) / (max_val - min_val) * 255\n",
    "        gray = 255 * (data < 200).astype(np.uint8)\n",
    "\n",
    "        coords = cv2.findNonZero(gray)  # Find all non-zero points (text)\n",
    "        a, b, w, h = cv2.boundingRect(coords)  # Find minimum spanning bounding box\n",
    "        return img.crop((a, b, w + a, h + b))"
   ]
  },
  {
   "cell_type": "code",
   "execution_count": 7,
   "metadata": {},
   "outputs": [],
   "source": [
    "image = imgs[0]\n",
    "\n",
    "image = crop_margin(image.convert(\"RGB\"))\n",
    "\n",
    "# if ((input_size[0] > input_size[1] and img.width > img.height)\n",
    "#                 or (input_size[0] < input_size[1] and img.width < img.height)\n",
    "#             ):\n",
    "#                 img = rotate(img, angle=-90, expand=True)"
   ]
  },
  {
   "cell_type": "code",
   "execution_count": 8,
   "metadata": {},
   "outputs": [
    {
     "data": {
      "text/plain": [
       "(612, 792)"
      ]
     },
     "execution_count": 8,
     "metadata": {},
     "output_type": "execute_result"
    }
   ],
   "source": [
    "imgs[0].size"
   ]
  },
  {
   "cell_type": "code",
   "execution_count": 9,
   "metadata": {},
   "outputs": [
    {
     "data": {
      "text/plain": [
       "(528, 606)"
      ]
     },
     "execution_count": 9,
     "metadata": {},
     "output_type": "execute_result"
    }
   ],
   "source": [
    "image.size\n"
   ]
  },
  {
   "cell_type": "code",
   "execution_count": 10,
   "metadata": {},
   "outputs": [
    {
     "name": "stdout",
     "output_type": "stream",
     "text": [
      "Height:  606\n",
      "Width:  528\n"
     ]
    }
   ],
   "source": [
    "print(\"Height: \",image.height)\n",
    "print(\"Width: \", image.width)"
   ]
  },
  {
   "cell_type": "code",
   "execution_count": 11,
   "metadata": {},
   "outputs": [],
   "source": [
    "image.save(\"output.png\")\n",
    "\n"
   ]
  },
  {
   "cell_type": "code",
   "execution_count": 12,
   "metadata": {},
   "outputs": [],
   "source": [
    "imgs[0].save(\"output_1.png\")"
   ]
  },
  {
   "cell_type": "code",
   "execution_count": null,
   "metadata": {},
   "outputs": [],
   "source": []
  },
  {
   "cell_type": "code",
   "execution_count": 13,
   "metadata": {},
   "outputs": [
    {
     "name": "stderr",
     "output_type": "stream",
     "text": [
      "/home/patidarritesh/miniconda3/lib/python3.11/site-packages/tqdm/auto.py:21: TqdmWarning: IProgress not found. Please update jupyter and ipywidgets. See https://ipywidgets.readthedocs.io/en/stable/user_install.html\n",
      "  from .autonotebook import tqdm as notebook_tqdm\n"
     ]
    }
   ],
   "source": [
    "from torchvision.transforms.functional import resize, rotate\n",
    "image = resize(image, min([896,224]))\n"
   ]
  },
  {
   "cell_type": "code",
   "execution_count": 14,
   "metadata": {},
   "outputs": [
    {
     "data": {
      "text/plain": [
       "(224, 257)"
      ]
     },
     "execution_count": 14,
     "metadata": {},
     "output_type": "execute_result"
    }
   ],
   "source": [
    "image.size"
   ]
  },
  {
   "cell_type": "code",
   "execution_count": 15,
   "metadata": {},
   "outputs": [
    {
     "data": {
      "text/plain": [
       "257.09090909090907"
      ]
     },
     "execution_count": 15,
     "metadata": {},
     "output_type": "execute_result"
    }
   ],
   "source": [
    "x=606*224/528\n",
    "x"
   ]
  },
  {
   "cell_type": "code",
   "execution_count": 17,
   "metadata": {},
   "outputs": [
    {
     "ename": "IndentationError",
     "evalue": "unindent does not match any outer indentation level (<tokenize>, line 14)",
     "output_type": "error",
     "traceback": [
      "\u001b[0;36m  File \u001b[0;32m<tokenize>:14\u001b[0;36m\u001b[0m\n\u001b[0;31m    def prepare_input(self, pdf_path:str, random_padding: bool = False):\u001b[0m\n\u001b[0m    ^\u001b[0m\n\u001b[0;31mIndentationError\u001b[0m\u001b[0;31m:\u001b[0m unindent does not match any outer indentation level\n"
     ]
    }
   ],
   "source": [
    "def to_tensor(self, img: Image.Image):\n",
    "        transform_list = []\n",
    "        \n",
    "        # Add Resize transformation if needed\n",
    "        if self.training:\n",
    "            transform_list.append(transforms.Resize((896, 224)))\n",
    "\n",
    "        # Add ToTensor transformation\n",
    "        transform_list.append(transforms.ToTensor())\n",
    "\n",
    "        composed_transform = transforms.Compose(transform_list)\n",
    "        return composed_transform(img)\n",
    "    \n",
    "    def prepare_input(self, pdf_path:str, random_padding: bool = False):\n",
    "        self.input_tensor = None\n",
    "        if pdf_path is None:\n",
    "            return\n",
    "        input_size= [896,672]\n",
    "        # Convert PDF to images using PyMuPDF\n",
    "        doc = fitz.open(pdf_path)\n",
    "        i=0\n",
    "        for page_number in range(len(doc)):\n",
    "            if i==5:\n",
    "                break\n",
    "            page = doc[page_number]\n",
    "            image = page.get_pixmap()\n",
    "            # Convert Pixmap to PIL Image\n",
    "            img = Image.frombytes(\"RGB\", [image.width, image.height], image.samples)\n",
    "            print(\"raw img: \",img.size)\n",
    "            # crop margins\n",
    "            try:\n",
    "                img = self.crop_margin(img.convert(\"RGB\"))\n",
    "                print(\"img after cropt margin: \",img.size)\n",
    "                print(\"-----------------------------------------------\")\n",
    "            except OSError:\n",
    "                # might throw an error for broken files\n",
    "                return\n",
    "            if img.height == 0 or img.width == 0:\n",
    "                return\n",
    "            if self.align_long_axis and (\n",
    "                (input_size[0] > input_size[1] and img.width > img.height)\n",
    "                or (input_size[0] < input_size[1] and img.width < img.height)\n",
    "            ):\n",
    "                img = rotate(img, angle=-90, expand=True)\n",
    "            img = resize(img, min(self.input_size))\n",
    "            img.thumbnail((input_size[1], input_size[0]))\n",
    "            delta_width = input_size[1] - img.width\n",
    "            delta_height = input_size[0] - img.height\n",
    "            if random_padding:\n",
    "                pad_width = np.random.randint(low=0, high=delta_width + 1)\n",
    "                pad_height = np.random.randint(low=0, high=delta_height + 1)\n",
    "            else:\n",
    "                pad_width = delta_width // 2\n",
    "                pad_height = delta_height // 2\n",
    "            padding = (\n",
    "                pad_width,\n",
    "                pad_height,\n",
    "                delta_width - pad_width,\n",
    "                delta_height - pad_height,\n",
    "            )\n",
    "            \n",
    "            page_tensor = self.to_tensor(ImageOps.expand(img, padding))\n",
    "            print(\"Final transformed page_tensor for single page: \",page_tensor.shape)\n",
    "            if self.input_tensor is None:\n",
    "               self.input_tensor = page_tensor\n",
    "            else:\n",
    "                self.input_tensor = torch.cat([self.input_tensor, page_tensor], dim=2)\n",
    "            i+=1\n",
    "\n",
    "        target_shape = (3, self.input_size[0], self.input_size[1])\n",
    "        original_shape = self.input_tensor.shape\n",
    "        padding = [0, target_shape[2] - original_shape[2]]\n",
    "\n",
    "        # Apply padding using torch.nn.functional.pad\n",
    "        self.input_tensor = torch.nn.functional.pad(self.input_tensor, padding)\n",
    "        print(\"input_tensor  after paddig: \",self.input_tensor.shape)\n",
    "        return self.input_tensor"
   ]
  },
  {
   "cell_type": "code",
   "execution_count": 18,
   "metadata": {},
   "outputs": [],
   "source": [
    "import timm\n",
    "import torch\n",
    "import torch.nn as nn\n",
    "import torch.nn.functional as F\n",
    "from PIL import ImageOps\n",
    "from timm.models.swin_transformer import SwinTransformer"
   ]
  },
  {
   "cell_type": "code",
   "execution_count": 19,
   "metadata": {},
   "outputs": [
    {
     "name": "stderr",
     "output_type": "stream",
     "text": [
      "/home/patidarritesh/miniconda3/lib/python3.11/site-packages/torch/functional.py:504: UserWarning: torch.meshgrid: in an upcoming release, it will be required to pass the indexing argument. (Triggered internally at ../aten/src/ATen/native/TensorShape.cpp:3526.)\n",
      "  return _VF.meshgrid(tensors, **kwargs)  # type: ignore[attr-defined]\n"
     ]
    }
   ],
   "source": [
    "model = SwinTransformer(\n",
    "            # img_size=self.input_size,\n",
    "            # depths=self.encoder_layer,\n",
    "            # window_size=self.window_size,\n",
    "            # patch_size=self.patch_size,\n",
    "            # embed_dim=self.embed_dim,\n",
    "            # num_heads=self.num_heads,\n",
    "            # num_classes=0,\n",
    "        )"
   ]
  },
  {
   "cell_type": "code",
   "execution_count": 20,
   "metadata": {},
   "outputs": [],
   "source": [
    "swin_state_dict = timm.create_model(\n",
    "\"swin_base_patch4_window12_384\", pretrained=True\n",
    ").state_dict()\n",
    "new_swin_state_dict =model.state_dict()"
   ]
  },
  {
   "cell_type": "code",
   "execution_count": 21,
   "metadata": {},
   "outputs": [],
   "source": [
    "x=swin_state_dict[\"layers.0.blocks.0.attn.relative_position_bias_table\"]"
   ]
  },
  {
   "cell_type": "code",
   "execution_count": 22,
   "metadata": {},
   "outputs": [
    {
     "data": {
      "text/plain": [
       "torch.Size([529, 4])"
      ]
     },
     "execution_count": 22,
     "metadata": {},
     "output_type": "execute_result"
    }
   ],
   "source": [
    "pos_bias = x.unsqueeze(0)[0]\n",
    "pos_bias.shape"
   ]
  },
  {
   "cell_type": "code",
   "execution_count": 23,
   "metadata": {},
   "outputs": [],
   "source": [
    "import math\n",
    "window_size = 7"
   ]
  },
  {
   "cell_type": "code",
   "execution_count": 24,
   "metadata": {},
   "outputs": [],
   "source": [
    "old_len = int(math.sqrt(len(pos_bias)))\n",
    "new_len = int(2 * window_size - 1)"
   ]
  },
  {
   "cell_type": "code",
   "execution_count": 25,
   "metadata": {},
   "outputs": [
    {
     "name": "stdout",
     "output_type": "stream",
     "text": [
      "old_len:  23\n",
      "new_len:  13\n"
     ]
    }
   ],
   "source": [
    "print(\"old_len: \",old_len)\n",
    "print(\"new_len: \",new_len)"
   ]
  },
  {
   "cell_type": "code",
   "execution_count": 26,
   "metadata": {},
   "outputs": [],
   "source": [
    "  pos_bias = pos_bias.reshape(1, old_len, old_len, -1).permute(\n",
    "                        0, 3, 1, 2\n",
    "                    )"
   ]
  },
  {
   "cell_type": "code",
   "execution_count": 27,
   "metadata": {},
   "outputs": [
    {
     "data": {
      "text/plain": [
       "torch.Size([1, 4, 23, 23])"
      ]
     },
     "execution_count": 27,
     "metadata": {},
     "output_type": "execute_result"
    }
   ],
   "source": [
    "pos_bias.shape"
   ]
  },
  {
   "cell_type": "code",
   "execution_count": 28,
   "metadata": {},
   "outputs": [],
   "source": [
    "  pos_bias = F.interpolate(\n",
    "                        pos_bias,\n",
    "                        size=(new_len, new_len),\n",
    "                        mode=\"bicubic\",\n",
    "                        align_corners=False,\n",
    "                    )"
   ]
  },
  {
   "cell_type": "code",
   "execution_count": 29,
   "metadata": {},
   "outputs": [
    {
     "data": {
      "text/plain": [
       "torch.Size([1, 4, 13, 13])"
      ]
     },
     "execution_count": 29,
     "metadata": {},
     "output_type": "execute_result"
    }
   ],
   "source": [
    "pos_bias.shape"
   ]
  },
  {
   "cell_type": "code",
   "execution_count": 30,
   "metadata": {},
   "outputs": [],
   "source": [
    "   new_swin_state_dict[x] = (\n",
    "                        pos_bias.permute(0, 2, 3, 1)\n",
    "                        .reshape(1, new_len**2, -1)\n",
    "                        .squeeze(0)\n",
    "                    )"
   ]
  },
  {
   "cell_type": "code",
   "execution_count": 31,
   "metadata": {},
   "outputs": [
    {
     "data": {
      "text/plain": [
       "torch.Size([169, 4])"
      ]
     },
     "execution_count": 31,
     "metadata": {},
     "output_type": "execute_result"
    }
   ],
   "source": [
    " new_swin_state_dict[x].shape"
   ]
  },
  {
   "cell_type": "code",
   "execution_count": null,
   "metadata": {},
   "outputs": [],
   "source": []
  },
  {
   "cell_type": "code",
   "execution_count": 32,
   "metadata": {},
   "outputs": [
    {
     "data": {
      "text/plain": [
       "'\\\\importpackages{}\\n\\\\graphicspath{ {./images/} }\\n\\n\\n\\\\title{Topological surface states in paramagnetic and antiferromagnetic\\niron pnictides}\\n\\\\author{Alexander Lau}\\n\\\\affiliation{Institute of Theoretical Physics, Technische Universit\\\\\"at\\nDresden, 01062 Dresden, Germany}\\n\\\\author{Carsten Timm}\\n\\\\email{carsten.timm@tu-dresden.de}\\n\\\\affiliation{Institute of Theoretical Physics, Technische Universit\\\\\"at\\nDresden, 01062 Dresden, Germany}\\n\\\\date{\\\\today}\\n\\\\begin{abstract}\\nThe electronic structure of iron pnictides is topologically nontrivial, leading\\nto the appearance of Dirac cones in the band structure for the antiferromagnetic\\nphase. Motivated by the analogy with Dirac cones in graphene, we explore the\\npossible existence\\nof topologically protected surface states. Surprisingly, bands of surface states\\nexist even in the paramagnetic state. A realistic five-orbital model\\npredicts two such bands. In the antiferromagnetic phase, these surface bands\\nsurvive but split. We obtain the bulk and surface dispersion from exact\\ndiagonalization of two- and five-orbital models in a strip geometry and discuss\\nthe results based on topology.\\n\\\\end{abstract}\\n\\\\pacs{\\n74.70.Xa, \\n73.20.At, \\n03.65.Vf, \\n75.30.Fv  \\n}\\n\\\\maketitle\\n\\\\section{Introduction}\\nTwo of the most active areas in condensed\\nmatter physics concern the iron pnictides\\\\cite{Joh10,DHD12} and topological\\nproperties of matter.\\\\cite{HaK10,QiZ11} The iron pnictides are of interest\\nsince they show multiband superconductivity with high transition temperatures\\ncompeting with itinerant antiferromagnetism. Topology in condensed matter has\\nreceived a lot of attention in part because nontrivial topology can induce\\nsurface or edge states. This paper is concerned with the\\ntopological properties and surface states of iron pnictides.\\nIn iron pnictides, several iron $3d$ orbitals contribute significantly\\nto the electronic states close to the Fermi energy. Ran \\\\textit{et\\nal.}\\\\cite{RWZ09} have realized that this multiorbital character can lead to\\nnontrivial topological properties. They find band touchings at the $(0,0)$ and\\n$(\\\\pi,\\\\pi)$ points in the Brillouin zone (BZ), which are associated with winding\\nnumbers in orbital space. As a consequence, the formation of a spin-density wave\\n(SDW) with ordering vector $\\\\mathbf{Q}=(\\\\pi,0)$ cannot open a full gap but\\nrather leaves an even number of Dirac points.\\\\cite{RWZ09} This holds\\nboth for a two-orbital model including only the most important\\n$3d_{YZ}$ and $3d_{ZX}$ orbitals\\\\cite{RQL08} and for a model including all\\nfive $3d$ orbitals.\\\\cite{KOA08} While the two-orbital model does not\\ngive a realistic description,\\nit allows a simpler discussion of the topological properties. On the other hand,\\nthe five-orbital model\\\\cite{KOA08} gives a good account of the low-energy band\\nstructure of the prototypical compound $\\\\mathrm{LaFeAsO}$ and also leads to\\nreasonable predictions for the magnetic order vs.\\\\ doping.\\\\cite{BDT11,SBT12}\\nEvidence for the Dirac points has been\\nobtained from quantum-oscillation experiments,\\\\cite{HaS09}\\nmagnetotransport\\\\cite{PBC13} and angle-resolved\\nphotoemission (ARPES).\\\\cite{RNS10,HTT11} However, conflicting evidence is\\npresented in \\\\onlinecite{TKT11}.\\nDirac points in the band structure have attracted a lot of attention in the\\ncontext of graphene.\\\\cite{CGP09} There, Dirac points emerge due to the\\ntwo-sublattice structure of the honeycomb lattice. They are accompanied by\\ndispersing edge states at so-called zigzag edges,\\\\cite{FWN96,RyH02,CGP06,CGP09}\\nwhich appear in the 1D edge BZ between the projections of the Dirac points.\\nRegardless of the different origins of the Dirac points, one may ask whether\\nthey have similar consequences in pnictides and in graphene. Specifically,\\ndo surface states also exist in the SDW phase of the iron pnictides?\\nYang and Kee\\\\cite{YaK10} have indeed found surface bands for a two-orbital\\nmodel with broken symmetry. However, the required combined orbital, SDW, and\\ncharge-density-wave order is not realized in iron pnictides and actually opens a\\nfull gap without Dirac points.\\nWe will show that dispersing bands of surface states exist even in the\\n\\\\emph{paramagnetic} phase of the iron pnictides, due to its topological\\ncharacter. In the SDW phase, the surface\\nbands split. This is found for both two-orbital and five-orbital models but the\\nlatter features two surface bands, whereas the former has only one. We will\\nexplain the topological origin of the surface states.\\n\\\\section{Models and method}\\nWe follow Refs.\\\\ \\\\onlinecite{KOA08,RWZ09} in choosing\\n$3d$ orbitals with respect to the $X$ and $Y$ axes of the\\ntetragonal lattice, which are rotated by $45^\\\\circ$ relative to the $x$ and $y$\\naxes of the square iron lattice. The two-orbital model\\\\cite{RQL08,RWZ09}\\nretains only these two orbitals in a single-iron unit cell. The Hamiltonian is\\n$H=H_0+H_I$, where the non-interacting part for the extended system reads\\n$H_0 = \\\\sum_{\\\\mathbf{k}\\\\sigma} \\\\sum_{a,b=1}^2\\n  d^\\\\dagger_{\\\\mathbf{k}a\\\\sigma} \\\\mathcal{H}_{ab}(\\\\mathbf{k})\\n  d_{\\\\mathbf{k}b\\\\sigma}$.\\nHere, $\\\\mathcal{H}(\\\\mathbf{k})$ is a $2\\\\times2$ matrix in orbital space,\\n\\\\begin{eqnarray}\\n\\\\lefteqn{ \\\\mathcal{H}(\\\\mathbf{k}) = 2t_1\\\\, (\\\\cos k_x - \\\\cos k_y)\\\\, \\\\tau^1 }\\n  \\\\nonumber \\\\\\\\\\n&& {}- 2(t_2-t_2\\')\\\\,\\\\sin k_x \\\\sin k_y\\\\, \\\\tau^3 \\\\nonumber \\\\\\\\\\n&& {}+ [2(t_2+t_2\\')\\\\,\\\\cos k_x \\\\cos k_y\\n  + 2t_1\\'\\\\,(\\\\cos k_x + \\\\cos k_y)]\\\\, \\\\tau^0 ,\\\\quad\\n\\\\label{2_orbital_H0_1}\\n\\\\end{eqnarray}\\nwhere $\\\\tau^1$, $\\\\tau^2$, $\\\\tau^3$ are Pauli matrices, $\\\\tau^0$ is the unit\\nmatrix, and the orbital index $1$ corresponds to\\n$3d_{ZX}$ and $2$ to $3d_{YZ}$. We adopt the hopping parameters\\\\cite{RWZ09}\\n$t_1=0.30\\\\,\\\\mathrm{eV}$, $t_1\\'=0.06\\\\,\\\\mathrm{eV}$,\\n$t_2=0.51\\\\,\\\\mathrm{eV}$, and $t_2\\'=0.09\\\\,\\\\mathrm{eV}$.\\nFor the interactions we take\\\\cite{RWZ09}\\n\\\\begin{eqnarray}\\nH_I & = & \\\\frac{U}{2} \\\\sum_{\\\\mathbf{i}} (\\\\hat n_{\\\\mathbf{i}1}^2 +\\n  \\\\hat n_{\\\\mathbf{i}2}^2)\\n  + (U-2J)\\\\sum_{\\\\mathbf{i}} n_{\\\\mathbf{i}1}n_{\\\\mathbf{i}2} \\\\nonumber \\\\\\\\\\n&& {}+ J \\\\sum_{\\\\mathbf{i}} \\\\sum_{\\\\sigma\\\\sigma\\'}\\n  d_{\\\\mathbf{i}1\\\\sigma}^{\\\\dagger} d_{\\\\mathbf{i}2\\\\sigma\\'}^{\\\\dagger}\\n  d_{\\\\mathbf{i}1\\\\sigma\\'} d_{\\\\mathbf{i}2\\\\sigma} \\\\nonumber \\\\\\\\\\n&& {}+ J \\\\sum_{\\\\mathbf{i}} (d_{\\\\mathbf{i}1\\\\uparrow}^{\\\\dagger}\\n  d_{\\\\mathbf{i}1\\\\downarrow}^{\\\\dagger}d_{\\\\mathbf{i}2\\\\downarrow}\\n  d_{\\\\mathbf{i}2\\\\uparrow} + \\\\mathrm{H.c.}) ,\\n\\\\label{2_orbital_HI}\\n\\\\end{eqnarray}\\nwhere $\\\\hat n_{\\\\mathbf{i}a} \\\\equiv \\\\sum_\\\\sigma\\nd_{\\\\mathbf{i}a\\\\sigma}^{\\\\dagger} d_{\\\\mathbf{i}a\\\\sigma}$, and the interaction\\nparameters are chosen as $U=1.20\\\\,\\\\mathrm{eV}$ and $J=0.12\\\\,\\\\mathrm{eV}$.\\nAssuming a SDW with ordering vector $\\\\mathbf{Q}=(\\\\pi,0)$\\nand spins pointing along the $S_z$ axis, a mean-field decoupling with\\n$\\\\langle d_{\\\\mathbf{i}a\\\\sigma}^{\\\\dagger} d_{\\\\mathbf{i}b\\\\sigma}\\\\rangle =\\n  n_{ab} + (-1)^{i_x}\\\\, \\\\frac{\\\\sigma}{2}\\\\, m_{ab}$\\ngives the mean-field Hamiltonian\\n\\\\begin{equation}\\nH_{\\\\mathrm{MF}} = H_0 + \\\\sum_{\\\\mathbf{i}ab} (-1)^{i_x}M_{ab}\\n  \\\\big(d_{\\\\mathbf{i}a\\\\uparrow}^{\\\\dagger} d_{\\\\mathbf{i}b\\\\uparrow}\\n  - d_{\\\\mathbf{i}a\\\\downarrow}^{\\\\dagger} d_{\\\\mathbf{i}b\\\\downarrow}\\\\big) ,\\n\\\\label{2_orbital_HMF}\\n\\\\end{equation}\\nwith $M_{11} = -(Um_{11}+Jm_{22})/2$, $M_{22} = -(Um_{22}+Jm_{11})/2$,\\n$M_{12} = M_{21} = -Jm_{21}$. The Hartree shifts $n_{ab}$ have been\\nabsorbed into $H_0$. The parameters $m_{ab}$ are calculated self-consistently,\\nassuming half filling.\\nEdge states will be studied for a strip of width $W$ with (10) edges. Since the\\nstrip is extended along the $y$ axis, $k_y$ is a good quantum number and\\nwe carry out a Fourier transformation in the $y$ direction,\\n$d_{\\\\mathbf{i}a\\\\sigma} = N_y^{-1/2} \\\\sum_{k_y} e^{ik_yi_y} d_{i_xk_ya\\\\sigma}$.\\nThe mean-field Hamiltonian then consists of blocks of dimensions $2W\\\\times 2W$\\nfor fixed $k_y$, $\\\\sigma$. These blocks are\\ndiagonalized numerically, giving the energy bands of the strip system. We here\\nassume that the SDW in the strip is described by the same order\\nparameters $m_{ab}$ as for the extended system.\\nThe five-orbital model\\\\cite{KOA08} includes all\\nhopping amplitudes larger than $10\\\\,\\\\mathrm{meV}$ up to fifth neighbors. The\\nhopping amplitudes and onsite energies are\\nobtained from density-functional calculations and are tabulated in Ref.\\\\\\n\\\\onlinecite{KOA08}. The interaction $H_I$ is analogous to\\nthe two-orbital model, except that the interorbital terms in Eq.\\\\\\n(\\\\ref{2_orbital_HI}) now become\\nsums over all pairs of orbitals $a$, $b$, with $a<b$,\\nwhere $a,b=1,\\\\ldots,5$ correspond to $3d_{3Z^2-R^2}$, $3d_{ZX}$, $3d_{YZ}$,\\n$3d_{X^2-Y^2}$, $3d_{XY}$.\\nThe interaction parameters are chosen to be $U=1.0\\\\,\\\\mathrm{eV}$ and\\n$J=0.2\\\\,\\\\mathrm{eV}$.\\\\cite{RWZ09}\\nApplying a mean-field decoupling as above, we obtain the\\nmean-field Hamiltonian (\\\\ref{2_orbital_HMF}), where now the orbital indices\\ntraverse $a,b=1,\\\\ldots,5$, and\\n$M_{aa}=-(Um_{aa}+J\\\\sum_{b\\\\neq a}m_{bb})/2$ and\\n$M_{ab}= M_{ba} = -Jm_{ab}$ for $a\\\\neq b$.\\nThe mean-field parameters $m_{ab}$ are determined self-consistently, assuming\\n$6$ electrons per iron, corresponding to zero doping.\\nFor the (10) strip, we proceed analogously to the two-orbital case. By\\nmeans of a Fourier transformation in the $y$ direction, the problem is reduced\\nto the diagonalization of $5W\\\\times 5W$ Hamiltonian matrices for fixed $k_y$,\\n$\\\\sigma$.\\n\\\\begin{figure}[h]\\n\\\\includegraphics[]{image_name}\\n\\\\label{fig:label}\\n\\\\end{figure}\\n\\\\section{Results and discussion}\\nFirst, we consider the two-orbital model\\nwithout SDW order, i.e., with $m_{ab}=0$, in a (10) strip geometry. In\\nFig.~\\\\ref{fig:2_orbital_energies_nonmagnetic}, we compare\\nthe energy bands of the (10) strip of width $W=100$ to the bands of the extended\\nsystem projected onto the (10) edge BZ. All energies are twofold spin\\ndegenerate.\\nWe see that the majority of the bands of the strip lie within the projected\\ncontinuum of bulk bands. However, there is an additional band that does not\\nagree with the bulk continuum. We have found that the corresponding states are\\nlocalized at the edges of the strip. A closer\\nlook reveals that this band, ignoring spin degeneracy, actually comprises two\\nbands, which are only approximately degenerate. For finite widths $W$, the two\\nstates at given $k_y$ correspond to bonding and antibonding combinations of\\nstates localized at the two edges. Thus, there is a finite splitting, invisible\\nin Fig.~\\\\ref{fig:2_orbital_energies_nonmagnetic}, which decreases exponentially\\nwith increasing $W$.\\n\\\\begin{figure}[h]\\n\\\\includegraphics[]{image_name}\\n\\\\label{fig:label}\\n\\\\end{figure}\\nThe origin of the edge states can be understood from a topological argument.\\nWe start from the noninteracting first-quantized Hamiltonian\\n$\\\\mathcal{H}(\\\\mathbf{k})$ of Eq.\\\\ (\\\\ref{2_orbital_H0_1}).\\nWe consider one spin sector throughout and suppress the spin index.\\nFor the strip, $k_y$ is a constant of motion. For each\\nfixed value of $k_y$, we obtain an effective 1D model. For an extended system,\\nthe BZ of this 1D model is the subset with $k_y=\\\\mathrm{const}$ of the 2D BZ.\\nIf the 1D BZ does not cross any Fermi surface, the 1D model is gapped in the\\nbulk. One such 1D BZ is shown by the black arrow in Fig.\\\\\\n\\\\ref{fig:winding_2band}. $\\\\mathcal{H}(\\\\mathbf{k})$ can be written\\nas\\\\cite{RWZ09}\\n\\\\begin{equation}\\n\\\\mathcal{H}(\\\\mathbf{k}) = a(\\\\mathbf{k})\\\\, \\\\tau^0 + b(\\\\mathbf{k})\\\\,\\n  (\\\\sin\\\\phi_\\\\mathbf{k}\\\\, \\\\tau^1 + \\\\cos\\\\phi_\\\\mathbf{k}\\\\, \\\\tau^3) ,\\n\\\\label{3.Hk.2}\\n\\\\end{equation}\\nwith $b(\\\\mathbf{k})\\\\ge 0$. The vector field $(\\\\cos\\\\phi_\\\\mathbf{k},\\n\\\\sin\\\\phi_\\\\mathbf{k})$ is plotted in Fig.\\\\ \\\\ref{fig:winding_2band}.\\nIt exhibits vortices with vorticities $\\\\pm 2$ at the band-touching points\\n$\\\\mathbf{k}=(0,0)$ and $(\\\\pi,\\\\pi)$. Furthermore, a winding\\nnumber of $+1$ ($-1$) is aquired when moving from $k_x=-\\\\pi$ to $k_x=+\\\\pi$ along\\na line with constant $k_y>0$ ($k_y<0$). The effective 1D system\\nthus has a nontrivial topological structure in orbital space.\\\\cite{RWZ09}\\nThe appearance of edge states is best understood by deforming the\\nHamiltonian of the effective 1D system into one with a topologically protected\\nwinding number.\\nFor fixed $k_y>0$ ($k_y<0$ is analogous), we deform the Hamiltonian\\ninto $\\\\tilde \\\\mathcal{H}(k_x) = \\\\cos k_x\\\\, \\\\tau^1 - \\\\sin k_x\\\\, \\\\tau^3$.\\nThis deformation does not change the topology of the bands and, in particular,\\nleaves the energy gap open. $\\\\tilde \\\\mathcal{H}(k_x)$ is unitarily equivalent to\\n\\\\begin{equation}\\n\\\\hat \\\\mathcal{H}(k_x) \\\\equiv e^{-i \\\\frac{\\\\pi}{4} \\\\tau^1}\\n  \\\\tilde \\\\mathcal{H}(k_x)\\\\, e^{i \\\\frac{\\\\pi}{4} \\\\tau^1}\\n  = \\\\left(\\\\begin{array}{cc}\\n  0 & e^{-ik_x} \\\\\\\\\\n  e^{ik_x} & 0\\n  \\\\end{array}\\\\right) .\\n\\\\label{3.Hflat.2}\\n\\\\end{equation}\\nIn the bulk, this new Hamiltonian has the eigenvalues $\\\\pm 1$ for every $k_x$,\\ni.e., it has flat bands. Furthermore, $\\\\hat \\\\mathcal{H}(k_x)$ is time-reversal\\nsymmetric. The antiunitary time-reversal operator $T$ can be written as\\n$T=KU_T$, where $K$ is the complex conjugation in our basis and $U_T$ is unitary\\nand must satisfy $U_T \\\\hat \\\\mathcal{H}^*(-k_x) U_T^\\\\dagger = \\\\hat\\n\\\\mathcal{H}(k_x)$, which is fulfilled for $U_T=\\\\tau^0$. Note that $T$ squares to\\n$T^2 = \\\\tau^0$. $\\\\hat \\\\mathcal{H}(k_x)$ is also charge-conjugation\\nsymmetric. The antiunitary charge-conjugation operator $C$ can be written as\\n$C=KU_C$, where $U_C$ is unitary and must satisfy $U_C \\\\hat \\\\mathcal{H}^*(-k_x)\\nU_C^\\\\dagger = - \\\\hat \\\\mathcal{H}(k_x)$, which is fulfilled for $U_C=\\\\tau^3$. We\\nfind $C^2 = K\\\\tau^3 K\\\\tau^3 = \\\\tau^0$. These symmetry properties imply that\\nthe deformed 1D model belongs to the Altland-Zirnbauer class BDI.\\\\cite{Zir96}\\nThis class allows a $\\\\mathbb{Z}$ topological invariant in 1D.\\\\cite{SRF08}\\nFor the strip, the effective 1D model is a finite chain of length $W$. The\\n$\\\\mathbb{Z}$ topological invariant means that states localized\\nat the ends can exist, but does not guarantee that $\\\\hat \\\\mathcal{H}(k_x)$\\nhas any. However, this is easily seen by transforming $\\\\hat\\n\\\\mathcal{H}(k_x)$ into real space, which gives\\n$\\\\hat H = \\\\sum_{j=1}^{W-1} ( d_{j+1,\\\\uparrow}^\\\\dagger d_{j,\\\\downarrow}\\n  + d_{j,\\\\downarrow}^\\\\dagger d_{j+1,\\\\uparrow} )$,\\nwhere ${\\\\uparrow}$, ${\\\\downarrow}$ now refer to the \\\\emph{orbital} pseudospin.\\nThe ${\\\\uparrow}$ (${\\\\downarrow}$) state at $j=1$\\n($j=W$) is not coupled to any other state. Thus there are two zero-energy states\\nlocalized at the ends. These arguments can be made for any $k_y$ for which the\\n1D BZ does not intersect a Fermi surface.\\nWhat does this tell us about the original Hamiltonian $\\\\mathcal{H}(\\\\mathbf{k})$\\nwith fixed $k_y$? That Hamiltonian has neither $T$ nor $C$ symmetry and is thus\\nin class A, which is topologically trivial in 1D. Our point is that the\\noriginal Hamiltonian can be obtained from $\\\\hat \\\\mathcal{H}(k_x)$ by a\\ncontinuous deformation without closing the gap. During the deformation, the $T$\\nand $C$ symmetries are lost so that the zero-energy end states are no longer\\nprotected. However, the energy of the end states evolves\\nsmoothly during the deformation. Hence, for $\\\\mathcal{H}(\\\\mathbf{k})$ there are\\nstill two edge states for every $k_y$ for which the effective 1D Hamiltonian is\\ngapped. These states have no reason to be at zero energy and will generally have\\nan exponentially small overlap with each other, which splits their energies.\\nIn principle, the edge states are not protected against merging with the bulk\\ncontinuum. However, we find separate edge states wherever the bulk is gapped,\\npresumably due to level repulsion between edge and bulk states.\\nNote the similarity to graphene: The edge band at graphene zigzag edges is a\\nflat zero-energy band only for a model without next-nearest-neighbor hopping. In\\nreal graphene, it is dispersing.\\\\cite{CGP06,CGP09}\\n\\\\begin{figure}[h]\\n\\\\includegraphics[]{image_name}\\n\\\\label{fig:label}\\n\\\\end{figure}\\nIn the presence of a SDW with ordering vector $\\\\mathbf{Q}=(\\\\pi,0)$, the unit\\ncell of the iron square lattice is doubled in the $x$ direction. Therefore, the\\nbands are folded into the magnetic BZ. SDW formation opens gaps at some of the\\nnew band crossings but not at all of them---the bands still stick together at\\nDirac points.\\\\cite{RWZ09} Figure \\\\ref{fig:2_orbital_energies_magnetic} shows\\nthe band structure of the (10) strip compared to the projected bulk bands.\\nSpin degeneracy is not lifted by the SDW since the mean-field Hamiltonian is\\ninvariant under combined spin rotation and spatial reflection $x\\\\to-x$. However,\\nthe near degeneracy between bonding and antibonding combinations of edge states\\nis strongly broken. We instead find two edge states per spin direction, which\\nare localized mainly at one edge and are split in energy due to the opposite\\nexchange field at the two edges.\\nNote that the edge bands are connected to the bulk bands at the\\nprojected Dirac points, similar to graphene. Moreover,\\nFig.~\\\\ref{fig:2_orbital_energies_magnetic} shows that additional edge bands\\nappear within the new gaps away from the Fermi energy.\\n\\\\begin{figure}[h]\\n\\\\includegraphics[]{image_name}\\n\\\\label{fig:label}\\n\\\\end{figure}\\nTo check whether the edge bands also occur for the five-orbital\\nmodel,\\\\cite{KOA08,RWZ09} we plot in Fig.\\\\ \\\\ref{fig:5_orbital_energies}\\nthe energy bands of the (10) strip compared to the projected bulk bands\\nfor the paramagnetic and the SDW phase. In the paramagnetic phase we now find\\ntwo edge bands, each of which is twofold spin degenerate and, in the wide\\nlimit, also twofold degenerate between bonding and antibonding\\ncombinations. SDW order again leads to the opening of gaps at\\ncrossings of folded bands. The twofold spin degeneracy remains but the\\nasymptotic degeneracy between bonding and antibonding states is lifted, for the\\nsame reason as for the two-orbital model.\\nTo understand the appearance of surface states in the five-orbital model,\\nwe again consider effective gapped 1D models obtained by fixing $k_y$ to values\\nfor which the path through the BZ at constant $k_y$ does not intersect a\\nFermi surface. In this case, two bands lie above the Fermi energy and\\nthree below. The Hamiltonian can be deformed continuously\\nwithout closing the gap performing the following\\nsteps. (i) The hopping amplitudes between the $d_{3Z^2-R^2}$ and all other\\norbitals are tuned to zero and the resulting decoupled band is\\nshifted down in energy, effectively removing it from the model, together with\\ntwo electrons per iron. (ii) The hopping amplitudes beyond next-nearest\\nneighbors are tuned to zero. All components of the\\nHamiltonian $\\\\mathcal{H}(k_x)$ can now\\nbe written as linear combinations of $\\\\cos k_x$, $\\\\sin k_x$, and a constant.\\n(iii) All constant terms are tuned to zero. (iv) The coefficients of $\\\\sin k_x$\\nin the diagonal components are tuned to zero. (v) The coefficients of $\\\\cos\\nk_x$ in the off-diagonal components are tuned to zero. (vi) The remaining\\ncoefficients in diagonal components are tuned to unity and in off-diagonal\\ncomponents to $1/\\\\sqrt{2}$. A unitary transformation in orbital space maps the\\nresulting Hamiltonian onto\\n\\\\begin{equation}\\n\\\\hat \\\\mathcal{H}(k_x) = \\\\left(\\\\begin{array}{cccc}\\n  0 & e^{-ik_x} & 0 & 0 \\\\\\\\\\n  e^{ik_x} & 0 & 0 & 0 \\\\\\\\\\n  0 & 0 & 0 & e^{-ik_x} \\\\\\\\\\n  0 & 0 & e^{ik_x} & 0\\n  \\\\end{array}\\\\right) .\\n\\\\end{equation}\\nSince this deformed Hamiltonian just consists of two copies of the Hamiltonian\\nin Eq.\\\\ (\\\\ref{3.Hflat.2}), it has two sets of zero-energy end states of distinct\\norbital character. Upon deforming the Hamiltonian back into the original one,\\nthe end states for every considered $k_y$ continuously develop into dispersing\\nbands. In addition, the degeneracy between the edge states of different orbital\\ncharacter is lifted so that we end up with two bands.\\n\\\\section{Conclusions}\\nWe have shown that two models of iron pnictides predict\\nthe existence of dispersing bands of surface states at (100) surfaces for the\\nparamagnetic state. They could be used to probe the topologically nontrivial\\nelectronic structure. These bands are twofold spin degenerate and have an\\nadditional twofold degeneracy in the limit of a thick slab due to the decoupling\\nof the states localised at the two surfaces. The main difference between the\\ntwo-orbital and the five-orbital model is that the latter predicts two instead\\nof one such bands. Their existence can be understood from a topological argument\\nbased on the continuous deformation of the Hamiltonian into one in\\nAltland-Zirnbauer class BDI. In the SDW state, where we had guessed from an\\nanalogy to graphene that surface states might exist, the surface bands split\\ninto two twofold degenerate bands. It should be noted that while the\\ntwo models inherit the surface states from topologically nontrivial\\nHamiltonians, they are not themselves topologically nontrivial. Hence, the\\nsurface states are not robust against disorder scattering. The analogy is thus\\nmore with graphene than with topological insulators.\\nThe origin of the surface states discussed\\nhere is completely different from surface states at (001) surfaces of iron\\npnictides of the 1111 family, such as $\\\\mathrm{LaOFeAs}$,\\nwhich have been observed by ARPES.\\\\cite{LYM09,ELK10} In this case, surface bands\\nresult from the polar nature of these surfaces.\\\\cite{ELK10} Surface states of\\nthis kind are not expected for $\\\\mathrm{LiFeAs}$ and $\\\\mathrm{NaFeAs}$ since the\\n(001) surface of these compounds is not polar and they are indeed not seen by\\nARPES.\\\\cite{LKB10,YLM12}\\nThe surface states predicted here could be detected by ARPES or scanning\\ntunneling spectroscopy on (100) surfaces, which are however challenging to\\nprepare. An alternative could be tunneling into the edges of thin\\n(001) films, either\\nusing an STM tip, a technique that has been successful for the\\ndetection of edge states in graphene,\\\\cite{KFE05}\\nor one of the setups discussed in Ref.\\\\ \\\\onlinecite{Sei11} in\\nthe context of Josephson junctions. Such\\ntunneling experiments would probe the density of states, which is expected to\\nbe enhanced close to (100) edges of the film. In particular,\\nthe van Hove singularities associated with extrema of the surface bands lead to\\nan enhancement of the density of states since the surface states are\\nessentially one-dimensional. It is an interesting\\nquestion what happens to the surface states when superconductivity sets in.\\nSuperconductivity of the $s^{+-}$ type preferred for iron pnictides could\\nintroduce energy gaps in the surface bands discussed here but also\\ninduce additional surface-bound states.\\\\cite{OnT09} Both would also be relevant\\nfor recent suggestions to engineer topological superconductors by using the\\nproximity effect of superconducting iron pnictides.\\\\cite{ZKM13}\\n\\\\section*{Acknowledgments}\\nWe thank P. M. R. Brydon, M. Daghofer, and A. P. Schnyder for\\nhelpful discussions. Support by the Deutsche Forschungsgemeinschaft through\\nResearch Training School GRK 1621 and Priority Programme SPP 1458 is\\nacknowledged.\\n\\\\begin{thebibliography}{99}\\n\\\\bibitem{Joh10}D. Johnston, Adv.\\\\ Phys.\\\\ \\\\textbf{59}, 803 (2010).\\n\\\\bibitem{DHD12}P. Dai, J. Hu, and E. Dagotto, Nature Phys.\\\\ \\\\textbf{8}, 709\\n(2012).\\n\\\\bibitem{HaK10}M. Z. Hasan and C. L. Kane, Rev.\\\\ Mod.\\\\ Phys.\\\\ \\\\textbf{82}, 3045\\n(2010).\\n\\\\bibitem{QiZ11}X.-L. Qi and S.-C. Zhang, Rev.\\\\ Mod.\\\\ Phys.\\\\ \\\\textbf{83}, 1057\\n(2011).\\n\\\\bibitem{RWZ09}Y. Ran, F. Wang, H. Zhai, A. Vishwanath, and D.-H. Lee, Phys.\\\\\\nRev.\\\\ B \\\\textbf{79}, 014505 (2009).\\n\\\\bibitem{RQL08}S. Raghu, X.-L. Qi, C.-X. Liu, D. J. Scalapino, and S.-C. Zhang,\\nPhys.\\\\ Rev.\\\\ B \\\\textbf{77}, 220503(R) (2008).\\n\\\\bibitem{KOA08}K. Kuroki, S. Onari, R. Arita, H. Usui, Y. Tanaka, H. Kontani,\\nand H. Aoki, Phys.\\\\ Rev.\\\\ Lett.\\\\ \\\\textbf{101}, 087004 (2008).\\n\\\\bibitem{BDT11}P. M. R. Brydon, M. Daghofer, and C. Timm, J. Phys.: Condens.\\\\\\nMatter \\\\textbf{23}, 246001 (2011).\\n\\\\bibitem{SBT12}J. Schmiedt, P. M. R. Brydon, and C. Timm, Phys.\\\\ Rev.\\\\ B\\n\\\\textbf{85}, 214425 (2012).\\n\\\\bibitem{HaS09}N. Harrison and S. E. Sebastian, Phys.\\\\ Rev.\\\\ B \\\\textbf{80},\\n224512 (2009); M. Sutherland, D. J. Hills, B. S. Tan, M. M. Altarawneh, N.\\nHarrison, J. Gillett, E. C. T. O\\'Farrell, T. M. Benseman, I. Kokanovic, P.\\nSyers, J. R. Cooper, and S. E. Sebastian, Phys.\\\\ Rev.\\\\ B \\\\textbf{84}, 180506(R)\\n(2011).\\n\\\\bibitem{PBC13}I. Pallecchi, F. Bernardini, F. Caglieris, A. Palenzona, S.\\nMassidda, and M. Putti, Eur.\\\\ Phys.\\\\ J. B \\\\textbf{86}, 338 (2013).\\n\\\\bibitem{RNS10}P. Richard, K. Nakayama, T. Sato, M. Neupane, Y.-M. Xu, J. H.\\nBowen, G. F. Chen, J. L. Luo, N. L. Wang, X. Dai, Z. Fang, H. Ding, and T.\\nTakahashi, Phys.\\\\ Rev.\\\\ Lett.\\\\ \\\\textbf{104}, 137001 (2010).\\n\\\\bibitem{HTT11}K. K. Huynh, Y. Tanabe, and K. Tanigaki, Phys.\\\\ Rev.\\\\ Lett.\\\\\\n\\\\textbf{106}, 217004 (2011).\\n\\\\bibitem{TKT11}T. Terashima, N. Kurita, M. Tomita, K. Kihou, C.-H. Lee, Y.\\nTomioka, T. Ito, A. Iyo, H. Eisaki, T. Liang, M. Nakajima, S. Ishida, S.\\nUchida, H. Harima, and S. Uji, Phys.\\\\ Rev.\\\\ Lett.\\\\ \\\\textbf{107}, 176402 (2011).\\n\\\\bibitem{CGP09} A. H. Castro Neto, F. Guinea, N. M. R. Peres, K. S. Novoselov,\\nand A. K. Geim, Rev.\\\\ Mod.\\\\ Phys.\\\\ \\\\textbf{81}, 109 (2009).\\n\\\\bibitem{FWN96}M. Fujita, K. Wakabayashi, K. Nakada, and K. Kusakabe, J. Phys.\\\\\\nSoc.\\\\ Jpn.\\\\ \\\\textbf{65}, 1920 (1996); K. Nakada, M. Fujita, G. Dresselhaus, and\\nM. S. Dresselhaus, Phys.\\\\ Rev.\\\\ B \\\\textbf{54}, 17954 (1996).\\n\\\\bibitem{CGP06}A. H. Castro Neto, F. Guinea, and N. M. R. Peres, Phys.\\\\ Rev.\\\\ B\\n\\\\textbf{73}, 205408 (2006).\\n\\\\bibitem{RyH02}S. Ryu and Y. Hatsugai, Phys.\\\\ Rev.\\\\ Lett.\\\\ \\\\textbf{89}, 077002\\n(2002).\\n\\\\bibitem{YaK10}B.-J. Yang and H.-Y. Kee, Phys.\\\\ Rev.\\\\ B \\\\textbf{82}, 195126\\n(2010), in particular note Fig.~7.\\n\\\\bibitem{Zir96}M. R. Zirnbauer, J. Math.\\\\ Phys.\\\\ \\\\textbf{37}, 4986 (1996);\\nA. Altland and M. R. Zirnbauer, Phys.\\\\ Rev.\\\\ B \\\\textbf{55}, 1142 (1997).\\n\\\\bibitem{SRF08}A. P. Schnyder, S. Ryu, A. Furusaki, and A. W. W. Ludwig, Phys.\\\\\\nRev.\\\\ B \\\\textbf{78}, 195125 (2008).\\n\\\\bibitem{LYM09}D. H. Lu, M. Yi, S.-K. Mo, J. G. Analytis, J.-H. Chu,\\nA. S. Erickson, D. J. Singh, Z. Hussain, T. H. Geballe, I. R. Fisher, and Z.-X.\\nShen, Physica C \\\\textbf{469}, 452 (2009).\\n\\\\bibitem{ELK10}H. Eschrig, A. Lankau, and K. Koepernik, Phys.\\\\ Rev.\\\\ B\\n\\\\textbf{81}, 155447 (2010).\\n\\\\bibitem{LKB10}A. Lankau, K. Koepernik, S. Borisenko, V. Zabolotnyy,\\nB. B\\\\\"uchner, J. van den Brink, and H. Eschrig, Phys.\\\\ Rev.\\\\ B \\\\textbf{82},\\n184518 (2010).\\n\\\\bibitem{YLM12}M. Yi, D. H. Lu, R. G. Moore, K. Kihou, C.-H. Lee, A.\\nIyo, H. Eisaki, T. Yoshida, A. Fujimori, and Z.-X. Shen, New J. Phys.\\\\\\n\\\\textbf{14}, 073019 (2012).\\n\\\\bibitem{KFE05}Y. Kobayashi, K.-i. Fukui, T. Enoki, K. Kusakabe, and\\nY. Kaburagi, Phys.\\\\ Rev.\\\\ B \\\\textbf{71}, 193406 (2005);\\nY. Kobayashi, K.-i. Fukui, T. Enoki, and K. Kusakabe, Phys.\\\\ Rev.\\\\ B\\n\\\\textbf{73}, 125415 (2006).\\n\\\\bibitem{Sei11}P. Seidel, Supercond.\\\\ Sci.\\\\ Technol.\\\\ \\\\textbf{24}, 043001\\n(2011).\\n\\\\bibitem{OnT09}S. Onari and Y. Tanaka, Phys.\\\\ Rev.\\\\ B \\\\textbf{79},\\n174526 (2009).\\n\\\\bibitem{ZKM13}F. Zhang, C. L. Kane, and E. J. Mele, Phys.\\\\ Rev.\\\\ Lett.\\\\\\n\\\\textbf{111}, 056402 (2013).\\n\\\\end{thebibliography}\\n'"
      ]
     },
     "execution_count": 32,
     "metadata": {},
     "output_type": "execute_result"
    }
   ],
   "source": [
    "# opena a .tex file as text string\n",
    "file = open(\"/mnt/NAS/patidarritesh/latex_files/1305.1770.tex\", \"r\")\n",
    "text = file.read()\n",
    "file.close()\n",
    "\n",
    "# print text\n",
    "(text)"
   ]
  },
  {
   "cell_type": "code",
   "execution_count": 33,
   "metadata": {},
   "outputs": [
    {
     "name": "stdout",
     "output_type": "stream",
     "text": [
      "gnd_truth_data:  \\importpackages{}\n",
      "\\graphicspath{ {./images/} }\n",
      "\n",
      "\n",
      "\\title{Topological surface states in paramagnetic and antiferromagnetic\n",
      "iron pnictides}\n",
      "\\author{Alexander Lau}\n",
      "\\affiliation{Institute of Theoretical Physics, Technische Universit\\\"at\n",
      "Dresden, 01062 Dresden, Germany}\n",
      "\\author{Carsten Timm}\n",
      "\\email{carsten.timm@tu-dresden.de}\n",
      "\\affiliation{Institute of Theoretical Physics, Technische Universit\\\"at\n",
      "Dresden, 01062 Dresden, Germany}\n",
      "\\date{\\today}\n",
      "\\begin{abstract}\n",
      "The electronic structure of iron pnictides is topologically nontrivial, leading\n",
      "to the appearance of Dirac cones in the band structure for the antiferromagnetic\n",
      "phase. Motivated by the analogy with Dirac cones in graphene, we explore the\n",
      "possible existence\n",
      "of topologically protected surface states. Surprisingly, bands of surface states\n",
      "exist even in the paramagnetic state. A realistic five-orbital model\n",
      "predicts two such bands. In the antiferromagnetic phase, these surface bands\n",
      "survive but split. We obtain the bulk and surface dispersion from exact\n",
      "diagonalization of two- and five-orbital models in a strip geometry and discuss\n",
      "the results based on topology.\n",
      "\\end{abstract}\n",
      "\\pacs{\n",
      "74.70.Xa, \n",
      "73.20.At, \n",
      "03.65.Vf, \n",
      "75.30.Fv  \n",
      "}\n",
      "\\maketitle\n",
      "\\section{Introduction}\n",
      "Two of the most active areas in condensed\n",
      "matter physics concern the iron pnictides\\cite{Joh10,DHD12} and topological\n",
      "properties of matter.\\cite{HaK10,QiZ11} The iron pnictides are of interest\n",
      "since they show multiband superconductivity with high transition temperatures\n",
      "competing with itinerant antiferromagnetism. Topology in condensed matter has\n",
      "received a lot of attention in part because nontrivial topology can induce\n",
      "surface or edge states. This paper is concerned with the\n",
      "topological properties and surface states of iron pnictides.\n",
      "In iron pnictides, several iron $3d$ orbitals contribute significantly\n",
      "to the electronic states close to the Fermi energy. Ran \\textit{et\n",
      "al.}\\cite{RWZ09} have realized that this multiorbital character can lead to\n",
      "nontrivial topological properties. They find band touchings at the $(0,0)$ and\n",
      "$(\\pi,\\pi)$ points in the Brillouin zone (BZ), which are associated with winding\n",
      "numbers in orbital space. As a consequence, the formation of a spin-density wave\n",
      "(SDW) with ordering vector $\\mathbf{Q}=(\\pi,0)$ cannot open a full gap but\n",
      "rather leaves an even number of Dirac points.\\cite{RWZ09} This holds\n",
      "both for a two-orbital model including only the most important\n",
      "$3d_{YZ}$ and $3d_{ZX}$ orbitals\\cite{RQL08} and for a model including all\n",
      "five $3d$ orbitals.\\cite{KOA08} While the two-orbital model does not\n",
      "give a realistic description,\n",
      "it allows a simpler discussion of the topological properties. On the other hand,\n",
      "the five-orbital model\\cite{KOA08} gives a good account of the low-energy band\n",
      "structure of the prototypical compound $\\mathrm{LaFeAsO}$ and also leads to\n",
      "reasonable predictions for the magnetic order vs.\\ doping.\\cite{BDT11,SBT12}\n",
      "Evidence for the Dirac points has been\n",
      "obtained from quantum-oscillation experiments,\\cite{HaS09}\n",
      "magnetotransport\\cite{PBC13} and angle-resolved\n",
      "photoemission (ARPES).\\cite{RNS10,HTT11} However, conflicting evidence is\n",
      "presented in \\onlinecite{TKT11}.\n",
      "Dirac points in the band structure have attracted a lot of attention in the\n",
      "context of graphene.\\cite{CGP09} There, Dirac points emerge due to the\n",
      "two-sublattice structure of the honeycomb lattice. They are accompanied by\n",
      "dispersing edge states at so-called zigzag edges,\\cite{FWN96,RyH02,CGP06,CGP09}\n",
      "which appear in the 1D edge BZ between the projections of the Dirac points.\n",
      "Regardless of the different origins of the Dirac points, one may ask whether\n",
      "they have similar consequences in pnictides and in graphene. Specifically,\n",
      "do surface states also exist in the SDW phase of the iron pnictides?\n",
      "Yang and Kee\\cite{YaK10} have indeed found surface bands for a two-orbital\n",
      "model with broken symmetry. However, the required combined orbital, SDW, and\n",
      "charge-density-wave order is not realized in iron pnictides and actually opens a\n",
      "full gap without Dirac points.\n",
      "We will show that dispersing bands of surface states exist even in the\n",
      "\\emph{paramagnetic} phase of the iron pnictides, due to its topological\n",
      "character. In the SDW phase, the surface\n",
      "bands split. This is found for both two-orbital and five-orbital models but the\n",
      "latter features two surface bands, whereas the former has only one. We will\n",
      "explain the topological origin of the surface states.\n",
      "\\section{Models and method}\n",
      "We follow Refs.\\ \\onlinecite{KOA08,RWZ09} in choosing\n",
      "$3d$ orbitals with respect to the $X$ and $Y$ axes of the\n",
      "tetragonal lattice, which are rotated by $45^\\circ$ relative to the $x$ and $y$\n",
      "axes of the square iron lattice. The two-orbital model\\cite{RQL08,RWZ09}\n",
      "retains only these two orbitals in a single-iron unit cell. The Hamiltonian is\n",
      "$H=H_0+H_I$, where the non-interacting part for the extended system reads\n",
      "$H_0 = \\sum_{\\mathbf{k}\\sigma} \\sum_{a,b=1}^2\n",
      "  d^\\dagger_{\\mathbf{k}a\\sigma} \\mathcal{H}_{ab}(\\mathbf{k})\n",
      "  d_{\\mathbf{k}b\\sigma}$.\n",
      "Here, $\\mathcal{H}(\\mathbf{k})$ is a $2\\times2$ matrix in orbital space,\n",
      "\\begin{eqnarray}\n",
      "\\lefteqn{ \\mathcal{H}(\\mathbf{k}) = 2t_1\\, (\\cos k_x - \\cos k_y)\\, \\tau^1 }\n",
      "  \\nonumber \\\\\n",
      "&& {}- 2(t_2-t_2')\\,\\sin k_x \\sin k_y\\, \\tau^3 \\nonumber \\\\\n",
      "&& {}+ [2(t_2+t_2')\\,\\cos k_x \\cos k_y\n",
      "  + 2t_1'\\,(\\cos k_x + \\cos k_y)]\\, \\tau^0 ,\\quad\n",
      "\\label{2_orbital_H0_1}\n",
      "\\end{eqnarray}\n",
      "where $\\tau^1$, $\\tau^2$, $\\tau^3$ are Pauli matrices, $\\tau^0$ is the unit\n",
      "matrix, and the orbital index $1$ corresponds to\n",
      "$3d_{ZX}$ and $2$ to $3d_{YZ}$. We adopt the hopping parameters\\cite{RWZ09}\n",
      "$t_1=0.30\\,\\mathrm{eV}$, $t_1'=0.06\\,\\mathrm{eV}$,\n",
      "$t_2=0.51\\,\\mathrm{eV}$, and $t_2'=0.09\\,\\mathrm{eV}$.\n",
      "For the interactions we take\\cite{RWZ09}\n",
      "\\begin{eqnarray}\n",
      "H_I & = & \\frac{U}{2} \\sum_{\\mathbf{i}} (\\hat n_{\\mathbf{i}1}^2 +\n",
      "  \\hat n_{\\mathbf{i}2}^2)\n",
      "  + (U-2J)\\sum_{\\mathbf{i}} n_{\\mathbf{i}1}n_{\\mathbf{i}2} \\nonumber \\\\\n",
      "&& {}+ J \\sum_{\\mathbf{i}} \\sum_{\\sigma\\sigma'}\n",
      "  d_{\\mathbf{i}1\\sigma}^{\\dagger} d_{\\mathbf{i}2\\sigma'}^{\\dagger}\n",
      "  d_{\\mathbf{i}1\\sigma'} d_{\\mathbf{i}2\\sigma} \\nonumber \\\\\n",
      "&& {}+ J \\sum_{\\mathbf{i}} (d_{\\mathbf{i}1\\uparrow}^{\\dagger}\n",
      "  d_{\\mathbf{i}1\\downarrow}^{\\dagger}d_{\\mathbf{i}2\\downarrow}\n",
      "  d_{\\mathbf{i}2\\uparrow} + \\mathrm{H.c.}) ,\n",
      "\\label{2_orbital_HI}\n",
      "\\end{eqnarray}\n",
      "where $\\hat n_{\\mathbf{i}a} \\equiv \\sum_\\sigma\n",
      "d_{\\mathbf{i}a\\sigma}^{\\dagger} d_{\\mathbf{i}a\\sigma}$, and the interaction\n",
      "parameters are chosen as $U=1.20\\,\\mathrm{eV}$ and $J=0.12\\,\\mathrm{eV}$.\n",
      "Assuming a SDW with ordering vector $\\mathbf{Q}=(\\pi,0)$\n",
      "and spins pointing along the $S_z$ axis, a mean-field decoupling with\n",
      "$\\langle d_{\\mathbf{i}a\\sigma}^{\\dagger} d_{\\mathbf{i}b\\sigma}\\rangle =\n",
      "  n_{ab} + (-1)^{i_x}\\, \\frac{\\sigma}{2}\\, m_{ab}$\n",
      "gives the mean-field Hamiltonian\n",
      "\\begin{equation}\n",
      "H_{\\mathrm{MF}} = H_0 + \\sum_{\\mathbf{i}ab} (-1)^{i_x}M_{ab}\n",
      "  \\big(d_{\\mathbf{i}a\\uparrow}^{\\dagger} d_{\\mathbf{i}b\\uparrow}\n",
      "  - d_{\\mathbf{i}a\\downarrow}^{\\dagger} d_{\\mathbf{i}b\\downarrow}\\big) ,\n",
      "\\label{2_orbital_HMF}\n",
      "\\end{equation}\n",
      "with $M_{11} = -(Um_{11}+Jm_{22})/2$, $M_{22} = -(Um_{22}+Jm_{11})/2$,\n",
      "$M_{12} = M_{21} = -Jm_{21}$. The Hartree shifts $n_{ab}$ have been\n",
      "absorbed into $H_0$. The parameters $m_{ab}$ are calculated self-consistently,\n",
      "assuming half filling.\n",
      "Edge states will be studied for a strip of width $W$ with (10) edges. Since the\n",
      "strip is extended along the $y$ axis, $k_y$ is a good quantum number and\n",
      "we carry out a Fourier transformation in the $y$ direction,\n",
      "$d_{\\mathbf{i}a\\sigma} = N_y^{-1/2} \\sum_{k_y} e^{ik_yi_y} d_{i_xk_ya\\sigma}$.\n",
      "The mean-field Hamiltonian then consists of blocks of dimensions $2W\\times 2W$\n",
      "for fixed $k_y$, $\\sigma$. These blocks are\n",
      "diagonalized numerically, giving the energy bands of the strip system. We here\n",
      "assume that the SDW in the strip is described by the same order\n",
      "parameters $m_{ab}$ as for the extended system.\n",
      "The five-orbital model\\cite{KOA08} includes all\n",
      "hopping amplitudes larger than $10\\,\\mathrm{meV}$ up to fifth neighbors. The\n",
      "hopping amplitudes and onsite energies are\n",
      "obtained from density-functional calculations and are tabulated in Ref.\\\n",
      "\\onlinecite{KOA08}. The interaction $H_I$ is analogous to\n",
      "the two-orbital model, except that the interorbital terms in Eq.\\\n",
      "(\\ref{2_orbital_HI}) now become\n",
      "sums over all pairs of orbitals $a$, $b$, with $a<b$,\n",
      "where $a,b=1,\\ldots,5$ correspond to $3d_{3Z^2-R^2}$, $3d_{ZX}$, $3d_{YZ}$,\n",
      "$3d_{X^2-Y^2}$, $3d_{XY}$.\n",
      "The interaction parameters are chosen to be $U=1.0\\,\\mathrm{eV}$ and\n",
      "$J=0.2\\,\\mathrm{eV}$.\\cite{RWZ09}\n",
      "Applying a mean-field decoupling as above, we obtain the\n",
      "mean-field Hamiltonian (\\ref{2_orbital_HMF}), where now the orbital indices\n",
      "traverse $a,b=1,\\ldots,5$, and\n",
      "$M_{aa}=-(Um_{aa}+J\\sum_{b\\neq a}m_{bb})/2$ and\n",
      "$M_{ab}= M_{ba} = -Jm_{ab}$ for $a\\neq b$.\n",
      "The mean-field parameters $m_{ab}$ are determined self-consistently, assuming\n",
      "$6$ electrons per iron, corresponding to zero doping.\n",
      "For the (10) strip, we proceed analogously to the two-orbital case. By\n",
      "means of a Fourier transformation in the $y$ direction, the problem is reduced\n",
      "to the diagonalization of $5W\\times 5W$ Hamiltonian matrices for fixed $k_y$,\n",
      "$\\sigma$.\n",
      "\\begin{figure}[h]\n",
      "\\includegraphics[]{image_name}\n",
      "\\label{fig:label}\n",
      "\\end{figure}\n",
      "\\section{Results and discussion}\n",
      "First, we consider the two-orbital model\n",
      "without SDW order, i.e., with $m_{ab}=0$, in a (10) strip geometry. In\n",
      "Fig.~\\ref{fig:2_orbital_energies_nonmagnetic}, we compare\n",
      "the energy bands of the (10) strip of width $W=100$ to the bands of the extended\n",
      "system projected onto the (10) edge BZ. All energies are twofold spin\n",
      "degenerate.\n",
      "We see that the majority of the bands of the strip lie within the projected\n",
      "continuum of bulk bands. However, there is an additional band that does not\n",
      "agree with the bulk continuum. We have found that the corresponding states are\n",
      "localized at the edges of the strip. A closer\n",
      "look reveals that this band, ignoring spin degeneracy, actually comprises two\n",
      "bands, which are only approximately degenerate. For finite widths $W$, the two\n",
      "states at given $k_y$ correspond to bonding and antibonding combinations of\n",
      "states localized at the two edges. Thus, there is a finite splitting, invisible\n",
      "in Fig.~\\ref{fig:2_orbital_energies_nonmagnetic}, which decreases exponentially\n",
      "with increasing $W$.\n",
      "\\begin{figure}[h]\n",
      "\\includegraphics[]{image_name}\n",
      "\\label{fig:label}\n",
      "\\end{figure}\n",
      "The origin of the edge states can be understood from a topological argument.\n",
      "We start from the noninteracting first-quantized Hamiltonian\n",
      "$\\mathcal{H}(\\mathbf{k})$ of Eq.\\ (\\ref{2_orbital_H0_1}).\n",
      "We consider one spin sector throughout and suppress the spin index.\n",
      "For the strip, $k_y$ is a constant of motion. For each\n",
      "fixed value of $k_y$, we obtain an effective 1D model. For an extended system,\n",
      "the BZ of this 1D model is the subset with $k_y=\\mathrm{const}$ of the 2D BZ.\n",
      "If the 1D BZ does not cross any Fermi surface, the 1D model is gapped in the\n",
      "bulk. One such 1D BZ is shown by the black arrow in Fig.\\\n",
      "\\ref{fig:winding_2band}. $\\mathcal{H}(\\mathbf{k})$ can be written\n",
      "as\\cite{RWZ09}\n",
      "\\begin{equation}\n",
      "\\mathcal{H}(\\mathbf{k}) = a(\\mathbf{k})\\, \\tau^0 + b(\\mathbf{k})\\,\n",
      "  (\\sin\\phi_\\mathbf{k}\\, \\tau^1 + \\cos\\phi_\\mathbf{k}\\, \\tau^3) ,\n",
      "\\label{3.Hk.2}\n",
      "\\end{equation}\n",
      "with $b(\\mathbf{k})\\ge 0$. The vector field $(\\cos\\phi_\\mathbf{k},\n",
      "\\sin\\phi_\\mathbf{k})$ is plotted in Fig.\\ \\ref{fig:winding_2band}.\n",
      "It exhibits vortices with vorticities $\\pm 2$ at the band-touching points\n",
      "$\\mathbf{k}=(0,0)$ and $(\\pi,\\pi)$. Furthermore, a winding\n",
      "number of $+1$ ($-1$) is aquired when moving from $k_x=-\\pi$ to $k_x=+\\pi$ along\n",
      "a line with constant $k_y>0$ ($k_y<0$). The effective 1D system\n",
      "thus has a nontrivial topological structure in orbital space.\\cite{RWZ09}\n",
      "The appearance of edge states is best understood by deforming the\n",
      "Hamiltonian of the effective 1D system into one with a topologically protected\n",
      "winding number.\n",
      "For fixed $k_y>0$ ($k_y<0$ is analogous), we deform the Hamiltonian\n",
      "into $\\tilde \\mathcal{H}(k_x) = \\cos k_x\\, \\tau^1 - \\sin k_x\\, \\tau^3$.\n",
      "This deformation does not change the topology of the bands and, in particular,\n",
      "leaves the energy gap open. $\\tilde \\mathcal{H}(k_x)$ is unitarily equivalent to\n",
      "\\begin{equation}\n",
      "\\hat \\mathcal{H}(k_x) \\equiv e^{-i \\frac{\\pi}{4} \\tau^1}\n",
      "  \\tilde \\mathcal{H}(k_x)\\, e^{i \\frac{\\pi}{4} \\tau^1}\n",
      "  = \\left(\\begin{array}{cc}\n",
      "  0 & e^{-ik_x} \\\\\n",
      "  e^{ik_x} & 0\n",
      "  \\end{array}\\right) .\n",
      "\\label{3.Hflat.2}\n",
      "\\end{equation}\n",
      "In the bulk, this new Hamiltonian has the eigenvalues $\\pm 1$ for every $k_x$,\n",
      "i.e., it has flat bands. Furthermore, $\\hat \\mathcal{H}(k_x)$ is time-reversal\n",
      "symmetric. The antiunitary time-reversal operator $T$ can be written as\n",
      "$T=KU_T$, where $K$ is the complex conjugation in our basis and $U_T$ is unitary\n",
      "and must satisfy $U_T \\hat \\mathcal{H}^*(-k_x) U_T^\\dagger = \\hat\n",
      "\\mathcal{H}(k_x)$, which is fulfilled for $U_T=\\tau^0$. Note that $T$ squares to\n",
      "$T^2 = \\tau^0$. $\\hat \\mathcal{H}(k_x)$ is also charge-conjugation\n",
      "symmetric. The antiunitary charge-conjugation operator $C$ can be written as\n",
      "$C=KU_C$, where $U_C$ is unitary and must satisfy $U_C \\hat \\mathcal{H}^*(-k_x)\n",
      "U_C^\\dagger = - \\hat \\mathcal{H}(k_x)$, which is fulfilled for $U_C=\\tau^3$. We\n",
      "find $C^2 = K\\tau^3 K\\tau^3 = \\tau^0$. These symmetry properties imply that\n",
      "the deformed 1D model belongs to the Altland-Zirnbauer class BDI.\\cite{Zir96}\n",
      "This class allows a $\\mathbb{Z}$ topological invariant in 1D.\\cite{SRF08}\n",
      "For the strip, the effective 1D model is a finite chain of length $W$. The\n",
      "$\\mathbb{Z}$ topological invariant means that states localized\n",
      "at the ends can exist, but does not guarantee that $\\hat \\mathcal{H}(k_x)$\n",
      "has any. However, this is easily seen by transforming $\\hat\n",
      "\\mathcal{H}(k_x)$ into real space, which gives\n",
      "$\\hat H = \\sum_{j=1}^{W-1} ( d_{j+1,\\uparrow}^\\dagger d_{j,\\downarrow}\n",
      "  + d_{j,\\downarrow}^\\dagger d_{j+1,\\uparrow} )$,\n",
      "where ${\\uparrow}$, ${\\downarrow}$ now refer to the \\emph{orbital} pseudospin.\n",
      "The ${\\uparrow}$ (${\\downarrow}$) state at $j=1$\n",
      "($j=W$) is not coupled to any other state. Thus there are two zero-energy states\n",
      "localized at the ends. These arguments can be made for any $k_y$ for which the\n",
      "1D BZ does not intersect a Fermi surface.\n",
      "What does this tell us about the original Hamiltonian $\\mathcal{H}(\\mathbf{k})$\n",
      "with fixed $k_y$? That Hamiltonian has neither $T$ nor $C$ symmetry and is thus\n",
      "in class A, which is topologically trivial in 1D. Our point is that the\n",
      "original Hamiltonian can be obtained from $\\hat \\mathcal{H}(k_x)$ by a\n",
      "continuous deformation without closing the gap. During the deformation, the $T$\n",
      "and $C$ symmetries are lost so that the zero-energy end states are no longer\n",
      "protected. However, the energy of the end states evolves\n",
      "smoothly during the deformation. Hence, for $\\mathcal{H}(\\mathbf{k})$ there are\n",
      "still two edge states for every $k_y$ for which the effective 1D Hamiltonian is\n",
      "gapped. These states have no reason to be at zero energy and will generally have\n",
      "an exponentially small overlap with each other, which splits their energies.\n",
      "In principle, the edge states are not protected against merging with the bulk\n",
      "continuum. However, we find separate edge states wherever the bulk is gapped,\n",
      "presumably due to level repulsion between edge and bulk states.\n",
      "Note the similarity to graphene: The edge band at graphene zigzag edges is a\n",
      "flat zero-energy band only for a model without next-nearest-neighbor hopping. In\n",
      "real graphene, it is dispersing.\\cite{CGP06,CGP09}\n",
      "\\begin{figure}[h]\n",
      "\\includegraphics[]{image_name}\n",
      "\\label{fig:label}\n",
      "\\end{figure}\n",
      "In the presence of a SDW with ordering vector $\\mathbf{Q}=(\\pi,0)$, the unit\n",
      "cell of the iron square lattice is doubled in the $x$ direction. Therefore, the\n",
      "bands are folded into the magnetic BZ. SDW formation opens gaps at some of the\n",
      "new band crossings but not at all of them---the bands still stick together at\n",
      "Dirac points.\\cite{RWZ09} Figure \\ref{fig:2_orbital_energies_magnetic} shows\n",
      "the band structure of the (10) strip compared to the projected bulk bands.\n",
      "Spin degeneracy is not lifted by the SDW since the mean-field Hamiltonian is\n",
      "invariant under combined spin rotation and spatial reflection $x\\to-x$. However,\n",
      "the near degeneracy between bonding and antibonding combinations of edge states\n",
      "is strongly broken. We instead find two edge states per spin direction, which\n",
      "are localized mainly at one edge and are split in energy due to the opposite\n",
      "exchange field at the two edges.\n",
      "Note that the edge bands are connected to the bulk bands at the\n",
      "projected Dirac points, similar to graphene. Moreover,\n",
      "Fig.~\\ref{fig:2_orbital_energies_magnetic} shows that additional edge bands\n",
      "appear within the new gaps away from the Fermi energy.\n",
      "\\begin{figure}[h]\n",
      "\\includegraphics[]{image_name}\n",
      "\\label{fig:label}\n",
      "\\end{figure}\n",
      "To check whether the edge bands also occur for the five-orbital\n",
      "model,\\cite{KOA08,RWZ09} we plot in Fig.\\ \\ref{fig:5_orbital_energies}\n",
      "the energy bands of the (10) strip compared to the projected bulk bands\n",
      "for the paramagnetic and the SDW phase. In the paramagnetic phase we now find\n",
      "two edge bands, each of which is twofold spin degenerate and, in the wide\n",
      "limit, also twofold degenerate between bonding and antibonding\n",
      "combinations. SDW order again leads to the opening of gaps at\n",
      "crossings of folded bands. The twofold spin degeneracy remains but the\n",
      "asymptotic degeneracy between bonding and antibonding states is lifted, for the\n",
      "same reason as for the two-orbital model.\n",
      "To understand the appearance of surface states in the five-orbital model,\n",
      "we again consider effective gapped 1D models obtained by fixing $k_y$ to values\n",
      "for which the path through the BZ at constant $k_y$ does not intersect a\n",
      "Fermi surface. In this case, two bands lie above the Fermi energy and\n",
      "three below. The Hamiltonian can be deformed continuously\n",
      "without closing the gap performing the following\n",
      "steps. (i) The hopping amplitudes between the $d_{3Z^2-R^2}$ and all other\n",
      "orbitals are tuned to zero and the resulting decoupled band is\n",
      "shifted down in energy, effectively removing it from the model, together with\n",
      "two electrons per iron. (ii) The hopping amplitudes beyond next-nearest\n",
      "neighbors are tuned to zero. All components of the\n",
      "Hamiltonian $\\mathcal{H}(k_x)$ can now\n",
      "be written as linear combinations of $\\cos k_x$, $\\sin k_x$, and a constant.\n",
      "(iii) All constant terms are tuned to zero. (iv) The coefficients of $\\sin k_x$\n",
      "in the diagonal components are tuned to zero. (v) The coefficients of $\\cos\n",
      "k_x$ in the off-diagonal components are tuned to zero. (vi) The remaining\n",
      "coefficients in diagonal components are tuned to unity and in off-diagonal\n",
      "components to $1/\\sqrt{2}$. A unitary transformation in orbital space maps the\n",
      "resulting Hamiltonian onto\n",
      "\\begin{equation}\n",
      "\\hat \\mathcal{H}(k_x) = \\left(\\begin{array}{cccc}\n",
      "  0 & e^{-ik_x} & 0 & 0 \\\\\n",
      "  e^{ik_x} & 0 & 0 & 0 \\\\\n",
      "  0 & 0 & 0 & e^{-ik_x} \\\\\n",
      "  0 & 0 & e^{ik_x} & 0\n",
      "  \\end{array}\\right) .\n",
      "\\end{equation}\n",
      "Since this deformed Hamiltonian just consists of two copies of the Hamiltonian\n",
      "in Eq.\\ (\\ref{3.Hflat.2}), it has two sets of zero-energy end states of distinct\n",
      "orbital character. Upon deforming the Hamiltonian back into the original one,\n",
      "the end states for every considered $k_y$ continuously develop into dispersing\n",
      "bands. In addition, the degeneracy between the edge states of different orbital\n",
      "character is lifted so that we end up with two bands.\n",
      "\\section{Conclusions}\n",
      "We have shown that two models of iron pnictides predict\n",
      "the existence of dispersing bands of surface states at (100) surfaces for the\n",
      "paramagnetic state. They could be used to probe the topologically nontrivial\n",
      "electronic structure. These bands are twofold spin degenerate and have an\n",
      "additional twofold degeneracy in the limit of a thick slab due to the decoupling\n",
      "of the states localised at the two surfaces. The main difference between the\n",
      "two-orbital and the five-orbital model is that the latter predicts two instead\n",
      "of one such bands. Their existence can be understood from a topological argument\n",
      "based on the continuous deformation of the Hamiltonian into one in\n",
      "Altland-Zirnbauer class BDI. In the SDW state, where we had guessed from an\n",
      "analogy to graphene that surface states might exist, the surface bands split\n",
      "into two twofold degenerate bands. It should be noted that while the\n",
      "two models inherit the surface states from topologically nontrivial\n",
      "Hamiltonians, they are not themselves topologically nontrivial. Hence, the\n",
      "surface states are not robust against disorder scattering. The analogy is thus\n",
      "more with graphene than with topological insulators.\n",
      "The origin of the surface states discussed\n",
      "here is completely different from surface states at (001) surfaces of iron\n",
      "pnictides of the 1111 family, such as $\\mathrm{LaOFeAs}$,\n",
      "which have been observed by ARPES.\\cite{LYM09,ELK10} In this case, surface bands\n",
      "result from the polar nature of these surfaces.\\cite{ELK10} Surface states of\n",
      "this kind are not expected for $\\mathrm{LiFeAs}$ and $\\mathrm{NaFeAs}$ since the\n",
      "(001) surface of these compounds is not polar and they are indeed not seen by\n",
      "ARPES.\\cite{LKB10,YLM12}\n",
      "The surface states predicted here could be detected by ARPES or scanning\n",
      "tunneling spectroscopy on (100) surfaces, which are however challenging to\n",
      "prepare. An alternative could be tunneling into the edges of thin\n",
      "(001) films, either\n",
      "using an STM tip, a technique that has been successful for the\n",
      "detection of edge states in graphene,\\cite{KFE05}\n",
      "or one of the setups discussed in Ref.\\ \\onlinecite{Sei11} in\n",
      "the context of Josephson junctions. Such\n",
      "tunneling experiments would probe the density of states, which is expected to\n",
      "be enhanced close to (100) edges of the film. In particular,\n",
      "the van Hove singularities associated with extrema of the surface bands lead to\n",
      "an enhancement of the density of states since the surface states are\n",
      "essentially one-dimensional. It is an interesting\n",
      "question what happens to the surface states when superconductivity sets in.\n",
      "Superconductivity of the $s^{+-}$ type preferred for iron pnictides could\n",
      "introduce energy gaps in the surface bands discussed here but also\n",
      "induce additional surface-bound states.\\cite{OnT09} Both would also be relevant\n",
      "for recent suggestions to engineer topological superconductors by using the\n",
      "proximity effect of superconducting iron pnictides.\\cite{ZKM13}\n",
      "\\section*{Acknowledgments}\n",
      "We thank P. M. R. Brydon, M. Daghofer, and A. P. Schnyder for\n",
      "helpful discussions. Support by the Deutsche Forschungsgemeinschaft through\n",
      "Research Training School GRK 1621 and Priority Programme SPP 1458 is\n",
      "acknowledged.\n",
      "\\begin{thebibliography}{99}\n",
      "\\bibitem{Joh10}D. Johnston, Adv.\\ Phys.\\ \\textbf{59}, 803 (2010).\n",
      "\\bibitem{DHD12}P. Dai, J. Hu, and E. Dagotto, Nature Phys.\\ \\textbf{8}, 709\n",
      "(2012).\n",
      "\\bibitem{HaK10}M. Z. Hasan and C. L. Kane, Rev.\\ Mod.\\ Phys.\\ \\textbf{82}, 3045\n",
      "(2010).\n",
      "\\bibitem{QiZ11}X.-L. Qi and S.-C. Zhang, Rev.\\ Mod.\\ Phys.\\ \\textbf{83}, 1057\n",
      "(2011).\n",
      "\\bibitem{RWZ09}Y. Ran, F. Wang, H. Zhai, A. Vishwanath, and D.-H. Lee, Phys.\\\n",
      "Rev.\\ B \\textbf{79}, 014505 (2009).\n",
      "\\bibitem{RQL08}S. Raghu, X.-L. Qi, C.-X. Liu, D. J. Scalapino, and S.-C. Zhang,\n",
      "Phys.\\ Rev.\\ B \\textbf{77}, 220503(R) (2008).\n",
      "\\bibitem{KOA08}K. Kuroki, S. Onari, R. Arita, H. Usui, Y. Tanaka, H. Kontani,\n",
      "and H. Aoki, Phys.\\ Rev.\\ Lett.\\ \\textbf{101}, 087004 (2008).\n",
      "\\bibitem{BDT11}P. M. R. Brydon, M. Daghofer, and C. Timm, J. Phys.: Condens.\\\n",
      "Matter \\textbf{23}, 246001 (2011).\n",
      "\\bibitem{SBT12}J. Schmiedt, P. M. R. Brydon, and C. Timm, Phys.\\ Rev.\\ B\n",
      "\\textbf{85}, 214425 (2012).\n",
      "\\bibitem{HaS09}N. Harrison and S. E. Sebastian, Phys.\\ Rev.\\ B \\textbf{80},\n",
      "224512 (2009); M. Sutherland, D. J. Hills, B. S. Tan, M. M. Altarawneh, N.\n",
      "Harrison, J. Gillett, E. C. T. O'Farrell, T. M. Benseman, I. Kokanovic, P.\n",
      "Syers, J. R. Cooper, and S. E. Sebastian, Phys.\\ Rev.\\ B \\textbf{84}, 180506(R)\n",
      "(2011).\n",
      "\\bibitem{PBC13}I. Pallecchi, F. Bernardini, F. Caglieris, A. Palenzona, S.\n",
      "Massidda, and M. Putti, Eur.\\ Phys.\\ J. B \\textbf{86}, 338 (2013).\n",
      "\\bibitem{RNS10}P. Richard, K. Nakayama, T. Sato, M. Neupane, Y.-M. Xu, J. H.\n",
      "Bowen, G. F. Chen, J. L. Luo, N. L. Wang, X. Dai, Z. Fang, H. Ding, and T.\n",
      "Takahashi, Phys.\\ Rev.\\ Lett.\\ \\textbf{104}, 137001 (2010).\n",
      "\\bibitem{HTT11}K. K. Huynh, Y. Tanabe, and K. Tanigaki, Phys.\\ Rev.\\ Lett.\\\n",
      "\\textbf{106}, 217004 (2011).\n",
      "\\bibitem{TKT11}T. Terashima, N. Kurita, M. Tomita, K. Kihou, C.-H. Lee, Y.\n",
      "Tomioka, T. Ito, A. Iyo, H. Eisaki, T. Liang, M. Nakajima, S. Ishida, S.\n",
      "Uchida, H. Harima, and S. Uji, Phys.\\ Rev.\\ Lett.\\ \\textbf{107}, 176402 (2011).\n",
      "\\bibitem{CGP09} A. H. Castro Neto, F. Guinea, N. M. R. Peres, K. S. Novoselov,\n",
      "and A. K. Geim, Rev.\\ Mod.\\ Phys.\\ \\textbf{81}, 109 (2009).\n",
      "\\bibitem{FWN96}M. Fujita, K. Wakabayashi, K. Nakada, and K. Kusakabe, J. Phys.\\\n",
      "Soc.\\ Jpn.\\ \\textbf{65}, 1920 (1996); K. Nakada, M. Fujita, G. Dresselhaus, and\n",
      "M. S. Dresselhaus, Phys.\\ Rev.\\ B \\textbf{54}, 17954 (1996).\n",
      "\\bibitem{CGP06}A. H. Castro Neto, F. Guinea, and N. M. R. Peres, Phys.\\ Rev.\\ B\n",
      "\\textbf{73}, 205408 (2006).\n",
      "\\bibitem{RyH02}S. Ryu and Y. Hatsugai, Phys.\\ Rev.\\ Lett.\\ \\textbf{89}, 077002\n",
      "(2002).\n",
      "\\bibitem{YaK10}B.-J. Yang and H.-Y. Kee, Phys.\\ Rev.\\ B \\textbf{82}, 195126\n",
      "(2010), in particular note Fig.~7.\n",
      "\\bibitem{Zir96}M. R. Zirnbauer, J. Math.\\ Phys.\\ \\textbf{37}, 4986 (1996);\n",
      "A. Altland and M. R. Zirnbauer, Phys.\\ Rev.\\ B \\textbf{55}, 1142 (1997).\n",
      "\\bibitem{SRF08}A. P. Schnyder, S. Ryu, A. Furusaki, and A. W. W. Ludwig, Phys.\\\n",
      "Rev.\\ B \\textbf{78}, 195125 (2008).\n",
      "\\bibitem{LYM09}D. H. Lu, M. Yi, S.-K. Mo, J. G. Analytis, J.-H. Chu,\n",
      "A. S. Erickson, D. J. Singh, Z. Hussain, T. H. Geballe, I. R. Fisher, and Z.-X.\n",
      "Shen, Physica C \\textbf{469}, 452 (2009).\n",
      "\\bibitem{ELK10}H. Eschrig, A. Lankau, and K. Koepernik, Phys.\\ Rev.\\ B\n",
      "\\textbf{81}, 155447 (2010).\n",
      "\\bibitem{LKB10}A. Lankau, K. Koepernik, S. Borisenko, V. Zabolotnyy,\n",
      "B. B\\\"uchner, J. van den Brink, and H. Eschrig, Phys.\\ Rev.\\ B \\textbf{82},\n",
      "184518 (2010).\n",
      "\\bibitem{YLM12}M. Yi, D. H. Lu, R. G. Moore, K. Kihou, C.-H. Lee, A.\n",
      "Iyo, H. Eisaki, T. Yoshida, A. Fujimori, and Z.-X. Shen, New J. Phys.\\\n",
      "\\textbf{14}, 073019 (2012).\n",
      "\\bibitem{KFE05}Y. Kobayashi, K.-i. Fukui, T. Enoki, K. Kusakabe, and\n",
      "Y. Kaburagi, Phys.\\ Rev.\\ B \\textbf{71}, 193406 (2005);\n",
      "Y. Kobayashi, K.-i. Fukui, T. Enoki, and K. Kusakabe, Phys.\\ Rev.\\ B\n",
      "\\textbf{73}, 125415 (2006).\n",
      "\\bibitem{Sei11}P. Seidel, Supercond.\\ Sci.\\ Technol.\\ \\textbf{24}, 043001\n",
      "(2011).\n",
      "\\bibitem{OnT09}S. Onari and Y. Tanaka, Phys.\\ Rev.\\ B \\textbf{79},\n",
      "174526 (2009).\n",
      "\\bibitem{ZKM13}F. Zhang, C. L. Kane, and E. J. Mele, Phys.\\ Rev.\\ Lett.\\\n",
      "\\textbf{111}, 056402 (2013).\n",
      "\\end{thebibliography}\n",
      "\n"
     ]
    }
   ],
   "source": [
    "latex_path = \"/mnt/NAS/patidarritesh/latex_files/1305.1770.tex\"\n",
    "\n",
    "with open(latex_path, \"rb\") as f:\n",
    "    gnd_truth_data = f.read()\n",
    "    try:\n",
    "        gnd_truth_data = gnd_truth_data.decode(\"utf-8\")  # Try decoding with UTF-8\n",
    "    except:\n",
    "        gnd_truth_data = gnd_truth_data.decode(\"latin-1\", errors=\"ignore\")  # Fallback to Latin-1, ignore errors\n",
    "print(\"gnd_truth_data: \", gnd_truth_data)"
   ]
  },
  {
   "cell_type": "code",
   "execution_count": 34,
   "metadata": {},
   "outputs": [],
   "source": [
    "from tokenizers import Tokenizer\n",
    "from pathlib import Path\n",
    "from tokenizers import Tokenizer\n",
    "import orjson\n",
    "import os\n",
    "\n",
    "def tokenize_latex_file(file_path, tokenizer_path):\n",
    "    # Check if the file exists\n",
    "    if not os.path.exists(file_path):\n",
    "        print(f\"File does not exist: {file_path}\")\n",
    "        return\n",
    "\n",
    "    # Read the LaTeX file\n",
    "    try:\n",
    "        with open(file_path, 'r', encoding='utf-8') as latex_file:\n",
    "            latex_content = latex_file.read()\n",
    "    except UnicodeDecodeError:\n",
    "        with open(file_path, 'r', encoding='latin-1') as latex_file:\n",
    "            latex_content = latex_file.read()\n",
    "\n",
    "    # Initialize the tokenizer\n",
    "    tokenizer = Tokenizer.from_file(tokenizer_path)\n",
    "\n",
    "    # Tokenize the LaTeX content\n",
    "    tokens = tokenizer.encode(latex_content).ids\n",
    "    print(tokens)\n",
    "    return tokens\n",
    "    # # Print the tokens\n",
    "    # for token in tokens:\n",
    "    #     print(token)"
   ]
  },
  {
   "cell_type": "code",
   "execution_count": 35,
   "metadata": {},
   "outputs": [],
   "source": [
    "def decode_tokens(tokens, tokenizer_path):\n",
    "    # Initialize the tokenizer\n",
    "    tokenizer = Tokenizer.from_file(tokenizer_path)\n",
    "\n",
    "    # Decode the tokens\n",
    "    decoded_text = tokenizer.decode(tokens)\n",
    "\n",
    "    return decoded_text\n",
    "\n"
   ]
  },
  {
   "cell_type": "markdown",
   "metadata": {},
   "source": [
    "Siddhesh tokenizer 30k"
   ]
  },
  {
   "cell_type": "code",
   "execution_count": 36,
   "metadata": {},
   "outputs": [
    {
     "name": "stdout",
     "output_type": "stream",
     "text": [
      "[93, 4362, 1838, 93, 4354, 124, 4313, 2630, 2897, 126, 93, 1649, 124, 12032, 2687, 2175, 1008, 20195, 1027, 15149, 11425, 7762, 1050, 22221, 126, 93, 1166, 124, 7685, 5882, 126, 93, 3635, 124, 4650, 1025, 7414, 2727, 45, 3706, 10994, 1860, 7244, 2544, 1038, 20278, 1312, 45, 4678, 3392, 20278, 1312, 45, 7892, 126, 93, 1166, 124, 2650, 9535, 5060, 1363, 126, 93, 6159, 124, 2635, 9535, 47, 1011, 1363, 65, 2949, 46, 101, 1154, 1312, 47, 1031, 126, 93, 3635, 124, 4650, 1025, 7414, 2727, 45, 3706, 10994, 1860, 7244, 2544, 1038, 20278, 1312, 45, 4678, 3392, 20278, 1312, 45, 7892, 126, 93, 3083, 1022, 8901, 126, 93, 1116, 124, 3041, 126, 1111, 6322, 2092, 1025, 11425, 7762, 1050, 22221, 1023, 14394, 8231, 45, 4167, 1039, 1015, 8888, 1025, 5942, 13377, 1008, 1015, 2626, 2092, 1054, 1015, 15149, 2032, 47, 19687, 1144, 1015, 11701, 1120, 5942, 13377, 1008, 8991, 45, 1079, 7074, 1015, 2562, 3886, 1025, 14394, 15942, 2687, 2175, 47, 29500, 1072, 45, 5994, 1025, 2687, 2175, 2778, 2510, 1008, 1015, 20195, 1744, 47, 66, 6964, 5757, 46, 5441, 1314, 11053, 1406, 1464, 5994, 47, 1156, 1015, 15149, 2032, 45, 1671, 2687, 5994, 22176, 1842, 2477, 47, 1249, 1672, 1015, 5056, 1027, 2687, 5424, 1233, 2804, 19685, 1025, 1406, 46, 1027, 5757, 46, 5441, 1890, 1008, 98, 11551, 4117, 1027, 4402, 1015, 1712, 1858, 1009, 5165, 47, 93, 1080, 124, 3041, 126, 93, 14197, 124, 3400, 47, 3177, 47, 89, 98, 45, 3239, 47, 1044, 47, 3007, 45, 1536, 47, 2162, 47, 87, 103, 45, 1865, 47, 2153, 47, 71, 119, 126, 93, 4730, 93, 1310, 124, 4122, 126, 5630, 1025, 1015, 1976, 4114, 8678, 1008, 15259, 3203, 3434, 15968, 1015, 11425, 7762, 1050, 22221, 93, 1137, 124, 12837, 1123, 45, 69, 5753, 1278, 126, 1027, 4179, 2508, 1025, 3203, 1466, 1137, 124, 3377, 76, 1123, 45, 6969, 91, 1303, 126, 1111, 11425, 7762, 1050, 22221, 1122, 1025, 4902, 2221, 2330, 1356, 1559, 2626, 12833, 1120, 1680, 3134, 5974, 16655, 1120, 1046, 4279, 1255, 2042, 28477, 47, 13112, 1008, 15259, 3203, 1442, 8127, 98, 3067, 1025, 4436, 1008, 2136, 2604, 8231, 5165, 1226, 10723, 2687, 1018, 2272, 2175, 47, 1440, 2205, 1023, 12876, 1120, 1015, 4179, 2508, 1027, 2687, 2175, 1025, 11425, 7762, 1050, 22221, 47, 1156, 11425, 7762, 1050, 22221, 45, 3480, 11425, 37, 5934, 37, 11666, 7619, 4558, 1039, 1015, 6322, 2175, 3255, 1039, 1015, 4687, 1750, 47, 7266, 93, 1912, 124, 1119, 1014, 1732, 1137, 124, 11146, 91, 1706, 126, 1315, 8674, 1095, 1231, 1559, 5441, 2473, 1226, 3000, 1039, 8231, 4179, 2508, 47, 4767, 2485, 2626, 24111, 1854, 1038, 1015, 1567, 49, 45, 49, 1121, 1027, 2374, 1299, 1174, 1299, 1121, 2350, 1008, 1015, 19453, 9204, 41, 11535, 1296, 1271, 1122, 2824, 1120, 15901, 3855, 1008, 5441, 1425, 47, 1676, 98, 5015, 45, 1015, 1734, 1025, 98, 2156, 46, 2122, 2595, 41, 4574, 88, 42, 1120, 7371, 2244, 1043, 1527, 124, 82, 12713, 1299, 45, 49, 1121, 3676, 2910, 98, 3047, 3694, 1842, 4154, 9407, 1012, 2510, 1597, 1025, 5942, 2350, 1466, 1137, 124, 11146, 91, 1706, 126, 1440, 2968, 1966, 1054, 98, 1406, 46, 5441, 1314, 3808, 1582, 1015, 1976, 3056, 37, 52, 1934, 124, 19981, 1082, 1027, 37, 52, 1934, 124, 91, 89, 1082, 11666, 93, 1137, 124, 18993, 77, 1702, 126, 1027, 1054, 98, 1314, 3808, 1206, 5757, 37, 5934, 37, 11666, 1466, 1137, 124, 17780, 66, 1702, 126, 4458, 1015, 1406, 46, 5441, 1314, 2448, 1313, 3433, 98, 6964, 4048, 45, 1046, 3939, 98, 9969, 4571, 1025, 1015, 4179, 2508, 47, 2095, 1015, 1611, 2452, 45, 1015, 5757, 46, 5441, 1314, 93, 1137, 124, 17780, 66, 1702, 126, 3088, 98, 3633, 4042, 1025, 1015, 1208, 46, 1750, 2626, 2092, 1025, 1015, 4610, 4983, 15578, 1043, 1614, 124, 3046, 3112, 1676, 80, 1082, 1027, 1525, 3849, 1039, 7315, 5170, 1054, 1015, 2387, 1561, 5033, 1466, 13259, 1466, 1137, 124, 7701, 85, 1303, 45, 84, 7157, 1278, 126, 18133, 1054, 1015, 5942, 2350, 1442, 1954, 2220, 1233, 2113, 46, 9244, 3566, 1174, 1137, 124, 3377, 84, 1706, 126, 8194, 5195, 93, 1137, 124, 81, 3557, 1364, 126, 1027, 1336, 46, 7147, 3878, 3295, 41, 26694, 9565, 1137, 124, 83, 4219, 1123, 45, 73, 6270, 1303, 126, 2258, 45, 12895, 1399, 5703, 1023, 3437, 1008, 93, 10194, 124, 85, 17535, 1303, 1150, 5942, 2350, 1008, 1015, 2626, 2092, 1315, 20377, 98, 3067, 1025, 4436, 1008, 1015, 3736, 1025, 8991, 1466, 1137, 124, 68, 4935, 1706, 126, 2077, 45, 5942, 2350, 16413, 2368, 1039, 1015, 1406, 46, 20117, 2092, 1025, 1015, 24981, 3185, 47, 4767, 1122, 18361, 1144, 4672, 1439, 2272, 2175, 1038, 1200, 46, 2983, 18387, 4013, 1174, 1137, 124, 7394, 79, 2437, 45, 7669, 73, 1556, 45, 68, 4935, 1653, 45, 68, 4935, 1706, 126, 1271, 2899, 1008, 1015, 6450, 2272, 11535, 1633, 1015, 10003, 1025, 1015, 5942, 2350, 47, 5229, 1412, 1955, 1025, 1015, 1816, 22948, 1025, 1015, 5942, 2350, 45, 1324, 1981, 6605, 4208, 2330, 1315, 2204, 10778, 1008, 7762, 1050, 22221, 1027, 1008, 8991, 47, 7017, 45, 1207, 2687, 2175, 1525, 2778, 1008, 1015, 4574, 88, 2032, 1025, 1015, 11425, 7762, 1050, 22221, 64, 3356, 1027, 76, 1739, 93, 1137, 124, 5252, 76, 1123, 126, 1315, 5453, 2596, 2687, 5994, 1054, 98, 1406, 46, 5441, 1314, 1120, 7764, 2799, 47, 2258, 45, 1015, 3999, 5718, 5441, 45, 4574, 88, 45, 1027, 3716, 46, 2122, 46, 2595, 1561, 1023, 1313, 8674, 1008, 11425, 7762, 1050, 22221, 1027, 6241, 16931, 98, 3047, 3694, 3025, 5942, 2350, 47, 1249, 1623, 1356, 1095, 4672, 1439, 5994, 1025, 2687, 2175, 2778, 2510, 1008, 1015, 93, 1270, 124, 20195, 126, 2032, 1025, 1015, 11425, 7762, 1050, 22221, 45, 2368, 1039, 1423, 4179, 2473, 47, 1156, 1015, 4574, 88, 2032, 45, 1015, 2687, 5994, 2477, 47, 1440, 1023, 2596, 1054, 1966, 1406, 46, 5441, 1027, 5757, 46, 5441, 1890, 1842, 1015, 4283, 3151, 1406, 2687, 5994, 45, 5371, 1015, 6202, 1442, 1582, 1324, 47, 1249, 1623, 5720, 1015, 4179, 2833, 1025, 1015, 2687, 2175, 47, 93, 1310, 124, 7232, 1027, 2096, 126, 1249, 1433, 7393, 1466, 93, 10194, 124, 17780, 66, 1702, 45, 11146, 91, 1706, 126, 1008, 8220, 37, 5934, 37, 11666, 1120, 2852, 1039, 1015, 37, 89, 37, 1027, 37, 90, 37, 11374, 1025, 1015, 10750, 28211, 3185, 45, 1271, 1122, 17885, 1144, 37, 1794, 1390, 1905, 37, 2918, 1039, 1015, 37, 121, 37, 1027, 37, 122, 37, 11374, 1025, 1015, 3192, 11425, 3185, 47, 1111, 1406, 46, 5441, 1314, 93, 1137, 124, 18993, 77, 1702, 45, 11146, 91, 1706, 126, 29571, 1582, 1671, 1406, 11666, 1008, 98, 2401, 46, 11425, 2874, 2695, 47, 1111, 3617, 1023, 37, 73, 62, 6360, 44, 2370, 74, 1183, 1316, 1015, 1352, 46, 6581, 2136, 1054, 1015, 4266, 1519, 6333, 37, 6360, 62, 93, 1471, 1022, 1527, 124, 108, 1053, 1359, 126, 93, 1471, 124, 98, 45, 99, 62, 50, 1321, 51, 101, 1390, 13221, 1022, 1527, 124, 108, 126, 98, 93, 1359, 126, 93, 1286, 124, 73, 126, 96, 124, 1141, 1489, 1527, 124, 108, 1142, 1934, 1022, 1527, 124, 108, 126, 99, 93, 1359, 1535, 2882, 45, 1043, 1286, 124, 73, 1489, 1527, 124, 108, 2233, 1023, 98, 37, 51, 93, 21672, 37, 1691, 1008, 5441, 1425, 45, 93, 1116, 124, 1745, 126, 93, 19162, 124, 93, 1286, 124, 73, 1489, 1527, 124, 108, 1142, 62, 51, 4468, 1317, 1068, 2343, 12558, 46, 93, 2343, 13332, 3164, 93, 1426, 95, 50, 126, 93, 2055, 1148, 2342, 1838, 46, 51, 41, 6013, 46, 6013, 40, 7154, 2512, 12558, 93, 2512, 13332, 1317, 93, 1426, 95, 52, 93, 2055, 1148, 2342, 1838, 44, 92, 51, 41, 6013, 44, 6013, 40, 7154, 2343, 12558, 93, 2343, 13332, 44, 51, 4468, 40, 19299, 2343, 12558, 44, 93, 2343, 13332, 2543, 1317, 93, 1426, 95, 49, 1174, 1513, 93, 1167, 124, 2929, 5441, 9257, 21354, 126, 93, 1080, 124, 1745, 126, 1316, 1043, 1426, 95, 50, 1183, 1043, 1426, 95, 51, 1183, 1043, 1426, 95, 52, 37, 1122, 10730, 3597, 45, 1043, 1426, 95, 49, 37, 1023, 1015, 2874, 1691, 45, 1027, 1015, 5441, 3153, 37, 50, 37, 3770, 1039, 37, 52, 1934, 124, 91, 89, 1082, 1027, 37, 51, 37, 1039, 37, 52, 1934, 124, 19981, 1535, 1249, 7846, 1015, 12852, 2146, 93, 1137, 124, 11146, 91, 1706, 126, 37, 4468, 62, 49, 47, 2153, 2435, 1614, 124, 6204, 1449, 37, 4468, 7411, 49, 47, 1653, 2435, 1614, 124, 6204, 1449, 37, 6013, 62, 49, 47, 3081, 2435, 1614, 124, 6204, 1449, 1027, 37, 6013, 7411, 49, 47, 1706, 2435, 1614, 124, 6204, 1535, 1430, 1015, 3884, 1079, 3279, 93, 1137, 124, 11146, 91, 1706, 126, 93, 1116, 124, 1745, 126, 2370, 74, 39, 62, 39, 93, 1135, 124, 86, 1065, 51, 126, 93, 1471, 1022, 1527, 124, 106, 1108, 1068, 1373, 2299, 1022, 1527, 124, 106, 126, 50, 1321, 51, 44, 93, 1373, 2299, 1022, 1527, 124, 106, 126, 51, 1321, 51, 42, 44, 41, 86, 46, 23477, 1211, 1471, 1022, 1527, 124, 106, 1108, 2299, 1022, 1527, 124, 106, 126, 50, 126, 2299, 1022, 1527, 124, 106, 126, 51, 126, 93, 2055, 1148, 2342, 1838, 44, 75, 93, 1471, 1022, 1527, 124, 106, 1108, 93, 1471, 1022, 1359, 93, 1359, 3522, 1934, 1022, 1527, 124, 106, 126, 50, 93, 1359, 1767, 3012, 126, 1934, 1022, 1527, 124, 106, 126, 51, 93, 1359, 23097, 3012, 126, 1934, 1022, 1527, 124, 106, 126, 50, 93, 1359, 3522, 1934, 1022, 1527, 124, 106, 126, 51, 93, 1359, 126, 93, 2055, 1148, 2342, 1838, 44, 75, 93, 1471, 1022, 1527, 124, 106, 1108, 41, 1934, 1022, 1527, 124, 106, 126, 50, 93, 5931, 1767, 3012, 126, 1934, 1022, 1527, 124, 106, 126, 50, 93, 5658, 1767, 3012, 126, 1934, 1022, 1527, 124, 106, 126, 51, 93, 5658, 126, 1934, 1022, 1527, 124, 106, 126, 51, 93, 5931, 126, 44, 93, 1614, 124, 73, 47, 100, 47, 1142, 45, 93, 1167, 124, 2929, 5441, 96, 6582, 126, 93, 1080, 124, 1745, 126, 1316, 1043, 1373, 2299, 1022, 1527, 124, 106, 126, 98, 126, 93, 1886, 93, 1471, 93, 1359, 1934, 1022, 1527, 124, 106, 126, 98, 93, 1359, 1767, 3012, 126, 1934, 1022, 1527, 124, 106, 126, 98, 93, 1359, 1449, 1027, 1015, 3161, 2146, 1122, 4149, 1061, 37, 86, 62, 50, 47, 1044, 2435, 1614, 124, 6204, 1082, 1027, 37, 75, 62, 49, 47, 1278, 2435, 1614, 124, 6204, 1535, 9227, 98, 4574, 88, 1120, 7371, 2244, 1043, 1527, 124, 82, 12713, 1299, 45, 49, 1121, 1027, 8049, 11955, 3068, 1015, 37, 24570, 37, 2981, 45, 98, 2515, 46, 1307, 13906, 1120, 1043, 1910, 1934, 1022, 1527, 124, 106, 126, 98, 93, 1359, 1767, 3012, 126, 1934, 1022, 1527, 124, 106, 126, 99, 93, 1359, 1053, 1726, 62, 2299, 124, 1141, 126, 44, 2132, 50, 2235, 3117, 121, 2480, 93, 1135, 1022, 1359, 1065, 51, 2480, 1295, 124, 1141, 1082, 3088, 1015, 2515, 46, 1307, 3617, 93, 1116, 124, 1179, 126, 2370, 1022, 1614, 124, 7102, 1108, 62, 6360, 44, 93, 1471, 1022, 1527, 124, 106, 126, 1141, 126, 2132, 50, 2235, 3117, 121, 126, 1948, 124, 1141, 126, 93, 1429, 41, 1934, 1022, 1527, 124, 106, 126, 98, 93, 5931, 1767, 3012, 126, 1934, 1022, 1527, 124, 106, 126, 99, 93, 5931, 126, 46, 1934, 1022, 1527, 124, 106, 126, 98, 93, 5658, 1767, 3012, 126, 1934, 1022, 1527, 124, 106, 126, 99, 93, 5658, 1053, 1429, 42, 45, 93, 1167, 124, 2929, 5441, 9257, 7102, 126, 93, 1080, 124, 1179, 126, 1120, 37, 1948, 124, 1303, 126, 62, 5172, 86, 1295, 124, 1303, 2171, 75, 1295, 124, 1476, 13705, 51, 1183, 37, 1948, 124, 1476, 126, 62, 5172, 86, 1295, 124, 1476, 2171, 75, 1295, 124, 1303, 13705, 51, 1183, 37, 1948, 124, 1278, 126, 62, 1948, 124, 1534, 126, 62, 46, 75, 1295, 124, 1534, 1535, 1111, 18241, 7947, 37, 2299, 124, 1141, 1082, 1315, 1954, 12694, 1878, 37, 6360, 1186, 1111, 2146, 37, 1295, 124, 1141, 1082, 1122, 3929, 2725, 46, 11034, 45, 5512, 4185, 9917, 47, 12661, 2175, 1623, 1032, 3980, 1054, 98, 11551, 1025, 1968, 37, 88, 37, 1120, 41, 1123, 42, 4013, 47, 2212, 1015, 11551, 1023, 4266, 3068, 1015, 37, 122, 37, 2981, 45, 37, 13332, 37, 1023, 98, 3633, 2113, 1597, 1027, 1079, 8179, 1401, 98, 4810, 4192, 1008, 1015, 37, 122, 37, 3258, 45, 37, 1934, 1022, 1527, 124, 106, 126, 98, 93, 1359, 126, 62, 2180, 122, 1345, 50, 48, 51, 126, 93, 1471, 124, 13332, 126, 102, 1073, 106, 13332, 3117, 122, 126, 1934, 124, 3117, 121, 2181, 3446, 93, 1359, 1535, 1111, 2515, 46, 1307, 3617, 1541, 4750, 1025, 6455, 1025, 4339, 37, 51, 88, 93, 1323, 51, 88, 37, 1054, 2718, 37, 13332, 1183, 1043, 1359, 1186, 2786, 6455, 1122, 28270, 7122, 45, 7618, 1015, 1750, 5994, 1025, 1015, 11551, 1519, 47, 1249, 2677, 2713, 1095, 1015, 4574, 88, 1008, 1015, 11551, 1023, 3072, 1144, 1015, 1824, 1561, 2146, 37, 1295, 124, 1141, 1082, 1061, 1054, 1015, 4266, 1519, 47, 1111, 5757, 46, 5441, 1314, 93, 1137, 124, 17780, 66, 1702, 126, 6121, 1206, 12852, 6026, 3129, 1667, 37, 1123, 2435, 1614, 124, 11635, 1082, 1218, 1039, 16702, 9552, 47, 1111, 12852, 6026, 1027, 1009, 4302, 4601, 1122, 2220, 1233, 2122, 46, 4409, 4180, 1027, 1122, 21363, 3660, 1008, 3289, 1466, 93, 10194, 124, 17780, 66, 1702, 1150, 1111, 3161, 37, 2370, 74, 37, 1023, 6444, 1039, 1015, 1406, 46, 5441, 1314, 45, 5727, 1095, 1015, 1340, 5441, 2158, 1008, 1969, 1466, 1068, 1084, 124, 2929, 5441, 96, 6582, 1142, 1587, 4946, 8358, 1302, 1206, 4217, 1025, 11666, 37, 98, 1183, 37, 99, 1183, 1120, 37, 98, 61, 99, 1183, 1316, 37, 98, 45, 99, 62, 50, 1174, 1924, 45, 54, 37, 4956, 1039, 37, 52, 1934, 124, 52, 91, 95, 51, 46, 83, 95, 51, 1449, 37, 52, 1934, 124, 91, 89, 1449, 37, 52, 1934, 124, 19981, 1449, 37, 52, 1934, 124, 89, 95, 51, 46, 90, 95, 51, 1449, 37, 52, 1934, 124, 11123, 1535, 1111, 3161, 2146, 1122, 4149, 1039, 1032, 37, 86, 62, 50, 47, 49, 2435, 1614, 124, 6204, 1082, 1027, 37, 75, 62, 49, 47, 51, 2435, 1614, 124, 6204, 27316, 1137, 124, 11146, 91, 1706, 126, 8615, 98, 2515, 46, 1307, 13906, 1061, 2039, 45, 1079, 1672, 1015, 2515, 46, 1307, 3617, 1068, 1084, 124, 2929, 5441, 9257, 7102, 2003, 1316, 1587, 1015, 5441, 5761, 1341, 2540, 37, 98, 45, 99, 62, 50, 1174, 1924, 45, 54, 1183, 1027, 37, 1948, 124, 3349, 1743, 5172, 86, 1295, 124, 3349, 2171, 75, 93, 1471, 124, 99, 93, 2664, 98, 126, 1295, 124, 1387, 13705, 51, 37, 1027, 37, 1948, 124, 1141, 1743, 1948, 124, 1454, 126, 62, 46, 75, 1295, 124, 1141, 1082, 1054, 37, 98, 93, 2664, 99, 1186, 1111, 2515, 46, 1307, 2146, 37, 1295, 124, 1141, 1082, 1122, 3500, 2725, 46, 11034, 45, 5512, 37, 55, 37, 5397, 1115, 11425, 45, 2276, 1039, 2161, 13259, 47, 1430, 1015, 41, 1123, 42, 11551, 45, 1079, 6758, 18148, 1039, 1015, 1406, 46, 5441, 1428, 47, 2234, 3298, 1025, 98, 4810, 4192, 1008, 1015, 37, 122, 37, 3258, 45, 1015, 2034, 1023, 3897, 1039, 1015, 19685, 1025, 37, 54, 88, 93, 1323, 54, 88, 37, 3617, 3597, 1054, 2718, 37, 13332, 1183, 1043, 1359, 1186, 93, 1116, 124, 1505, 1565, 105, 94, 93, 2038, 1964, 2167, 126, 93, 1167, 124, 1244, 59, 1167, 126, 93, 1080, 124, 1505, 126, 93, 1310, 124, 5564, 1027, 4571, 126, 3578, 45, 1079, 1717, 1015, 1406, 46, 5441, 1314, 3025, 4574, 88, 1561, 45, 106, 47, 102, 1171, 1120, 37, 1295, 124, 1141, 1743, 49, 1183, 1008, 98, 41, 1123, 42, 11551, 4117, 47, 1156, 1552, 1823, 1084, 124, 1244, 59, 2929, 5441, 96, 4601, 21708, 2387, 1037, 1079, 2685, 1015, 1750, 5994, 1025, 1015, 41, 1123, 42, 11551, 1025, 1968, 37, 88, 62, 2514, 37, 1039, 1015, 5994, 1025, 1015, 4266, 1519, 8516, 5123, 1015, 41, 1123, 42, 2272, 11535, 47, 3502, 4601, 1122, 29870, 2156, 5886, 47, 1249, 1650, 1095, 1015, 9620, 1025, 1015, 5994, 1025, 1015, 11551, 5135, 2812, 1015, 8516, 5497, 1025, 5056, 5994, 47, 2258, 45, 1530, 1023, 1012, 3626, 2626, 1095, 2448, 1313, 8938, 1120, 1015, 5056, 5497, 47, 1249, 1315, 2596, 1095, 1015, 2276, 2175, 1122, 7438, 1038, 1015, 4013, 1025, 1015, 11551, 47, 66, 9268, 4643, 11174, 1095, 1231, 2626, 45, 20408, 2156, 9320, 45, 6241, 19135, 1406, 5994, 45, 1271, 1122, 1582, 5779, 5886, 47, 1430, 1795, 11000, 37, 88, 1183, 1015, 1406, 2175, 1038, 1638, 37, 13332, 37, 4956, 1039, 23438, 1027, 2042, 23438, 8144, 1025, 2175, 7438, 1038, 1015, 1406, 4013, 47, 2417, 45, 1530, 1023, 98, 1795, 6147, 45, 22149, 1008, 1552, 1823, 1084, 124, 1244, 59, 2929, 5441, 96, 4601, 21708, 2387, 1037, 1271, 6193, 8336, 1120, 3847, 37, 88, 1186, 93, 1116, 124, 1505, 1565, 105, 94, 93, 2038, 1964, 2167, 126, 93, 1167, 124, 1244, 59, 1167, 126, 93, 1080, 124, 1505, 126, 1111, 2833, 1025, 1015, 2272, 2175, 1226, 1032, 7382, 1233, 98, 4179, 4464, 47, 1249, 3852, 1233, 1015, 1352, 6581, 1714, 46, 12023, 3617, 1043, 1286, 124, 73, 1489, 1527, 124, 108, 2233, 1025, 1969, 1466, 1068, 1084, 124, 2929, 5441, 9257, 21354, 1762, 1249, 1717, 1324, 2156, 6300, 7683, 1027, 16487, 1015, 2156, 3153, 47, 1430, 1015, 11551, 45, 37, 13332, 37, 1023, 98, 2277, 1025, 3335, 47, 1430, 1591, 2718, 1895, 1025, 37, 13332, 1183, 1079, 1672, 1012, 3084, 6450, 1314, 47, 1430, 1012, 4266, 1519, 45, 1015, 11535, 1025, 1231, 6450, 1314, 1023, 1015, 2199, 1120, 37, 13332, 1263, 1614, 124, 2029, 1082, 1025, 1015, 4429, 11535, 47, 1942, 1015, 6450, 11535, 2448, 1313, 2867, 1642, 4687, 2687, 45, 1015, 6450, 1314, 1023, 18980, 1008, 1015, 5056, 47, 3321, 1464, 6450, 11535, 1023, 2123, 1144, 1015, 2847, 1581, 1008, 1552, 1466, 93, 1084, 124, 1244, 59, 15901, 1209, 2626, 1150, 1043, 1286, 124, 73, 1489, 1527, 124, 108, 2233, 1226, 1032, 3844, 1061, 93, 1137, 124, 11146, 91, 1706, 126, 93, 1116, 124, 1179, 126, 93, 1286, 124, 73, 1489, 1527, 124, 108, 1142, 62, 98, 1068, 1527, 124, 108, 11603, 93, 1426, 95, 49, 44, 99, 1068, 1527, 124, 108, 11603, 1068, 2512, 93, 2894, 93, 1527, 124, 108, 2480, 93, 1426, 95, 50, 44, 93, 2343, 93, 2894, 93, 1527, 124, 108, 2480, 93, 1426, 95, 52, 42, 45, 93, 1167, 124, 52, 47, 73, 108, 47, 51, 126, 93, 1080, 124, 1179, 126, 1120, 37, 99, 1068, 1527, 124, 108, 2495, 1090, 49, 1186, 1111, 2244, 1307, 2374, 2343, 93, 2894, 93, 1527, 124, 108, 1037, 93, 2512, 93, 2894, 93, 1527, 124, 108, 2233, 1023, 8094, 1008, 1552, 1466, 93, 1084, 124, 1244, 59, 15901, 1209, 2626, 1150, 1802, 9466, 11867, 1120, 3887, 1011, 6074, 1043, 1557, 51, 37, 1038, 1015, 2626, 46, 8601, 7224, 2350, 1043, 1527, 124, 108, 7710, 49, 45, 49, 1121, 1027, 2374, 1299, 1174, 1299, 1610, 3985, 45, 98, 15901, 1597, 1025, 9861, 50, 37, 29475, 50, 2358, 1023, 98, 3403, 1764, 1811, 5855, 1233, 37, 12558, 5961, 1299, 37, 1039, 37, 12558, 62, 1337, 1299, 37, 3068, 98, 1219, 1120, 2277, 37, 13332, 63, 49, 37, 2442, 13332, 61, 49, 3825, 1111, 3084, 6450, 1519, 2700, 1442, 98, 8231, 4179, 2092, 1008, 5441, 1425, 1466, 1137, 124, 11146, 91, 1706, 126, 1111, 8888, 1025, 2272, 2175, 1023, 3565, 7382, 1144, 1031, 6181, 1015, 3617, 1025, 1015, 3084, 6450, 1519, 1878, 1324, 1120, 98, 14394, 15942, 15901, 1597, 47, 1430, 2718, 37, 13332, 63, 49, 37, 2442, 13332, 61, 49, 37, 1023, 6444, 1296, 1079, 29231, 1015, 3617, 1878, 1043, 1402, 93, 1286, 124, 73, 1176, 12558, 42, 62, 93, 2343, 12558, 1317, 93, 1426, 95, 50, 46, 93, 2512, 12558, 1317, 93, 1426, 95, 52, 1186, 1440, 6627, 2448, 1313, 2759, 1015, 5165, 1025, 1015, 5994, 1027, 45, 1008, 2298, 45, 9407, 1015, 1750, 3694, 2910, 47, 1043, 1402, 93, 1286, 124, 73, 1176, 12558, 1121, 1023, 2874, 4383, 3320, 1039, 93, 1116, 124, 1179, 126, 93, 1373, 93, 1286, 124, 73, 1176, 12558, 42, 93, 1886, 102, 1345, 106, 93, 1135, 1022, 1299, 1065, 53, 126, 93, 1426, 95, 50, 126, 93, 1402, 93, 1286, 124, 73, 1176, 12558, 3164, 102, 1073, 106, 93, 1135, 1022, 1299, 1065, 53, 126, 93, 1426, 95, 50, 126, 62, 93, 1194, 1068, 1116, 124, 1458, 1065, 1839, 126, 49, 39, 102, 1345, 106, 12558, 126, 1148, 102, 1073, 106, 12558, 126, 39, 49, 93, 1080, 124, 1458, 1053, 1162, 42, 47, 93, 1167, 124, 52, 47, 73, 4003, 47, 51, 126, 93, 1080, 124, 1179, 126, 1156, 1015, 5056, 45, 1231, 1146, 3617, 1442, 1015, 5022, 1043, 1557, 50, 37, 1054, 2344, 37, 12558, 1183, 106, 47, 102, 1171, 1046, 1442, 4003, 5994, 47, 3985, 45, 1043, 1373, 93, 1286, 124, 73, 1176, 12558, 1121, 1023, 1214, 46, 11787, 2996, 47, 1111, 2042, 5773, 1214, 46, 11787, 2355, 37, 85, 37, 1226, 1032, 3844, 1061, 37, 85, 62, 76, 3032, 85, 1183, 1316, 37, 76, 37, 1023, 1015, 2265, 13358, 1008, 1193, 3128, 1027, 37, 3032, 85, 37, 1023, 5773, 1027, 3001, 3091, 37, 3032, 85, 93, 1373, 93, 1286, 124, 73, 4310, 2132, 12558, 42, 3032, 85, 1390, 3012, 62, 93, 1373, 93, 1286, 124, 73, 1176, 12558, 1692, 1271, 1023, 15839, 1054, 37, 3032, 85, 1263, 1426, 95, 49, 1186, 2497, 1095, 37, 85, 37, 7866, 1039, 37, 85, 95, 51, 62, 93, 1426, 95, 49, 1186, 1043, 1373, 93, 1286, 124, 73, 1176, 12558, 1121, 1023, 1525, 3716, 46, 13358, 2996, 47, 1111, 2042, 5773, 3716, 46, 13358, 2355, 37, 68, 37, 1226, 1032, 3844, 1061, 37, 68, 62, 76, 3032, 68, 1183, 1316, 37, 3032, 68, 37, 1023, 5773, 1027, 3001, 3091, 37, 3032, 68, 93, 1373, 93, 1286, 124, 73, 4310, 2132, 12558, 42, 3032, 68, 1390, 3012, 62, 46, 93, 1373, 93, 1286, 124, 73, 1176, 12558, 1692, 1271, 1023, 15839, 1054, 37, 3032, 68, 1263, 1426, 95, 52, 1186, 1249, 2485, 37, 68, 95, 51, 62, 76, 93, 1426, 95, 52, 76, 93, 1426, 95, 52, 62, 93, 1426, 95, 49, 1186, 2786, 2799, 2508, 6353, 1095, 1015, 10881, 6450, 1314, 7506, 1039, 1015, 14412, 3205, 46, 91, 1284, 14104, 6060, 2679, 7701, 74, 1466, 1137, 124, 91, 1284, 2437, 126, 1440, 2679, 3939, 98, 1043, 1526, 124, 91, 1082, 4179, 3097, 1008, 6450, 1466, 1137, 124, 5396, 71, 1702, 126, 1430, 1015, 11551, 45, 1015, 3084, 6450, 1314, 1023, 98, 1795, 3915, 1025, 2639, 37, 88, 1186, 1111, 1043, 1526, 124, 91, 1082, 4179, 3097, 3298, 1095, 2175, 7438, 1038, 1015, 3707, 1226, 2778, 45, 1842, 2448, 1313, 8921, 1095, 1043, 1373, 93, 1286, 124, 73, 1176, 12558, 1121, 1442, 1642, 47, 2258, 45, 1231, 1023, 4401, 3379, 1144, 18527, 1043, 1373, 93, 1286, 124, 73, 1176, 12558, 1121, 1878, 2064, 1425, 45, 1271, 3088, 1043, 1373, 73, 62, 93, 1471, 124, 107, 62, 50, 1301, 88, 46, 50, 126, 41, 1934, 124, 107, 44, 50, 1174, 5931, 2605, 3012, 1934, 124, 107, 1174, 5658, 126, 44, 1934, 124, 107, 1174, 5658, 2605, 3012, 1934, 124, 107, 44, 50, 1174, 5931, 126, 1692, 1316, 2060, 5931, 1449, 2060, 5658, 1082, 1587, 2491, 1039, 1015, 93, 1270, 124, 5441, 126, 4528, 2156, 47, 1111, 2060, 5931, 1082, 22956, 5658, 4570, 1744, 1038, 37, 107, 62, 50, 37, 2442, 107, 62, 88, 2358, 1023, 1313, 4617, 1039, 1642, 1611, 1744, 47, 2417, 1530, 1122, 1406, 2161, 46, 1750, 2175, 7438, 1038, 1015, 3707, 47, 2786, 6320, 1226, 1032, 4186, 1054, 1642, 37, 13332, 37, 1054, 1271, 1015, 6450, 11535, 2448, 1313, 7759, 98, 4687, 2687, 47, 7957, 2448, 1231, 8108, 1149, 2730, 1015, 3952, 3617, 1043, 1286, 124, 73, 1489, 1527, 124, 108, 2233, 1120, 2718, 37, 13332, 21047, 5809, 3617, 1442, 10056, 37, 85, 37, 1746, 37, 68, 37, 2799, 1027, 1023, 2700, 1008, 2679, 66, 45, 1271, 1023, 14394, 3954, 1008, 6450, 47, 3031, 1787, 1023, 1095, 1015, 3952, 3617, 1226, 1032, 2220, 1233, 1043, 1373, 93, 1286, 124, 73, 1176, 12558, 1121, 1144, 98, 2958, 6627, 3025, 18031, 1015, 3694, 47, 10093, 1015, 6627, 45, 1015, 37, 85, 37, 1027, 37, 68, 37, 6781, 1122, 12633, 1200, 1095, 1015, 2161, 46, 1750, 1080, 2175, 1122, 1147, 5995, 15942, 47, 2258, 45, 1015, 1750, 1025, 1015, 1080, 2175, 14696, 16412, 3571, 1015, 6627, 47, 3054, 45, 1054, 1043, 1286, 124, 73, 1489, 1527, 124, 108, 2233, 1530, 1122, 3506, 1406, 2272, 2175, 1054, 2344, 37, 13332, 37, 1054, 1271, 1015, 3084, 6450, 3617, 1023, 18980, 47, 2786, 2175, 1315, 1147, 3696, 1039, 1032, 1038, 2161, 1750, 1027, 1623, 5359, 1315, 1012, 8336, 1716, 7608, 1120, 1591, 1611, 45, 1271, 12974, 1952, 4601, 47, 1156, 4968, 45, 1015, 2272, 2175, 1122, 1313, 15942, 5638, 11438, 1120, 1015, 5056, 5497, 47, 2258, 45, 1079, 2485, 7387, 2272, 2175, 1316, 1091, 1015, 5056, 1023, 18980, 45, 22432, 2368, 1039, 2278, 18386, 1633, 2272, 1027, 5056, 2175, 47, 2497, 1015, 6233, 1039, 8991, 59, 1111, 2272, 2626, 1038, 8991, 18387, 4013, 1023, 98, 4003, 2161, 46, 1750, 2626, 1582, 1054, 98, 1314, 3025, 3484, 46, 8324, 46, 4594, 12852, 47, 1156, 2064, 8991, 45, 1046, 1023, 4672, 1439, 1466, 1137, 124, 68, 4935, 1653, 45, 68, 4935, 1706, 126, 93, 1116, 124, 1505, 1565, 105, 94, 93, 2038, 1964, 2167, 126, 93, 1167, 124, 1244, 59, 1167, 126, 93, 1080, 124, 1505, 126, 1156, 1015, 4200, 1025, 98, 4574, 88, 1120, 7371, 2244, 1043, 1527, 124, 82, 12713, 1299, 45, 49, 1692, 1015, 2874, 2695, 1025, 1015, 11425, 3192, 3185, 1023, 26603, 1008, 1015, 37, 121, 37, 3258, 47, 2631, 45, 1015, 5994, 1122, 15900, 1878, 1015, 2387, 11535, 47, 4574, 88, 1734, 16931, 10942, 1038, 1733, 1025, 1015, 1146, 2626, 16436, 1842, 1313, 1038, 1206, 1025, 2991, 3645, 1015, 5994, 3506, 20078, 4141, 1038, 5942, 2350, 1466, 1137, 124, 11146, 91, 1706, 126, 2367, 93, 1084, 124, 1244, 59, 2929, 5441, 96, 4601, 96, 2387, 126, 2489, 1015, 2626, 2092, 1025, 1015, 41, 1123, 42, 11551, 3530, 1039, 1015, 8516, 5056, 5994, 47, 7502, 9320, 1023, 1313, 18696, 1144, 1015, 4574, 88, 2221, 1015, 2515, 46, 1307, 3617, 1023, 3097, 1628, 5718, 2156, 4535, 1027, 3457, 7364, 37, 121, 93, 1039, 46, 121, 1186, 2258, 45, 1015, 3074, 9320, 1633, 23438, 1027, 2042, 23438, 8144, 1025, 2272, 2175, 1023, 4516, 7764, 47, 1249, 4069, 2485, 1406, 2272, 2175, 1115, 2156, 3258, 45, 1271, 1122, 7438, 6849, 1038, 1324, 2272, 1027, 1122, 2477, 1008, 1750, 2368, 1039, 1015, 6756, 5717, 1307, 1038, 1015, 1406, 4013, 47, 2497, 1095, 1015, 2272, 5994, 1122, 3366, 1039, 1015, 5056, 5994, 1038, 1015, 8516, 5942, 2350, 45, 2204, 1039, 8991, 47, 3217, 45, 1552, 1823, 1084, 124, 1244, 59, 2929, 5441, 96, 4601, 96, 2387, 126, 2489, 1095, 3626, 2272, 5994, 2899, 2812, 1015, 1146, 10942, 6319, 1233, 1015, 4687, 1750, 47, 93, 1116, 124, 1505, 1565, 105, 94, 93, 2038, 1964, 2167, 126, 93, 1167, 124, 1244, 59, 1167, 126, 93, 1080, 124, 1505, 126, 1798, 3003, 4208, 1015, 2272, 5994, 1525, 3817, 1054, 1015, 5757, 46, 5441, 1314, 1174, 1137, 124, 17780, 66, 1702, 45, 11146, 91, 1706, 126, 1079, 3927, 1008, 1552, 1466, 93, 1084, 124, 1244, 59, 19798, 5441, 96, 4601, 126, 1015, 1750, 5994, 1025, 1015, 41, 1123, 42, 11551, 3530, 1039, 1015, 8516, 5056, 5994, 1054, 1015, 20195, 1027, 1015, 4574, 88, 2032, 47, 1156, 1015, 20195, 2032, 1079, 1587, 2485, 1406, 2272, 5994, 45, 1591, 1025, 1271, 1023, 29870, 2156, 5886, 1027, 45, 1008, 1015, 1760, 2318, 45, 1525, 29870, 5886, 1633, 23438, 1027, 2042, 23438, 8144, 47, 4574, 88, 1561, 4178, 3849, 1039, 1015, 15429, 1025, 10942, 1038, 16436, 1025, 15900, 5994, 47, 1111, 29870, 2156, 9320, 4688, 1842, 1015, 4566, 9320, 1633, 23438, 1027, 2042, 23438, 2175, 1023, 18696, 45, 1054, 1015, 1824, 3696, 1061, 1054, 1015, 1406, 46, 5441, 1314, 47, 1798, 3967, 1015, 8888, 1025, 2687, 2175, 1008, 1015, 5757, 46, 5441, 1314, 45, 1079, 4178, 1717, 3084, 18980, 6450, 1890, 2220, 1144, 11640, 37, 13332, 37, 1039, 1904, 1054, 1271, 1015, 2471, 2357, 1015, 11535, 1038, 2277, 37, 13332, 37, 2448, 1313, 7759, 98, 4687, 2687, 47, 1156, 1231, 1428, 45, 1406, 5994, 5135, 2039, 1015, 4687, 1750, 1027, 2242, 2939, 47, 1111, 3617, 1226, 1032, 10881, 10207, 3025, 18031, 1015, 3694, 7857, 1015, 1786, 4636, 47, 41, 106, 42, 1111, 12852, 6026, 1633, 1015, 37, 1934, 124, 52, 91, 95, 51, 46, 83, 95, 51, 1082, 1027, 1206, 1611, 11666, 1122, 10386, 1039, 2161, 1027, 1015, 3931, 16361, 2626, 1023, 9260, 2952, 1008, 1750, 45, 7727, 10732, 1046, 1233, 1015, 1314, 45, 4141, 1120, 1406, 5397, 1115, 11425, 47, 41, 2348, 42, 1111, 12852, 6026, 5295, 3484, 46, 8324, 9552, 1122, 10386, 1039, 2161, 47, 3502, 3245, 1025, 1015, 3617, 1043, 1286, 124, 73, 1176, 12558, 1121, 1226, 1587, 1032, 3844, 1061, 1792, 8144, 1025, 1043, 2343, 12558, 1183, 1043, 2512, 12558, 1183, 1027, 98, 2277, 47, 41, 5351, 42, 3502, 2277, 2158, 1122, 10386, 1039, 2161, 47, 41, 1196, 42, 1111, 3476, 1025, 1043, 2512, 12558, 37, 1008, 1015, 4311, 3245, 1122, 10386, 1039, 2161, 47, 41, 119, 42, 1111, 3476, 1025, 1043, 2343, 12558, 37, 1008, 1015, 2400, 46, 4311, 3245, 1122, 10386, 1039, 2161, 47, 41, 1175, 42, 1111, 5511, 3476, 1008, 4311, 3245, 1122, 10386, 1039, 4886, 1027, 1008, 2400, 46, 4311, 3245, 1039, 37, 50, 2088, 1665, 124, 51, 1535, 66, 5773, 4192, 1008, 5441, 1425, 2636, 1015, 3931, 3617, 5123, 93, 1116, 124, 1179, 126, 93, 1373, 93, 1286, 124, 73, 1176, 12558, 42, 62, 93, 1194, 1068, 1116, 124, 1458, 1065, 4274, 126, 49, 39, 102, 1345, 106, 12558, 126, 39, 49, 39, 49, 1148, 102, 1073, 106, 12558, 126, 39, 49, 39, 49, 39, 49, 1148, 49, 39, 49, 39, 49, 39, 102, 1345, 106, 12558, 126, 1148, 49, 39, 49, 39, 102, 1073, 106, 12558, 126, 39, 49, 93, 1080, 124, 1458, 1053, 1162, 42, 47, 93, 1080, 124, 1179, 126, 2212, 1231, 10881, 3617, 3545, 4750, 1025, 1406, 10502, 1025, 1015, 3617, 1008, 1969, 1466, 1068, 1084, 124, 52, 47, 73, 4003, 47, 51, 2003, 1046, 1442, 1406, 2353, 1025, 2161, 46, 1750, 1080, 2175, 1025, 5181, 5441, 2473, 47, 19508, 1031, 6181, 1015, 3617, 2160, 1878, 1015, 3952, 1324, 45, 1015, 1080, 2175, 1054, 2344, 3113, 37, 13332, 37, 10207, 3236, 1878, 4672, 1439, 5994, 47, 1156, 2566, 45, 1015, 9320, 1633, 1015, 2272, 2175, 1025, 1816, 5441, 2473, 1023, 18696, 1200, 1095, 1079, 1080, 1218, 1120, 1406, 5994, 47, 93, 1310, 124, 9440, 126, 1249, 1315, 2123, 1095, 1406, 1890, 1025, 11425, 7762, 1050, 22221, 6380, 1015, 3886, 1025, 4672, 1439, 5994, 1025, 2687, 2175, 1038, 41, 2514, 42, 4816, 1054, 1015, 20195, 1744, 47, 4767, 2896, 1032, 1817, 1039, 7375, 1015, 14394, 8231, 6322, 2092, 47, 2786, 5994, 1122, 29870, 2156, 5886, 1027, 1315, 1012, 3626, 29870, 9320, 1008, 1015, 2318, 1025, 98, 4461, 16393, 2368, 1039, 1015, 13906, 1025, 1015, 2175, 28109, 1038, 1015, 1406, 4816, 47, 1111, 1630, 3286, 1633, 1015, 1406, 46, 5441, 1027, 1015, 5757, 46, 5441, 1314, 1023, 1095, 1015, 4283, 11053, 1406, 4069, 1025, 1324, 1464, 5994, 47, 8795, 3886, 1226, 1032, 7382, 1233, 98, 4179, 4464, 1858, 1009, 1015, 2958, 6627, 1025, 1015, 3617, 1878, 1324, 1008, 14412, 3205, 46, 91, 1284, 14104, 6060, 2679, 7701, 74, 47, 1156, 1015, 4574, 88, 1744, 45, 1316, 1079, 3955, 15423, 1342, 1233, 1012, 11701, 1039, 8991, 1095, 2687, 2175, 4344, 2778, 45, 1015, 2687, 5994, 2477, 1878, 1406, 29870, 5886, 5994, 47, 1802, 2738, 1032, 7181, 1095, 2329, 1015, 1406, 1890, 9481, 1046, 1015, 2687, 2175, 1233, 14394, 8231, 13874, 45, 2330, 1122, 1313, 10915, 14394, 8231, 47, 3054, 45, 1015, 2687, 2175, 1122, 1313, 4104, 5638, 8298, 3672, 47, 1111, 11701, 1023, 2700, 1648, 1120, 8991, 1667, 1120, 4179, 18445, 47, 1111, 2833, 1025, 1015, 2687, 2175, 3685, 2677, 1023, 5516, 1816, 1233, 2687, 2175, 1038, 41, 5298, 42, 4816, 1025, 11425, 7762, 1050, 22221, 1025, 1015, 7933, 2737, 45, 1464, 1061, 1043, 1614, 124, 3046, 80, 3112, 1676, 1449, 1271, 1315, 1954, 2627, 1144, 26694, 1466, 1137, 124, 77, 18999, 1706, 45, 8267, 76, 1123, 126, 1156, 1231, 1428, 45, 2687, 5994, 2049, 1233, 1015, 5488, 4693, 1025, 1671, 4816, 1466, 1137, 124, 8267, 76, 1123, 126, 15637, 2175, 1025, 1231, 6557, 1122, 1313, 3333, 1054, 1043, 1614, 124, 1583, 3112, 1676, 1082, 1027, 1043, 1614, 124, 4014, 3112, 1676, 1082, 2221, 1015, 41, 5298, 42, 2687, 1025, 1671, 15874, 1023, 1313, 5488, 1027, 2330, 1122, 5453, 1313, 3379, 1144, 26694, 1466, 1137, 124, 77, 13315, 1123, 45, 90, 7328, 1278, 126, 1111, 2687, 2175, 5434, 2677, 2896, 1032, 5219, 1144, 26694, 1018, 17668, 10315, 9678, 1009, 41, 2514, 42, 4816, 45, 1271, 1122, 3699, 8647, 1039, 19333, 47, 1619, 5737, 2896, 1032, 10315, 1878, 1015, 4013, 1025, 5009, 41, 5298, 42, 12668, 45, 3362, 1608, 1012, 9289, 13251, 45, 98, 5220, 1095, 1442, 1954, 9690, 1054, 1015, 3330, 1025, 2272, 2175, 1008, 8991, 1174, 1137, 124, 76, 6818, 1563, 126, 1018, 1324, 1025, 1015, 20414, 3685, 1008, 3289, 1466, 93, 10194, 124, 13710, 1303, 126, 1008, 1015, 3736, 1025, 16420, 15759, 47, 5107, 10315, 3566, 2379, 7375, 1015, 2122, 1025, 2175, 45, 1271, 1023, 3333, 1039, 1032, 7459, 3255, 1039, 41, 2514, 42, 4013, 1025, 1015, 11345, 47, 1156, 2298, 45, 1015, 1951, 1776, 1056, 7412, 2824, 1120, 4399, 1028, 1025, 1015, 2687, 5994, 3000, 1039, 1012, 8726, 1025, 1015, 2122, 1025, 2175, 2221, 1015, 2687, 2175, 1122, 6423, 1324, 46, 2334, 47, 1802, 1023, 1012, 4361, 4276, 3449, 8793, 1039, 1015, 2687, 2175, 1811, 12833, 2353, 1008, 47, 5332, 6913, 1025, 1015, 37, 116, 3690, 27588, 2197, 12870, 1054, 11425, 7762, 1050, 22221, 2896, 4101, 1750, 10942, 1008, 1015, 2687, 5994, 3685, 2677, 1842, 1525, 10723, 3626, 2687, 46, 1844, 2175, 1466, 1137, 124, 2095, 85, 1706, 126, 6547, 2379, 1525, 1032, 4100, 1054, 3406, 17307, 1039, 11054, 1010, 4179, 13934, 1144, 1608, 1015, 13293, 2138, 1025, 8627, 11425, 7762, 1050, 22221, 1466, 1137, 124, 91, 8861, 1364, 126, 93, 1310, 3511, 11667, 126, 1249, 6220, 81, 47, 78, 47, 83, 47, 12947, 5912, 45, 78, 47, 16773, 15703, 45, 1027, 66, 47, 81, 47, 1814, 20404, 1054, 10225, 7435, 47, 17732, 1144, 1015, 25790, 1860, 29157, 26594, 2743, 17264, 2357, 3623, 10601, 9341, 4357, 76, 1380, 1534, 1027, 17675, 1189, 28823, 3367, 81, 1404, 2432, 1023, 27781, 47, 93, 1116, 124, 2564, 1065, 1866, 126, 93, 1114, 124, 12837, 1123, 126, 69, 47, 16834, 45, 6042, 1466, 1371, 1466, 93, 1343, 124, 2947, 1037, 15498, 41, 1907, 1289, 93, 1114, 124, 69, 5753, 1278, 126, 81, 47, 8429, 45, 75, 47, 2496, 45, 1027, 70, 47, 16773, 10188, 45, 4331, 1371, 1466, 93, 1343, 124, 57, 1037, 16716, 41, 1848, 1289, 93, 1114, 124, 3377, 76, 1123, 126, 78, 47, 91, 47, 20088, 1027, 68, 47, 77, 47, 12721, 45, 1553, 1466, 4518, 1466, 1371, 1466, 93, 1343, 124, 3450, 1037, 8540, 54, 41, 1907, 1289, 93, 1114, 124, 6969, 91, 1303, 126, 89, 2376, 77, 47, 6969, 1027, 84, 2376, 68, 47, 2556, 45, 1553, 1466, 4518, 1466, 1371, 1466, 93, 1343, 124, 3248, 1037, 24937, 41, 1889, 1289, 93, 1114, 124, 11146, 91, 1706, 126, 90, 47, 7266, 45, 71, 47, 2440, 45, 73, 47, 19577, 45, 66, 47, 24904, 45, 1027, 69, 2376, 73, 47, 3570, 45, 1371, 1466, 1553, 1466, 67, 93, 1343, 124, 3156, 1037, 5842, 12051, 41, 1943, 1289, 93, 1114, 124, 18993, 77, 1702, 126, 84, 47, 14030, 4078, 45, 89, 2376, 77, 47, 6969, 45, 68, 2376, 89, 47, 2907, 45, 69, 47, 75, 47, 5792, 1126, 2316, 45, 1027, 84, 2376, 68, 47, 2556, 45, 1371, 1466, 1553, 1466, 67, 93, 1343, 124, 2255, 1037, 5338, 13993, 41, 83, 42, 41, 2021, 1289, 93, 1114, 124, 17780, 66, 1702, 126, 76, 47, 23672, 2214, 45, 84, 47, 2095, 1240, 45, 83, 47, 9692, 1033, 45, 73, 47, 86, 4523, 45, 90, 47, 11319, 45, 73, 47, 20695, 2590, 45, 1027, 73, 47, 16345, 45, 1371, 1466, 1553, 1466, 2094, 1466, 93, 1343, 124, 4953, 1037, 9432, 6489, 41, 2021, 1289, 93, 1114, 124, 7701, 85, 1303, 126, 81, 47, 78, 47, 83, 47, 12947, 5912, 45, 78, 47, 16773, 15703, 45, 1027, 68, 47, 5060, 1363, 45, 75, 47, 1371, 3575, 15514, 1466, 7537, 93, 1343, 124, 1603, 1037, 1695, 4858, 50, 41, 1889, 1289, 93, 1114, 124, 84, 7157, 1278, 126, 75, 47, 28899, 1078, 117, 45, 81, 47, 78, 47, 83, 47, 12947, 5912, 45, 1027, 68, 47, 5060, 1363, 45, 1371, 1466, 1553, 1466, 67, 93, 1343, 124, 2754, 1037, 51, 7295, 1602, 41, 1848, 1289, 93, 1114, 124, 3377, 84, 1706, 126, 79, 47, 15441, 1027, 84, 47, 70, 47, 16359, 45, 1371, 1466, 1553, 1466, 67, 93, 1343, 124, 2943, 1037, 1476, 1794, 1278, 41, 1943, 2621, 78, 47, 20309, 45, 69, 47, 75, 47, 7449, 116, 45, 67, 47, 84, 47, 5156, 45, 78, 47, 78, 47, 1843, 3123, 11181, 1063, 105, 45, 79, 47, 15441, 45, 75, 47, 6669, 9896, 45, 70, 47, 68, 47, 85, 47, 80, 40, 28662, 45, 85, 47, 78, 47, 3942, 5127, 45, 74, 47, 15363, 7819, 1050, 45, 81, 47, 3121, 1596, 45, 75, 47, 83, 47, 10494, 45, 1027, 84, 47, 70, 47, 16359, 45, 1371, 1466, 1553, 1466, 67, 93, 1343, 124, 3288, 1037, 14565, 1653, 41, 83, 42, 41, 1889, 1289, 93, 1114, 124, 81, 3557, 1364, 126, 74, 47, 81, 3099, 100, 1564, 45, 71, 47, 14165, 1799, 45, 71, 47, 68, 1474, 4448, 1023, 45, 66, 47, 5887, 5899, 6218, 45, 84, 47, 4981, 20249, 1145, 45, 1027, 78, 47, 10749, 1011, 45, 7614, 1466, 1371, 1466, 75, 47, 67, 93, 1343, 124, 2691, 1037, 10581, 41, 1825, 1289, 93, 1114, 124, 83, 4219, 1123, 126, 81, 47, 9261, 45, 76, 47, 24149, 45, 85, 47, 11659, 45, 78, 47, 2202, 1218, 3026, 45, 90, 2376, 78, 47, 4227, 45, 75, 47, 73, 47, 28574, 45, 72, 47, 71, 47, 2748, 45, 75, 47, 77, 47, 8476, 45, 79, 47, 77, 47, 2440, 45, 89, 47, 8429, 45, 91, 47, 9192, 45, 73, 47, 9116, 45, 1027, 85, 47, 12042, 45, 1371, 1466, 1553, 1466, 2094, 1466, 93, 1343, 124, 5321, 1037, 7049, 5298, 41, 1907, 1289, 93, 1114, 124, 73, 6270, 1303, 126, 76, 47, 76, 47, 2496, 3733, 105, 45, 90, 47, 85, 11503, 45, 1027, 76, 47, 5156, 1045, 5196, 45, 1371, 1466, 1553, 1466, 2094, 1466, 93, 1343, 124, 5602, 1037, 7601, 6489, 41, 1889, 1289, 93, 1114, 124, 85, 17535, 1303, 126, 85, 47, 6719, 22296, 45, 79, 47, 76, 5284, 1033, 45, 78, 47, 24145, 1033, 45, 76, 47, 4923, 8018, 45, 68, 2376, 73, 47, 3570, 45, 90, 47, 24145, 10290, 45, 85, 47, 13636, 45, 66, 47, 74, 9993, 45, 73, 47, 14439, 5196, 45, 85, 47, 7615, 45, 78, 47, 20478, 45, 84, 47, 13502, 1145, 45, 84, 47, 25326, 45, 73, 47, 24563, 1028, 45, 1027, 84, 47, 86, 4140, 45, 1371, 1466, 1553, 1466, 2094, 1466, 93, 1343, 124, 5574, 1037, 1472, 2474, 1556, 41, 1889, 1289, 93, 1114, 124, 68, 4935, 1706, 126, 66, 47, 73, 47, 13043, 19245, 45, 71, 47, 2821, 29815, 45, 79, 47, 78, 47, 83, 47, 19847, 45, 76, 47, 84, 47, 26559, 45, 1027, 66, 47, 76, 47, 27554, 45, 1553, 1466, 4518, 1466, 1371, 1466, 93, 1343, 124, 3452, 1037, 5724, 41, 1943, 1289, 93, 1114, 124, 7394, 79, 2437, 126, 78, 47, 21378, 45, 76, 47, 88, 1410, 1141, 11575, 45, 76, 47, 7307, 4893, 45, 1027, 76, 47, 16735, 5709, 1032, 45, 75, 47, 1371, 1466, 4520, 1466, 20849, 1466, 93, 1343, 124, 2162, 1037, 26016, 41, 3232, 2621, 76, 47, 7307, 4893, 45, 78, 47, 21378, 45, 72, 47, 20278, 2269, 10196, 45, 1027, 78, 47, 84, 47, 20278, 2269, 10196, 45, 1371, 1466, 1553, 1466, 67, 93, 1343, 124, 2820, 1037, 1472, 20979, 41, 3232, 1289, 93, 1114, 124, 68, 4935, 1653, 126, 66, 47, 73, 47, 13043, 19245, 45, 71, 47, 2821, 29815, 45, 1027, 79, 47, 78, 47, 83, 47, 19847, 45, 1371, 1466, 1553, 1466, 67, 93, 1343, 124, 3239, 1037, 1044, 2820, 1702, 41, 2059, 1289, 93, 1114, 124, 7669, 73, 1556, 126, 84, 47, 19736, 1027, 90, 47, 12097, 1051, 20932, 45, 1371, 1466, 1553, 1466, 2094, 1466, 93, 1343, 124, 3063, 1037, 11386, 5745, 41, 2447, 1289, 93, 1114, 124, 5252, 76, 1123, 126, 67, 2376, 75, 47, 3356, 1027, 73, 2376, 90, 47, 76, 1739, 45, 1371, 1466, 1553, 1466, 67, 93, 1343, 124, 3450, 1037, 6145, 6306, 41, 1907, 1296, 1008, 2298, 2010, 1552, 1064, 56, 47, 93, 1114, 124, 91, 1284, 2437, 126, 78, 47, 83, 47, 91, 1284, 14104, 6060, 45, 75, 47, 2468, 1466, 1371, 1466, 93, 1343, 124, 1940, 1037, 1997, 2691, 41, 3232, 2621, 66, 47, 14412, 3205, 1027, 78, 47, 83, 47, 91, 1284, 14104, 6060, 45, 1371, 1466, 1553, 1466, 67, 93, 1343, 124, 2066, 1037, 16277, 41, 3135, 1289, 93, 1114, 124, 5396, 71, 1702, 126, 66, 47, 81, 47, 1814, 20404, 45, 84, 47, 19736, 45, 66, 47, 9669, 1149, 5196, 45, 1027, 66, 47, 88, 47, 88, 47, 19717, 45, 1371, 1466, 1553, 1466, 67, 93, 1343, 124, 2067, 1037, 6145, 4999, 41, 2021, 1289, 93, 1114, 124, 77, 18999, 1706, 126, 69, 47, 73, 47, 3108, 45, 78, 47, 8074, 45, 84, 2376, 76, 47, 1921, 45, 75, 47, 72, 47, 9279, 1674, 45, 75, 2376, 73, 47, 7566, 45, 66, 47, 84, 47, 4774, 2288, 1416, 45, 69, 47, 75, 47, 8241, 45, 91, 47, 15416, 29344, 45, 85, 47, 73, 47, 2321, 2486, 1024, 45, 74, 47, 83, 47, 8955, 45, 1027, 91, 2376, 89, 47, 6420, 45, 11081, 68, 93, 1343, 124, 11166, 1037, 12960, 41, 1943, 1289, 93, 1114, 124, 8267, 76, 1123, 126, 73, 47, 70, 2864, 4030, 45, 66, 47, 8190, 29555, 45, 1027, 76, 47, 2888, 10141, 7728, 45, 1371, 1466, 1553, 1466, 67, 93, 1343, 124, 3452, 1037, 28629, 1941, 41, 1907, 1289, 93, 1114, 124, 77, 13315, 1123, 126, 66, 47, 8190, 29555, 45, 76, 47, 2888, 10141, 7728, 45, 84, 47, 20342, 5871, 45, 87, 47, 91, 18982, 3067, 5470, 122, 45, 67, 47, 67, 2544, 118, 13440, 45, 75, 47, 1951, 1312, 14553, 45, 1027, 73, 47, 70, 2864, 4030, 45, 1371, 1466, 1553, 1466, 67, 93, 1343, 124, 3450, 1037, 1469, 1794, 1469, 41, 1907, 1289, 93, 1114, 124, 90, 7328, 1278, 126, 78, 47, 8074, 45, 69, 47, 73, 47, 3108, 45, 83, 47, 72, 47, 8606, 45, 76, 47, 4923, 8018, 45, 68, 2376, 73, 47, 3570, 45, 66, 47, 74, 9993, 45, 73, 47, 14439, 5196, 45, 85, 47, 14996, 45, 66, 47, 18240, 1686, 1452, 45, 1027, 91, 2376, 89, 47, 6420, 45, 2845, 75, 47, 1371, 1466, 93, 1343, 124, 1404, 1037, 1615, 2153, 1158, 41, 1848, 1289, 93, 1114, 124, 76, 6818, 1563, 126, 90, 47, 13077, 45, 76, 2376, 106, 47, 9895, 3195, 45, 85, 47, 70, 1147, 2214, 45, 76, 47, 16735, 5709, 1032, 45, 1027, 90, 47, 26028, 2384, 2424, 45, 1371, 1466, 1553, 1466, 67, 93, 1343, 124, 3607, 1037, 23628, 1653, 41, 2213, 2621, 90, 47, 13077, 45, 76, 2376, 106, 47, 9895, 3195, 45, 85, 47, 70, 1147, 2214, 45, 1027, 76, 47, 16735, 5709, 1032, 45, 1371, 1466, 1553, 1466, 67, 93, 1343, 124, 3239, 1037, 29433, 1379, 41, 2059, 1289, 93, 1114, 124, 13710, 1303, 126, 81, 47, 23913, 45, 5332, 1896, 1466, 2211, 1466, 19585, 1466, 93, 1343, 124, 1695, 1037, 1571, 16562, 41, 1889, 1289, 93, 1114, 124, 2095, 85, 1706, 126, 84, 47, 2095, 1240, 1027, 90, 47, 11319, 45, 1371, 1466, 1553, 1466, 67, 93, 1343, 124, 3156, 1037, 25901, 1753, 41, 1943, 1289, 93, 1114, 124, 91, 8861, 1364, 126, 71, 47, 2556, 45, 68, 47, 77, 47, 12721, 45, 1027, 70, 47, 75, 47, 78, 1507, 45, 1371, 1466, 1553, 1466, 2094, 1466, 93, 1343, 124, 5269, 1037, 1563, 2474, 1556, 41, 1825, 1289, 93, 1080, 124, 2564, 126]\n"
     ]
    },
    {
     "data": {
      "text/plain": [
       "'\\\\importpackages{}\\\\graphicspath{{./images/}}\\\\title{Topologicalsurfacestatesinparamagneticandantiferromagneticironpnictides}\\\\author{AlexanderLau}\\\\affiliation{InstituteofTheoreticalPhysics,TechnischeUniversit\\\\\"atDresden,01062Dresden,Germany}\\\\author{CarstenTimm}\\\\email{carsten.timm@tu-dresden.de}\\\\affiliation{InstituteofTheoreticalPhysics,TechnischeUniversit\\\\\"atDresden,01062Dresden,Germany}\\\\date{\\\\today}\\\\begin{abstract}Theelectronicstructureofironpnictidesistopologicallynontrivial,leadingtotheappearanceofDiracconesinthebandstructurefortheantiferromagneticphase.MotivatedbytheanalogywithDiracconesingraphene,weexplorethepossibleexistenceoftopologicallyprotectedsurfacestates.Surprisingly,bandsofsurfacestatesexistevenintheparamagneticstate.Arealisticfive-orbitalmodelpredictstwosuchbands.Intheantiferromagneticphase,thesesurfacebandssurvivebutsplit.Weobtainthebulkandsurfacedispersionfromexactdiagonalizationoftwo-andfive-orbitalmodelsinastripgeometryanddiscusstheresultsbasedontopology.\\\\end{abstract}\\\\pacs{74.70.Xa,73.20.At,03.65.Vf,75.30.Fv}\\\\maketitle\\\\section{Introduction}Twoofthemostactiveareasincondensedmatterphysicsconcerntheironpnictides\\\\cite{Joh10,DHD12}andtopologicalpropertiesofmatter.\\\\cite{HaK10,QiZ11}Theironpnictidesareofinterestsincetheyshowmultibandsuperconductivitywithhightransitiontemperaturescompetingwithitinerantantiferromagnetism.Topologyincondensedmatterhasreceivedalotofattentioninpartbecausenontrivialtopologycaninducesurfaceoredgestates.Thispaperisconcernedwiththetopologicalpropertiesandsurfacestatesofironpnictides.Inironpnictides,severaliron$3d$orbitalscontributesignificantlytotheelectronicstatesclosetotheFermienergy.Ran\\\\textit{etal.}\\\\cite{RWZ09}haverealizedthatthismultiorbitalcharactercanleadtonontrivialtopologicalproperties.Theyfindbandtouchingsatthe$(0,0)$and$(\\\\pi,\\\\pi)$pointsintheBrillouinzone(BZ),whichareassociatedwithwindingnumbersinorbitalspace.Asaconsequence,theformationofaspin-densitywave(SDW)withorderingvector$\\\\mathbf{Q}=(\\\\pi,0)$cannotopenafullgapbutratherleavesanevennumberofDiracpoints.\\\\cite{RWZ09}Thisholdsbothforatwo-orbitalmodelincludingonlythemostimportant$3d_{YZ}$and$3d_{ZX}$orbitals\\\\cite{RQL08}andforamodelincludingallfive$3d$orbitals.\\\\cite{KOA08}Whilethetwo-orbitalmodeldoesnotgivearealisticdescription,itallowsasimplerdiscussionofthetopologicalproperties.Ontheotherhand,thefive-orbitalmodel\\\\cite{KOA08}givesagoodaccountofthelow-energybandstructureoftheprototypicalcompound$\\\\mathrm{LaFeAsO}$andalsoleadstoreasonablepredictionsforthemagneticordervs.\\\\doping.\\\\cite{BDT11,SBT12}EvidencefortheDiracpointshasbeenobtainedfromquantum-oscillationexperiments,\\\\cite{HaS09}magnetotransport\\\\cite{PBC13}andangle-resolvedphotoemission(ARPES).\\\\cite{RNS10,HTT11}However,conflictingevidenceispresentedin\\\\onlinecite{TKT11}.Diracpointsinthebandstructurehaveattractedalotofattentioninthecontextofgraphene.\\\\cite{CGP09}There,Diracpointsemergeduetothetwo-sublatticestructureofthehoneycomblattice.Theyareaccompaniedbydispersingedgestatesatso-calledzigzagedges,\\\\cite{FWN96,RyH02,CGP06,CGP09}whichappearinthe1DedgeBZbetweentheprojectionsoftheDiracpoints.RegardlessofthedifferentoriginsoftheDiracpoints,onemayaskwhethertheyhavesimilarconsequencesinpnictidesandingraphene.Specifically,dosurfacestatesalsoexistintheSDWphaseoftheironpnictides?YangandKee\\\\cite{YaK10}haveindeedfoundsurfacebandsforatwo-orbitalmodelwithbrokensymmetry.However,therequiredcombinedorbital,SDW,andcharge-density-waveorderisnotrealizedinironpnictidesandactuallyopensafullgapwithoutDiracpoints.Wewillshowthatdispersingbandsofsurfacestatesexisteveninthe\\\\emph{paramagnetic}phaseoftheironpnictides,duetoitstopologicalcharacter.IntheSDWphase,thesurfacebandssplit.Thisisfoundforbothtwo-orbitalandfive-orbitalmodelsbutthelatterfeaturestwosurfacebands,whereastheformerhasonlyone.Wewillexplainthetopologicaloriginofthesurfacestates.\\\\section{Modelsandmethod}WefollowRefs.\\\\\\\\onlinecite{KOA08,RWZ09}inchoosing$3d$orbitalswithrespecttothe$X$and$Y$axesofthetetragonallattice,whicharerotatedby$45^\\\\circ$relativetothe$x$and$y$axesofthesquareironlattice.Thetwo-orbitalmodel\\\\cite{RQL08,RWZ09}retainsonlythesetwoorbitalsinasingle-ironunitcell.TheHamiltonianis$H=H_0+H_I$,wherethenon-interactingpartfortheextendedsystemreads$H_0=\\\\sum_{\\\\mathbf{k}\\\\sigma}\\\\sum_{a,b=1}^2d^\\\\dagger_{\\\\mathbf{k}a\\\\sigma}\\\\mathcal{H}_{ab}(\\\\mathbf{k})d_{\\\\mathbf{k}b\\\\sigma}$.Here,$\\\\mathcal{H}(\\\\mathbf{k})$isa$2\\\\times2$matrixinorbitalspace,\\\\begin{eqnarray}\\\\lefteqn{\\\\mathcal{H}(\\\\mathbf{k})=2t_1\\\\,(\\\\cosk_x-\\\\cosk_y)\\\\,\\\\tau^1}\\\\nonumber\\\\\\\\&&{}-2(t_2-t_2\\')\\\\,\\\\sink_x\\\\sink_y\\\\,\\\\tau^3\\\\nonumber\\\\\\\\&&{}+[2(t_2+t_2\\')\\\\,\\\\cosk_x\\\\cosk_y+2t_1\\'\\\\,(\\\\cosk_x+\\\\cosk_y)]\\\\,\\\\tau^0,\\\\quad\\\\label{2_orbital_H0_1}\\\\end{eqnarray}where$\\\\tau^1$,$\\\\tau^2$,$\\\\tau^3$arePaulimatrices,$\\\\tau^0$istheunitmatrix,andtheorbitalindex$1$correspondsto$3d_{ZX}$and$2$to$3d_{YZ}$.Weadoptthehoppingparameters\\\\cite{RWZ09}$t_1=0.30\\\\,\\\\mathrm{eV}$,$t_1\\'=0.06\\\\,\\\\mathrm{eV}$,$t_2=0.51\\\\,\\\\mathrm{eV}$,and$t_2\\'=0.09\\\\,\\\\mathrm{eV}$.Fortheinteractionswetake\\\\cite{RWZ09}\\\\begin{eqnarray}H_I&=&\\\\frac{U}{2}\\\\sum_{\\\\mathbf{i}}(\\\\hatn_{\\\\mathbf{i}1}^2+\\\\hatn_{\\\\mathbf{i}2}^2)+(U-2J)\\\\sum_{\\\\mathbf{i}}n_{\\\\mathbf{i}1}n_{\\\\mathbf{i}2}\\\\nonumber\\\\\\\\&&{}+J\\\\sum_{\\\\mathbf{i}}\\\\sum_{\\\\sigma\\\\sigma\\'}d_{\\\\mathbf{i}1\\\\sigma}^{\\\\dagger}d_{\\\\mathbf{i}2\\\\sigma\\'}^{\\\\dagger}d_{\\\\mathbf{i}1\\\\sigma\\'}d_{\\\\mathbf{i}2\\\\sigma}\\\\nonumber\\\\\\\\&&{}+J\\\\sum_{\\\\mathbf{i}}(d_{\\\\mathbf{i}1\\\\uparrow}^{\\\\dagger}d_{\\\\mathbf{i}1\\\\downarrow}^{\\\\dagger}d_{\\\\mathbf{i}2\\\\downarrow}d_{\\\\mathbf{i}2\\\\uparrow}+\\\\mathrm{H.c.}),\\\\label{2_orbital_HI}\\\\end{eqnarray}where$\\\\hatn_{\\\\mathbf{i}a}\\\\equiv\\\\sum_\\\\sigmad_{\\\\mathbf{i}a\\\\sigma}^{\\\\dagger}d_{\\\\mathbf{i}a\\\\sigma}$,andtheinteractionparametersarechosenas$U=1.20\\\\,\\\\mathrm{eV}$and$J=0.12\\\\,\\\\mathrm{eV}$.AssumingaSDWwithorderingvector$\\\\mathbf{Q}=(\\\\pi,0)$andspinspointingalongthe$S_z$axis,amean-fielddecouplingwith$\\\\langled_{\\\\mathbf{i}a\\\\sigma}^{\\\\dagger}d_{\\\\mathbf{i}b\\\\sigma}\\\\rangle=n_{ab}+(-1)^{i_x}\\\\,\\\\frac{\\\\sigma}{2}\\\\,m_{ab}$givesthemean-fieldHamiltonian\\\\begin{equation}H_{\\\\mathrm{MF}}=H_0+\\\\sum_{\\\\mathbf{i}ab}(-1)^{i_x}M_{ab}\\\\big(d_{\\\\mathbf{i}a\\\\uparrow}^{\\\\dagger}d_{\\\\mathbf{i}b\\\\uparrow}-d_{\\\\mathbf{i}a\\\\downarrow}^{\\\\dagger}d_{\\\\mathbf{i}b\\\\downarrow}\\\\big),\\\\label{2_orbital_HMF}\\\\end{equation}with$M_{11}=-(Um_{11}+Jm_{22})/2$,$M_{22}=-(Um_{22}+Jm_{11})/2$,$M_{12}=M_{21}=-Jm_{21}$.TheHartreeshifts$n_{ab}$havebeenabsorbedinto$H_0$.Theparameters$m_{ab}$arecalculatedself-consistently,assuminghalffilling.Edgestateswillbestudiedforastripofwidth$W$with(10)edges.Sincethestripisextendedalongthe$y$axis,$k_y$isagoodquantumnumberandwecarryoutaFouriertransformationinthe$y$direction,$d_{\\\\mathbf{i}a\\\\sigma}=N_y^{-1/2}\\\\sum_{k_y}e^{ik_yi_y}d_{i_xk_ya\\\\sigma}$.Themean-fieldHamiltonianthenconsistsofblocksofdimensions$2W\\\\times2W$forfixed$k_y$,$\\\\sigma$.Theseblocksarediagonalizednumerically,givingtheenergybandsofthestripsystem.WehereassumethattheSDWinthestripisdescribedbythesameorderparameters$m_{ab}$asfortheextendedsystem.Thefive-orbitalmodel\\\\cite{KOA08}includesallhoppingamplitudeslargerthan$10\\\\,\\\\mathrm{meV}$uptofifthneighbors.Thehoppingamplitudesandonsiteenergiesareobtainedfromdensity-functionalcalculationsandaretabulatedinRef.\\\\\\\\onlinecite{KOA08}.Theinteraction$H_I$isanalogoustothetwo-orbitalmodel,exceptthattheinterorbitaltermsinEq.\\\\(\\\\ref{2_orbital_HI})nowbecomesumsoverallpairsoforbitals$a$,$b$,with$a<b$,where$a,b=1,\\\\ldots,5$correspondto$3d_{3Z^2-R^2}$,$3d_{ZX}$,$3d_{YZ}$,$3d_{X^2-Y^2}$,$3d_{XY}$.Theinteractionparametersarechosentobe$U=1.0\\\\,\\\\mathrm{eV}$and$J=0.2\\\\,\\\\mathrm{eV}$.\\\\cite{RWZ09}Applyingamean-fielddecouplingasabove,weobtainthemean-fieldHamiltonian(\\\\ref{2_orbital_HMF}),wherenowtheorbitalindicestraverse$a,b=1,\\\\ldots,5$,and$M_{aa}=-(Um_{aa}+J\\\\sum_{b\\\\neqa}m_{bb})/2$and$M_{ab}=M_{ba}=-Jm_{ab}$for$a\\\\neqb$.Themean-fieldparameters$m_{ab}$aredeterminedself-consistently,assuming$6$electronsperiron,correspondingtozerodoping.Forthe(10)strip,weproceedanalogouslytothetwo-orbitalcase.BymeansofaFouriertransformationinthe$y$direction,theproblemisreducedtothediagonalizationof$5W\\\\times5W$Hamiltonianmatricesforfixed$k_y$,$\\\\sigma$.\\\\begin{figure}[h]\\\\includegraphics[]{image_name}\\\\label{fig:label}\\\\end{figure}\\\\section{Resultsanddiscussion}First,weconsiderthetwo-orbitalmodelwithoutSDWorder,i.e.,with$m_{ab}=0$,ina(10)stripgeometry.InFig.~\\\\ref{fig:2_orbital_energies_nonmagnetic},wecomparetheenergybandsofthe(10)stripofwidth$W=100$tothebandsoftheextendedsystemprojectedontothe(10)edgeBZ.Allenergiesaretwofoldspindegenerate.Weseethatthemajorityofthebandsofthestripliewithintheprojectedcontinuumofbulkbands.However,thereisanadditionalbandthatdoesnotagreewiththebulkcontinuum.Wehavefoundthatthecorrespondingstatesarelocalizedattheedgesofthestrip.Acloserlookrevealsthatthisband,ignoringspindegeneracy,actuallycomprisestwobands,whichareonlyapproximatelydegenerate.Forfinitewidths$W$,thetwostatesatgiven$k_y$correspondtobondingandantibondingcombinationsofstateslocalizedatthetwoedges.Thus,thereisafinitesplitting,invisibleinFig.~\\\\ref{fig:2_orbital_energies_nonmagnetic},whichdecreasesexponentiallywithincreasing$W$.\\\\begin{figure}[h]\\\\includegraphics[]{image_name}\\\\label{fig:label}\\\\end{figure}Theoriginoftheedgestatescanbeunderstoodfromatopologicalargument.Westartfromthenoninteractingfirst-quantizedHamiltonian$\\\\mathcal{H}(\\\\mathbf{k})$ofEq.\\\\(\\\\ref{2_orbital_H0_1}).Weconsideronespinsectorthroughoutandsuppressthespinindex.Forthestrip,$k_y$isaconstantofmotion.Foreachfixedvalueof$k_y$,weobtainaneffective1Dmodel.Foranextendedsystem,theBZofthis1Dmodelisthesubsetwith$k_y=\\\\mathrm{const}$ofthe2DBZ.Ifthe1DBZdoesnotcrossanyFermisurface,the1Dmodelisgappedinthebulk.Onesuch1DBZisshownbytheblackarrowinFig.\\\\\\\\ref{fig:winding_2band}.$\\\\mathcal{H}(\\\\mathbf{k})$canbewrittenas\\\\cite{RWZ09}\\\\begin{equation}\\\\mathcal{H}(\\\\mathbf{k})=a(\\\\mathbf{k})\\\\,\\\\tau^0+b(\\\\mathbf{k})\\\\,(\\\\sin\\\\phi_\\\\mathbf{k}\\\\,\\\\tau^1+\\\\cos\\\\phi_\\\\mathbf{k}\\\\,\\\\tau^3),\\\\label{3.Hk.2}\\\\end{equation}with$b(\\\\mathbf{k})\\\\ge0$.Thevectorfield$(\\\\cos\\\\phi_\\\\mathbf{k},\\\\sin\\\\phi_\\\\mathbf{k})$isplottedinFig.\\\\\\\\ref{fig:winding_2band}.Itexhibitsvorticeswithvorticities$\\\\pm2$attheband-touchingpoints$\\\\mathbf{k}=(0,0)$and$(\\\\pi,\\\\pi)$.Furthermore,awindingnumberof$+1$($-1$)isaquiredwhenmovingfrom$k_x=-\\\\pi$to$k_x=+\\\\pi$alongalinewithconstant$k_y>0$($k_y<0$).Theeffective1Dsystemthushasanontrivialtopologicalstructureinorbitalspace.\\\\cite{RWZ09}TheappearanceofedgestatesisbestunderstoodbydeformingtheHamiltonianoftheeffective1Dsystemintoonewithatopologicallyprotectedwindingnumber.Forfixed$k_y>0$($k_y<0$isanalogous),wedeformtheHamiltonianinto$\\\\tilde\\\\mathcal{H}(k_x)=\\\\cosk_x\\\\,\\\\tau^1-\\\\sink_x\\\\,\\\\tau^3$.Thisdeformationdoesnotchangethetopologyofthebandsand,inparticular,leavestheenergygapopen.$\\\\tilde\\\\mathcal{H}(k_x)$isunitarilyequivalentto\\\\begin{equation}\\\\hat\\\\mathcal{H}(k_x)\\\\equive^{-i\\\\frac{\\\\pi}{4}\\\\tau^1}\\\\tilde\\\\mathcal{H}(k_x)\\\\,e^{i\\\\frac{\\\\pi}{4}\\\\tau^1}=\\\\left(\\\\begin{array}{cc}0&e^{-ik_x}\\\\\\\\e^{ik_x}&0\\\\end{array}\\\\right).\\\\label{3.Hflat.2}\\\\end{equation}Inthebulk,thisnewHamiltonianhastheeigenvalues$\\\\pm1$forevery$k_x$,i.e.,ithasflatbands.Furthermore,$\\\\hat\\\\mathcal{H}(k_x)$istime-reversalsymmetric.Theantiunitarytime-reversaloperator$T$canbewrittenas$T=KU_T$,where$K$isthecomplexconjugationinourbasisand$U_T$isunitaryandmustsatisfy$U_T\\\\hat\\\\mathcal{H}^*(-k_x)U_T^\\\\dagger=\\\\hat\\\\mathcal{H}(k_x)$,whichisfulfilledfor$U_T=\\\\tau^0$.Notethat$T$squaresto$T^2=\\\\tau^0$.$\\\\hat\\\\mathcal{H}(k_x)$isalsocharge-conjugationsymmetric.Theantiunitarycharge-conjugationoperator$C$canbewrittenas$C=KU_C$,where$U_C$isunitaryandmustsatisfy$U_C\\\\hat\\\\mathcal{H}^*(-k_x)U_C^\\\\dagger=-\\\\hat\\\\mathcal{H}(k_x)$,whichisfulfilledfor$U_C=\\\\tau^3$.Wefind$C^2=K\\\\tau^3K\\\\tau^3=\\\\tau^0$.Thesesymmetrypropertiesimplythatthedeformed1DmodelbelongstotheAltland-ZirnbauerclassBDI.\\\\cite{Zir96}Thisclassallowsa$\\\\mathbb{Z}$topologicalinvariantin1D.\\\\cite{SRF08}Forthestrip,theeffective1Dmodelisafinitechainoflength$W$.The$\\\\mathbb{Z}$topologicalinvariantmeansthatstateslocalizedattheendscanexist,butdoesnotguaranteethat$\\\\hat\\\\mathcal{H}(k_x)$hasany.However,thisiseasilyseenbytransforming$\\\\hat\\\\mathcal{H}(k_x)$intorealspace,whichgives$\\\\hatH=\\\\sum_{j=1}^{W-1}(d_{j+1,\\\\uparrow}^\\\\daggerd_{j,\\\\downarrow}+d_{j,\\\\downarrow}^\\\\daggerd_{j+1,\\\\uparrow})$,where${\\\\uparrow}$,${\\\\downarrow}$nowrefertothe\\\\emph{orbital}pseudospin.The${\\\\uparrow}$(${\\\\downarrow}$)stateat$j=1$($j=W$)isnotcoupledtoanyotherstate.Thustherearetwozero-energystateslocalizedattheends.Theseargumentscanbemadeforany$k_y$forwhichthe1DBZdoesnotintersectaFermisurface.WhatdoesthistellusabouttheoriginalHamiltonian$\\\\mathcal{H}(\\\\mathbf{k})$withfixed$k_y$?ThatHamiltonianhasneither$T$nor$C$symmetryandisthusinclassA,whichistopologicallytrivialin1D.OurpointisthattheoriginalHamiltoniancanbeobtainedfrom$\\\\hat\\\\mathcal{H}(k_x)$byacontinuousdeformationwithoutclosingthegap.Duringthedeformation,the$T$and$C$symmetriesarelostsothatthezero-energyendstatesarenolongerprotected.However,theenergyoftheendstatesevolvessmoothlyduringthedeformation.Hence,for$\\\\mathcal{H}(\\\\mathbf{k})$therearestilltwoedgestatesforevery$k_y$forwhichtheeffective1DHamiltonianisgapped.Thesestateshavenoreasontobeatzeroenergyandwillgenerallyhaveanexponentiallysmalloverlapwitheachother,whichsplitstheirenergies.Inprinciple,theedgestatesarenotprotectedagainstmergingwiththebulkcontinuum.However,wefindseparateedgestateswhereverthebulkisgapped,presumablyduetolevelrepulsionbetweenedgeandbulkstates.Notethesimilaritytographene:Theedgebandatgraphenezigzagedgesisaflatzero-energybandonlyforamodelwithoutnext-nearest-neighborhopping.Inrealgraphene,itisdispersing.\\\\cite{CGP06,CGP09}\\\\begin{figure}[h]\\\\includegraphics[]{image_name}\\\\label{fig:label}\\\\end{figure}InthepresenceofaSDWwithorderingvector$\\\\mathbf{Q}=(\\\\pi,0)$,theunitcelloftheironsquarelatticeisdoubledinthe$x$direction.Therefore,thebandsarefoldedintothemagneticBZ.SDWformationopensgapsatsomeofthenewbandcrossingsbutnotatallofthem---thebandsstillsticktogetheratDiracpoints.\\\\cite{RWZ09}Figure\\\\ref{fig:2_orbital_energies_magnetic}showsthebandstructureofthe(10)stripcomparedtotheprojectedbulkbands.SpindegeneracyisnotliftedbytheSDWsincethemean-fieldHamiltonianisinvariantundercombinedspinrotationandspatialreflection$x\\\\to-x$.However,theneardegeneracybetweenbondingandantibondingcombinationsofedgestatesisstronglybroken.Weinsteadfindtwoedgestatesperspindirection,whicharelocalizedmainlyatoneedgeandaresplitinenergyduetotheoppositeexchangefieldatthetwoedges.NotethattheedgebandsareconnectedtothebulkbandsattheprojectedDiracpoints,similartographene.Moreover,Fig.~\\\\ref{fig:2_orbital_energies_magnetic}showsthatadditionaledgebandsappearwithinthenewgapsawayfromtheFermienergy.\\\\begin{figure}[h]\\\\includegraphics[]{image_name}\\\\label{fig:label}\\\\end{figure}Tocheckwhethertheedgebandsalsooccurforthefive-orbitalmodel,\\\\cite{KOA08,RWZ09}weplotinFig.\\\\\\\\ref{fig:5_orbital_energies}theenergybandsofthe(10)stripcomparedtotheprojectedbulkbandsfortheparamagneticandtheSDWphase.Intheparamagneticphasewenowfindtwoedgebands,eachofwhichistwofoldspindegenerateand,inthewidelimit,alsotwofolddegeneratebetweenbondingandantibondingcombinations.SDWorderagainleadstotheopeningofgapsatcrossingsoffoldedbands.Thetwofoldspindegeneracyremainsbuttheasymptoticdegeneracybetweenbondingandantibondingstatesislifted,forthesamereasonasforthetwo-orbitalmodel.Tounderstandtheappearanceofsurfacestatesinthefive-orbitalmodel,weagainconsidereffectivegapped1Dmodelsobtainedbyfixing$k_y$tovaluesforwhichthepaththroughtheBZatconstant$k_y$doesnotintersectaFermisurface.Inthiscase,twobandslieabovetheFermienergyandthreebelow.TheHamiltoniancanbedeformedcontinuouslywithoutclosingthegapperformingthefollowingsteps.(i)Thehoppingamplitudesbetweenthe$d_{3Z^2-R^2}$andallotherorbitalsaretunedtozeroandtheresultingdecoupledbandisshifteddowninenergy,effectivelyremovingitfromthemodel,togetherwithtwoelectronsperiron.(ii)Thehoppingamplitudesbeyondnext-nearestneighborsaretunedtozero.AllcomponentsoftheHamiltonian$\\\\mathcal{H}(k_x)$cannowbewrittenaslinearcombinationsof$\\\\cosk_x$,$\\\\sink_x$,andaconstant.(iii)Allconstanttermsaretunedtozero.(iv)Thecoefficientsof$\\\\sink_x$inthediagonalcomponentsaretunedtozero.(v)Thecoefficientsof$\\\\cosk_x$intheoff-diagonalcomponentsaretunedtozero.(vi)Theremainingcoefficientsindiagonalcomponentsaretunedtounityandinoff-diagonalcomponentsto$1/\\\\sqrt{2}$.AunitarytransformationinorbitalspacemapstheresultingHamiltonianonto\\\\begin{equation}\\\\hat\\\\mathcal{H}(k_x)=\\\\left(\\\\begin{array}{cccc}0&e^{-ik_x}&0&0\\\\\\\\e^{ik_x}&0&0&0\\\\\\\\0&0&0&e^{-ik_x}\\\\\\\\0&0&e^{ik_x}&0\\\\end{array}\\\\right).\\\\end{equation}SincethisdeformedHamiltonianjustconsistsoftwocopiesoftheHamiltonianinEq.\\\\(\\\\ref{3.Hflat.2}),ithastwosetsofzero-energyendstatesofdistinctorbitalcharacter.UpondeformingtheHamiltonianbackintotheoriginalone,theendstatesforeveryconsidered$k_y$continuouslydevelopintodispersingbands.Inaddition,thedegeneracybetweentheedgestatesofdifferentorbitalcharacterisliftedsothatweendupwithtwobands.\\\\section{Conclusions}Wehaveshownthattwomodelsofironpnictidespredicttheexistenceofdispersingbandsofsurfacestatesat(100)surfacesfortheparamagneticstate.Theycouldbeusedtoprobethetopologicallynontrivialelectronicstructure.Thesebandsaretwofoldspindegenerateandhaveanadditionaltwofolddegeneracyinthelimitofathickslabduetothedecouplingofthestateslocalisedatthetwosurfaces.Themaindifferencebetweenthetwo-orbitalandthefive-orbitalmodelisthatthelatterpredictstwoinsteadofonesuchbands.TheirexistencecanbeunderstoodfromatopologicalargumentbasedonthecontinuousdeformationoftheHamiltonianintooneinAltland-ZirnbauerclassBDI.IntheSDWstate,wherewehadguessedfromananalogytographenethatsurfacestatesmightexist,thesurfacebandssplitintotwotwofolddegeneratebands.ItshouldbenotedthatwhilethetwomodelsinheritthesurfacestatesfromtopologicallynontrivialHamiltonians,theyarenotthemselvestopologicallynontrivial.Hence,thesurfacestatesarenotrobustagainstdisorderscattering.Theanalogyisthusmorewithgraphenethanwithtopologicalinsulators.Theoriginofthesurfacestatesdiscussedhereiscompletelydifferentfromsurfacestatesat(001)surfacesofironpnictidesofthe1111family,suchas$\\\\mathrm{LaOFeAs}$,whichhavebeenobservedbyARPES.\\\\cite{LYM09,ELK10}Inthiscase,surfacebandsresultfromthepolarnatureofthesesurfaces.\\\\cite{ELK10}Surfacestatesofthiskindarenotexpectedfor$\\\\mathrm{LiFeAs}$and$\\\\mathrm{NaFeAs}$sincethe(001)surfaceofthesecompoundsisnotpolarandtheyareindeednotseenbyARPES.\\\\cite{LKB10,YLM12}ThesurfacestatespredictedherecouldbedetectedbyARPESorscanningtunnelingspectroscopyon(100)surfaces,whicharehoweverchallengingtoprepare.Analternativecouldbetunnelingintotheedgesofthin(001)films,eitherusinganSTMtip,atechniquethathasbeensuccessfulforthedetectionofedgestatesingraphene,\\\\cite{KFE05}oroneofthesetupsdiscussedinRef.\\\\\\\\onlinecite{Sei11}inthecontextofJosephsonjunctions.Suchtunnelingexperimentswouldprobethedensityofstates,whichisexpectedtobeenhancedcloseto(100)edgesofthefilm.Inparticular,thevanHovesingularitiesassociatedwithextremaofthesurfacebandsleadtoanenhancementofthedensityofstatessincethesurfacestatesareessentiallyone-dimensional.Itisaninterestingquestionwhathappenstothesurfacestateswhensuperconductivitysetsin.Superconductivityofthe$s^{+-}$typepreferredforironpnictidescouldintroduceenergygapsinthesurfacebandsdiscussedherebutalsoinduceadditionalsurface-boundstates.\\\\cite{OnT09}Bothwouldalsoberelevantforrecentsuggestionstoengineertopologicalsuperconductorsbyusingtheproximityeffectofsuperconductingironpnictides.\\\\cite{ZKM13}\\\\section*{Acknowledgments}WethankP.M.R.Brydon,M.Daghofer,andA.P.Schnyderforhelpfuldiscussions.SupportbytheDeutscheForschungsgemeinschaftthroughResearchTrainingSchoolGRK1621andPriorityProgrammeSPP1458isacknowledged.\\\\begin{thebibliography}{99}\\\\bibitem{Joh10}D.Johnston,Adv.\\\\Phys.\\\\\\\\textbf{59},803(2010).\\\\bibitem{DHD12}P.Dai,J.Hu,andE.Dagotto,NaturePhys.\\\\\\\\textbf{8},709(2012).\\\\bibitem{HaK10}M.Z.HasanandC.L.Kane,Rev.\\\\Mod.\\\\Phys.\\\\\\\\textbf{82},3045(2010).\\\\bibitem{QiZ11}X.-L.QiandS.-C.Zhang,Rev.\\\\Mod.\\\\Phys.\\\\\\\\textbf{83},1057(2011).\\\\bibitem{RWZ09}Y.Ran,F.Wang,H.Zhai,A.Vishwanath,andD.-H.Lee,Phys.\\\\Rev.\\\\B\\\\textbf{79},014505(2009).\\\\bibitem{RQL08}S.Raghu,X.-L.Qi,C.-X.Liu,D.J.Scalapino,andS.-C.Zhang,Phys.\\\\Rev.\\\\B\\\\textbf{77},220503(R)(2008).\\\\bibitem{KOA08}K.Kuroki,S.Onari,R.Arita,H.Usui,Y.Tanaka,H.Kontani,andH.Aoki,Phys.\\\\Rev.\\\\Lett.\\\\\\\\textbf{101},087004(2008).\\\\bibitem{BDT11}P.M.R.Brydon,M.Daghofer,andC.Timm,J.Phys.:Condens.\\\\Matter\\\\textbf{23},246001(2011).\\\\bibitem{SBT12}J.Schmiedt,P.M.R.Brydon,andC.Timm,Phys.\\\\Rev.\\\\B\\\\textbf{85},214425(2012).\\\\bibitem{HaS09}N.HarrisonandS.E.Sebastian,Phys.\\\\Rev.\\\\B\\\\textbf{80},224512(2009);M.Sutherland,D.J.Hills,B.S.Tan,M.M.Altarawneh,N.Harrison,J.Gillett,E.C.T.O\\'Farrell,T.M.Benseman,I.Kokanovic,P.Syers,J.R.Cooper,andS.E.Sebastian,Phys.\\\\Rev.\\\\B\\\\textbf{84},180506(R)(2011).\\\\bibitem{PBC13}I.Pallecchi,F.Bernardini,F.Caglieris,A.Palenzona,S.Massidda,andM.Putti,Eur.\\\\Phys.\\\\J.B\\\\textbf{86},338(2013).\\\\bibitem{RNS10}P.Richard,K.Nakayama,T.Sato,M.Neupane,Y.-M.Xu,J.H.Bowen,G.F.Chen,J.L.Luo,N.L.Wang,X.Dai,Z.Fang,H.Ding,andT.Takahashi,Phys.\\\\Rev.\\\\Lett.\\\\\\\\textbf{104},137001(2010).\\\\bibitem{HTT11}K.K.Huynh,Y.Tanabe,andK.Tanigaki,Phys.\\\\Rev.\\\\Lett.\\\\\\\\textbf{106},217004(2011).\\\\bibitem{TKT11}T.Terashima,N.Kurita,M.Tomita,K.Kihou,C.-H.Lee,Y.Tomioka,T.Ito,A.Iyo,H.Eisaki,T.Liang,M.Nakajima,S.Ishida,S.Uchida,H.Harima,andS.Uji,Phys.\\\\Rev.\\\\Lett.\\\\\\\\textbf{107},176402(2011).\\\\bibitem{CGP09}A.H.CastroNeto,F.Guinea,N.M.R.Peres,K.S.Novoselov,andA.K.Geim,Rev.\\\\Mod.\\\\Phys.\\\\\\\\textbf{81},109(2009).\\\\bibitem{FWN96}M.Fujita,K.Wakabayashi,K.Nakada,andK.Kusakabe,J.Phys.\\\\Soc.\\\\Jpn.\\\\\\\\textbf{65},1920(1996);K.Nakada,M.Fujita,G.Dresselhaus,andM.S.Dresselhaus,Phys.\\\\Rev.\\\\B\\\\textbf{54},17954(1996).\\\\bibitem{CGP06}A.H.CastroNeto,F.Guinea,andN.M.R.Peres,Phys.\\\\Rev.\\\\B\\\\textbf{73},205408(2006).\\\\bibitem{RyH02}S.RyuandY.Hatsugai,Phys.\\\\Rev.\\\\Lett.\\\\\\\\textbf{89},077002(2002).\\\\bibitem{YaK10}B.-J.YangandH.-Y.Kee,Phys.\\\\Rev.\\\\B\\\\textbf{82},195126(2010),inparticularnoteFig.~7.\\\\bibitem{Zir96}M.R.Zirnbauer,J.Math.\\\\Phys.\\\\\\\\textbf{37},4986(1996);A.AltlandandM.R.Zirnbauer,Phys.\\\\Rev.\\\\B\\\\textbf{55},1142(1997).\\\\bibitem{SRF08}A.P.Schnyder,S.Ryu,A.Furusaki,andA.W.W.Ludwig,Phys.\\\\Rev.\\\\B\\\\textbf{78},195125(2008).\\\\bibitem{LYM09}D.H.Lu,M.Yi,S.-K.Mo,J.G.Analytis,J.-H.Chu,A.S.Erickson,D.J.Singh,Z.Hussain,T.H.Geballe,I.R.Fisher,andZ.-X.Shen,PhysicaC\\\\textbf{469},452(2009).\\\\bibitem{ELK10}H.Eschrig,A.Lankau,andK.Koepernik,Phys.\\\\Rev.\\\\B\\\\textbf{81},155447(2010).\\\\bibitem{LKB10}A.Lankau,K.Koepernik,S.Borisenko,V.Zabolotnyy,B.B\\\\\"uchner,J.vandenBrink,andH.Eschrig,Phys.\\\\Rev.\\\\B\\\\textbf{82},184518(2010).\\\\bibitem{YLM12}M.Yi,D.H.Lu,R.G.Moore,K.Kihou,C.-H.Lee,A.Iyo,H.Eisaki,T.Yoshida,A.Fujimori,andZ.-X.Shen,NewJ.Phys.\\\\\\\\textbf{14},073019(2012).\\\\bibitem{KFE05}Y.Kobayashi,K.-i.Fukui,T.Enoki,K.Kusakabe,andY.Kaburagi,Phys.\\\\Rev.\\\\B\\\\textbf{71},193406(2005);Y.Kobayashi,K.-i.Fukui,T.Enoki,andK.Kusakabe,Phys.\\\\Rev.\\\\B\\\\textbf{73},125415(2006).\\\\bibitem{Sei11}P.Seidel,Supercond.\\\\Sci.\\\\Technol.\\\\\\\\textbf{24},043001(2011).\\\\bibitem{OnT09}S.OnariandY.Tanaka,Phys.\\\\Rev.\\\\B\\\\textbf{79},174526(2009).\\\\bibitem{ZKM13}F.Zhang,C.L.Kane,andE.J.Mele,Phys.\\\\Rev.\\\\Lett.\\\\\\\\textbf{111},056402(2013).\\\\end{thebibliography}'"
      ]
     },
     "execution_count": 36,
     "metadata": {},
     "output_type": "execute_result"
    }
   ],
   "source": [
    "tokens = tokenize_latex_file(\"/mnt/NAS/patidarritesh/latex_files/1305.1770.tex\", \"/home/patidarritesh/30k_tokenizer.json\")\n",
    "tokens\n",
    "decode_tokens(tokens, \"/home/patidarritesh/30k_tokenizer.json\")"
   ]
  },
  {
   "cell_type": "markdown",
   "metadata": {},
   "source": [
    "OLD 30k tokenizer"
   ]
  },
  {
   "cell_type": "code",
   "execution_count": 37,
   "metadata": {},
   "outputs": [
    {
     "name": "stdout",
     "output_type": "stream",
     "text": [
      "[0, 64, 3853, 95, 97, 182, 64, 3840, 95, 203, 95, 18, 19, 3511, 19, 97, 203, 97, 182, 182, 182, 64, 950, 95, 19529, 2198, 1663, 277, 26606, 280, 18486, 182, 26432, 273, 14519, 245, 1449, 97, 182, 64, 436, 95, 11362, 16299, 97, 182, 64, 3203, 95, 12556, 268, 8671, 2243, 16, 3321, 14479, 1376, 9255, 64, 6, 293, 182, 40, 405, 1131, 16, 203, 20, 21, 20, 26, 22, 474, 405, 1131, 16, 8308, 97, 182, 64, 436, 95, 3003, 10869, 15052, 81, 97, 182, 64, 6055, 95, 3342, 10869, 18, 245, 708, 36, 7679, 17, 72, 405, 1131, 18, 281, 97, 182, 64, 3203, 95, 12556, 268, 8671, 2243, 16, 3321, 14479, 1376, 9255, 64, 6, 293, 182, 40, 405, 1131, 16, 203, 20, 21, 20, 26, 22, 474, 405, 1131, 16, 8308, 97, 182, 64, 2742, 95, 64, 11235, 97, 182, 64, 376, 95, 2573, 97, 182, 375, 6879, 1570, 268, 13995, 273, 14519, 245, 1449, 304, 15981, 8923, 16, 4108, 182, 411, 249, 10147, 268, 5837, 15005, 277, 249, 2520, 1570, 326, 249, 18486, 182, 5697, 18, 2056, 15691, 427, 249, 11901, 388, 5837, 15005, 277, 8610, 16, 378, 7298, 249, 182, 14899, 3750, 182, 626, 15981, 20545, 2198, 1663, 18, 5545, 25855, 16, 5937, 268, 2198, 1663, 182, 4670, 2077, 277, 249, 26606, 1222, 18, 352, 7923, 5824, 17, 17189, 632, 182, 8096, 595, 782, 802, 5937, 18, 515, 249, 18486, 1705, 16, 1034, 2198, 5937, 182, 2860, 556, 303, 1265, 3848, 18, 727, 1512, 249, 4968, 280, 2198, 5473, 542, 2359, 182, 8675, 946, 268, 782, 17, 280, 5824, 17, 17189, 1311, 277, 242, 15601, 3714, 280, 4058, 182, 465, 1102, 1706, 364, 5247, 18, 182, 64, 336, 95, 2573, 97, 182, 64, 14697, 95, 182, 27, 24, 18, 27, 20, 18, 60, 69, 16, 203, 182, 27, 23, 18, 22, 20, 18, 4198, 16, 203, 182, 20, 23, 18, 26, 25, 18, 58, 74, 16, 203, 182, 27, 25, 18, 23, 20, 18, 42, 90, 251, 182, 97, 182, 64, 4308, 182, 64, 687, 95, 4122, 97, 182, 7574, 268, 249, 1672, 5249, 8714, 277, 17437, 182, 8939, 3818, 7421, 249, 13995, 273, 14519, 245, 1449, 64, 398, 95, 22296, 21, 20, 16, 40, 6305, 21, 22, 97, 280, 4062, 182, 10232, 268, 2874, 18, 64, 398, 95, 5079, 47, 21, 20, 16, 10929, 62, 21, 21, 97, 486, 13995, 273, 14519, 245, 1449, 444, 268, 4522, 182, 6861, 1735, 733, 1239, 4181, 13817, 388, 1052, 2625, 5891, 182, 1312, 6611, 388, 567, 5699, 518, 13885, 21016, 18, 17038, 277, 17437, 2874, 816, 182, 248, 15077, 242, 14226, 268, 4836, 277, 2002, 2064, 8923, 5247, 545, 11295, 182, 6986, 550, 2600, 1663, 18, 978, 1662, 304, 13685, 388, 249, 182, 15422, 1959, 280, 2198, 1663, 268, 13995, 273, 14519, 245, 1449, 18, 182, 660, 13995, 273, 14519, 245, 1449, 16, 2947, 13995, 203, 8, 23, 72, 8, 13083, 7757, 4314, 182, 411, 249, 6879, 1663, 2848, 305, 249, 5396, 1204, 18, 17196, 203, 64, 1272, 95, 342, 182, 250, 18, 97, 64, 398, 95, 16671, 62, 20, 29, 97, 621, 8874, 358, 540, 1239, 17189, 1982, 545, 4382, 305, 182, 82, 323, 8121, 4062, 1959, 18, 5078, 1851, 2520, 18877, 1203, 548, 249, 203, 8, 12, 20, 16, 20, 13, 8, 280, 182, 8, 12, 64, 612, 16, 64, 612, 13, 8, 1829, 277, 249, 20351, 9503, 203, 12, 15523, 13, 16, 602, 444, 2294, 388, 18690, 182, 21321, 277, 5636, 1114, 18, 1549, 242, 4759, 16, 249, 3657, 268, 242, 1910, 17, 5950, 2254, 182, 12, 5767, 59, 13, 388, 8203, 1781, 203, 8, 64, 813, 95, 53, 97, 33, 12, 64, 612, 16, 20, 13, 8, 3213, 2686, 242, 2942, 3660, 1265, 182, 18635, 9598, 267, 2077, 993, 268, 5837, 1829, 18, 64, 398, 95, 16671, 62, 20, 29, 97, 978, 2517, 182, 8515, 326, 242, 782, 17, 17189, 632, 3593, 958, 249, 1672, 2449, 182, 8, 23, 72, 67, 95, 26735, 97, 8, 280, 203, 8, 23, 72, 67, 95, 62, 60, 97, 8, 13083, 64, 398, 95, 54, 15606, 20, 28, 97, 280, 326, 242, 632, 3593, 739, 182, 18831, 203, 8, 23, 72, 8, 13083, 18, 64, 398, 95, 47, 16631, 20, 28, 97, 5617, 249, 782, 17, 17189, 632, 1840, 685, 182, 24745, 242, 7923, 4104, 16, 182, 290, 3478, 242, 10304, 4463, 268, 249, 4062, 1959, 18, 2177, 249, 1070, 2173, 16, 182, 465, 5824, 17, 17189, 632, 64, 398, 95, 47, 16631, 20, 28, 97, 2476, 242, 3369, 3577, 268, 249, 1238, 17, 1088, 2520, 182, 4715, 268, 249, 12848, 18823, 16380, 203, 8, 64, 940, 95, 3669, 3444, 1581, 51, 97, 8, 280, 857, 3455, 305, 182, 26962, 5031, 326, 249, 2200, 1050, 7794, 18, 64, 15831, 18, 64, 398, 95, 38, 7848, 21, 21, 16, 55, 8725, 21, 22, 97, 182, 41, 10231, 326, 249, 5837, 1829, 816, 1322, 182, 10844, 542, 1543, 17, 14334, 751, 3159, 16, 64, 398, 95, 5079, 55, 20, 29, 97, 182, 14985, 346, 818, 2992, 64, 398, 95, 52, 4682, 21, 23, 97, 280, 3847, 17, 12209, 182, 20715, 13060, 203, 12, 2653, 21240, 13, 18, 64, 398, 95, 54, 5458, 21, 20, 16, 44, 5596, 21, 21, 97, 1964, 16, 13868, 736, 5528, 304, 182, 21643, 277, 203, 64, 11405, 95, 56, 17145, 21, 21, 97, 18, 182, 13370, 1829, 277, 249, 2520, 1570, 621, 21256, 242, 14226, 268, 4836, 277, 249, 182, 12750, 268, 8610, 18, 64, 398, 95, 39, 7593, 20, 29, 97, 3820, 16, 5837, 1829, 17301, 1859, 305, 249, 182, 3822, 17, 672, 8495, 1570, 268, 249, 29981, 2915, 18, 5078, 444, 19860, 427, 182, 14112, 1424, 2600, 1663, 548, 1055, 17, 5746, 28524, 3567, 16, 64, 398, 95, 11337, 50, 29, 26, 16, 11657, 44, 20, 22, 16, 39, 7593, 20, 26, 16, 39, 7593, 20, 29, 97, 182, 2011, 2445, 277, 249, 203, 21, 40, 2600, 29581, 996, 249, 10252, 268, 249, 5837, 1829, 18, 182, 8739, 712, 1595, 268, 249, 1178, 25078, 268, 249, 5837, 1829, 16, 762, 1373, 9809, 3815, 182, 10945, 621, 1634, 11394, 277, 273, 14519, 245, 1449, 280, 277, 8610, 18, 8462, 16, 182, 634, 2198, 1663, 857, 1274, 277, 249, 7549, 59, 1705, 268, 249, 13995, 273, 14519, 245, 1449, 35, 182, 4366, 280, 594, 1089, 64, 398, 95, 13549, 47, 21, 20, 97, 621, 5405, 2007, 2198, 5937, 326, 242, 782, 17, 17189, 182, 2817, 388, 9081, 2599, 18, 1964, 16, 249, 3508, 5738, 5636, 16, 7549, 59, 16, 280, 182, 9868, 17, 5950, 17, 4961, 1050, 304, 685, 8874, 277, 13995, 273, 14519, 245, 1449, 280, 6167, 20970, 242, 182, 5613, 3660, 2492, 5837, 1829, 18, 182, 765, 969, 733, 358, 4686, 1424, 5937, 268, 2198, 1663, 1274, 2077, 277, 249, 182, 64, 568, 95, 4288, 3939, 97, 1705, 268, 249, 13995, 273, 14519, 245, 1449, 16, 1859, 305, 1151, 4062, 182, 8286, 18, 515, 249, 7549, 59, 1705, 16, 249, 2198, 182, 17962, 3848, 18, 978, 304, 2007, 326, 1343, 782, 17, 17189, 280, 5824, 17, 17189, 1311, 1265, 249, 182, 284, 1677, 2609, 782, 2198, 5937, 16, 5437, 249, 8293, 816, 958, 762, 18, 727, 969, 182, 25939, 249, 4062, 4100, 268, 249, 2198, 1663, 18, 182, 64, 687, 95, 19615, 280, 1072, 97, 182, 765, 754, 9934, 18, 64, 203, 64, 11405, 95, 47, 16631, 20, 28, 16, 16671, 62, 20, 29, 97, 277, 8401, 182, 8, 23, 72, 8, 13083, 388, 2235, 305, 249, 203, 8, 60, 8, 280, 203, 8, 61, 8, 13376, 268, 249, 182, 252, 1548, 75, 2070, 2915, 16, 602, 444, 20158, 427, 203, 8, 24, 25, 66, 64, 1510, 8, 2407, 305, 249, 203, 8, 92, 8, 280, 203, 8, 93, 8, 182, 9359, 272, 268, 249, 3803, 13995, 2915, 18, 486, 782, 17, 17189, 632, 64, 398, 95, 54, 15606, 20, 28, 16, 16671, 62, 20, 29, 97, 182, 248, 10737, 958, 1034, 782, 13083, 277, 242, 1863, 17, 26432, 2501, 3023, 18, 486, 3082, 304, 182, 8, 44, 33, 44, 67, 20, 15, 44, 67, 45, 8, 16, 853, 249, 892, 17, 13386, 2002, 326, 249, 3972, 878, 7468, 182, 8, 44, 67, 20, 203, 33, 203, 64, 650, 67, 95, 64, 813, 95, 79, 97, 64, 664, 97, 203, 64, 650, 67, 95, 69, 16, 70, 33, 21, 97, 66, 22, 182, 203, 297, 66, 64, 2550, 67, 95, 64, 813, 95, 79, 97, 69, 64, 664, 97, 203, 64, 587, 95, 44, 97, 67, 95, 691, 97, 12, 64, 813, 95, 79, 97, 13, 182, 203, 297, 67, 95, 64, 813, 95, 79, 97, 70, 64, 664, 97, 8, 18, 182, 3391, 16, 203, 8, 64, 587, 95, 44, 97, 12, 64, 813, 95, 79, 97, 13, 8, 304, 242, 203, 8, 22, 64, 616, 22, 8, 1495, 277, 5636, 1114, 16, 182, 64, 376, 95, 1099, 97, 182, 64, 21480, 95, 203, 64, 587, 95, 44, 97, 12, 64, 813, 95, 79, 97, 13, 203, 33, 203, 22, 88, 67, 21, 64, 16, 203, 12, 64, 1922, 695, 67, 92, 203, 17, 203, 64, 1922, 695, 67, 93, 13, 64, 16, 203, 64, 728, 66, 21, 203, 97, 182, 251, 64, 1387, 203, 656, 182, 2046, 203, 95, 97, 17, 203, 22, 12, 88, 67, 22, 17, 88, 67, 22, 11, 13, 64, 16, 64, 1944, 695, 67, 92, 203, 64, 1944, 695, 67, 93, 64, 16, 203, 64, 728, 66, 23, 203, 64, 1387, 203, 656, 182, 2046, 203, 95, 97, 15, 203, 63, 22, 12, 88, 67, 22, 15, 88, 67, 22, 11, 13, 64, 16, 64, 1922, 695, 67, 92, 203, 64, 1922, 695, 67, 93, 182, 251, 15, 203, 22, 88, 67, 21, 11, 64, 16, 12, 64, 1922, 695, 67, 92, 203, 15, 203, 64, 1922, 695, 67, 93, 13, 65, 64, 16, 203, 64, 728, 66, 20, 203, 16, 64, 882, 182, 64, 440, 95, 22, 67, 17189, 67, 44, 20, 67, 21, 97, 182, 64, 336, 95, 1099, 97, 182, 1008, 203, 8, 64, 728, 66, 21, 8, 16, 203, 8, 64, 728, 66, 22, 8, 16, 203, 8, 64, 728, 66, 23, 8, 444, 12465, 3262, 16, 203, 8, 64, 728, 66, 20, 8, 304, 249, 2501, 182, 1582, 16, 280, 249, 5636, 3035, 203, 8, 21, 8, 3343, 305, 182, 8, 23, 72, 67, 95, 62, 60, 97, 8, 280, 203, 8, 22, 8, 305, 203, 8, 23, 72, 67, 95, 26735, 97, 8, 18, 727, 7860, 249, 13592, 1592, 64, 398, 95, 16671, 62, 20, 29, 97, 182, 8, 88, 67, 21, 33, 20, 18, 23, 20, 64, 16, 64, 940, 95, 2371, 97, 8, 16, 203, 8, 88, 67, 21, 11, 33, 20, 18, 20, 26, 64, 16, 64, 940, 95, 2371, 97, 8, 16, 182, 8, 88, 67, 22, 33, 20, 18, 25, 21, 64, 16, 64, 940, 95, 2371, 97, 8, 16, 280, 203, 8, 88, 67, 22, 11, 33, 20, 18, 20, 29, 64, 16, 64, 940, 95, 2371, 97, 8, 18, 182, 1245, 249, 3451, 378, 2782, 64, 398, 95, 16671, 62, 20, 29, 97, 182, 64, 376, 95, 1099, 97, 182, 44, 67, 45, 203, 10, 203, 33, 203, 10, 203, 64, 395, 95, 57, 97, 95, 22, 97, 203, 64, 650, 67, 95, 64, 813, 95, 77, 97, 97, 203, 12, 64, 675, 316, 67, 95, 64, 813, 95, 77, 97, 21, 97, 66, 22, 203, 15, 182, 251, 64, 675, 316, 67, 95, 64, 813, 95, 77, 97, 22, 97, 66, 22, 13, 182, 251, 15, 203, 12, 57, 17, 22, 46, 13, 64, 650, 67, 95, 64, 813, 95, 77, 97, 97, 316, 67, 95, 64, 813, 95, 77, 97, 21, 97, 82, 67, 95, 64, 813, 95, 77, 97, 22, 97, 203, 64, 1387, 203, 656, 182, 2046, 203, 95, 97, 15, 511, 203, 64, 650, 67, 95, 64, 813, 95, 77, 97, 97, 203, 64, 650, 67, 95, 64, 664, 64, 664, 11, 97, 182, 203, 297, 67, 95, 64, 813, 95, 77, 97, 21, 64, 664, 97, 66, 95, 64, 2550, 97, 297, 67, 95, 64, 813, 95, 77, 97, 22, 64, 664, 11, 97, 66, 95, 64, 2550, 97, 182, 203, 297, 67, 95, 64, 813, 95, 77, 97, 21, 64, 664, 11, 97, 297, 67, 95, 64, 813, 95, 77, 97, 22, 64, 664, 97, 203, 64, 1387, 203, 656, 182, 2046, 203, 95, 97, 15, 511, 203, 64, 650, 67, 95, 64, 813, 95, 77, 97, 97, 203, 12, 72, 67, 95, 64, 813, 95, 77, 97, 21, 64, 5289, 97, 66, 95, 64, 2550, 97, 182, 203, 297, 67, 95, 64, 813, 95, 77, 97, 21, 64, 5197, 97, 66, 95, 64, 2550, 97, 72, 67, 95, 64, 813, 95, 77, 97, 22, 64, 5197, 97, 182, 203, 297, 67, 95, 64, 813, 95, 77, 97, 22, 64, 5289, 97, 203, 15, 203, 64, 940, 95, 44, 18, 71, 18, 97, 13, 203, 16, 182, 64, 440, 95, 22, 67, 17189, 67, 7824, 97, 182, 64, 336, 95, 1099, 97, 182, 1008, 203, 8, 64, 675, 316, 67, 95, 64, 813, 95, 77, 97, 69, 97, 203, 64, 2012, 203, 64, 650, 67, 64, 664, 182, 72, 67, 95, 64, 813, 95, 77, 97, 69, 64, 664, 97, 66, 95, 64, 2550, 97, 297, 67, 95, 64, 813, 95, 77, 97, 69, 64, 664, 97, 8, 16, 280, 249, 2689, 182, 7001, 444, 3752, 397, 203, 8, 57, 33, 21, 18, 22, 20, 64, 16, 64, 940, 95, 2371, 97, 8, 280, 203, 8, 46, 33, 20, 18, 21, 22, 64, 16, 64, 940, 95, 2371, 97, 8, 18, 182, 14700, 242, 7549, 59, 388, 8203, 1781, 203, 8, 64, 813, 95, 53, 97, 33, 12, 64, 612, 16, 20, 13, 8, 182, 415, 8554, 12978, 2434, 249, 203, 8, 55, 67, 94, 8, 4651, 16, 242, 2040, 17, 2105, 16881, 388, 182, 8, 64, 1290, 297, 67, 95, 64, 813, 95, 77, 97, 69, 64, 664, 97, 66, 95, 64, 2550, 97, 297, 67, 95, 64, 813, 95, 77, 97, 70, 64, 664, 97, 64, 1096, 203, 33, 182, 203, 316, 67, 95, 691, 97, 203, 15, 203, 12, 17, 21, 13, 66, 95, 77, 67, 92, 97, 64, 16, 203, 64, 395, 95, 64, 664, 97, 95, 22, 97, 64, 16, 332, 67, 95, 691, 97, 8, 182, 16331, 249, 2040, 17, 2105, 3082, 182, 64, 376, 95, 496, 97, 182, 44, 67, 95, 64, 940, 95, 7265, 97, 97, 203, 33, 472, 67, 20, 203, 15, 203, 64, 650, 67, 95, 64, 813, 95, 77, 97, 691, 97, 203, 12, 17, 21, 13, 66, 95, 77, 67, 92, 97, 49, 67, 95, 691, 97, 182, 251, 64, 717, 12, 72, 67, 95, 64, 813, 95, 77, 97, 69, 64, 5289, 97, 66, 95, 64, 2550, 97, 297, 67, 95, 64, 813, 95, 77, 97, 70, 64, 5289, 97, 182, 251, 17, 297, 67, 95, 64, 813, 95, 77, 97, 69, 64, 5197, 97, 66, 95, 64, 2550, 97, 297, 67, 95, 64, 813, 95, 77, 97, 70, 64, 5197, 97, 64, 717, 13, 203, 16, 182, 64, 440, 95, 22, 67, 17189, 67, 6929, 42, 97, 182, 64, 336, 95, 496, 97, 182, 1547, 203, 8, 49, 67, 95, 21, 21, 97, 203, 33, 203, 17, 12, 57, 81, 67, 95, 21, 21, 97, 15, 46, 81, 67, 95, 22, 22, 97, 13, 19, 22, 8, 16, 203, 8, 49, 67, 95, 22, 22, 97, 203, 33, 203, 17, 12, 57, 81, 67, 95, 22, 22, 97, 15, 46, 81, 67, 95, 21, 21, 97, 13, 19, 22, 8, 16, 182, 8, 49, 67, 95, 21, 22, 97, 203, 33, 371, 67, 95, 22, 21, 97, 203, 33, 203, 17, 46, 81, 67, 95, 22, 21, 97, 8, 18, 486, 21827, 9317, 203, 8, 82, 67, 95, 691, 97, 8, 621, 1322, 182, 1041, 22955, 1273, 203, 8, 44, 67, 20, 8, 18, 486, 1592, 203, 8, 81, 67, 95, 691, 97, 8, 444, 3523, 3024, 17, 28714, 16, 182, 17554, 4431, 12560, 18, 182, 19199, 1663, 969, 359, 3616, 326, 242, 15601, 268, 3701, 203, 8, 59, 8, 388, 203, 12, 21, 20, 13, 3567, 18, 2253, 249, 182, 6470, 84, 304, 3972, 2434, 249, 203, 8, 93, 8, 4651, 16, 203, 8, 79, 67, 93, 8, 304, 242, 3369, 1543, 993, 280, 182, 699, 8390, 1152, 242, 5011, 3878, 277, 249, 203, 8, 93, 8, 3014, 16, 182, 8, 72, 67, 95, 64, 813, 95, 77, 97, 69, 64, 664, 97, 203, 33, 499, 67, 93, 66, 95, 17, 21, 19, 22, 97, 203, 64, 650, 67, 95, 79, 67, 93, 97, 292, 66, 95, 2614, 67, 8619, 67, 93, 97, 297, 67, 95, 77, 67, 92, 79, 67, 3816, 64, 664, 97, 8, 18, 182, 375, 2040, 17, 2105, 3082, 908, 4414, 268, 6456, 268, 4146, 203, 8, 22, 59, 64, 616, 203, 22, 59, 8, 182, 507, 2160, 203, 8, 79, 67, 93, 8, 16, 203, 8, 64, 664, 8, 18, 2725, 6456, 444, 182, 8675, 1146, 7221, 16, 8049, 249, 1204, 5937, 268, 249, 15601, 878, 18, 727, 2285, 182, 18890, 358, 249, 7549, 59, 277, 249, 15601, 304, 2514, 427, 249, 1198, 1050, 182, 7001, 203, 8, 81, 67, 95, 691, 97, 8, 397, 326, 249, 3972, 878, 18, 182, 375, 5824, 17, 17189, 632, 64, 398, 95, 47, 16631, 20, 28, 97, 5880, 739, 182, 379, 2612, 6120, 2596, 1077, 203, 8, 21, 20, 64, 16, 64, 940, 95, 20138, 97, 8, 1670, 305, 17587, 9980, 18, 486, 182, 379, 2612, 6120, 280, 364, 9315, 4482, 444, 182, 10844, 542, 1541, 17, 14971, 3856, 280, 444, 25798, 4443, 277, 3257, 18, 64, 182, 64, 11405, 95, 47, 16631, 20, 28, 97, 18, 486, 2689, 203, 8, 44, 67, 45, 8, 304, 6318, 305, 182, 465, 782, 17, 17189, 632, 16, 5864, 358, 249, 715, 17189, 1544, 277, 1567, 18, 64, 182, 12, 64, 344, 95, 22, 67, 17189, 67, 7824, 97, 13, 1920, 4678, 182, 650, 87, 1027, 739, 3836, 268, 13083, 203, 8, 69, 8, 16, 203, 8, 70, 8, 16, 388, 203, 8, 69, 32, 70, 8, 16, 182, 1008, 203, 8, 69, 16, 70, 33, 21, 16, 64, 1296, 16, 25, 8, 3622, 305, 203, 8, 23, 72, 67, 95, 23, 62, 66, 22, 17, 54, 66, 22, 97, 8, 16, 203, 8, 23, 72, 67, 95, 62, 60, 97, 8, 16, 203, 8, 23, 72, 67, 95, 26735, 97, 8, 16, 182, 8, 23, 72, 67, 95, 60, 66, 22, 17, 61, 66, 22, 97, 8, 16, 203, 8, 23, 72, 67, 95, 12459, 97, 8, 18, 182, 375, 2689, 1592, 444, 3752, 305, 359, 203, 8, 57, 33, 21, 18, 20, 64, 16, 64, 940, 95, 2371, 97, 8, 280, 182, 8, 46, 33, 20, 18, 22, 64, 16, 64, 940, 95, 2371, 97, 8, 18, 64, 398, 95, 16671, 62, 20, 29, 97, 182, 13023, 242, 2040, 17, 2105, 16881, 397, 1423, 16, 378, 1512, 249, 182, 6477, 17, 2105, 3082, 203, 12, 64, 344, 95, 22, 67, 17189, 67, 6929, 42, 97, 13, 16, 853, 1920, 249, 5636, 5877, 182, 1548, 1748, 203, 8, 69, 16, 70, 33, 21, 16, 64, 1296, 16, 25, 8, 16, 280, 182, 8, 49, 67, 95, 3795, 97, 33, 17, 12, 57, 81, 67, 95, 3795, 97, 15, 46, 64, 650, 67, 95, 70, 64, 2045, 242, 97, 81, 67, 95, 711, 97, 13, 19, 22, 8, 280, 182, 8, 49, 67, 95, 691, 97, 33, 371, 67, 95, 954, 97, 203, 33, 203, 17, 46, 81, 67, 95, 691, 97, 8, 326, 203, 8, 69, 64, 2045, 311, 8, 18, 182, 375, 2040, 17, 2105, 1592, 203, 8, 81, 67, 95, 691, 97, 8, 444, 3146, 3024, 17, 28714, 16, 5592, 182, 8, 26, 8, 5364, 744, 13995, 16, 1698, 305, 2000, 15831, 18, 182, 1245, 249, 203, 12, 21, 20, 13, 15601, 16, 378, 6521, 19873, 305, 249, 782, 17, 17189, 933, 18, 2356, 182, 13270, 268, 242, 5011, 3878, 277, 249, 203, 8, 93, 8, 3014, 16, 249, 1454, 304, 3626, 182, 411, 249, 23084, 268, 203, 8, 25, 59, 64, 616, 203, 25, 59, 8, 3082, 3262, 326, 2160, 203, 8, 79, 67, 93, 8, 16, 182, 8, 64, 664, 8, 18, 182, 64, 376, 95, 869, 97, 63, 76, 65, 182, 64, 1410, 63, 65, 95, 1446, 67, 1009, 97, 182, 64, 440, 95, 552, 30, 440, 97, 182, 64, 336, 95, 869, 97, 182, 64, 687, 95, 7530, 280, 4463, 97, 182, 5045, 16, 378, 1064, 249, 782, 17, 17189, 632, 182, 11475, 7549, 59, 1050, 16, 404, 18, 73, 18, 16, 388, 203, 8, 81, 67, 95, 691, 97, 33, 20, 8, 16, 277, 242, 203, 12, 21, 20, 13, 15601, 3714, 18, 515, 182, 1877, 18, 98, 64, 344, 95, 552, 30, 22, 67, 17189, 67, 17615, 67, 1124, 3939, 97, 16, 378, 2230, 182, 465, 1204, 5937, 268, 249, 203, 12, 21, 20, 13, 15601, 268, 3701, 203, 8, 59, 33, 21, 20, 20, 8, 305, 249, 5937, 268, 249, 3972, 182, 6526, 9133, 5385, 249, 203, 12, 21, 20, 13, 2600, 29581, 18, 4730, 4482, 444, 4121, 626, 1261, 1910, 182, 9125, 18, 182, 765, 1438, 358, 249, 9855, 268, 249, 5937, 268, 249, 15601, 7724, 2263, 249, 9133, 182, 18597, 268, 4968, 5937, 18, 1964, 16, 872, 304, 267, 3156, 2520, 358, 1840, 685, 182, 916, 815, 388, 249, 4968, 5343, 18, 727, 621, 2007, 358, 249, 1698, 1663, 444, 182, 20684, 548, 249, 3567, 268, 249, 15601, 18, 352, 9423, 182, 15988, 11489, 358, 540, 2520, 16, 24316, 1910, 11325, 16, 6167, 20980, 782, 182, 17962, 16, 602, 444, 958, 5930, 8420, 18, 1082, 1516, 12297, 203, 8, 59, 8, 16, 249, 782, 182, 9605, 548, 984, 203, 8, 79, 67, 93, 8, 3622, 305, 25608, 280, 4096, 5428, 696, 8667, 268, 182, 9605, 8335, 548, 249, 782, 3567, 18, 2269, 16, 872, 304, 242, 1516, 6165, 16, 27851, 182, 240, 1063, 18, 98, 64, 344, 95, 552, 30, 22, 67, 17189, 67, 17615, 67, 1124, 3939, 97, 16, 602, 6033, 8772, 182, 1547, 3572, 203, 8, 59, 8, 18, 182, 64, 376, 95, 869, 97, 63, 76, 65, 182, 64, 1410, 63, 65, 95, 1446, 67, 1009, 97, 182, 64, 440, 95, 552, 30, 440, 97, 182, 64, 336, 95, 869, 97, 182, 375, 4100, 268, 249, 2600, 1663, 545, 359, 7664, 542, 242, 4062, 4088, 18, 182, 765, 4622, 542, 249, 892, 13386, 1097, 17, 9161, 2971, 3082, 182, 8, 64, 587, 95, 44, 97, 12, 64, 813, 95, 79, 97, 13, 8, 268, 1567, 18, 64, 203, 12, 64, 344, 95, 22, 67, 17189, 67, 44, 20, 67, 21, 97, 13, 18, 182, 765, 1064, 762, 1910, 6564, 7917, 280, 14726, 249, 1910, 3035, 18, 182, 1245, 249, 15601, 16, 203, 8, 79, 67, 93, 8, 304, 242, 1482, 268, 3125, 18, 1082, 937, 182, 10096, 1399, 268, 203, 8, 79, 67, 93, 8, 16, 378, 1512, 267, 2366, 203, 21, 40, 632, 18, 1082, 267, 3972, 878, 16, 182, 465, 29581, 268, 540, 203, 21, 40, 632, 304, 249, 3632, 388, 203, 8, 79, 67, 93, 33, 64, 940, 95, 5835, 97, 8, 268, 249, 203, 22, 40, 29581, 18, 182, 2245, 249, 203, 21, 40, 29581, 1840, 685, 2357, 1035, 5396, 2198, 16, 249, 203, 21, 40, 632, 304, 21770, 277, 249, 182, 15623, 18, 4035, 802, 203, 21, 40, 29581, 304, 1487, 427, 249, 2966, 14148, 277, 1063, 18, 64, 182, 64, 344, 95, 552, 30, 5988, 696, 67, 22, 4181, 97, 18, 203, 8, 64, 587, 95, 44, 97, 12, 64, 813, 95, 79, 97, 13, 8, 545, 359, 3786, 182, 408, 64, 398, 95, 16671, 62, 20, 29, 97, 182, 64, 376, 95, 496, 97, 182, 64, 587, 95, 44, 97, 12, 64, 813, 95, 79, 97, 13, 203, 33, 242, 12, 64, 813, 95, 79, 97, 13, 64, 16, 203, 64, 728, 66, 20, 203, 15, 311, 12, 64, 813, 95, 79, 97, 13, 64, 16, 182, 251, 12, 64, 1944, 64, 609, 67, 64, 813, 95, 79, 97, 64, 16, 203, 64, 728, 66, 21, 203, 15, 203, 64, 1922, 64, 609, 67, 64, 813, 95, 79, 97, 64, 16, 203, 64, 728, 66, 23, 13, 203, 16, 182, 64, 440, 95, 23, 18, 44, 79, 18, 22, 97, 182, 64, 336, 95, 496, 97, 182, 1547, 203, 8, 70, 12, 64, 813, 95, 79, 97, 13, 64, 366, 203, 20, 8, 18, 486, 1781, 983, 203, 8, 12, 64, 1922, 64, 609, 67, 64, 813, 95, 79, 97, 16, 182, 64, 1944, 64, 609, 67, 64, 813, 95, 79, 97, 13, 8, 304, 8175, 277, 1063, 18, 64, 203, 64, 344, 95, 552, 30, 5988, 696, 67, 22, 4181, 97, 18, 182, 2126, 9717, 13597, 388, 5825, 245, 5989, 203, 8, 64, 875, 203, 22, 8, 548, 249, 2520, 17, 24815, 15336, 1829, 182, 8, 64, 813, 95, 79, 97, 33, 12, 20, 16, 20, 13, 8, 280, 203, 8, 12, 64, 612, 16, 64, 612, 13, 8, 18, 4641, 16, 242, 18690, 182, 4214, 268, 203, 8, 15, 21, 8, 203, 12, 8, 17, 21, 8, 13, 304, 242, 1511, 781, 1196, 6807, 542, 203, 8, 79, 67, 92, 33, 17, 64, 612, 8, 305, 203, 8, 79, 67, 92, 33, 15, 64, 612, 8, 2434, 182, 69, 1075, 388, 1482, 203, 8, 79, 67, 93, 34, 20, 8, 203, 12, 8, 79, 67, 93, 32, 20, 8, 13, 18, 486, 2366, 203, 21, 40, 878, 182, 13238, 816, 242, 8923, 4062, 1570, 277, 5636, 1114, 18, 64, 398, 95, 16671, 62, 20, 29, 97, 182, 375, 10147, 268, 2600, 1663, 304, 3188, 7664, 427, 390, 6674, 249, 182, 11513, 268, 249, 2366, 203, 21, 40, 878, 1273, 762, 388, 242, 15981, 20545, 182, 5988, 696, 993, 18, 182, 1245, 2160, 203, 8, 79, 67, 93, 34, 20, 8, 203, 12, 8, 79, 67, 93, 32, 20, 8, 304, 6318, 13, 16, 378, 390, 945, 249, 3082, 182, 7872, 203, 8, 64, 692, 203, 64, 587, 95, 44, 97, 12, 79, 67, 92, 13, 203, 33, 203, 64, 1922, 695, 67, 92, 64, 16, 203, 64, 728, 66, 21, 203, 17, 203, 64, 1944, 695, 67, 92, 64, 16, 203, 64, 728, 66, 23, 8, 18, 182, 1503, 7073, 1840, 685, 2765, 249, 5247, 268, 249, 5937, 280, 16, 277, 1686, 16, 182, 263, 6808, 249, 1204, 3660, 2686, 18, 203, 8, 64, 692, 203, 64, 587, 95, 44, 97, 12, 79, 67, 92, 13, 8, 304, 2501, 3889, 2844, 305, 182, 64, 376, 95, 496, 97, 182, 64, 675, 203, 64, 587, 95, 44, 97, 12, 79, 67, 92, 13, 203, 64, 2012, 292, 66, 95, 17, 77, 203, 64, 395, 95, 64, 612, 97, 95, 24, 97, 203, 64, 728, 66, 21, 97, 182, 251, 64, 692, 203, 64, 587, 95, 44, 97, 12, 79, 67, 92, 13, 64, 16, 292, 66, 95, 77, 203, 64, 395, 95, 64, 612, 97, 95, 24, 97, 203, 64, 728, 66, 21, 97, 182, 251, 33, 203, 64, 484, 12, 64, 376, 95, 814, 97, 95, 677, 97, 182, 251, 20, 203, 10, 292, 66, 95, 17, 2614, 67, 92, 97, 203, 656, 182, 203, 292, 66, 95, 2614, 67, 92, 97, 203, 10, 203, 20, 182, 251, 64, 336, 95, 814, 97, 64, 445, 13, 203, 18, 182, 64, 440, 95, 23, 18, 44, 8273, 18, 22, 97, 182, 64, 336, 95, 496, 97, 182, 660, 249, 4968, 16, 540, 1753, 3082, 816, 249, 4863, 203, 8, 64, 875, 203, 21, 8, 326, 1743, 203, 8, 79, 67, 92, 8, 16, 182, 77, 18, 73, 18, 16, 567, 816, 4484, 5937, 18, 4641, 16, 203, 8, 64, 675, 203, 64, 587, 95, 44, 97, 12, 79, 67, 92, 13, 8, 304, 944, 17, 18925, 182, 5025, 18, 486, 4096, 16666, 944, 17, 18925, 2059, 203, 8, 56, 8, 545, 359, 3786, 397, 182, 8, 56, 33, 47, 57, 67, 56, 8, 16, 853, 203, 8, 47, 8, 304, 249, 1752, 14719, 277, 887, 2778, 280, 203, 8, 57, 67, 56, 8, 304, 5787, 182, 415, 2381, 2579, 203, 8, 57, 67, 56, 203, 64, 675, 203, 64, 587, 95, 44, 97, 66, 14, 12, 17, 79, 67, 92, 13, 693, 67, 56, 66, 64, 2550, 203, 33, 203, 64, 675, 182, 64, 587, 95, 44, 97, 12, 79, 67, 92, 13, 8, 16, 602, 304, 17444, 326, 203, 8, 57, 67, 56, 33, 64, 728, 66, 20, 8, 18, 2909, 358, 203, 8, 56, 8, 9089, 305, 182, 8, 56, 66, 22, 2]\n"
     ]
    },
    {
     "data": {
      "text/plain": [
       "'[PAD]\\\\importpackages{}\\n\\\\graphicspath{ {./images/} }\\n\\n\\n\\\\title{Topological surface states in paramagnetic and antiferromagnetic\\niron pnictides}\\n\\\\author{Alexander Lau}\\n\\\\affiliation{Institute of Theoretical Physics, Technische Universit\\\\\"at\\nDresden, 01062 Dresden, Germany}\\n\\\\author{Carsten Timm}\\n\\\\email{carsten.timm@tu-dresden.de}\\n\\\\affiliation{Institute of Theoretical Physics, Technische Universit\\\\\"at\\nDresden, 01062 Dresden, Germany}\\n\\\\date{\\\\today}\\n\\\\begin{abstract}\\nThe electronic structure of iron pnictides is topologically nontrivial, leading\\nto the appearance of Dirac cones in the band structure for the antiferromagnetic\\nphase. Motivated by the analogy with Dirac cones in graphene, we explore the\\npossible existence\\nof topologically protected surface states. Surprisingly, bands of surface states\\nexist even in the paramagnetic state. A realistic five-orbital model\\npredicts two such bands. In the antiferromagnetic phase, these surface bands\\nsurvive but split. We obtain the bulk and surface dispersion from exact\\ndiagonalization of two- and five-orbital models in a strip geometry and discuss\\nthe results based on topology.\\n\\\\end{abstract}\\n\\\\pacs{\\n74.70.Xa, \\n73.20.At, \\n03.65.Vf, \\n75.30.Fv  \\n}\\n\\\\maketitle\\n\\\\section{Introduction}\\nTwo of the most active areas in condensed\\nmatter physics concern the iron pnictides\\\\cite{Joh10,DHD12} and topological\\nproperties of matter.\\\\cite{HaK10,QiZ11} The iron pnictides are of interest\\nsince they show multiband superconductivity with high transition temperatures\\ncompeting with itinerant antiferromagnetism. Topology in condensed matter has\\nreceived a lot of attention in part because nontrivial topology can induce\\nsurface or edge states. This paper is concerned with the\\ntopological properties and surface states of iron pnictides.\\nIn iron pnictides, several iron $3d$ orbitals contribute significantly\\nto the electronic states close to the Fermi energy. Ran \\\\textit{et\\nal.}\\\\cite{RWZ09} have realized that this multiorbital character can lead to\\nnontrivial topological properties. They find band touchings at the $(0,0)$ and\\n$(\\\\pi,\\\\pi)$ points in the Brillouin zone (BZ), which are associated with winding\\nnumbers in orbital space. As a consequence, the formation of a spin-density wave\\n(SDW) with ordering vector $\\\\mathbf{Q}=(\\\\pi,0)$ cannot open a full gap but\\nrather leaves an even number of Dirac points.\\\\cite{RWZ09} This holds\\nboth for a two-orbital model including only the most important\\n$3d_{YZ}$ and $3d_{ZX}$ orbitals\\\\cite{RQL08} and for a model including all\\nfive $3d$ orbitals.\\\\cite{KOA08} While the two-orbital model does not\\ngive a realistic description,\\nit allows a simpler discussion of the topological properties. On the other hand,\\nthe five-orbital model\\\\cite{KOA08} gives a good account of the low-energy band\\nstructure of the prototypical compound $\\\\mathrm{LaFeAsO}$ and also leads to\\nreasonable predictions for the magnetic order vs.\\\\ doping.\\\\cite{BDT11,SBT12}\\nEvidence for the Dirac points has been\\nobtained from quantum-oscillation experiments,\\\\cite{HaS09}\\nmagnetotransport\\\\cite{PBC13} and angle-resolved\\nphotoemission (ARPES).\\\\cite{RNS10,HTT11} However, conflicting evidence is\\npresented in \\\\onlinecite{TKT11}.\\nDirac points in the band structure have attracted a lot of attention in the\\ncontext of graphene.\\\\cite{CGP09} There, Dirac points emerge due to the\\ntwo-sublattice structure of the honeycomb lattice. They are accompanied by\\ndispersing edge states at so-called zigzag edges,\\\\cite{FWN96,RyH02,CGP06,CGP09}\\nwhich appear in the 1D edge BZ between the projections of the Dirac points.\\nRegardless of the different origins of the Dirac points, one may ask whether\\nthey have similar consequences in pnictides and in graphene. Specifically,\\ndo surface states also exist in the SDW phase of the iron pnictides?\\nYang and Kee\\\\cite{YaK10} have indeed found surface bands for a two-orbital\\nmodel with broken symmetry. However, the required combined orbital, SDW, and\\ncharge-density-wave order is not realized in iron pnictides and actually opens a\\nfull gap without Dirac points.\\nWe will show that dispersing bands of surface states exist even in the\\n\\\\emph{paramagnetic} phase of the iron pnictides, due to its topological\\ncharacter. In the SDW phase, the surface\\nbands split. This is found for both two-orbital and five-orbital models but the\\nlatter features two surface bands, whereas the former has only one. We will\\nexplain the topological origin of the surface states.\\n\\\\section{Models and method}\\nWe follow Refs.\\\\ \\\\onlinecite{KOA08,RWZ09} in choosing\\n$3d$ orbitals with respect to the $X$ and $Y$ axes of the\\ntetragonal lattice, which are rotated by $45^\\\\circ$ relative to the $x$ and $y$\\naxes of the square iron lattice. The two-orbital model\\\\cite{RQL08,RWZ09}\\nretains only these two orbitals in a single-iron unit cell. The Hamiltonian is\\n$H=H_0+H_I$, where the non-interacting part for the extended system reads\\n$H_0 = \\\\sum_{\\\\mathbf{k}\\\\sigma} \\\\sum_{a,b=1}^2\\n  d^\\\\dagger_{\\\\mathbf{k}a\\\\sigma} \\\\mathcal{H}_{ab}(\\\\mathbf{k})\\n  d_{\\\\mathbf{k}b\\\\sigma}$.\\nHere, $\\\\mathcal{H}(\\\\mathbf{k})$ is a $2\\\\times2$ matrix in orbital space,\\n\\\\begin{eqnarray}\\n\\\\lefteqn{ \\\\mathcal{H}(\\\\mathbf{k}) = 2t_1\\\\, (\\\\cos k_x - \\\\cos k_y)\\\\, \\\\tau^1 }\\n  \\\\nonumber \\\\\\\\\\n&& {}- 2(t_2-t_2\\')\\\\,\\\\sin k_x \\\\sin k_y\\\\, \\\\tau^3 \\\\nonumber \\\\\\\\\\n&& {}+ [2(t_2+t_2\\')\\\\,\\\\cos k_x \\\\cos k_y\\n  + 2t_1\\'\\\\,(\\\\cos k_x + \\\\cos k_y)]\\\\, \\\\tau^0 ,\\\\quad\\n\\\\label{2_orbital_H0_1}\\n\\\\end{eqnarray}\\nwhere $\\\\tau^1$, $\\\\tau^2$, $\\\\tau^3$ are Pauli matrices, $\\\\tau^0$ is the unit\\nmatrix, and the orbital index $1$ corresponds to\\n$3d_{ZX}$ and $2$ to $3d_{YZ}$. We adopt the hopping parameters\\\\cite{RWZ09}\\n$t_1=0.30\\\\,\\\\mathrm{eV}$, $t_1\\'=0.06\\\\,\\\\mathrm{eV}$,\\n$t_2=0.51\\\\,\\\\mathrm{eV}$, and $t_2\\'=0.09\\\\,\\\\mathrm{eV}$.\\nFor the interactions we take\\\\cite{RWZ09}\\n\\\\begin{eqnarray}\\nH_I & = & \\\\frac{U}{2} \\\\sum_{\\\\mathbf{i}} (\\\\hat n_{\\\\mathbf{i}1}^2 +\\n  \\\\hat n_{\\\\mathbf{i}2}^2)\\n  + (U-2J)\\\\sum_{\\\\mathbf{i}} n_{\\\\mathbf{i}1}n_{\\\\mathbf{i}2} \\\\nonumber \\\\\\\\\\n&& {}+ J \\\\sum_{\\\\mathbf{i}} \\\\sum_{\\\\sigma\\\\sigma\\'}\\n  d_{\\\\mathbf{i}1\\\\sigma}^{\\\\dagger} d_{\\\\mathbf{i}2\\\\sigma\\'}^{\\\\dagger}\\n  d_{\\\\mathbf{i}1\\\\sigma\\'} d_{\\\\mathbf{i}2\\\\sigma} \\\\nonumber \\\\\\\\\\n&& {}+ J \\\\sum_{\\\\mathbf{i}} (d_{\\\\mathbf{i}1\\\\uparrow}^{\\\\dagger}\\n  d_{\\\\mathbf{i}1\\\\downarrow}^{\\\\dagger}d_{\\\\mathbf{i}2\\\\downarrow}\\n  d_{\\\\mathbf{i}2\\\\uparrow} + \\\\mathrm{H.c.}) ,\\n\\\\label{2_orbital_HI}\\n\\\\end{eqnarray}\\nwhere $\\\\hat n_{\\\\mathbf{i}a} \\\\equiv \\\\sum_\\\\sigma\\nd_{\\\\mathbf{i}a\\\\sigma}^{\\\\dagger} d_{\\\\mathbf{i}a\\\\sigma}$, and the interaction\\nparameters are chosen as $U=1.20\\\\,\\\\mathrm{eV}$ and $J=0.12\\\\,\\\\mathrm{eV}$.\\nAssuming a SDW with ordering vector $\\\\mathbf{Q}=(\\\\pi,0)$\\nand spins pointing along the $S_z$ axis, a mean-field decoupling with\\n$\\\\langle d_{\\\\mathbf{i}a\\\\sigma}^{\\\\dagger} d_{\\\\mathbf{i}b\\\\sigma}\\\\rangle =\\n  n_{ab} + (-1)^{i_x}\\\\, \\\\frac{\\\\sigma}{2}\\\\, m_{ab}$\\ngives the mean-field Hamiltonian\\n\\\\begin{equation}\\nH_{\\\\mathrm{MF}} = H_0 + \\\\sum_{\\\\mathbf{i}ab} (-1)^{i_x}M_{ab}\\n  \\\\big(d_{\\\\mathbf{i}a\\\\uparrow}^{\\\\dagger} d_{\\\\mathbf{i}b\\\\uparrow}\\n  - d_{\\\\mathbf{i}a\\\\downarrow}^{\\\\dagger} d_{\\\\mathbf{i}b\\\\downarrow}\\\\big) ,\\n\\\\label{2_orbital_HMF}\\n\\\\end{equation}\\nwith $M_{11} = -(Um_{11}+Jm_{22})/2$, $M_{22} = -(Um_{22}+Jm_{11})/2$,\\n$M_{12} = M_{21} = -Jm_{21}$. The Hartree shifts $n_{ab}$ have been\\nabsorbed into $H_0$. The parameters $m_{ab}$ are calculated self-consistently,\\nassuming half filling.\\nEdge states will be studied for a strip of width $W$ with (10) edges. Since the\\nstrip is extended along the $y$ axis, $k_y$ is a good quantum number and\\nwe carry out a Fourier transformation in the $y$ direction,\\n$d_{\\\\mathbf{i}a\\\\sigma} = N_y^{-1/2} \\\\sum_{k_y} e^{ik_yi_y} d_{i_xk_ya\\\\sigma}$.\\nThe mean-field Hamiltonian then consists of blocks of dimensions $2W\\\\times 2W$\\nfor fixed $k_y$, $\\\\sigma$. These blocks are\\ndiagonalized numerically, giving the energy bands of the strip system. We here\\nassume that the SDW in the strip is described by the same order\\nparameters $m_{ab}$ as for the extended system.\\nThe five-orbital model\\\\cite{KOA08} includes all\\nhopping amplitudes larger than $10\\\\,\\\\mathrm{meV}$ up to fifth neighbors. The\\nhopping amplitudes and onsite energies are\\nobtained from density-functional calculations and are tabulated in Ref.\\\\\\n\\\\onlinecite{KOA08}. The interaction $H_I$ is analogous to\\nthe two-orbital model, except that the interorbital terms in Eq.\\\\\\n(\\\\ref{2_orbital_HI}) now become\\nsums over all pairs of orbitals $a$, $b$, with $a<b$,\\nwhere $a,b=1,\\\\ldots,5$ correspond to $3d_{3Z^2-R^2}$, $3d_{ZX}$, $3d_{YZ}$,\\n$3d_{X^2-Y^2}$, $3d_{XY}$.\\nThe interaction parameters are chosen to be $U=1.0\\\\,\\\\mathrm{eV}$ and\\n$J=0.2\\\\,\\\\mathrm{eV}$.\\\\cite{RWZ09}\\nApplying a mean-field decoupling as above, we obtain the\\nmean-field Hamiltonian (\\\\ref{2_orbital_HMF}), where now the orbital indices\\ntraverse $a,b=1,\\\\ldots,5$, and\\n$M_{aa}=-(Um_{aa}+J\\\\sum_{b\\\\neq a}m_{bb})/2$ and\\n$M_{ab}= M_{ba} = -Jm_{ab}$ for $a\\\\neq b$.\\nThe mean-field parameters $m_{ab}$ are determined self-consistently, assuming\\n$6$ electrons per iron, corresponding to zero doping.\\nFor the (10) strip, we proceed analogously to the two-orbital case. By\\nmeans of a Fourier transformation in the $y$ direction, the problem is reduced\\nto the diagonalization of $5W\\\\times 5W$ Hamiltonian matrices for fixed $k_y$,\\n$\\\\sigma$.\\n\\\\begin{figure}[h]\\n\\\\includegraphics[]{image_name}\\n\\\\label{fig:label}\\n\\\\end{figure}\\n\\\\section{Results and discussion}\\nFirst, we consider the two-orbital model\\nwithout SDW order, i.e., with $m_{ab}=0$, in a (10) strip geometry. In\\nFig.~\\\\ref{fig:2_orbital_energies_nonmagnetic}, we compare\\nthe energy bands of the (10) strip of width $W=100$ to the bands of the extended\\nsystem projected onto the (10) edge BZ. All energies are twofold spin\\ndegenerate.\\nWe see that the majority of the bands of the strip lie within the projected\\ncontinuum of bulk bands. However, there is an additional band that does not\\nagree with the bulk continuum. We have found that the corresponding states are\\nlocalized at the edges of the strip. A closer\\nlook reveals that this band, ignoring spin degeneracy, actually comprises two\\nbands, which are only approximately degenerate. For finite widths $W$, the two\\nstates at given $k_y$ correspond to bonding and antibonding combinations of\\nstates localized at the two edges. Thus, there is a finite splitting, invisible\\nin Fig.~\\\\ref{fig:2_orbital_energies_nonmagnetic}, which decreases exponentially\\nwith increasing $W$.\\n\\\\begin{figure}[h]\\n\\\\includegraphics[]{image_name}\\n\\\\label{fig:label}\\n\\\\end{figure}\\nThe origin of the edge states can be understood from a topological argument.\\nWe start from the noninteracting first-quantized Hamiltonian\\n$\\\\mathcal{H}(\\\\mathbf{k})$ of Eq.\\\\ (\\\\ref{2_orbital_H0_1}).\\nWe consider one spin sector throughout and suppress the spin index.\\nFor the strip, $k_y$ is a constant of motion. For each\\nfixed value of $k_y$, we obtain an effective 1D model. For an extended system,\\nthe BZ of this 1D model is the subset with $k_y=\\\\mathrm{const}$ of the 2D BZ.\\nIf the 1D BZ does not cross any Fermi surface, the 1D model is gapped in the\\nbulk. One such 1D BZ is shown by the black arrow in Fig.\\\\\\n\\\\ref{fig:winding_2band}. $\\\\mathcal{H}(\\\\mathbf{k})$ can be written\\nas\\\\cite{RWZ09}\\n\\\\begin{equation}\\n\\\\mathcal{H}(\\\\mathbf{k}) = a(\\\\mathbf{k})\\\\, \\\\tau^0 + b(\\\\mathbf{k})\\\\,\\n  (\\\\sin\\\\phi_\\\\mathbf{k}\\\\, \\\\tau^1 + \\\\cos\\\\phi_\\\\mathbf{k}\\\\, \\\\tau^3) ,\\n\\\\label{3.Hk.2}\\n\\\\end{equation}\\nwith $b(\\\\mathbf{k})\\\\ge 0$. The vector field $(\\\\cos\\\\phi_\\\\mathbf{k},\\n\\\\sin\\\\phi_\\\\mathbf{k})$ is plotted in Fig.\\\\ \\\\ref{fig:winding_2band}.\\nIt exhibits vortices with vorticities $\\\\pm 2$ at the band-touching points\\n$\\\\mathbf{k}=(0,0)$ and $(\\\\pi,\\\\pi)$. Furthermore, a winding\\nnumber of $+1$ ($-1$) is aquired when moving from $k_x=-\\\\pi$ to $k_x=+\\\\pi$ along\\na line with constant $k_y>0$ ($k_y<0$). The effective 1D system\\nthus has a nontrivial topological structure in orbital space.\\\\cite{RWZ09}\\nThe appearance of edge states is best understood by deforming the\\nHamiltonian of the effective 1D system into one with a topologically protected\\nwinding number.\\nFor fixed $k_y>0$ ($k_y<0$ is analogous), we deform the Hamiltonian\\ninto $\\\\tilde \\\\mathcal{H}(k_x) = \\\\cos k_x\\\\, \\\\tau^1 - \\\\sin k_x\\\\, \\\\tau^3$.\\nThis deformation does not change the topology of the bands and, in particular,\\nleaves the energy gap open. $\\\\tilde \\\\mathcal{H}(k_x)$ is unitarily equivalent to\\n\\\\begin{equation}\\n\\\\hat \\\\mathcal{H}(k_x) \\\\equiv e^{-i \\\\frac{\\\\pi}{4} \\\\tau^1}\\n  \\\\tilde \\\\mathcal{H}(k_x)\\\\, e^{i \\\\frac{\\\\pi}{4} \\\\tau^1}\\n  = \\\\left(\\\\begin{array}{cc}\\n  0 & e^{-ik_x} \\\\\\\\\\n  e^{ik_x} & 0\\n  \\\\end{array}\\\\right) .\\n\\\\label{3.Hflat.2}\\n\\\\end{equation}\\nIn the bulk, this new Hamiltonian has the eigenvalues $\\\\pm 1$ for every $k_x$,\\ni.e., it has flat bands. Furthermore, $\\\\hat \\\\mathcal{H}(k_x)$ is time-reversal\\nsymmetric. The antiunitary time-reversal operator $T$ can be written as\\n$T=KU_T$, where $K$ is the complex conjugation in our basis and $U_T$ is unitary\\nand must satisfy $U_T \\\\hat \\\\mathcal{H}^*(-k_x) U_T^\\\\dagger = \\\\hat\\n\\\\mathcal{H}(k_x)$, which is fulfilled for $U_T=\\\\tau^0$. Note that $T$ squares to\\n$T^2[SEP]'"
      ]
     },
     "execution_count": 37,
     "metadata": {},
     "output_type": "execute_result"
    }
   ],
   "source": [
    "tokens = tokenize_latex_file(\"/mnt/NAS/patidarritesh/latex_files/1305.1770.tex\", \"/mnt/NAS/patidarritesh/PDF_2_LaTeX/pdf_2_tex/dataset/tokenizer.json\")\n",
    "tokens\n",
    "decode_tokens(tokens, \"/mnt/NAS/patidarritesh/PDF_2_LaTeX/pdf_2_tex/dataset/tokenizer.json\")"
   ]
  },
  {
   "cell_type": "markdown",
   "metadata": {},
   "source": [
    "# Nougat tokenizer 50k"
   ]
  },
  {
   "cell_type": "code",
   "execution_count": 38,
   "metadata": {},
   "outputs": [
    {
     "name": "stdout",
     "output_type": "stream",
     "text": [
      "[0, 82, 4669, 9419, 1131, 113, 115, 221, 82, 34773, 1072, 450, 113, 243, 113, 36, 37, 17185, 37, 115, 243, 115, 221, 221, 221, 82, 18097, 113, 20666, 998, 1311, 2003, 301, 24273, 312, 21228, 221, 1380, 298, 9303, 48826, 115, 221, 82, 16004, 113, 36200, 7850, 32772, 115, 221, 82, 3121, 35095, 113, 34264, 1151, 299, 13875, 10132, 34, 4501, 28192, 37313, 82, 24, 285, 221, 58, 376, 3886, 34, 243, 38, 39, 38, 44, 40, 412, 376, 3886, 34, 6420, 115, 221, 82, 16004, 113, 11751, 15576, 8416, 99, 115, 221, 82, 390, 827, 113, 3260, 15576, 36, 549, 99, 54, 18276, 35, 90, 376, 3886, 36, 639, 115, 221, 82, 3121, 35095, 113, 34264, 1151, 299, 13875, 10132, 34, 4501, 28192, 37313, 82, 24, 285, 221, 58, 376, 3886, 34, 243, 38, 39, 38, 44, 40, 412, 376, 3886, 34, 6420, 115, 221, 82, 7913, 113, 82, 106, 19112, 115, 221, 82, 2722, 113, 28499, 115, 221, 592, 5260, 1247, 299, 5114, 298, 9303, 48826, 343, 25291, 14798, 34, 3249, 221, 862, 286, 7345, 299, 9657, 20058, 301, 286, 2144, 1247, 345, 286, 21228, 221, 5278, 36, 43043, 404, 286, 16571, 363, 9657, 20058, 301, 6857, 34, 449, 5913, 286, 221, 9788, 4677, 221, 947, 25291, 11069, 1311, 2003, 36, 24503, 34, 5940, 299, 1311, 2003, 221, 35968, 1845, 301, 286, 24273, 1245, 36, 351, 9486, 2955, 35, 23081, 596, 221, 6585, 15549, 682, 780, 5940, 36, 479, 286, 21228, 1449, 34, 773, 1311, 5940, 221, 5545, 15757, 835, 4401, 36, 708, 979, 286, 5196, 312, 1311, 6075, 452, 2976, 221, 15846, 753, 299, 682, 35, 312, 2955, 35, 23081, 1287, 301, 281, 8951, 4652, 312, 1710, 221, 831, 808, 1126, 377, 6531, 36, 221, 82, 493, 113, 28499, 115, 221, 82, 29133, 113, 221, 45, 42, 36, 45, 38, 36, 78, 87, 34, 243, 221, 45, 41, 36, 40, 38, 36, 5379, 34, 243, 221, 38, 41, 36, 44, 43, 36, 76, 92, 34, 243, 221, 45, 43, 36, 41, 38, 36, 34482, 304, 221, 115, 221, 82, 16914, 18097, 221, 82, 3617, 113, 41874, 115, 221, 11879, 299, 286, 1101, 2572, 2916, 301, 18774, 221, 22710, 5937, 9510, 286, 5114, 298, 9303, 48826, 82, 43752, 113, 30915, 39, 38, 34, 58, 5749, 39, 40, 115, 312, 5725, 221, 23757, 299, 3366, 36, 82, 43752, 113, 25482, 65, 39, 38, 34, 22250, 80, 39, 39, 115, 381, 5114, 298, 9303, 48826, 417, 299, 1981, 221, 12238, 1183, 582, 1080, 4554, 18091, 363, 788, 2482, 3986, 221, 3806, 5355, 363, 43228, 456, 16407, 25182, 36, 24417, 301, 18774, 3366, 655, 221, 48131, 281, 9684, 299, 4088, 301, 1528, 1543, 14798, 6531, 496, 5792, 221, 8518, 457, 3277, 2003, 36, 732, 1473, 343, 11523, 363, 286, 221, 43448, 1428, 312, 1311, 2003, 299, 5114, 298, 9303, 48826, 36, 221, 876, 5114, 298, 9303, 48826, 34, 1830, 5114, 243, 26, 41, 90, 26, 16380, 5020, 1654, 221, 862, 286, 5260, 2003, 3108, 321, 286, 8295, 1199, 36, 21352, 243, 82, 22618, 113, 325, 221, 291, 36, 115, 82, 43752, 113, 44687, 80, 38, 47, 115, 568, 9894, 388, 495, 1080, 23081, 1137, 496, 1413, 321, 221, 100, 2620, 393, 4738, 5725, 1428, 36, 3097, 1315, 2144, 12809, 1147, 434, 286, 243, 26, 30, 38, 34, 38, 31, 26, 312, 221, 26, 30, 82, 1278, 34, 82, 1278, 31, 26, 1939, 301, 286, 25403, 5084, 243, 30, 39743, 31, 34, 529, 417, 1298, 363, 21927, 221, 34658, 301, 7810, 1440, 36, 995, 281, 5830, 34, 286, 2107, 299, 281, 2549, 35, 8675, 2194, 221, 30, 3222, 77, 31, 363, 9652, 2069, 243, 26, 82, 1291, 113, 71, 115, 51, 30, 82, 1278, 34, 38, 31, 26, 3055, 2259, 281, 2635, 4673, 835, 221, 26149, 5884, 385, 1845, 902, 299, 9657, 1939, 36, 82, 43752, 113, 44687, 80, 38, 47, 115, 732, 4032, 221, 12695, 345, 281, 682, 35, 23081, 596, 1643, 869, 286, 1101, 1494, 221, 26, 41, 90, 85, 113, 79, 80, 115, 26, 312, 243, 26, 41, 90, 85, 113, 41701, 115, 26, 16380, 82, 43752, 113, 72, 13816, 38, 46, 115, 312, 345, 281, 596, 1643, 660, 221, 18928, 243, 26, 41, 90, 26, 16380, 36, 82, 43752, 113, 12056, 55, 38, 46, 115, 3961, 286, 682, 35, 23081, 596, 1751, 530, 221, 39881, 281, 9486, 4396, 34, 221, 305, 3346, 281, 12980, 5217, 299, 286, 5725, 1428, 36, 1599, 286, 765, 1878, 34, 221, 831, 2955, 35, 23081, 596, 82, 43752, 113, 12056, 55, 38, 46, 115, 3240, 281, 2382, 3162, 299, 286, 829, 35, 6082, 2144, 221, 5973, 299, 286, 41195, 2450, 243, 26, 82, 1407, 113, 9580, 4813, 1902, 69, 115, 26, 312, 681, 3362, 321, 221, 38243, 5619, 345, 286, 2203, 1160, 3088, 36, 82, 12591, 36, 82, 43752, 113, 6056, 74, 39, 39, 34, 7376, 74, 39, 40, 115, 221, 49854, 345, 286, 9657, 1939, 655, 771, 221, 19296, 452, 2264, 35, 9766, 15921, 2119, 34, 82, 43752, 113, 25482, 73, 38, 47, 115, 221, 17150, 325, 11892, 692, 82, 43752, 113, 70, 4594, 39, 41, 115, 312, 3519, 35, 12776, 221, 46025, 18456, 243, 30, 27813, 1324, 31, 36, 82, 43752, 113, 72, 7662, 39, 38, 34, 62, 5801, 39, 39, 115, 1216, 34, 21717, 2375, 343, 221, 36440, 301, 243, 82, 283, 5321, 326, 670, 113, 74, 21090, 39, 39, 115, 36, 221, 38206, 1939, 301, 286, 2144, 1247, 568, 15764, 281, 9684, 299, 4088, 301, 286, 221, 14314, 299, 6857, 36, 82, 43752, 113, 6052, 70, 38, 47, 115, 1404, 34, 9657, 1939, 17113, 1292, 321, 286, 221, 8902, 35, 105, 1451, 46510, 1247, 299, 286, 30010, 3915, 36, 3097, 417, 9701, 404, 221, 745, 43021, 3277, 2003, 434, 891, 35, 7797, 34412, 4755, 34, 82, 43752, 113, 21671, 68, 47, 44, 34, 72, 111, 62, 38, 40, 34, 6052, 70, 38, 44, 34, 6052, 70, 38, 47, 115, 221, 3005, 2168, 301, 286, 243, 39, 58, 3277, 30324, 658, 286, 11120, 299, 286, 9657, 1939, 36, 221, 9290, 25077, 299, 286, 838, 15159, 299, 286, 9657, 1939, 34, 717, 895, 6490, 2379, 221, 19751, 568, 1271, 7606, 301, 298, 9303, 48826, 312, 301, 6857, 36, 8316, 34, 221, 4208, 1311, 2003, 681, 1974, 301, 286, 3775, 77, 1449, 299, 286, 5114, 298, 9303, 48826, 53, 221, 31174, 312, 563, 3437, 82, 43752, 113, 79, 87, 65, 39, 38, 115, 568, 6883, 1085, 1311, 5940, 345, 281, 682, 35, 23081, 221, 4643, 363, 10542, 3962, 36, 1216, 34, 286, 2270, 3342, 7810, 34, 3775, 77, 34, 312, 221, 5738, 35, 8675, 35, 6543, 1160, 343, 530, 9894, 301, 5114, 298, 9303, 48826, 312, 6474, 19710, 281, 221, 14872, 4673, 1659, 9657, 1939, 36, 221, 1246, 940, 582, 388, 48596, 5940, 299, 1311, 2003, 1974, 1845, 301, 286, 221, 82, 23353, 113, 43431, 115, 1449, 299, 286, 5114, 298, 9303, 48826, 34, 1292, 321, 844, 5725, 221, 12954, 36, 479, 286, 3775, 77, 1449, 34, 286, 1311, 221, 19532, 4401, 36, 732, 343, 1085, 345, 957, 682, 35, 23081, 312, 2955, 35, 23081, 1287, 835, 286, 221, 98, 1729, 1997, 682, 1311, 5940, 34, 3052, 286, 5533, 655, 869, 717, 36, 708, 940, 221, 14389, 429, 286, 5725, 3379, 299, 286, 1311, 2003, 36, 221, 82, 3617, 113, 42543, 312, 798, 115, 221, 1246, 742, 17079, 36, 82, 243, 82, 283, 5321, 326, 670, 113, 12056, 55, 38, 46, 34, 44687, 80, 38, 47, 115, 301, 10642, 221, 26, 41, 90, 26, 16380, 363, 2680, 321, 286, 243, 26, 78, 26, 312, 243, 26, 79, 26, 11617, 299, 286, 221, 8035, 27254, 3915, 34, 529, 417, 20174, 404, 243, 26, 42, 43, 84, 82, 3930, 26, 2229, 321, 286, 243, 26, 110, 26, 312, 243, 26, 111, 26, 221, 22261, 299, 286, 4651, 5114, 3915, 36, 381, 682, 35, 23081, 596, 82, 43752, 113, 72, 13816, 38, 46, 34, 44687, 80, 38, 47, 115, 221, 284, 12870, 869, 773, 682, 16380, 301, 281, 1364, 35, 1380, 2675, 594, 36, 381, 5805, 343, 221, 26, 62, 51, 62, 85, 38, 33, 62, 85, 63, 26, 34, 880, 286, 861, 35, 18825, 1528, 345, 286, 4127, 685, 6673, 221, 26, 62, 85, 38, 243, 51, 243, 82, 1327, 85, 113, 82, 1291, 113, 97, 115, 82, 1457, 115, 243, 82, 1327, 85, 113, 87, 34, 88, 51, 39, 115, 84, 40, 221, 243, 309, 84, 82, 5575, 85, 113, 82, 1291, 113, 97, 115, 87, 82, 1457, 115, 243, 82, 923, 113, 62, 115, 85, 113, 394, 115, 30, 82, 1291, 113, 97, 115, 31, 221, 243, 309, 85, 113, 82, 1291, 113, 97, 115, 88, 82, 1457, 115, 26, 36, 221, 4417, 34, 243, 26, 82, 923, 113, 62, 115, 30, 82, 1291, 113, 97, 115, 31, 26, 343, 281, 243, 26, 40, 82, 1459, 40, 26, 1664, 301, 7810, 1440, 34, 221, 82, 2722, 113, 39986, 2502, 115, 221, 82, 46221, 470, 103, 100, 113, 243, 82, 923, 113, 62, 115, 30, 82, 1291, 113, 97, 115, 31, 243, 51, 243, 40, 106, 85, 39, 82, 34, 243, 30, 82, 2387, 497, 85, 110, 243, 35, 243, 82, 2387, 497, 85, 111, 31, 82, 34, 243, 82, 1702, 84, 39, 243, 115, 221, 304, 82, 31040, 243, 1900, 221, 5443, 243, 113, 115, 35, 243, 40, 30, 106, 85, 40, 35, 106, 85, 40, 29, 31, 82, 34, 82, 3840, 497, 85, 110, 243, 82, 3840, 497, 85, 111, 82, 34, 243, 82, 1702, 84, 41, 243, 82, 31040, 243, 1900, 221, 5443, 243, 113, 115, 33, 243, 81, 40, 30, 106, 85, 40, 33, 106, 85, 40, 29, 31, 82, 34, 82, 2387, 497, 85, 110, 243, 82, 2387, 497, 85, 111, 221, 304, 33, 243, 40, 106, 85, 39, 29, 82, 34, 30, 82, 2387, 497, 85, 110, 243, 33, 243, 82, 2387, 497, 85, 111, 31, 83, 82, 34, 243, 82, 1702, 84, 38, 243, 34, 82, 2189, 221, 82, 6163, 113, 40, 85, 23081, 85, 62, 38, 85, 39, 115, 221, 82, 493, 113, 39986, 2502, 115, 221, 1377, 243, 26, 82, 1702, 84, 39, 26, 34, 243, 26, 82, 1702, 84, 40, 26, 34, 243, 26, 82, 1702, 84, 41, 26, 417, 20105, 4519, 34, 243, 26, 82, 1702, 84, 38, 26, 343, 286, 2675, 221, 3657, 34, 312, 286, 7810, 2340, 243, 26, 39, 26, 4251, 321, 221, 26, 41, 90, 85, 113, 41701, 115, 26, 312, 243, 26, 40, 26, 321, 243, 26, 41, 90, 85, 113, 79, 80, 115, 26, 36, 708, 10704, 286, 19300, 1448, 82, 43752, 113, 44687, 80, 38, 47, 115, 221, 26, 106, 85, 39, 51, 38, 36, 41, 38, 82, 34, 82, 1407, 113, 20770, 115, 26, 34, 243, 26, 106, 85, 39, 29, 51, 38, 36, 38, 44, 82, 34, 82, 1407, 113, 20770, 115, 26, 34, 221, 26, 106, 85, 40, 51, 38, 36, 43, 39, 82, 34, 82, 1407, 113, 20770, 115, 26, 34, 312, 243, 26, 106, 85, 40, 29, 51, 38, 36, 38, 47, 82, 34, 82, 1407, 113, 20770, 115, 26, 36, 221, 2056, 286, 2642, 449, 2978, 82, 43752, 113, 44687, 80, 38, 47, 115, 221, 82, 2722, 113, 39986, 2502, 115, 221, 62, 85, 63, 243, 28, 243, 51, 243, 28, 243, 82, 707, 113, 75, 115, 113, 40, 115, 243, 82, 1327, 85, 113, 82, 1291, 113, 95, 115, 115, 243, 30, 82, 1258, 331, 85, 113, 82, 1291, 113, 95, 115, 39, 115, 84, 40, 243, 33, 221, 304, 82, 1258, 331, 85, 113, 82, 1291, 113, 95, 115, 40, 115, 84, 40, 31, 221, 304, 33, 243, 30, 75, 35, 40, 64, 31, 82, 1327, 85, 113, 82, 1291, 113, 95, 115, 115, 331, 85, 113, 82, 1291, 113, 95, 115, 39, 115, 100, 85, 113, 82, 1291, 113, 95, 115, 40, 115, 243, 82, 31040, 243, 1900, 221, 5443, 243, 113, 115, 33, 684, 243, 82, 1327, 85, 113, 82, 1291, 113, 95, 115, 115, 243, 82, 1327, 85, 113, 82, 1457, 82, 1457, 29, 115, 221, 243, 309, 85, 113, 82, 1291, 113, 95, 115, 39, 82, 1457, 115, 84, 113, 82, 5575, 115, 309, 85, 113, 82, 1291, 113, 95, 115, 40, 82, 1457, 29, 115, 84, 113, 82, 5575, 115, 221, 243, 309, 85, 113, 82, 1291, 113, 95, 115, 39, 82, 1457, 29, 115, 309, 85, 113, 82, 1291, 113, 95, 115, 40, 82, 1457, 115, 243, 82, 31040, 243, 1900, 221, 5443, 243, 113, 115, 33, 684, 243, 82, 1327, 85, 113, 82, 1291, 113, 95, 115, 115, 243, 30, 90, 85, 113, 82, 1291, 113, 95, 115, 39, 82, 13121, 115, 84, 113, 82, 5575, 115, 221, 243, 309, 85, 113, 82, 1291, 113, 95, 115, 39, 82, 12539, 115, 84, 113, 82, 5575, 115, 90, 85, 113, 82, 1291, 113, 95, 115, 40, 82, 12539, 115, 221, 243, 309, 85, 113, 82, 1291, 113, 95, 115, 40, 82, 13121, 115, 243, 33, 243, 82, 1407, 113, 62, 36, 89, 36, 115, 31, 243, 34, 221, 82, 6163, 113, 40, 85, 23081, 85, 12617, 115, 221, 82, 493, 113, 39986, 2502, 115, 221, 1377, 243, 26, 82, 1258, 331, 85, 113, 82, 1291, 113, 95, 115, 87, 115, 243, 82, 5004, 243, 82, 1327, 85, 82, 1457, 221, 90, 85, 113, 82, 1291, 113, 95, 115, 87, 82, 1457, 115, 84, 113, 82, 5575, 115, 309, 85, 113, 82, 1291, 113, 95, 115, 87, 82, 1457, 115, 26, 34, 312, 286, 2155, 221, 10541, 417, 3988, 383, 243, 26, 75, 51, 39, 36, 40, 38, 82, 34, 82, 1407, 113, 20770, 115, 26, 312, 243, 26, 64, 51, 38, 36, 39, 40, 82, 34, 82, 1407, 113, 20770, 115, 26, 36, 221, 24432, 281, 3775, 77, 363, 9652, 2069, 243, 26, 82, 1291, 113, 71, 115, 51, 30, 82, 1278, 34, 38, 31, 26, 221, 480, 13544, 15002, 2026, 286, 243, 26, 73, 85, 112, 26, 3863, 34, 281, 1463, 35, 3748, 20998, 363, 221, 26, 82, 2634, 309, 85, 113, 82, 1291, 113, 95, 115, 87, 82, 1457, 115, 84, 113, 82, 5575, 115, 309, 85, 113, 82, 1291, 113, 95, 115, 88, 82, 1457, 115, 82, 2071, 243, 51, 221, 243, 331, 85, 113, 394, 115, 243, 33, 243, 30, 35, 39, 31, 84, 113, 95, 85, 110, 115, 82, 34, 243, 82, 707, 113, 82, 1457, 115, 113, 40, 115, 82, 34, 310, 85, 113, 394, 115, 26, 221, 32392, 286, 1463, 35, 3748, 5805, 221, 82, 2722, 113, 14571, 115, 221, 62, 85, 113, 82, 1407, 113, 8966, 115, 115, 243, 51, 414, 85, 38, 243, 33, 243, 82, 1327, 85, 113, 82, 1291, 113, 95, 115, 394, 115, 243, 30, 35, 39, 31, 84, 113, 95, 85, 110, 115, 67, 85, 113, 394, 115, 221, 304, 82, 1898, 30, 90, 85, 113, 82, 1291, 113, 95, 115, 87, 82, 13121, 115, 84, 113, 82, 5575, 115, 309, 85, 113, 82, 1291, 113, 95, 115, 88, 82, 13121, 115, 221, 304, 35, 309, 85, 113, 82, 1291, 113, 95, 115, 87, 82, 12539, 115, 84, 113, 82, 5575, 115, 309, 85, 113, 82, 1291, 113, 95, 115, 88, 82, 12539, 115, 82, 1898, 31, 243, 34, 221, 82, 6163, 113, 40, 85, 23081, 85, 62, 8966, 115, 221, 82, 493, 113, 14571, 115, 221, 2388, 243, 26, 67, 85, 113, 39, 39, 115, 243, 51, 243, 35, 30, 75, 99, 85, 113, 39, 39, 115, 33, 64, 99, 85, 113, 40, 40, 115, 31, 37, 40, 26, 34, 243, 26, 67, 85, 113, 40, 40, 115, 243, 51, 243, 35, 30, 75, 99, 85, 113, 40, 40, 115, 33, 64, 99, 85, 113, 39, 39, 115, 31, 37, 40, 26, 34, 221, 26, 67, 85, 113, 39, 40, 115, 243, 51, 382, 85, 113, 40, 39, 115, 243, 51, 243, 35, 64, 99, 85, 113, 40, 39, 115, 26, 36, 381, 25336, 8475, 243, 26, 100, 85, 113, 394, 115, 26, 568, 771, 221, 6510, 23262, 901, 243, 26, 62, 85, 38, 26, 36, 381, 1448, 243, 26, 99, 85, 113, 394, 115, 26, 417, 2131, 1368, 35, 43776, 34, 221, 26885, 3566, 12294, 36, 221, 25991, 2003, 940, 391, 2393, 345, 281, 8951, 299, 4360, 243, 26, 77, 26, 363, 243, 30, 39, 38, 31, 4755, 36, 2518, 286, 221, 17333, 343, 4127, 2026, 286, 243, 26, 111, 26, 3863, 34, 243, 26, 97, 85, 111, 26, 343, 281, 2382, 2264, 902, 312, 221, 1921, 8895, 758, 281, 6347, 4089, 301, 286, 243, 26, 111, 26, 2899, 34, 221, 26, 90, 85, 113, 82, 1291, 113, 95, 115, 87, 82, 1457, 115, 243, 51, 425, 85, 111, 84, 113, 35, 39, 37, 40, 115, 243, 82, 1327, 85, 113, 97, 85, 111, 115, 318, 84, 113, 832, 85, 19904, 85, 111, 115, 309, 85, 113, 95, 85, 110, 97, 85, 6922, 82, 1457, 115, 26, 36, 221, 592, 1463, 35, 3748, 5805, 967, 4297, 299, 5886, 299, 4607, 243, 26, 40, 77, 82, 1459, 243, 40, 77, 26, 221, 1394, 2533, 243, 26, 97, 85, 111, 26, 34, 243, 26, 82, 1457, 26, 36, 1456, 5886, 417, 221, 15846, 755, 9860, 34, 8187, 286, 1199, 5940, 299, 286, 8951, 685, 36, 708, 2281, 221, 42773, 388, 286, 3775, 77, 301, 286, 8951, 343, 1730, 404, 286, 1092, 1160, 221, 10541, 243, 26, 99, 85, 113, 394, 115, 26, 383, 345, 286, 4127, 685, 36, 221, 592, 2955, 35, 23081, 596, 82, 43752, 113, 12056, 55, 38, 46, 115, 4462, 660, 221, 15001, 3220, 8255, 2447, 748, 243, 26, 39, 38, 82, 34, 82, 1407, 113, 1841, 76, 115, 26, 900, 321, 13321, 11430, 36, 381, 221, 15001, 3220, 8255, 312, 377, 10719, 5733, 417, 221, 19296, 452, 1600, 35, 10075, 4220, 312, 417, 31019, 301, 3462, 36, 82, 221, 82, 283, 5321, 326, 670, 113, 12056, 55, 38, 46, 115, 36, 381, 2155, 243, 26, 62, 85, 63, 26, 343, 10121, 321, 221, 831, 682, 35, 23081, 596, 34, 4713, 388, 286, 590, 23081, 1757, 301, 2181, 36, 82, 221, 30, 82, 4527, 113, 40, 85, 23081, 85, 12617, 115, 31, 2253, 3625, 221, 1327, 105, 797, 660, 4074, 299, 16380, 243, 26, 87, 26, 34, 243, 26, 88, 26, 34, 363, 243, 26, 87, 50, 88, 26, 34, 221, 1377, 243, 26, 87, 34, 88, 51, 39, 34, 82, 3214, 34, 43, 26, 1297, 321, 243, 26, 41, 90, 85, 113, 41, 80, 84, 40, 35, 72, 84, 40, 115, 26, 34, 243, 26, 41, 90, 85, 113, 41701, 115, 26, 34, 243, 26, 41, 90, 85, 113, 79, 80, 115, 26, 34, 221, 26, 41, 90, 85, 113, 78, 84, 40, 35, 79, 84, 40, 115, 26, 34, 243, 26, 41, 90, 85, 113, 16808, 115, 26, 36, 221, 592, 2155, 1448, 417, 3988, 321, 391, 243, 26, 75, 51, 39, 36, 38, 82, 34, 82, 1407, 113, 20770, 115, 26, 312, 221, 26, 64, 51, 38, 36, 40, 82, 34, 82, 1407, 113, 20770, 115, 26, 36, 82, 43752, 113, 44687, 80, 38, 47, 115, 221, 23351, 281, 1463, 35, 3748, 20998, 383, 1504, 34, 449, 979, 286, 221, 6084, 35, 3748, 5805, 243, 30, 82, 4527, 113, 40, 85, 23081, 85, 62, 8966, 115, 31, 34, 880, 2253, 286, 7810, 5959, 221, 5539, 1940, 243, 26, 87, 34, 88, 51, 39, 34, 82, 3214, 34, 43, 26, 34, 312, 221, 26, 67, 85, 113, 13404, 115, 51, 35, 30, 75, 99, 85, 113, 13404, 115, 33, 64, 82, 1327, 85, 113, 88, 82, 4782, 281, 115, 99, 85, 113, 7371, 115, 31, 37, 40, 26, 312, 221, 26, 67, 85, 113, 394, 115, 51, 382, 85, 113, 6540, 115, 243, 51, 243, 35, 64, 99, 85, 113, 394, 115, 26, 345, 243, 26, 87, 82, 4782, 311, 26, 36, 221, 592, 1463, 35, 3748, 1448, 243, 26, 99, 85, 113, 394, 115, 26, 417, 2039, 1368, 35, 43776, 34, 7081, 221, 26, 44, 26, 6174, 536, 5114, 34, 1806, 321, 2474, 12591, 36, 221, 2056, 286, 243, 30, 39, 38, 31, 8951, 34, 449, 7224, 32509, 321, 286, 682, 35, 23081, 1000, 36, 2487, 221, 15849, 299, 281, 6347, 4089, 301, 286, 243, 26, 111, 26, 2899, 34, 286, 1203, 343, 2126, 221, 862, 286, 37064, 299, 243, 26, 43, 77, 82, 1459, 243, 43, 77, 26, 5805, 4519, 345, 2533, 243, 26, 97, 85, 111, 26, 34, 221, 26, 82, 1457, 26, 36, 221, 82, 2722, 113, 12011, 115, 81, 94, 83, 221, 82, 3974, 431, 905, 932, 1082, 81, 83, 113, 8874, 85, 1941, 115, 221, 82, 6163, 113, 3888, 48, 6163, 115, 221, 82, 493, 113, 12011, 115, 221, 82, 3617, 113, 10790, 312, 5217, 115, 221, 8658, 34, 449, 1429, 286, 682, 35, 23081, 596, 221, 15270, 3775, 77, 1160, 34, 578, 36, 91, 36, 34, 363, 243, 26, 99, 85, 113, 394, 115, 51, 38, 26, 34, 301, 281, 243, 30, 39, 38, 31, 8951, 4652, 36, 479, 221, 751, 36, 116, 82, 4527, 113, 3888, 48, 40, 85, 23081, 85, 32354, 85, 6017, 16840, 115, 34, 449, 4051, 221, 831, 1199, 5940, 299, 286, 243, 30, 39, 38, 31, 8951, 299, 4360, 243, 26, 77, 51, 39, 38, 38, 26, 321, 286, 5940, 299, 286, 4127, 221, 11029, 11218, 5060, 286, 243, 30, 39, 38, 31, 3277, 30324, 36, 2009, 5733, 417, 29110, 2549, 221, 21521, 36, 221, 1246, 1694, 388, 286, 5468, 299, 286, 5940, 299, 286, 8951, 9691, 1358, 286, 11218, 221, 31424, 299, 5196, 5940, 36, 1216, 34, 841, 343, 385, 2626, 2144, 388, 1751, 530, 221, 406, 675, 363, 286, 5196, 8071, 36, 708, 568, 1085, 388, 286, 1806, 2003, 417, 221, 28789, 434, 286, 4755, 299, 286, 8951, 36, 351, 9445, 221, 18881, 6759, 388, 495, 2144, 34, 26317, 2549, 18089, 34, 6474, 14279, 682, 221, 19532, 34, 529, 417, 869, 3564, 13056, 36, 971, 2348, 15845, 243, 26, 77, 26, 34, 286, 682, 221, 10398, 434, 1179, 243, 26, 97, 85, 111, 26, 1297, 321, 11425, 312, 2249, 40764, 7257, 299, 221, 10398, 7666, 434, 286, 682, 4755, 36, 2093, 34, 841, 343, 281, 2348, 8400, 34, 28141, 221, 280, 886, 36, 116, 82, 4527, 113, 3888, 48, 40, 85, 23081, 85, 32354, 85, 6017, 16840, 115, 34, 529, 4899, 12266, 221, 2388, 2288, 243, 26, 77, 26, 36, 221, 82, 2722, 113, 12011, 115, 81, 94, 83, 221, 82, 3974, 431, 905, 932, 1082, 81, 83, 113, 8874, 85, 1941, 115, 221, 82, 6163, 113, 3888, 48, 6163, 115, 221, 82, 493, 113, 12011, 115, 221, 592, 3379, 299, 286, 3277, 2003, 496, 391, 7347, 452, 281, 5725, 5899, 36, 221, 1246, 3938, 452, 286, 861, 18825, 935, 35, 18304, 4318, 5805, 221, 26, 82, 923, 113, 62, 115, 30, 82, 1291, 113, 97, 115, 31, 26, 299, 2181, 36, 82, 243, 30, 82, 4527, 113, 40, 85, 23081, 85, 62, 38, 85, 39, 115, 31, 36, 221, 1246, 1429, 717, 2549, 7775, 4877, 312, 6259, 286, 2549, 2340, 36, 221, 2056, 286, 8951, 34, 243, 26, 97, 85, 111, 26, 343, 281, 1932, 299, 3210, 36, 971, 812, 221, 15390, 1188, 299, 243, 26, 97, 85, 111, 26, 34, 449, 979, 385, 2217, 243, 39, 58, 596, 36, 971, 385, 4127, 685, 34, 221, 831, 30324, 299, 495, 243, 39, 58, 596, 343, 286, 3636, 363, 243, 26, 97, 85, 111, 51, 82, 1407, 113, 4254, 115, 26, 299, 286, 243, 40, 58, 30324, 36, 221, 4028, 286, 243, 39, 58, 30324, 1751, 530, 1994, 1109, 8295, 1311, 34, 286, 243, 39, 58, 596, 343, 34540, 301, 286, 221, 35104, 36, 2858, 780, 243, 39, 58, 30324, 343, 1107, 404, 286, 3232, 11759, 301, 886, 36, 82, 221, 82, 4527, 113, 3888, 48, 109, 1920, 85, 40, 4554, 115, 36, 243, 26, 82, 923, 113, 62, 115, 30, 82, 1291, 113, 97, 115, 31, 26, 496, 391, 4259, 221, 317, 82, 43752, 113, 44687, 80, 38, 47, 115, 221, 82, 2722, 113, 14571, 115, 221, 82, 923, 113, 62, 115, 30, 82, 1291, 113, 97, 115, 31, 243, 51, 281, 30, 82, 1291, 113, 97, 115, 31, 82, 34, 243, 82, 1702, 84, 38, 243, 33, 311, 30, 82, 1291, 113, 97, 115, 31, 82, 34, 221, 304, 30, 82, 3840, 82, 1256, 85, 82, 1291, 113, 97, 115, 82, 34, 243, 82, 1702, 84, 39, 243, 33, 243, 82, 2387, 82, 1256, 85, 82, 1291, 113, 97, 115, 82, 34, 243, 82, 1702, 84, 41, 31, 243, 34, 221, 82, 6163, 113, 41, 36, 62, 97, 36, 40, 115, 2]\n",
      "[0, 82, 4669, 9419, 1131, 113, 115, 221, 82, 34773, 1072, 450, 113, 243, 113, 36, 37, 17185, 37, 115, 243, 115, 221, 221, 221, 82, 18097, 113, 20666, 998, 1311, 2003, 301, 24273, 312, 21228, 221, 1380, 298, 9303, 48826, 115, 221, 82, 16004, 113, 36200, 7850, 32772, 115, 221, 82, 3121, 35095, 113, 34264, 1151, 299, 13875, 10132, 34, 4501, 28192, 37313, 82, 24, 285, 221, 58, 376, 3886, 34, 243, 38, 39, 38, 44, 40, 412, 376, 3886, 34, 6420, 115, 221, 82, 16004, 113, 11751, 15576, 8416, 99, 115, 221, 82, 390, 827, 113, 3260, 15576, 36, 549, 99, 54, 18276, 35, 90, 376, 3886, 36, 639, 115, 221, 82, 3121, 35095, 113, 34264, 1151, 299, 13875, 10132, 34, 4501, 28192, 37313, 82, 24, 285, 221, 58, 376, 3886, 34, 243, 38, 39, 38, 44, 40, 412, 376, 3886, 34, 6420, 115, 221, 82, 7913, 113, 82, 106, 19112, 115, 221, 82, 2722, 113, 28499, 115, 221, 592, 5260, 1247, 299, 5114, 298, 9303, 48826, 343, 25291, 14798, 34, 3249, 221, 862, 286, 7345, 299, 9657, 20058, 301, 286, 2144, 1247, 345, 286, 21228, 221, 5278, 36, 43043, 404, 286, 16571, 363, 9657, 20058, 301, 6857, 34, 449, 5913, 286, 221, 9788, 4677, 221, 947, 25291, 11069, 1311, 2003, 36, 24503, 34, 5940, 299, 1311, 2003, 221, 35968, 1845, 301, 286, 24273, 1245, 36, 351, 9486, 2955, 35, 23081, 596, 221, 6585, 15549, 682, 780, 5940, 36, 479, 286, 21228, 1449, 34, 773, 1311, 5940, 221, 5545, 15757, 835, 4401, 36, 708, 979, 286, 5196, 312, 1311, 6075, 452, 2976, 221, 15846, 753, 299, 682, 35, 312, 2955, 35, 23081, 1287, 301, 281, 8951, 4652, 312, 1710, 221, 831, 808, 1126, 377, 6531, 36, 221, 82, 493, 113, 28499, 115, 221, 82, 29133, 113, 221, 45, 42, 36, 45, 38, 36, 78, 87, 34, 243, 221, 45, 41, 36, 40, 38, 36, 5379, 34, 243, 221, 38, 41, 36, 44, 43, 36, 76, 92, 34, 243, 221, 45, 43, 36, 41, 38, 36, 34482, 304, 221, 115, 221, 82, 16914, 18097, 221, 82, 3617, 113, 41874, 115, 221, 11879, 299, 286, 1101, 2572, 2916, 301, 18774, 221, 22710, 5937, 9510, 286, 5114, 298, 9303, 48826, 82, 43752, 113, 30915, 39, 38, 34, 58, 5749, 39, 40, 115, 312, 5725, 221, 23757, 299, 3366, 36, 82, 43752, 113, 25482, 65, 39, 38, 34, 22250, 80, 39, 39, 115, 381, 5114, 298, 9303, 48826, 417, 299, 1981, 221, 12238, 1183, 582, 1080, 4554, 18091, 363, 788, 2482, 3986, 221, 3806, 5355, 363, 43228, 456, 16407, 25182, 36, 24417, 301, 18774, 3366, 655, 221, 48131, 281, 9684, 299, 4088, 301, 1528, 1543, 14798, 6531, 496, 5792, 221, 8518, 457, 3277, 2003, 36, 732, 1473, 343, 11523, 363, 286, 221, 43448, 1428, 312, 1311, 2003, 299, 5114, 298, 9303, 48826, 36, 221, 876, 5114, 298, 9303, 48826, 34, 1830, 5114, 243, 26, 41, 90, 26, 16380, 5020, 1654, 221, 862, 286, 5260, 2003, 3108, 321, 286, 8295, 1199, 36, 21352, 243, 82, 22618, 113, 325, 221, 291, 36, 115, 82, 43752, 113, 44687, 80, 38, 47, 115, 568, 9894, 388, 495, 1080, 23081, 1137, 496, 1413, 321, 221, 100, 2620, 393, 4738, 5725, 1428, 36, 3097, 1315, 2144, 12809, 1147, 434, 286, 243, 26, 30, 38, 34, 38, 31, 26, 312, 221, 26, 30, 82, 1278, 34, 82, 1278, 31, 26, 1939, 301, 286, 25403, 5084, 243, 30, 39743, 31, 34, 529, 417, 1298, 363, 21927, 221, 34658, 301, 7810, 1440, 36, 995, 281, 5830, 34, 286, 2107, 299, 281, 2549, 35, 8675, 2194, 221, 30, 3222, 77, 31, 363, 9652, 2069, 243, 26, 82, 1291, 113, 71, 115, 51, 30, 82, 1278, 34, 38, 31, 26, 3055, 2259, 281, 2635, 4673, 835, 221, 26149, 5884, 385, 1845, 902, 299, 9657, 1939, 36, 82, 43752, 113, 44687, 80, 38, 47, 115, 732, 4032, 221, 12695, 345, 281, 682, 35, 23081, 596, 1643, 869, 286, 1101, 1494, 221, 26, 41, 90, 85, 113, 79, 80, 115, 26, 312, 243, 26, 41, 90, 85, 113, 41701, 115, 26, 16380, 82, 43752, 113, 72, 13816, 38, 46, 115, 312, 345, 281, 596, 1643, 660, 221, 18928, 243, 26, 41, 90, 26, 16380, 36, 82, 43752, 113, 12056, 55, 38, 46, 115, 3961, 286, 682, 35, 23081, 596, 1751, 530, 221, 39881, 281, 9486, 4396, 34, 221, 305, 3346, 281, 12980, 5217, 299, 286, 5725, 1428, 36, 1599, 286, 765, 1878, 34, 221, 831, 2955, 35, 23081, 596, 82, 43752, 113, 12056, 55, 38, 46, 115, 3240, 281, 2382, 3162, 299, 286, 829, 35, 6082, 2144, 221, 5973, 299, 286, 41195, 2450, 243, 26, 82, 1407, 113, 9580, 4813, 1902, 69, 115, 26, 312, 681, 3362, 321, 221, 38243, 5619, 345, 286, 2203, 1160, 3088, 36, 82, 12591, 36, 82, 43752, 113, 6056, 74, 39, 39, 34, 7376, 74, 39, 40, 115, 221, 49854, 345, 286, 9657, 1939, 655, 771, 221, 19296, 452, 2264, 35, 9766, 15921, 2119, 34, 82, 43752, 113, 25482, 73, 38, 47, 115, 221, 17150, 325, 11892, 692, 82, 43752, 113, 70, 4594, 39, 41, 115, 312, 3519, 35, 12776, 221, 46025, 18456, 243, 30, 27813, 1324, 31, 36, 82, 43752, 113, 72, 7662, 39, 38, 34, 62, 5801, 39, 39, 115, 1216, 34, 21717, 2375, 343, 221, 36440, 301, 243, 82, 283, 5321, 326, 670, 113, 74, 21090, 39, 39, 115, 36, 221, 38206, 1939, 301, 286, 2144, 1247, 568, 15764, 281, 9684, 299, 4088, 301, 286, 221, 14314, 299, 6857, 36, 82, 43752, 113, 6052, 70, 38, 47, 115, 1404, 34, 9657, 1939, 17113, 1292, 321, 286, 221, 8902, 35, 105, 1451, 46510, 1247, 299, 286, 30010, 3915, 36, 3097, 417, 9701, 404, 221, 745, 43021, 3277, 2003, 434, 891, 35, 7797, 34412, 4755, 34, 82, 43752, 113, 21671, 68, 47, 44, 34, 72, 111, 62, 38, 40, 34, 6052, 70, 38, 44, 34, 6052, 70, 38, 47, 115, 221, 3005, 2168, 301, 286, 243, 39, 58, 3277, 30324, 658, 286, 11120, 299, 286, 9657, 1939, 36, 221, 9290, 25077, 299, 286, 838, 15159, 299, 286, 9657, 1939, 34, 717, 895, 6490, 2379, 221, 19751, 568, 1271, 7606, 301, 298, 9303, 48826, 312, 301, 6857, 36, 8316, 34, 221, 4208, 1311, 2003, 681, 1974, 301, 286, 3775, 77, 1449, 299, 286, 5114, 298, 9303, 48826, 53, 221, 31174, 312, 563, 3437, 82, 43752, 113, 79, 87, 65, 39, 38, 115, 568, 6883, 1085, 1311, 5940, 345, 281, 682, 35, 23081, 221, 4643, 363, 10542, 3962, 36, 1216, 34, 286, 2270, 3342, 7810, 34, 3775, 77, 34, 312, 221, 5738, 35, 8675, 35, 6543, 1160, 343, 530, 9894, 301, 5114, 298, 9303, 48826, 312, 6474, 19710, 281, 221, 14872, 4673, 1659, 9657, 1939, 36, 221, 1246, 940, 582, 388, 48596, 5940, 299, 1311, 2003, 1974, 1845, 301, 286, 221, 82, 23353, 113, 43431, 115, 1449, 299, 286, 5114, 298, 9303, 48826, 34, 1292, 321, 844, 5725, 221, 12954, 36, 479, 286, 3775, 77, 1449, 34, 286, 1311, 221, 19532, 4401, 36, 732, 343, 1085, 345, 957, 682, 35, 23081, 312, 2955, 35, 23081, 1287, 835, 286, 221, 98, 1729, 1997, 682, 1311, 5940, 34, 3052, 286, 5533, 655, 869, 717, 36, 708, 940, 221, 14389, 429, 286, 5725, 3379, 299, 286, 1311, 2003, 36, 221, 82, 3617, 113, 42543, 312, 798, 115, 221, 1246, 742, 17079, 36, 82, 243, 82, 283, 5321, 326, 670, 113, 12056, 55, 38, 46, 34, 44687, 80, 38, 47, 115, 301, 10642, 221, 26, 41, 90, 26, 16380, 363, 2680, 321, 286, 243, 26, 78, 26, 312, 243, 26, 79, 26, 11617, 299, 286, 221, 8035, 27254, 3915, 34, 529, 417, 20174, 404, 243, 26, 42, 43, 84, 82, 3930, 26, 2229, 321, 286, 243, 26, 110, 26, 312, 243, 26, 111, 26, 221, 22261, 299, 286, 4651, 5114, 3915, 36, 381, 682, 35, 23081, 596, 82, 43752, 113, 72, 13816, 38, 46, 34, 44687, 80, 38, 47, 115, 221, 284, 12870, 869, 773, 682, 16380, 301, 281, 1364, 35, 1380, 2675, 594, 36, 381, 5805, 343, 221, 26, 62, 51, 62, 85, 38, 33, 62, 85, 63, 26, 34, 880, 286, 861, 35, 18825, 1528, 345, 286, 4127, 685, 6673, 221, 26, 62, 85, 38, 243, 51, 243, 82, 1327, 85, 113, 82, 1291, 113, 97, 115, 82, 1457, 115, 243, 82, 1327, 85, 113, 87, 34, 88, 51, 39, 115, 84, 40, 221, 243, 309, 84, 82, 5575, 85, 113, 82, 1291, 113, 97, 115, 87, 82, 1457, 115, 243, 82, 923, 113, 62, 115, 85, 113, 394, 115, 30, 82, 1291, 113, 97, 115, 31, 221, 243, 309, 85, 113, 82, 1291, 113, 97, 115, 88, 82, 1457, 115, 26, 36, 221, 4417, 34, 243, 26, 82, 923, 113, 62, 115, 30, 82, 1291, 113, 97, 115, 31, 26, 343, 281, 243, 26, 40, 82, 1459, 40, 26, 1664, 301, 7810, 1440, 34, 221, 82, 2722, 113, 39986, 2502, 115, 221, 82, 46221, 470, 103, 100, 113, 243, 82, 923, 113, 62, 115, 30, 82, 1291, 113, 97, 115, 31, 243, 51, 243, 40, 106, 85, 39, 82, 34, 243, 30, 82, 2387, 497, 85, 110, 243, 35, 243, 82, 2387, 497, 85, 111, 31, 82, 34, 243, 82, 1702, 84, 39, 243, 115, 221, 304, 82, 31040, 243, 1900, 221, 5443, 243, 113, 115, 35, 243, 40, 30, 106, 85, 40, 35, 106, 85, 40, 29, 31, 82, 34, 82, 3840, 497, 85, 110, 243, 82, 3840, 497, 85, 111, 82, 34, 243, 82, 1702, 84, 41, 243, 82, 31040, 243, 1900, 221, 5443, 243, 113, 115, 33, 243, 81, 40, 30, 106, 85, 40, 33, 106, 85, 40, 29, 31, 82, 34, 82, 2387, 497, 85, 110, 243, 82, 2387, 497, 85, 111, 221, 304, 33, 243, 40, 106, 85, 39, 29, 82, 34, 30, 82, 2387, 497, 85, 110, 243, 33, 243, 82, 2387, 497, 85, 111, 31, 83, 82, 34, 243, 82, 1702, 84, 38, 243, 34, 82, 2189, 221, 82, 6163, 113, 40, 85, 23081, 85, 62, 38, 85, 39, 115, 221, 82, 493, 113, 39986, 2502, 115, 221, 1377, 243, 26, 82, 1702, 84, 39, 26, 34, 243, 26, 82, 1702, 84, 40, 26, 34, 243, 26, 82, 1702, 84, 41, 26, 417, 20105, 4519, 34, 243, 26, 82, 1702, 84, 38, 26, 343, 286, 2675, 221, 3657, 34, 312, 286, 7810, 2340, 243, 26, 39, 26, 4251, 321, 221, 26, 41, 90, 85, 113, 41701, 115, 26, 312, 243, 26, 40, 26, 321, 243, 26, 41, 90, 85, 113, 79, 80, 115, 26, 36, 708, 10704, 286, 19300, 1448, 82, 43752, 113, 44687, 80, 38, 47, 115, 221, 26, 106, 85, 39, 51, 38, 36, 41, 38, 82, 34, 82, 1407, 113, 20770, 115, 26, 34, 243, 26, 106, 85, 39, 29, 51, 38, 36, 38, 44, 82, 34, 82, 1407, 113, 20770, 115, 26, 34, 221, 26, 106, 85, 40, 51, 38, 36, 43, 39, 82, 34, 82, 1407, 113, 20770, 115, 26, 34, 312, 243, 26, 106, 85, 40, 29, 51, 38, 36, 38, 47, 82, 34, 82, 1407, 113, 20770, 115, 26, 36, 221, 2056, 286, 2642, 449, 2978, 82, 43752, 113, 44687, 80, 38, 47, 115, 221, 82, 2722, 113, 39986, 2502, 115, 221, 62, 85, 63, 243, 28, 243, 51, 243, 28, 243, 82, 707, 113, 75, 115, 113, 40, 115, 243, 82, 1327, 85, 113, 82, 1291, 113, 95, 115, 115, 243, 30, 82, 1258, 331, 85, 113, 82, 1291, 113, 95, 115, 39, 115, 84, 40, 243, 33, 221, 304, 82, 1258, 331, 85, 113, 82, 1291, 113, 95, 115, 40, 115, 84, 40, 31, 221, 304, 33, 243, 30, 75, 35, 40, 64, 31, 82, 1327, 85, 113, 82, 1291, 113, 95, 115, 115, 331, 85, 113, 82, 1291, 113, 95, 115, 39, 115, 100, 85, 113, 82, 1291, 113, 95, 115, 40, 115, 243, 82, 31040, 243, 1900, 221, 5443, 243, 113, 115, 33, 684, 243, 82, 1327, 85, 113, 82, 1291, 113, 95, 115, 115, 243, 82, 1327, 85, 113, 82, 1457, 82, 1457, 29, 115, 221, 243, 309, 85, 113, 82, 1291, 113, 95, 115, 39, 82, 1457, 115, 84, 113, 82, 5575, 115, 309, 85, 113, 82, 1291, 113, 95, 115, 40, 82, 1457, 29, 115, 84, 113, 82, 5575, 115, 221, 243, 309, 85, 113, 82, 1291, 113, 95, 115, 39, 82, 1457, 29, 115, 309, 85, 113, 82, 1291, 113, 95, 115, 40, 82, 1457, 115, 243, 82, 31040, 243, 1900, 221, 5443, 243, 113, 115, 33, 684, 243, 82, 1327, 85, 113, 82, 1291, 113, 95, 115, 115, 243, 30, 90, 85, 113, 82, 1291, 113, 95, 115, 39, 82, 13121, 115, 84, 113, 82, 5575, 115, 221, 243, 309, 85, 113, 82, 1291, 113, 95, 115, 39, 82, 12539, 115, 84, 113, 82, 5575, 115, 90, 85, 113, 82, 1291, 113, 95, 115, 40, 82, 12539, 115, 221, 243, 309, 85, 113, 82, 1291, 113, 95, 115, 40, 82, 13121, 115, 243, 33, 243, 82, 1407, 113, 62, 36, 89, 36, 115, 31, 243, 34, 221, 82, 6163, 113, 40, 85, 23081, 85, 12617, 115, 221, 82, 493, 113, 39986, 2502, 115, 221, 1377, 243, 26, 82, 1258, 331, 85, 113, 82, 1291, 113, 95, 115, 87, 115, 243, 82, 5004, 243, 82, 1327, 85, 82, 1457, 221, 90, 85, 113, 82, 1291, 113, 95, 115, 87, 82, 1457, 115, 84, 113, 82, 5575, 115, 309, 85, 113, 82, 1291, 113, 95, 115, 87, 82, 1457, 115, 26, 34, 312, 286, 2155, 221, 10541, 417, 3988, 383, 243, 26, 75, 51, 39, 36, 40, 38, 82, 34, 82, 1407, 113, 20770, 115, 26, 312, 243, 26, 64, 51, 38, 36, 39, 40, 82, 34, 82, 1407, 113, 20770, 115, 26, 36, 221, 24432, 281, 3775, 77, 363, 9652, 2069, 243, 26, 82, 1291, 113, 71, 115, 51, 30, 82, 1278, 34, 38, 31, 26, 221, 480, 13544, 15002, 2026, 286, 243, 26, 73, 85, 112, 26, 3863, 34, 281, 1463, 35, 3748, 20998, 363, 221, 26, 82, 2634, 309, 85, 113, 82, 1291, 113, 95, 115, 87, 82, 1457, 115, 84, 113, 82, 5575, 115, 309, 85, 113, 82, 1291, 113, 95, 115, 88, 82, 1457, 115, 82, 2071, 243, 51, 221, 243, 331, 85, 113, 394, 115, 243, 33, 243, 30, 35, 39, 31, 84, 113, 95, 85, 110, 115, 82, 34, 243, 82, 707, 113, 82, 1457, 115, 113, 40, 115, 82, 34, 310, 85, 113, 394, 115, 26, 221, 32392, 286, 1463, 35, 3748, 5805, 221, 82, 2722, 113, 14571, 115, 221, 62, 85, 113, 82, 1407, 113, 8966, 115, 115, 243, 51, 414, 85, 38, 243, 33, 243, 82, 1327, 85, 113, 82, 1291, 113, 95, 115, 394, 115, 243, 30, 35, 39, 31, 84, 113, 95, 85, 110, 115, 67, 85, 113, 394, 115, 221, 304, 82, 1898, 30, 90, 85, 113, 82, 1291, 113, 95, 115, 87, 82, 13121, 115, 84, 113, 82, 5575, 115, 309, 85, 113, 82, 1291, 113, 95, 115, 88, 82, 13121, 115, 221, 304, 35, 309, 85, 113, 82, 1291, 113, 95, 115, 87, 82, 12539, 115, 84, 113, 82, 5575, 115, 309, 85, 113, 82, 1291, 113, 95, 115, 88, 82, 12539, 115, 82, 1898, 31, 243, 34, 221, 82, 6163, 113, 40, 85, 23081, 85, 62, 8966, 115, 221, 82, 493, 113, 14571, 115, 221, 2388, 243, 26, 67, 85, 113, 39, 39, 115, 243, 51, 243, 35, 30, 75, 99, 85, 113, 39, 39, 115, 33, 64, 99, 85, 113, 40, 40, 115, 31, 37, 40, 26, 34, 243, 26, 67, 85, 113, 40, 40, 115, 243, 51, 243, 35, 30, 75, 99, 85, 113, 40, 40, 115, 33, 64, 99, 85, 113, 39, 39, 115, 31, 37, 40, 26, 34, 221, 26, 67, 85, 113, 39, 40, 115, 243, 51, 382, 85, 113, 40, 39, 115, 243, 51, 243, 35, 64, 99, 85, 113, 40, 39, 115, 26, 36, 381, 25336, 8475, 243, 26, 100, 85, 113, 394, 115, 26, 568, 771, 221, 6510, 23262, 901, 243, 26, 62, 85, 38, 26, 36, 381, 1448, 243, 26, 99, 85, 113, 394, 115, 26, 417, 2131, 1368, 35, 43776, 34, 221, 26885, 3566, 12294, 36, 221, 25991, 2003, 940, 391, 2393, 345, 281, 8951, 299, 4360, 243, 26, 77, 26, 363, 243, 30, 39, 38, 31, 4755, 36, 2518, 286, 221, 17333, 343, 4127, 2026, 286, 243, 26, 111, 26, 3863, 34, 243, 26, 97, 85, 111, 26, 343, 281, 2382, 2264, 902, 312, 221, 1921, 8895, 758, 281, 6347, 4089, 301, 286, 243, 26, 111, 26, 2899, 34, 221, 26, 90, 85, 113, 82, 1291, 113, 95, 115, 87, 82, 1457, 115, 243, 51, 425, 85, 111, 84, 113, 35, 39, 37, 40, 115, 243, 82, 1327, 85, 113, 97, 85, 111, 115, 318, 84, 113, 832, 85, 19904, 85, 111, 115, 309, 85, 113, 95, 85, 110, 97, 85, 6922, 82, 1457, 115, 26, 36, 221, 592, 1463, 35, 3748, 5805, 967, 4297, 299, 5886, 299, 4607, 243, 26, 40, 77, 82, 1459, 243, 40, 77, 26, 221, 1394, 2533, 243, 26, 97, 85, 111, 26, 34, 243, 26, 82, 1457, 26, 36, 1456, 5886, 417, 221, 15846, 755, 9860, 34, 8187, 286, 1199, 5940, 299, 286, 8951, 685, 36, 708, 2281, 221, 42773, 388, 286, 3775, 77, 301, 286, 8951, 343, 1730, 404, 286, 1092, 1160, 221, 10541, 243, 26, 99, 85, 113, 394, 115, 26, 383, 345, 286, 4127, 685, 36, 221, 592, 2955, 35, 23081, 596, 82, 43752, 113, 12056, 55, 38, 46, 115, 4462, 660, 221, 15001, 3220, 8255, 2447, 748, 243, 26, 39, 38, 82, 34, 82, 1407, 113, 1841, 76, 115, 26, 900, 321, 13321, 11430, 36, 381, 221, 15001, 3220, 8255, 312, 377, 10719, 5733, 417, 221, 19296, 452, 1600, 35, 10075, 4220, 312, 417, 31019, 301, 3462, 36, 82, 221, 82, 283, 5321, 326, 670, 113, 12056, 55, 38, 46, 115, 36, 381, 2155, 243, 26, 62, 85, 63, 26, 343, 10121, 321, 221, 831, 682, 35, 23081, 596, 34, 4713, 388, 286, 590, 23081, 1757, 301, 2181, 36, 82, 221, 30, 82, 4527, 113, 40, 85, 23081, 85, 12617, 115, 31, 2253, 3625, 221, 1327, 105, 797, 660, 4074, 299, 16380, 243, 26, 87, 26, 34, 243, 26, 88, 26, 34, 363, 243, 26, 87, 50, 88, 26, 34, 221, 1377, 243, 26, 87, 34, 88, 51, 39, 34, 82, 3214, 34, 43, 26, 1297, 321, 243, 26, 41, 90, 85, 113, 41, 80, 84, 40, 35, 72, 84, 40, 115, 26, 34, 243, 26, 41, 90, 85, 113, 41701, 115, 26, 34, 243, 26, 41, 90, 85, 113, 79, 80, 115, 26, 34, 221, 26, 41, 90, 85, 113, 78, 84, 40, 35, 79, 84, 40, 115, 26, 34, 243, 26, 41, 90, 85, 113, 16808, 115, 26, 36, 221, 592, 2155, 1448, 417, 3988, 321, 391, 243, 26, 75, 51, 39, 36, 38, 82, 34, 82, 1407, 113, 20770, 115, 26, 312, 221, 26, 64, 51, 38, 36, 40, 82, 34, 82, 1407, 113, 20770, 115, 26, 36, 82, 43752, 113, 44687, 80, 38, 47, 115, 221, 23351, 281, 1463, 35, 3748, 20998, 383, 1504, 34, 449, 979, 286, 221, 6084, 35, 3748, 5805, 243, 30, 82, 4527, 113, 40, 85, 23081, 85, 62, 8966, 115, 31, 34, 880, 2253, 286, 7810, 5959, 221, 5539, 1940, 243, 26, 87, 34, 88, 51, 39, 34, 82, 3214, 34, 43, 26, 34, 312, 221, 26, 67, 85, 113, 13404, 115, 51, 35, 30, 75, 99, 85, 113, 13404, 115, 33, 64, 82, 1327, 85, 113, 88, 82, 4782, 281, 115, 99, 85, 113, 7371, 115, 31, 37, 40, 26, 312, 221, 26, 67, 85, 113, 394, 115, 51, 382, 85, 113, 6540, 115, 243, 51, 243, 35, 64, 99, 85, 113, 394, 115, 26, 345, 243, 26, 87, 82, 4782, 311, 26, 36, 221, 592, 1463, 35, 3748, 1448, 243, 26, 99, 85, 113, 394, 115, 26, 417, 2039, 1368, 35, 43776, 34, 7081, 221, 26, 44, 26, 6174, 536, 5114, 34, 1806, 321, 2474, 12591, 36, 221, 2056, 286, 243, 30, 39, 38, 31, 8951, 34, 449, 7224, 32509, 321, 286, 682, 35, 23081, 1000, 36, 2487, 221, 15849, 299, 281, 6347, 4089, 301, 286, 243, 26, 111, 26, 2899, 34, 286, 1203, 343, 2126, 221, 862, 286, 37064, 299, 243, 26, 43, 77, 82, 1459, 243, 43, 77, 26, 5805, 4519, 345, 2533, 243, 26, 97, 85, 111, 26, 34, 221, 26, 82, 1457, 26, 36, 221, 82, 2722, 113, 12011, 115, 81, 94, 83, 221, 82, 3974, 431, 905, 932, 1082, 81, 83, 113, 8874, 85, 1941, 115, 221, 82, 6163, 113, 3888, 48, 6163, 115, 221, 82, 493, 113, 12011, 115, 221, 82, 3617, 113, 10790, 312, 5217, 115, 221, 8658, 34, 449, 1429, 286, 682, 35, 23081, 596, 221, 15270, 3775, 77, 1160, 34, 578, 36, 91, 36, 34, 363, 243, 26, 99, 85, 113, 394, 115, 51, 38, 26, 34, 301, 281, 243, 30, 39, 38, 31, 8951, 4652, 36, 479, 221, 751, 36, 116, 82, 4527, 113, 3888, 48, 40, 85, 23081, 85, 32354, 85, 6017, 16840, 115, 34, 449, 4051, 221, 831, 1199, 5940, 299, 286, 243, 30, 39, 38, 31, 8951, 299, 4360, 243, 26, 77, 51, 39, 38, 38, 26, 321, 286, 5940, 299, 286, 4127, 221, 11029, 11218, 5060, 286, 243, 30, 39, 38, 31, 3277, 30324, 36, 2009, 5733, 417, 29110, 2549, 221, 21521, 36, 221, 1246, 1694, 388, 286, 5468, 299, 286, 5940, 299, 286, 8951, 9691, 1358, 286, 11218, 221, 31424, 299, 5196, 5940, 36, 1216, 34, 841, 343, 385, 2626, 2144, 388, 1751, 530, 221, 406, 675, 363, 286, 5196, 8071, 36, 708, 568, 1085, 388, 286, 1806, 2003, 417, 221, 28789, 434, 286, 4755, 299, 286, 8951, 36, 351, 9445, 221, 18881, 6759, 388, 495, 2144, 34, 26317, 2549, 18089, 34, 6474, 14279, 682, 221, 19532, 34, 529, 417, 869, 3564, 13056, 36, 971, 2348, 15845, 243, 26, 77, 26, 34, 286, 682, 221, 10398, 434, 1179, 243, 26, 97, 85, 111, 26, 1297, 321, 11425, 312, 2249, 40764, 7257, 299, 221, 10398, 7666, 434, 286, 682, 4755, 36, 2093, 34, 841, 343, 281, 2348, 8400, 34, 28141, 221, 280, 886, 36, 116, 82, 4527, 113, 3888, 48, 40, 85, 23081, 85, 32354, 85, 6017, 16840, 115, 34, 529, 4899, 12266, 221, 2388, 2288, 243, 26, 77, 26, 36, 221, 82, 2722, 113, 12011, 115, 81, 94, 83, 221, 82, 3974, 431, 905, 932, 1082, 81, 83, 113, 8874, 85, 1941, 115, 221, 82, 6163, 113, 3888, 48, 6163, 115, 221, 82, 493, 113, 12011, 115, 221, 592, 3379, 299, 286, 3277, 2003, 496, 391, 7347, 452, 281, 5725, 5899, 36, 221, 1246, 3938, 452, 286, 861, 18825, 935, 35, 18304, 4318, 5805, 221, 26, 82, 923, 113, 62, 115, 30, 82, 1291, 113, 97, 115, 31, 26, 299, 2181, 36, 82, 243, 30, 82, 4527, 113, 40, 85, 23081, 85, 62, 38, 85, 39, 115, 31, 36, 221, 1246, 1429, 717, 2549, 7775, 4877, 312, 6259, 286, 2549, 2340, 36, 221, 2056, 286, 8951, 34, 243, 26, 97, 85, 111, 26, 343, 281, 1932, 299, 3210, 36, 971, 812, 221, 15390, 1188, 299, 243, 26, 97, 85, 111, 26, 34, 449, 979, 385, 2217, 243, 39, 58, 596, 36, 971, 385, 4127, 685, 34, 221, 831, 30324, 299, 495, 243, 39, 58, 596, 343, 286, 3636, 363, 243, 26, 97, 85, 111, 51, 82, 1407, 113, 4254, 115, 26, 299, 286, 243, 40, 58, 30324, 36, 221, 4028, 286, 243, 39, 58, 30324, 1751, 530, 1994, 1109, 8295, 1311, 34, 286, 243, 39, 58, 596, 343, 34540, 301, 286, 221, 35104, 36, 2858, 780, 243, 39, 58, 30324, 343, 1107, 404, 286, 3232, 11759, 301, 886, 36, 82, 221, 82, 4527, 113, 3888, 48, 109, 1920, 85, 40, 4554, 115, 36, 243, 26, 82, 923, 113, 62, 115, 30, 82, 1291, 113, 97, 115, 31, 26, 496, 391, 4259, 221, 317, 82, 43752, 113, 44687, 80, 38, 47, 115, 221, 82, 2722, 113, 14571, 115, 221, 82, 923, 113, 62, 115, 30, 82, 1291, 113, 97, 115, 31, 243, 51, 281, 30, 82, 1291, 113, 97, 115, 31, 82, 34, 243, 82, 1702, 84, 38, 243, 33, 311, 30, 82, 1291, 113, 97, 115, 31, 82, 34, 221, 304, 30, 82, 3840, 82, 1256, 85, 82, 1291, 113, 97, 115, 82, 34, 243, 82, 1702, 84, 39, 243, 33, 243, 82, 2387, 82, 1256, 85, 82, 1291, 113, 97, 115, 82, 34, 243, 82, 1702, 84, 41, 31, 243, 34, 221, 82, 6163, 113, 41, 36, 62, 97, 36, 40, 115, 2]\n"
     ]
    },
    {
     "data": {
      "text/plain": [
       "'\\\\importpackages{}\\n\\\\graphicspath{ {./images/} }\\n\\n\\n\\\\title{Topological surface states in paramagnetic and antiferromagnetic\\niron pnictides}\\n\\\\author{Alexander Lau}\\n\\\\affiliation{Institute of Theoretical Physics, Technische Universit\\\\\"at\\nDresden, 01062 Dresden, Germany}\\n\\\\author{Carsten Timm}\\n\\\\email{carsten.timm@tu-dresden.de}\\n\\\\affiliation{Institute of Theoretical Physics, Technische Universit\\\\\"at\\nDresden, 01062 Dresden, Germany}\\n\\\\date{\\\\today}\\n\\\\begin{abstract}\\nThe electronic structure of iron pnictides is topologically nontrivial, leading\\nto the appearance of Dirac cones in the band structure for the antiferromagnetic\\nphase. Motivated by the analogy with Dirac cones in graphene, we explore the\\npossible existence\\nof topologically protected surface states. Surprisingly, bands of surface states\\nexist even in the paramagnetic state. A realistic five-orbital model\\npredicts two such bands. In the antiferromagnetic phase, these surface bands\\nsurvive but split. We obtain the bulk and surface dispersion from exact\\ndiagonalization of two- and five-orbital models in a strip geometry and discuss\\nthe results based on topology.\\n\\\\end{abstract}\\n\\\\pacs{\\n74.70.Xa, \\n73.20.At, \\n03.65.Vf, \\n75.30.Fv  \\n}\\n\\\\maketitle\\n\\\\section{Introduction}\\nTwo of the most active areas in condensed\\nmatter physics concern the iron pnictides\\\\cite{Joh10,DHD12} and topological\\nproperties of matter.\\\\cite{HaK10,QiZ11} The iron pnictides are of interest\\nsince they show multiband superconductivity with high transition temperatures\\ncompeting with itinerant antiferromagnetism. Topology in condensed matter has\\nreceived a lot of attention in part because nontrivial topology can induce\\nsurface or edge states. This paper is concerned with the\\ntopological properties and surface states of iron pnictides.\\nIn iron pnictides, several iron $3d$ orbitals contribute significantly\\nto the electronic states close to the Fermi energy. Ran \\\\textit{et\\nal.}\\\\cite{RWZ09} have realized that this multiorbital character can lead to\\nnontrivial topological properties. They find band touchings at the $(0,0)$ and\\n$(\\\\pi,\\\\pi)$ points in the Brillouin zone (BZ), which are associated with winding\\nnumbers in orbital space. As a consequence, the formation of a spin-density wave\\n(SDW) with ordering vector $\\\\mathbf{Q}=(\\\\pi,0)$ cannot open a full gap but\\nrather leaves an even number of Dirac points.\\\\cite{RWZ09} This holds\\nboth for a two-orbital model including only the most important\\n$3d_{YZ}$ and $3d_{ZX}$ orbitals\\\\cite{RQL08} and for a model including all\\nfive $3d$ orbitals.\\\\cite{KOA08} While the two-orbital model does not\\ngive a realistic description,\\nit allows a simpler discussion of the topological properties. On the other hand,\\nthe five-orbital model\\\\cite{KOA08} gives a good account of the low-energy band\\nstructure of the prototypical compound $\\\\mathrm{LaFeAsO}$ and also leads to\\nreasonable predictions for the magnetic order vs.\\\\ doping.\\\\cite{BDT11,SBT12}\\nEvidence for the Dirac points has been\\nobtained from quantum-oscillation experiments,\\\\cite{HaS09}\\nmagnetotransport\\\\cite{PBC13} and angle-resolved\\nphotoemission (ARPES).\\\\cite{RNS10,HTT11} However, conflicting evidence is\\npresented in \\\\onlinecite{TKT11}.\\nDirac points in the band structure have attracted a lot of attention in the\\ncontext of graphene.\\\\cite{CGP09} There, Dirac points emerge due to the\\ntwo-sublattice structure of the honeycomb lattice. They are accompanied by\\ndispersing edge states at so-called zigzag edges,\\\\cite{FWN96,RyH02,CGP06,CGP09}\\nwhich appear in the 1D edge BZ between the projections of the Dirac points.\\nRegardless of the different origins of the Dirac points, one may ask whether\\nthey have similar consequences in pnictides and in graphene. Specifically,\\ndo surface states also exist in the SDW phase of the iron pnictides?\\nYang and Kee\\\\cite{YaK10} have indeed found surface bands for a two-orbital\\nmodel with broken symmetry. However, the required combined orbital, SDW, and\\ncharge-density-wave order is not realized in iron pnictides and actually opens a\\nfull gap without Dirac points.\\nWe will show that dispersing bands of surface states exist even in the\\n\\\\emph{paramagnetic} phase of the iron pnictides, due to its topological\\ncharacter. In the SDW phase, the surface\\nbands split. This is found for both two-orbital and five-orbital models but the\\nlatter features two surface bands, whereas the former has only one. We will\\nexplain the topological origin of the surface states.\\n\\\\section{Models and method}\\nWe follow Refs.\\\\ \\\\onlinecite{KOA08,RWZ09} in choosing\\n$3d$ orbitals with respect to the $X$ and $Y$ axes of the\\ntetragonal lattice, which are rotated by $45^\\\\circ$ relative to the $x$ and $y$\\naxes of the square iron lattice. The two-orbital model\\\\cite{RQL08,RWZ09}\\nretains only these two orbitals in a single-iron unit cell. The Hamiltonian is\\n$H=H_0+H_I$, where the non-interacting part for the extended system reads\\n$H_0 = \\\\sum_{\\\\mathbf{k}\\\\sigma} \\\\sum_{a,b=1}^2\\n  d^\\\\dagger_{\\\\mathbf{k}a\\\\sigma} \\\\mathcal{H}_{ab}(\\\\mathbf{k})\\n  d_{\\\\mathbf{k}b\\\\sigma}$.\\nHere, $\\\\mathcal{H}(\\\\mathbf{k})$ is a $2\\\\times2$ matrix in orbital space,\\n\\\\begin{eqnarray}\\n\\\\lefteqn{ \\\\mathcal{H}(\\\\mathbf{k}) = 2t_1\\\\, (\\\\cos k_x - \\\\cos k_y)\\\\, \\\\tau^1 }\\n  \\\\nonumber \\\\\\\\\\n&& {}- 2(t_2-t_2\\')\\\\,\\\\sin k_x \\\\sin k_y\\\\, \\\\tau^3 \\\\nonumber \\\\\\\\\\n&& {}+ [2(t_2+t_2\\')\\\\,\\\\cos k_x \\\\cos k_y\\n  + 2t_1\\'\\\\,(\\\\cos k_x + \\\\cos k_y)]\\\\, \\\\tau^0 ,\\\\quad\\n\\\\label{2_orbital_H0_1}\\n\\\\end{eqnarray}\\nwhere $\\\\tau^1$, $\\\\tau^2$, $\\\\tau^3$ are Pauli matrices, $\\\\tau^0$ is the unit\\nmatrix, and the orbital index $1$ corresponds to\\n$3d_{ZX}$ and $2$ to $3d_{YZ}$. We adopt the hopping parameters\\\\cite{RWZ09}\\n$t_1=0.30\\\\,\\\\mathrm{eV}$, $t_1\\'=0.06\\\\,\\\\mathrm{eV}$,\\n$t_2=0.51\\\\,\\\\mathrm{eV}$, and $t_2\\'=0.09\\\\,\\\\mathrm{eV}$.\\nFor the interactions we take\\\\cite{RWZ09}\\n\\\\begin{eqnarray}\\nH_I & = & \\\\frac{U}{2} \\\\sum_{\\\\mathbf{i}} (\\\\hat n_{\\\\mathbf{i}1}^2 +\\n  \\\\hat n_{\\\\mathbf{i}2}^2)\\n  + (U-2J)\\\\sum_{\\\\mathbf{i}} n_{\\\\mathbf{i}1}n_{\\\\mathbf{i}2} \\\\nonumber \\\\\\\\\\n&& {}+ J \\\\sum_{\\\\mathbf{i}} \\\\sum_{\\\\sigma\\\\sigma\\'}\\n  d_{\\\\mathbf{i}1\\\\sigma}^{\\\\dagger} d_{\\\\mathbf{i}2\\\\sigma\\'}^{\\\\dagger}\\n  d_{\\\\mathbf{i}1\\\\sigma\\'} d_{\\\\mathbf{i}2\\\\sigma} \\\\nonumber \\\\\\\\\\n&& {}+ J \\\\sum_{\\\\mathbf{i}} (d_{\\\\mathbf{i}1\\\\uparrow}^{\\\\dagger}\\n  d_{\\\\mathbf{i}1\\\\downarrow}^{\\\\dagger}d_{\\\\mathbf{i}2\\\\downarrow}\\n  d_{\\\\mathbf{i}2\\\\uparrow} + \\\\mathrm{H.c.}) ,\\n\\\\label{2_orbital_HI}\\n\\\\end{eqnarray}\\nwhere $\\\\hat n_{\\\\mathbf{i}a} \\\\equiv \\\\sum_\\\\sigma\\nd_{\\\\mathbf{i}a\\\\sigma}^{\\\\dagger} d_{\\\\mathbf{i}a\\\\sigma}$, and the interaction\\nparameters are chosen as $U=1.20\\\\,\\\\mathrm{eV}$ and $J=0.12\\\\,\\\\mathrm{eV}$.\\nAssuming a SDW with ordering vector $\\\\mathbf{Q}=(\\\\pi,0)$\\nand spins pointing along the $S_z$ axis, a mean-field decoupling with\\n$\\\\langle d_{\\\\mathbf{i}a\\\\sigma}^{\\\\dagger} d_{\\\\mathbf{i}b\\\\sigma}\\\\rangle =\\n  n_{ab} + (-1)^{i_x}\\\\, \\\\frac{\\\\sigma}{2}\\\\, m_{ab}$\\ngives the mean-field Hamiltonian\\n\\\\begin{equation}\\nH_{\\\\mathrm{MF}} = H_0 + \\\\sum_{\\\\mathbf{i}ab} (-1)^{i_x}M_{ab}\\n  \\\\big(d_{\\\\mathbf{i}a\\\\uparrow}^{\\\\dagger} d_{\\\\mathbf{i}b\\\\uparrow}\\n  - d_{\\\\mathbf{i}a\\\\downarrow}^{\\\\dagger} d_{\\\\mathbf{i}b\\\\downarrow}\\\\big) ,\\n\\\\label{2_orbital_HMF}\\n\\\\end{equation}\\nwith $M_{11} = -(Um_{11}+Jm_{22})/2$, $M_{22} = -(Um_{22}+Jm_{11})/2$,\\n$M_{12} = M_{21} = -Jm_{21}$. The Hartree shifts $n_{ab}$ have been\\nabsorbed into $H_0$. The parameters $m_{ab}$ are calculated self-consistently,\\nassuming half filling.\\nEdge states will be studied for a strip of width $W$ with (10) edges. Since the\\nstrip is extended along the $y$ axis, $k_y$ is a good quantum number and\\nwe carry out a Fourier transformation in the $y$ direction,\\n$d_{\\\\mathbf{i}a\\\\sigma} = N_y^{-1/2} \\\\sum_{k_y} e^{ik_yi_y} d_{i_xk_ya\\\\sigma}$.\\nThe mean-field Hamiltonian then consists of blocks of dimensions $2W\\\\times 2W$\\nfor fixed $k_y$, $\\\\sigma$. These blocks are\\ndiagonalized numerically, giving the energy bands of the strip system. We here\\nassume that the SDW in the strip is described by the same order\\nparameters $m_{ab}$ as for the extended system.\\nThe five-orbital model\\\\cite{KOA08} includes all\\nhopping amplitudes larger than $10\\\\,\\\\mathrm{meV}$ up to fifth neighbors. The\\nhopping amplitudes and onsite energies are\\nobtained from density-functional calculations and are tabulated in Ref.\\\\\\n\\\\onlinecite{KOA08}. The interaction $H_I$ is analogous to\\nthe two-orbital model, except that the interorbital terms in Eq.\\\\\\n(\\\\ref{2_orbital_HI}) now become\\nsums over all pairs of orbitals $a$, $b$, with $a<b$,\\nwhere $a,b=1,\\\\ldots,5$ correspond to $3d_{3Z^2-R^2}$, $3d_{ZX}$, $3d_{YZ}$,\\n$3d_{X^2-Y^2}$, $3d_{XY}$.\\nThe interaction parameters are chosen to be $U=1.0\\\\,\\\\mathrm{eV}$ and\\n$J=0.2\\\\,\\\\mathrm{eV}$.\\\\cite{RWZ09}\\nApplying a mean-field decoupling as above, we obtain the\\nmean-field Hamiltonian (\\\\ref{2_orbital_HMF}), where now the orbital indices\\ntraverse $a,b=1,\\\\ldots,5$, and\\n$M_{aa}=-(Um_{aa}+J\\\\sum_{b\\\\neq a}m_{bb})/2$ and\\n$M_{ab}= M_{ba} = -Jm_{ab}$ for $a\\\\neq b$.\\nThe mean-field parameters $m_{ab}$ are determined self-consistently, assuming\\n$6$ electrons per iron, corresponding to zero doping.\\nFor the (10) strip, we proceed analogously to the two-orbital case. By\\nmeans of a Fourier transformation in the $y$ direction, the problem is reduced\\nto the diagonalization of $5W\\\\times 5W$ Hamiltonian matrices for fixed $k_y$,\\n$\\\\sigma$.\\n\\\\begin{figure}[h]\\n\\\\includegraphics[]{image_name}\\n\\\\label{fig:label}\\n\\\\end{figure}\\n\\\\section{Results and discussion}\\nFirst, we consider the two-orbital model\\nwithout SDW order, i.e., with $m_{ab}=0$, in a (10) strip geometry. In\\nFig.~\\\\ref{fig:2_orbital_energies_nonmagnetic}, we compare\\nthe energy bands of the (10) strip of width $W=100$ to the bands of the extended\\nsystem projected onto the (10) edge BZ. All energies are twofold spin\\ndegenerate.\\nWe see that the majority of the bands of the strip lie within the projected\\ncontinuum of bulk bands. However, there is an additional band that does not\\nagree with the bulk continuum. We have found that the corresponding states are\\nlocalized at the edges of the strip. A closer\\nlook reveals that this band, ignoring spin degeneracy, actually comprises two\\nbands, which are only approximately degenerate. For finite widths $W$, the two\\nstates at given $k_y$ correspond to bonding and antibonding combinations of\\nstates localized at the two edges. Thus, there is a finite splitting, invisible\\nin Fig.~\\\\ref{fig:2_orbital_energies_nonmagnetic}, which decreases exponentially\\nwith increasing $W$.\\n\\\\begin{figure}[h]\\n\\\\includegraphics[]{image_name}\\n\\\\label{fig:label}\\n\\\\end{figure}\\nThe origin of the edge states can be understood from a topological argument.\\nWe start from the noninteracting first-quantized Hamiltonian\\n$\\\\mathcal{H}(\\\\mathbf{k})$ of Eq.\\\\ (\\\\ref{2_orbital_H0_1}).\\nWe consider one spin sector throughout and suppress the spin index.\\nFor the strip, $k_y$ is a constant of motion. For each\\nfixed value of $k_y$, we obtain an effective 1D model. For an extended system,\\nthe BZ of this 1D model is the subset with $k_y=\\\\mathrm{const}$ of the 2D BZ.\\nIf the 1D BZ does not cross any Fermi surface, the 1D model is gapped in the\\nbulk. One such 1D BZ is shown by the black arrow in Fig.\\\\\\n\\\\ref{fig:winding_2band}. $\\\\mathcal{H}(\\\\mathbf{k})$ can be written\\nas\\\\cite{RWZ09}\\n\\\\begin{equation}\\n\\\\mathcal{H}(\\\\mathbf{k}) = a(\\\\mathbf{k})\\\\, \\\\tau^0 + b(\\\\mathbf{k})\\\\,\\n  (\\\\sin\\\\phi_\\\\mathbf{k}\\\\, \\\\tau^1 + \\\\cos\\\\phi_\\\\mathbf{k}\\\\, \\\\tau^3) ,\\n\\\\label{3.Hk.2}'"
      ]
     },
     "execution_count": 38,
     "metadata": {},
     "output_type": "execute_result"
    }
   ],
   "source": [
    "tokenizer_path = \"/home/patidarritesh/Nougat/nougat/nougat/dataset/tokenizer.json\"\n",
    "tokens = tokenize_latex_file(\"/mnt/NAS/patidarritesh/latex_files/1305.1770.tex\", tokenizer_path)\n",
    "print(tokens)\n",
    "decode_tokens(tokens, tokenizer_path)"
   ]
  },
  {
   "cell_type": "markdown",
   "metadata": {},
   "source": [
    "# New 30k BPE tokenizer  trained on 31/03/24"
   ]
  },
  {
   "cell_type": "code",
   "execution_count": 39,
   "metadata": {},
   "outputs": [
    {
     "ename": "Exception",
     "evalue": "No such file or directory (os error 2)",
     "output_type": "error",
     "traceback": [
      "\u001b[0;31m---------------------------------------------------------------------------\u001b[0m",
      "\u001b[0;31mException\u001b[0m                                 Traceback (most recent call last)",
      "Cell \u001b[0;32mIn[39], line 2\u001b[0m\n\u001b[1;32m      1\u001b[0m tokenizer_path \u001b[38;5;241m=\u001b[39m \u001b[38;5;124m\"\u001b[39m\u001b[38;5;124m/mnt/NAS/patidarritesh/PDF_2_LaTeX/Tokenizer/tokenizers_0.02_30000.json\u001b[39m\u001b[38;5;124m\"\u001b[39m\n\u001b[0;32m----> 2\u001b[0m tokens \u001b[38;5;241m=\u001b[39m tokenize_latex_file(\u001b[38;5;124m\"\u001b[39m\u001b[38;5;124m/mnt/NAS/patidarritesh/latex_files/1305.1770.tex\u001b[39m\u001b[38;5;124m\"\u001b[39m, tokenizer_path)\n\u001b[1;32m      3\u001b[0m \u001b[38;5;28mprint\u001b[39m(tokens)\n\u001b[1;32m      4\u001b[0m decode_tokens(tokens, tokenizer_path)\n",
      "Cell \u001b[0;32mIn[34], line 22\u001b[0m, in \u001b[0;36mtokenize_latex_file\u001b[0;34m(file_path, tokenizer_path)\u001b[0m\n\u001b[1;32m     19\u001b[0m         latex_content \u001b[38;5;241m=\u001b[39m latex_file\u001b[38;5;241m.\u001b[39mread()\n\u001b[1;32m     21\u001b[0m \u001b[38;5;66;03m# Initialize the tokenizer\u001b[39;00m\n\u001b[0;32m---> 22\u001b[0m tokenizer \u001b[38;5;241m=\u001b[39m Tokenizer\u001b[38;5;241m.\u001b[39mfrom_file(tokenizer_path)\n\u001b[1;32m     24\u001b[0m \u001b[38;5;66;03m# Tokenize the LaTeX content\u001b[39;00m\n\u001b[1;32m     25\u001b[0m tokens \u001b[38;5;241m=\u001b[39m tokenizer\u001b[38;5;241m.\u001b[39mencode(latex_content)\u001b[38;5;241m.\u001b[39mids\n",
      "\u001b[0;31mException\u001b[0m: No such file or directory (os error 2)"
     ]
    }
   ],
   "source": [
    "tokenizer_path = \"/mnt/NAS/patidarritesh/PDF_2_LaTeX/Tokenizer/tokenizers_0.02_30000.json\"\n",
    "tokens = tokenize_latex_file(\"/mnt/NAS/patidarritesh/latex_files/1305.1770.tex\", tokenizer_path)\n",
    "print(tokens)\n",
    "decode_tokens(tokens, tokenizer_path)"
   ]
  },
  {
   "cell_type": "markdown",
   "metadata": {},
   "source": [
    "# New 30K without whitespace trained on 31/03/24"
   ]
  },
  {
   "cell_type": "code",
   "execution_count": 4,
   "metadata": {},
   "outputs": [
    {
     "name": "stdout",
     "output_type": "stream",
     "text": [
      "[5715, 98, 2181, 4074, 5713, 2287, 17, 17, 98, 1749, 2483, 1390, 5997, 3381, 2996, 1043, 19530, 5940, 1046, 25446, 17, 4380, 1040, 21147, 1014, 5309, 1036, 98, 1219, 2075, 19438, 1161, 1174, 1036, 98, 20429, 8379, 16459, 1035, 11682, 7842, 4903, 116, 27828, 12443, 27899, 17, 74, 1271, 27620, 1321, 1281, 5985, 1227, 1271, 27620, 22953, 98, 1219, 2270, 1024, 21909, 18183, 8065, 19153, 6484, 129, 6105, 21909, 52, 1014, 2785, 70, 21233, 2230, 1271, 4775, 52, 25504, 98, 20429, 8379, 16459, 1035, 11682, 7842, 4903, 116, 27828, 12443, 27899, 17, 74, 1271, 27620, 1321, 1281, 5985, 1227, 1271, 27620, 22953, 98, 5576, 18181, 1036, 98, 3920, 4656, 2953, 9557, 2236, 1035, 21452, 1040, 21147, 1014, 5309, 1071, 22911, 12305, 50, 3809, 2416, 1260, 1017, 13977, 1035, 8456, 28614, 1043, 1017, 3914, 2236, 1093, 1017, 25446, 17, 14703, 52, 5932, 25491, 1202, 1017, 18892, 1158, 8456, 28614, 1043, 2464, 1015, 1864, 1153, 10392, 1688, 2675, 2364, 5482, 17, 1544, 22911, 1169, 18470, 3381, 12381, 7610, 1803, 5585, 1852, 11573, 1035, 3381, 25718, 29861, 3241, 1043, 1017, 19530, 5940, 11147, 1100, 11152, 8299, 51, 29112, 14687, 16578, 1244, 1585, 1593, 3914, 1351, 1238, 1017, 25446, 14032, 1874, 3381, 3914, 2165, 7473, 1505, 1110, 2143, 5592, 52, 1353, 2489, 1017, 7376, 1046, 3381, 7339, 1311, 3541, 17, 27706, 1738, 1035, 8196, 1046, 8299, 51, 29112, 2606, 1043, 1011, 18010, 5853, 1046, 2709, 2165, 1594, 2002, 2725, 1138, 7970, 1061, 8554, 4656, 98, 1239, 3694, 4612, 4888, 2088, 1140, 94, 1666, 1085, 61, 3828, 27919, 71, 2193, 1085, 1724, 2062, 5549, 92, 7388, 1085, 2600, 1887, 1140, 76, 124, 539, 1085, 1036, 98, 13248, 1749, 17, 1828, 1632, 6096, 1036, 27506, 1035, 1017, 2693, 7535, 13504, 1043, 8640, 5255, 19888, 6352, 10499, 1017, 21452, 1040, 21147, 1014, 5309, 4909, 80, 2469, 6302, 74, 10987, 6004, 1046, 5768, 17, 1308, 13251, 1035, 4184, 12283, 78, 103, 81, 6302, 87, 111, 96, 5783, 1179, 21452, 1040, 21147, 1014, 5309, 1220, 1035, 6527, 17, 121, 1850, 2780, 1507, 2130, 8826, 20934, 1158, 1896, 3773, 3033, 2165, 3948, 10080, 1158, 1345, 11275, 1332, 18108, 20220, 1819, 10917, 26771, 1043, 26695, 4184, 12530, 1016, 1087, 7967, 1011, 20537, 1035, 6994, 1043, 3235, 3164, 12305, 7970, 1322, 16468, 17, 7473, 2721, 1326, 3962, 12381, 1582, 2685, 1071, 23512, 1158, 1688, 19327, 2985, 3053, 1046, 3381, 2996, 1035, 21452, 1040, 21147, 1014, 106, 5119, 2289, 21452, 1040, 21147, 1014, 106, 2042, 4419, 21452, 5462, 8963, 24993, 10692, 3653, 4785, 1260, 1017, 9557, 2996, 4801, 1073, 1017, 8099, 15818, 1185, 1028, 15344, 17, 1018, 1901, 1268, 88, 93, 96, 12516, 1415, 12744, 1123, 1317, 2130, 29112, 2954, 1322, 3809, 3315, 116, 1095, 5025, 5768, 18075, 6460, 2633, 3914, 28769, 2096, 1298, 1017, 16669, 11174, 1816, 42, 7547, 13672, 1164, 3079, 1043, 1017, 12219, 9742, 19681, 16088, 6640, 96, 1426, 1375, 1220, 3468, 1158, 5965, 2416, 8459, 121, 1043, 7139, 9080, 2237, 1011, 16782, 1017, 5285, 1035, 1011, 2972, 16424, 3486, 17, 4701, 74, 15883, 1158, 12406, 2784, 3886, 87, 2272, 7547, 8853, 1164, 4716, 4103, 1011, 4285, 5348, 20559, 1047, 1408, 14062, 1033, 3241, 1815, 1035, 8456, 3079, 12283, 88, 93, 96, 12516, 1582, 28253, 21605, 1093, 1011, 8196, 29112, 1431, 5228, 1770, 1017, 2693, 3702, 17, 42, 11699, 11701, 25733, 1046, 5462, 106, 13001, 15137, 24993, 4909, 88, 16108, 12833, 1046, 1093, 1011, 1431, 5228, 13151, 2015, 1110, 5462, 8963, 7139, 1351, 4909, 81, 85, 71, 12833, 6104, 1017, 8196, 29112, 1431, 2941, 11168, 109, 2825, 1011, 11152, 5841, 1286, 1058, 5161, 1011, 16100, 5135, 1035, 1017, 5768, 18075, 2847, 1017, 1920, 3360, 1286, 1594, 8299, 51, 29112, 1431, 4909, 81, 85, 71, 12833, 3747, 1011, 4980, 5570, 1035, 1017, 17368, 3914, 17, 6607, 1035, 1017, 19156, 9980, 1358, 22072, 6147, 11657, 8033, 8709, 85, 1106, 1046, 1671, 5136, 3315, 1016, 4149, 1573, 7486, 1093, 1017, 3289, 1895, 15853, 98, 24462, 12283, 17855, 90, 7807, 24312, 90, 9686, 75, 27311, 1093, 1017, 8456, 3079, 1624, 18768, 3120, 2331, 1311, 2508, 51, 1291, 10295, 1543, 15532, 4909, 78, 103, 89, 11797, 20830, 1117, 1235, 4963, 1707, 4909, 86, 7072, 8115, 1046, 4599, 7813, 7834, 17, 1107, 6919, 1246, 3007, 1067, 4013, 86, 6389, 47, 12283, 88, 9767, 6302, 78, 8991, 5783, 2749, 20221, 1462, 8203, 3147, 25856, 2734, 1043, 1007, 16934, 2483, 81, 90, 5783, 1061, 12045, 1136, 3079, 1043, 1017, 3914, 2236, 1415, 8086, 7359, 1011, 20537, 1035, 6994, 1043, 1688, 1731, 1262, 1035, 12830, 12283, 73, 13128, 12516, 2409, 50, 8456, 3079, 27532, 2922, 1073, 1688, 9650, 19111, 12907, 2236, 1035, 1017, 1102, 18035, 19666, 28005, 6460, 1220, 29691, 3244, 3093, 1203, 2717, 3962, 2996, 1298, 10275, 1906, 1053, 128, 1764, 5393, 1229, 1268, 21758, 84, 27012, 88, 127, 78, 15445, 73, 13128, 11627, 73, 13128, 11797, 4028, 1293, 3658, 1043, 1017, 15477, 3962, 1199, 96, 1813, 1017, 15797, 1035, 1017, 8456, 28153, 17740, 1470, 2589, 1035, 1017, 2055, 3461, 2572, 1035, 1017, 8456, 14763, 1569, 2312, 14459, 5544, 17, 1594, 127, 1415, 2656, 16391, 1043, 1040, 21147, 1014, 5309, 1046, 1043, 2464, 1015, 2338, 5778, 16397, 1286, 1493, 3381, 2996, 1671, 3394, 1043, 1017, 9607, 93, 2728, 1035, 1017, 21452, 1040, 21147, 1014, 5309, 10926, 14612, 1046, 1366, 2701, 4909, 95, 103, 81, 6596, 1415, 8377, 3115, 3381, 11573, 1093, 1011, 8196, 29112, 17, 6091, 1158, 13894, 21592, 2749, 1017, 5188, 8072, 7139, 50, 9607, 16719, 1816, 20245, 16424, 11548, 1895, 1071, 1487, 12744, 1043, 21452, 1040, 21147, 1014, 5309, 1046, 8914, 2095, 1467, 3327, 12867, 5348, 3727, 8456, 28153, 7260, 1800, 1507, 1123, 6551, 2717, 11573, 1035, 3381, 2996, 3394, 3241, 1043, 1688, 98, 11588, 1405, 103, 5940, 131, 2728, 1035, 1017, 21452, 1040, 21147, 1014, 106, 2042, 2922, 1073, 1950, 5768, 17, 18805, 52, 1238, 1017, 9607, 93, 14032, 1017, 3381, 17, 104, 7749, 5592, 52, 1582, 1071, 3115, 1093, 2253, 8196, 29112, 1046, 8299, 51, 29112, 2606, 2143, 1688, 2804, 1134, 4475, 1585, 3381, 3914, 1188, 7413, 1017, 12675, 1624, 1770, 13255, 1353, 19138, 3368, 18347, 1017, 5768, 6114, 1035, 1017, 3381, 23863, 1828, 1632, 11818, 121, 1046, 1928, 1036, 7260, 1556, 28348, 98, 1007, 16934, 3323, 85, 71, 12041, 88, 93, 96, 12516, 1043, 2897, 1291, 2416, 42, 57, 8963, 24993, 1158, 3491, 1073, 1017, 4337, 1046, 9139, 23661, 1035, 1688, 1019, 2329, 109, 3212, 26161, 1375, 1220, 1929, 11971, 1202, 1020, 2150, 13230, 4660, 1073, 1017, 5721, 1046, 3623, 1590, 6595, 1041, 1035, 1017, 6331, 21452, 28005, 1179, 8196, 29112, 1431, 4909, 88, 16108, 12041, 88, 93, 96, 11797, 1016, 1693, 121, 1770, 1874, 1585, 24993, 1043, 1011, 13531, 4380, 3717, 4665, 52, 1179, 4546, 3147, 42, 78, 22098, 1302, 25578, 5628, 1243, 1433, 1017, 2192, 24881, 3235, 1093, 1017, 5922, 1692, 19175, 42, 24134, 1208, 9110, 1735, 13060, 18063, 15833, 7264, 2202, 10221, 539, 1050, 6385, 9428, 3284, 103, 27624, 14415, 1451, 1478, 10342, 113, 4662, 539, 1050, 9428, 3284, 104, 4443, 3055, 78, 1200, 50, 13637, 10342, 113, 2745, 1071, 1011, 25336, 3923, 2514, 1043, 7139, 2017, 1286, 98, 3920, 2584, 4792, 29083, 10897, 14415, 10342, 14964, 1208, 1256, 21119, 1832, 1334, 4318, 1452, 2730, 1253, 6146, 1452, 4590, 4173, 3732, 3056, 2287, 539, 3057, 1440, 6021, 4011, 51, 1256, 1708, 1284, 4168, 24562, 12666, 5028, 1452, 2730, 6118, 1452, 4590, 1832, 3732, 2515, 3057, 1440, 6021, 1023, 3781, 1362, 56, 1708, 1284, 12275, 24562, 12666, 4318, 1452, 2730, 6146, 1452, 4590, 17, 539, 1331, 1256, 122, 15549, 1832, 1126, 4318, 1452, 2730, 1331, 6146, 1452, 4590, 5623, 1832, 3732, 3495, 6730, 1696, 17, 5347, 19959, 29112, 5235, 54, 16517, 8554, 2584, 9026, 3526, 26295, 3526, 9739, 3526, 8250, 1220, 17294, 21567, 3526, 11160, 1071, 1017, 3717, 17, 2762, 50, 1046, 1017, 7139, 4585, 7214, 4889, 3315, 42, 11699, 13001, 15137, 1046, 10815, 1073, 5462, 106, 11701, 96, 1975, 1353, 11038, 1017, 19591, 3039, 4909, 88, 93, 96, 11797, 42, 21119, 3332, 3195, 26795, 3193, 1654, 2383, 15549, 3332, 1945, 26795, 3193, 4114, 42, 20039, 19891, 2371, 23856, 3193, 1654, 1046, 2383, 24562, 3332, 2072, 26795, 3193, 3055, 10900, 1017, 6291, 1153, 4196, 4909, 88, 93, 96, 11797, 98, 3920, 2584, 78, 5628, 1075, 1208, 1075, 1526, 91, 3815, 9110, 1735, 8737, 1334, 1589, 1082, 9428, 2670, 1190, 1205, 7107, 539, 2926, 1082, 9428, 2670, 1342, 1205, 1760, 539, 1331, 11380, 2625, 80, 1270, 2066, 9428, 8737, 1082, 9428, 2670, 1190, 116, 9428, 2670, 1342, 3057, 1440, 6021, 1023, 3781, 1265, 9110, 1735, 8737, 2027, 6250, 4443, 21619, 539, 1050, 9428, 2670, 2371, 1560, 15042, 131, 1050, 9428, 2670, 1754, 1560, 45, 15042, 1036, 539, 1050, 9428, 2670, 2371, 1560, 4996, 1050, 9428, 2670, 1754, 18063, 3057, 1440, 6021, 1023, 3781, 1265, 9110, 1735, 8737, 7140, 9428, 2670, 2371, 7689, 15042, 1036, 539, 1050, 9428, 2670, 2371, 8595, 15042, 131, 106, 9428, 2670, 1754, 8595, 1036, 539, 1050, 9428, 2670, 1754, 7689, 131, 1331, 4673, 7690, 3834, 1212, 5358, 5347, 19959, 29112, 5235, 20878, 8554, 2584, 9026, 6418, 1082, 9428, 2670, 2166, 5288, 2027, 9064, 17, 106, 9428, 2670, 103, 4443, 15042, 131, 1050, 9428, 2670, 103, 4443, 1654, 1046, 1017, 3008, 17, 9737, 121, 1220, 5627, 1231, 3294, 15357, 1056, 26795, 3193, 1106, 1046, 4068, 3332, 1494, 26795, 3193, 3055, 18840, 6348, 1011, 9607, 93, 1158, 12406, 2784, 3886, 87, 2272, 7547, 8853, 4766, 1276, 14386, 20118, 3641, 1017, 2233, 17746, 27641, 1011, 17042, 27579, 4155, 1497, 3528, 1050, 9428, 2670, 103, 4443, 15042, 131, 1050, 9428, 2670, 104, 4443, 7624, 5305, 539, 1082, 21876, 1331, 11420, 5177, 2730, 3141, 25840, 6812, 50, 1099, 8518, 3988, 109, 14527, 1017, 17042, 4546, 17, 98, 3920, 1427, 78, 4320, 10384, 1151, 1208, 24470, 1331, 9110, 1735, 2670, 26577, 11420, 5177, 2730, 131, 83, 8518, 1036, 539, 2311, 5256, 9428, 2670, 12128, 7689, 15042, 131, 1050, 9428, 2670, 20141, 7689, 1036, 539, 1253, 1050, 9428, 2670, 12128, 8595, 15042, 131, 1050, 9428, 2670, 20141, 8595, 21089, 5358, 5347, 19959, 29112, 5235, 10384, 1036, 8554, 1427, 12726, 2313, 8825, 1208, 1253, 7033, 115, 8825, 49, 80, 115, 17366, 1212, 19508, 2313, 15753, 1208, 1253, 7033, 115, 15753, 49, 80, 115, 2463, 4498, 2994, 3351, 42, 83, 7619, 1208, 1137, 13576, 1208, 1253, 80, 115, 22290, 1975, 1179, 16851, 1647, 14309, 2065, 8518, 1106, 1415, 18768, 1911, 1021, 5974, 2177, 2562, 9892, 1179, 3039, 2595, 8518, 1106, 1220, 5095, 15800, 6667, 8306, 1286, 1079, 27385, 6429, 17631, 7158, 24035, 1142, 2996, 1800, 1125, 5417, 1093, 1011, 18010, 1035, 5350, 9645, 1158, 18111, 47, 29039, 2579, 1688, 9775, 118, 1071, 5922, 3641, 1017, 9877, 27641, 2212, 21186, 1071, 1011, 4980, 2508, 1815, 1816, 1626, 12092, 2016, 1011, 7304, 5387, 1043, 1017, 9877, 3637, 1286, 42, 106, 9428, 2670, 103, 27624, 1208, 1245, 4590, 15501, 10732, 101, 3911, 6896, 2494, 4590, 111, 101, 3911, 1050, 1485, 2730, 113, 4590, 103, 4443, 3055, 2953, 17042, 4546, 1711, 6305, 1035, 11392, 1035, 8144, 3383, 93, 2596, 1256, 93, 1590, 1350, 3350, 2212, 4590, 1243, 3014, 1323, 3386, 11392, 5382, 27706, 1983, 4199, 1852, 11648, 1017, 2121, 11573, 1035, 1017, 18010, 8707, 1353, 3501, 17, 11414, 1034, 1123, 1017, 9607, 93, 1043, 1017, 18010, 1071, 3765, 1202, 1017, 2103, 19729, 9737, 121, 2595, 8518, 1106, 1231, 1093, 1017, 5922, 15311, 2953, 8299, 51, 29112, 1431, 4909, 81, 85, 71, 12833, 8431, 13151, 1352, 4081, 9639, 3800, 1917, 5931, 26795, 1034, 20293, 2482, 1073, 28767, 6201, 1351, 7322, 1352, 4081, 9639, 1046, 1138, 19025, 6416, 5382, 3120, 2331, 1311, 2506, 14035, 1018, 5915, 1046, 1220, 29609, 8416, 1043, 12781, 1249, 98, 16934, 3323, 85, 71, 2035, 1418, 1179, 3008, 2562, 23215, 1071, 9307, 3315, 1594, 8196, 29112, 5862, 8214, 1123, 1017, 1501, 29112, 2706, 1043, 4973, 1249, 3134, 19959, 29112, 5235, 79, 1212, 3027, 3567, 17, 2066, 121, 1863, 1546, 6346, 1035, 24993, 23235, 28168, 1158, 2624, 66, 104, 3351, 9026, 24560, 11988, 5913, 2333, 1073, 5462, 106, 4932, 96, 1205, 4016, 1205, 1654, 5462, 106, 13001, 94, 1654, 5462, 106, 11701, 96, 4114, 42, 11699, 5764, 1205, 6131, 1205, 1654, 5462, 106, 5764, 95, 3055, 2953, 3008, 3039, 1220, 5627, 1073, 1125, 3294, 29482, 26795, 3193, 1106, 1816, 42, 80, 3332, 1754, 23856, 3193, 1106, 12283, 88, 93, 96, 11797, 8192, 3583, 1011, 17042, 27579, 1231, 7548, 1153, 2489, 1688, 15191, 8198, 4546, 1835, 19959, 29112, 5235, 10384, 2607, 1433, 3027, 1017, 7139, 9091, 17, 2329, 3009, 24560, 11988, 59, 1243, 1816, 42, 83, 5277, 2166, 18626, 7033, 115, 5277, 2166, 49, 80, 4376, 7044, 5874, 19455, 115, 1060, 1515, 1212, 9707, 1816, 42, 83, 8518, 2272, 1137, 1060, 1785, 131, 1208, 1253, 80, 115, 8518, 1106, 1093, 2624, 5874, 1078, 1713, 2953, 17042, 3039, 2595, 8518, 1106, 1220, 4548, 24087, 1852, 1633, 1116, 2416, 42, 7179, 8834, 1550, 5053, 3012, 2756, 1073, 3232, 14710, 7158, 10900, 1017, 18111, 47, 18010, 50, 1153, 9207, 9307, 1109, 1073, 1017, 8196, 29112, 9758, 2662, 17, 1034, 2457, 1035, 1011, 7304, 5387, 1043, 1017, 9877, 17440, 1017, 2352, 1071, 5323, 17, 1260, 1017, 6468, 1738, 1035, 8567, 93, 2596, 1513, 16926, 4546, 5679, 1093, 3350, 2212, 4590, 3351, 28602, 1713, 98, 3920, 1681, 2516, 1445, 2393, 2300, 2557, 5347, 1682, 2546, 8554, 1681, 1036, 1828, 1632, 13506, 1046, 5135, 1036, 76, 1755, 50, 1153, 1912, 1017, 8196, 29112, 14687, 12726, 1977, 9607, 93, 16906, 4629, 1158, 2595, 21876, 6152, 1043, 1011, 18111, 47, 18010, 26415, 9851, 6648, 12553, 19959, 29112, 101, 1347, 4663, 1411, 1010, 5940, 1048, 1153, 6133, 17, 1594, 2121, 11573, 1035, 1017, 18111, 47, 18010, 1035, 5350, 3720, 25199, 42, 1073, 1017, 11573, 1035, 1017, 3656, 5255, 20252, 13012, 7878, 1017, 18111, 47, 3962, 1199, 22745, 5535, 6416, 1220, 1585, 9257, 2972, 17, 15397, 1061, 7260, 2424, 1123, 1017, 14757, 1035, 1017, 11573, 1035, 1017, 18010, 11123, 3425, 1017, 13012, 17, 18986, 1116, 1035, 7376, 3914, 1351, 2749, 1670, 1071, 1033, 4406, 3914, 1123, 2941, 11168, 1764, 1647, 1158, 1017, 7376, 7840, 52, 1353, 1415, 3115, 1123, 1017, 2756, 2996, 5382, 5635, 1983, 1298, 1017, 5393, 1035, 1017, 18010, 52, 1100, 13639, 17, 22021, 17397, 1123, 1317, 3914, 50, 10927, 10863, 2972, 7479, 1530, 1627, 8914, 17841, 1041, 13415, 8826, 1188, 1375, 1220, 1770, 8393, 11554, 52, 1601, 2528, 20373, 3720, 1243, 1017, 13415, 5737, 1615, 1298, 1796, 2212, 21186, 2333, 1073, 12866, 1049, 1046, 5810, 104, 1539, 1049, 12778, 2183, 5737, 1615, 11651, 1298, 1017, 1585, 29039, 3845, 1670, 1071, 1011, 2528, 8935, 50, 2195, 27822, 17, 1009, 4484, 19959, 29112, 101, 1347, 4663, 1411, 1010, 5940, 1048, 1375, 8802, 5780, 4785, 12726, 5333, 3720, 1713, 98, 3920, 1681, 2516, 1445, 2393, 2300, 2557, 5347, 1682, 2546, 8554, 1681, 1036, 2953, 6114, 1035, 1017, 3962, 2996, 1322, 1125, 10628, 1311, 1011, 5768, 5622, 1061, 7260, 6725, 1311, 1017, 1703, 24881, 1954, 9340, 2742, 7289, 4546, 17, 1497, 19549, 10342, 113, 2745, 1035, 14748, 1835, 19959, 29112, 5235, 54, 3000, 1756, 7260, 1912, 1569, 2972, 8928, 11096, 1046, 17138, 1017, 2972, 4585, 1061, 10900, 1017, 18010, 50, 2212, 21186, 1071, 1011, 2683, 1035, 28604, 1601, 17955, 27943, 2443, 1035, 2212, 4590, 1243, 1153, 2489, 1033, 3878, 15477, 7018, 1601, 1033, 5922, 1692, 1286, 1594, 1199, 96, 1035, 1317, 15477, 1431, 1071, 1017, 5246, 1158, 2212, 4590, 1380, 1781, 19091, 1106, 1035, 1017, 8130, 1199, 96, 1061, 79, 108, 1017, 15477, 1199, 96, 2941, 1487, 3476, 1902, 8099, 20883, 1017, 15477, 1431, 1071, 1114, 29415, 1043, 1688, 4194, 28759, 4348, 1593, 15477, 1199, 96, 1071, 2486, 1202, 1017, 4362, 12673, 1043, 4458, 1249, 9072, 1682, 125, 10255, 1284, 8826, 1418, 13637, 10342, 113, 2745, 1322, 1125, 5638, 17, 1079, 4909, 88, 93, 96, 11797, 98, 3920, 1427, 6450, 78, 10342, 14964, 1208, 1011, 6303, 14964, 1832, 3732, 3495, 1331, 1078, 6303, 113, 4379, 1286, 539, 1334, 5028, 4719, 24331, 113, 3141, 3732, 3056, 1331, 6146, 4719, 24331, 113, 3141, 3732, 19371, 5358, 5347, 3828, 78, 28759, 2505, 8554, 1427, 12726, 3521, 6303, 113, 4379, 1142, 7028, 1179, 2784, 1792, 2871, 4318, 4719, 24331, 113, 1403, 9268, 4719, 24331, 113, 2745, 1071, 11312, 1043, 9102, 3742, 125, 10255, 1284, 8826, 1416, 79, 122, 13682, 23105, 1158, 8642, 1014, 25114, 11542, 8211, 1298, 1017, 3914, 4168, 1084, 4190, 3079, 17, 1497, 1735, 113, 2272, 3980, 11174, 1046, 2871, 1432, 13672, 2171, 5551, 1011, 5965, 2416, 8459, 1035, 1020, 8692, 2977, 1296, 2976, 1071, 1011, 2590, 2140, 2067, 9900, 1311, 2212, 2730, 11612, 1432, 42, 1073, 2212, 2730, 67, 1483, 1432, 42, 3641, 17, 103, 1942, 1158, 2683, 2212, 4590, 4794, 2977, 113, 4590, 16752, 1787, 1179, 3878, 15477, 18033, 1008, 1124, 1624, 1011, 12305, 5768, 2236, 1043, 7139, 2017, 12283, 88, 93, 96, 11797, 2953, 13977, 1035, 3962, 2996, 1071, 4747, 10628, 1202, 1215, 13774, 1688, 78, 4172, 1035, 1017, 3878, 15477, 1692, 2177, 1569, 1158, 1011, 22911, 1169, 18470, 17, 125, 10255, 1815, 1061, 10900, 3350, 2212, 4590, 4794, 2977, 113, 4590, 16752, 1071, 9307, 1426, 1153, 1215, 1984, 1017, 4546, 17, 1009, 1260, 6603, 14415, 8158, 28618, 1208, 6146, 1452, 2730, 1832, 3732, 3056, 1253, 6118, 1452, 2730, 1832, 3732, 2515, 1713, 25141, 9702, 2941, 1487, 4198, 1017, 7970, 1035, 1017, 11573, 6797, 1043, 2697, 1286, 1030, 4897, 1017, 2121, 5348, 4103, 52, 6603, 14415, 8158, 2730, 1164, 1071, 3717, 5973, 3855, 3315, 98, 3920, 1427, 13866, 14415, 8158, 28618, 5288, 23245, 16612, 16663, 3732, 100, 2504, 539, 6027, 14415, 8158, 2730, 4173, 14335, 16612, 16663, 3732, 100, 2504, 539, 1208, 23537, 11069, 539, 1321, 1075, 6136, 2494, 2730, 131, 1440, 539, 6896, 2494, 2730, 131, 1075, 10631, 539, 3939, 2634, 4352, 5347, 3828, 78, 108, 1052, 2419, 2505, 8554, 1427, 2289, 1017, 16464, 3260, 1317, 2840, 4546, 1624, 1017, 7512, 11542, 4556, 1093, 2779, 2212, 2730, 3351, 3230, 3631, 1345, 1624, 6095, 3914, 1351, 5551, 6418, 14415, 8158, 2730, 1164, 1071, 29289, 5600, 17, 21006, 52, 1179, 5810, 29320, 29289, 5600, 3019, 5988, 1322, 1125, 5638, 3723, 42, 90, 24760, 91, 3802, 1243, 1433, 6792, 1071, 1017, 2774, 26090, 1043, 1706, 4302, 1046, 3294, 14564, 1071, 8472, 17, 1276, 3589, 3805, 3294, 3802, 2926, 2378, 7235, 1705, 46, 4089, 28618, 1453, 3802, 6385, 1208, 2926, 17, 6450, 78, 8158, 2730, 1930, 1375, 1071, 25932, 1093, 3294, 3802, 29547, 3495, 1323, 3090, 1123, 5988, 14639, 3315, 42, 90, 1205, 1208, 3732, 3495, 1323, 6418, 14415, 8158, 2730, 1164, 1071, 1671, 5111, 4752, 112, 4050, 18095, 21006, 52, 1179, 5810, 29320, 5111, 4752, 112, 4050, 1083, 3019, 6721, 1322, 1125, 5638, 3723, 42, 73, 24760, 91, 5433, 1243, 1433, 3294, 23722, 1071, 8472, 1046, 3589, 3805, 3294, 5433, 2926, 2378, 7235, 1705, 46, 4089, 2730, 1760, 91, 5433, 6385, 1208, 1253, 2926, 14415, 8158, 2730, 1930, 1375, 1071, 25932, 1093, 3294, 5433, 29547, 2515, 1323, 16406, 108, 1651, 2344, 1205, 1208, 1366, 5294, 2515, 1366, 5294, 2515, 1208, 3732, 3495, 1323, 3386, 4044, 3053, 9297, 2684, 1594, 20707, 15477, 1431, 10754, 1073, 1017, 2523, 122, 4960, 9580, 1248, 18905, 11765, 2298, 1199, 28514, 12283, 96, 1248, 19205, 25141, 2298, 5161, 1011, 20687, 1106, 5768, 4634, 1043, 15477, 12283, 8558, 76, 12168, 10900, 1017, 18010, 50, 1017, 3878, 15477, 1431, 1071, 1011, 2528, 6141, 1035, 3496, 3720, 1323, 7322, 1497, 15314, 1106, 5768, 4634, 4361, 1123, 2996, 11651, 17, 1063, 1017, 17321, 1322, 3394, 50, 2143, 2941, 1487, 14142, 1123, 6418, 14415, 8158, 2730, 4766, 110, 1079, 1902, 52, 2749, 1317, 1071, 5968, 4565, 1202, 5481, 1049, 6418, 17, 6450, 78, 8158, 2730, 1164, 2177, 2521, 8900, 1375, 14563, 1497, 1589, 1217, 1208, 11537, 1094, 93, 2013, 1067, 1050, 2051, 2064, 1229, 7689, 21687, 1050, 2051, 1229, 8595, 1036, 539, 1331, 1050, 2051, 1229, 8595, 21687, 1050, 2051, 2064, 1229, 7689, 131, 539, 8023, 9026, 2497, 7689, 1654, 2497, 8595, 1106, 3027, 4165, 1073, 1017, 1454, 29112, 131, 24833, 5920, 1061, 2953, 2497, 7689, 1106, 2977, 1042, 8595, 6388, 2024, 1298, 3612, 3376, 1590, 10573, 112, 67, 93, 2976, 1071, 1487, 7195, 1073, 1902, 1920, 11147, 2841, 1670, 1220, 1585, 3232, 14835, 25718, 5635, 1983, 1298, 1017, 3430, 1351, 3386, 9848, 1322, 1125, 5497, 1093, 1902, 2212, 21186, 1093, 1375, 1688, 23989, 1199, 96, 2941, 1487, 15025, 1011, 8099, 3381, 1061, 93, 1589, 2941, 1317, 15362, 1295, 3316, 1017, 4906, 4546, 13637, 10342, 113, 17625, 12726, 3350, 2212, 21186, 69, 8236, 4546, 1624, 15155, 5988, 8998, 6721, 4044, 1046, 1071, 25381, 1009, 2298, 9636, 1375, 1071, 22911, 6054, 1043, 1113, 5233, 3752, 2178, 1071, 1123, 1688, 19313, 2073, 4546, 1322, 1125, 2609, 1311, 6418, 14415, 8158, 2730, 1164, 1202, 3327, 29602, 9702, 3727, 2367, 2717, 1017, 5348, 52, 14980, 1017, 9702, 50, 1017, 2258, 1590, 1276, 6721, 10069, 1220, 23418, 1900, 1123, 1017, 3232, 14835, 3430, 2996, 1220, 1459, 8334, 17, 1308, 18470, 52, 2749, 1017, 2121, 1035, 1017, 3430, 2996, 23845, 17, 21357, 1109, 4523, 1017, 9702, 52, 5298, 1093, 13637, 10342, 113, 2745, 1670, 5382, 121, 4108, 1585, 3962, 2996, 1093, 2779, 2212, 21186, 1093, 1375, 1017, 3878, 15477, 4546, 3147, 1285, 1182, 5685, 3386, 2996, 1415, 1459, 4869, 1073, 1125, 1298, 3232, 2121, 1046, 1800, 8601, 4048, 1028, 12996, 2229, 11771, 1158, 1757, 21155, 1375, 22894, 2239, 6416, 1061, 2289, 18066, 1017, 3962, 2996, 1220, 1487, 1169, 18470, 7787, 22206, 1158, 1017, 7376, 17, 18986, 22177, 2749, 1153, 2633, 7290, 3962, 2996, 1433, 1121, 1017, 7376, 1071, 1114, 29415, 1286, 25856, 13196, 6652, 2922, 1073, 3118, 17685, 1312, 1813, 3962, 1046, 7376, 23863, 84, 1871, 1017, 10170, 1073, 12830, 64, 1179, 3962, 3914, 1298, 12830, 1906, 1053, 128, 1764, 5393, 1071, 3327, 15931, 3232, 14835, 3914, 1770, 1093, 1011, 1431, 3727, 4668, 13334, 10827, 13334, 19641, 19591, 52, 9851, 9869, 2464, 1015, 1864, 1345, 1071, 6551, 2717, 12283, 73, 13128, 11627, 73, 13128, 11797, 98, 3920, 1681, 2516, 1445, 2393, 2300, 2557, 5347, 1682, 2546, 8554, 1681, 1036, 2289, 1017, 5505, 1035, 1011, 9607, 93, 1158, 12406, 2784, 3886, 87, 2272, 7547, 8853, 1930, 1017, 3717, 17, 8067, 1035, 1017, 21452, 6331, 4207, 1071, 5671, 106, 1043, 1017, 5721, 18597, 3766, 1688, 104, 7749, 1220, 18940, 1062, 2177, 1017, 3289, 1199, 22745, 9607, 93, 5285, 2095, 1467, 20671, 1298, 1956, 1035, 1688, 1213, 3914, 3476, 2096, 2143, 1487, 1298, 1546, 1035, 3863, 1373, 6473, 11573, 4455, 12492, 1141, 5651, 8266, 12045, 1136, 3079, 12283, 88, 93, 96, 12516, 2879, 3742, 19959, 29112, 101, 1347, 4663, 101, 5940, 131, 1507, 2165, 1594, 3914, 2236, 1035, 1017, 18111, 47, 18010, 4485, 1073, 1017, 13012, 7376, 3914, 1966, 89, 5920, 16293, 1071, 1487, 7478, 1171, 1202, 1017, 9607, 93, 2646, 1017, 17042, 4546, 3147, 24507, 2090, 8072, 2972, 6123, 1046, 4518, 9538, 2070, 2802, 5558, 1323, 11614, 1286, 1594, 3841, 16293, 1813, 12866, 1049, 1046, 5810, 104, 1539, 1049, 12778, 1035, 3962, 25718, 1031, 6196, 13894, 52, 1353, 5402, 2633, 1585, 3962, 2996, 1550, 2972, 17440, 9121, 1506, 11651, 9995, 1298, 1569, 3962, 1046, 1220, 5592, 1043, 2121, 2922, 1073, 1017, 9514, 17, 1737, 6314, 1792, 1298, 1017, 1585, 5393, 1061, 84, 1871, 1123, 1017, 3962, 11573, 1220, 4836, 1073, 1017, 7376, 11573, 1298, 1688, 1308, 11620, 8456, 14763, 2656, 1073, 2464, 1015, 2338, 3900, 1286, 6648, 12553, 19959, 29112, 101, 1347, 4663, 101, 5940, 131, 2968, 1123, 4406, 3962, 3914, 2165, 16832, 3425, 1017, 2840, 20671, 9347, 1311, 1017, 8099, 2121, 1061, 98, 3920, 1681, 2516, 1445, 2393, 2300, 2557, 5347, 1682, 2546, 8554, 1681, 1036, 13708, 5076, 5544, 1017, 3962, 11573, 1671, 4264, 1093, 1017, 8299, 51, 29112, 17, 6091, 1229, 1268, 81, 85, 71, 12041, 88, 93, 96, 12516, 1153, 5982, 1043, 9102, 3742, 59, 101, 29112, 101, 1347, 4663, 1036, 1594, 2121, 11573, 1035, 1017, 18111, 47, 18010, 4485, 1073, 1017, 13012, 7376, 3914, 2165, 1350, 1017, 19530, 5940, 1046, 1017, 9607, 93, 17629, 1238, 1017, 19530, 5940, 2728, 1153, 3027, 16878, 9650, 3962, 3914, 1188, 1757, 1035, 1375, 1071, 1585, 9257, 2972, 11554, 6797, 1043, 1017, 8735, 17, 3798, 12641, 1671, 1585, 9257, 11554, 1813, 12866, 1049, 1046, 5810, 104, 1539, 2416, 3497, 2754, 1083, 1351, 9607, 93, 1895, 4457, 5136, 1073, 1017, 27794, 1035, 20671, 8266, 16218, 2096, 1035, 18940, 1062, 3914, 1351, 1179, 1585, 9257, 2972, 16293, 6355, 2143, 1688, 23777, 16293, 1813, 12866, 1049, 1046, 5810, 104, 1539, 1049, 2996, 1071, 7478, 1171, 50, 1093, 1688, 121, 1090, 4869, 1231, 1093, 1017, 8196, 29112, 11287, 13708, 5290, 1017, 13977, 1035, 3381, 2996, 1043, 1017, 8299, 51, 29112, 1431, 1286, 1626, 4457, 1912, 3878, 1114, 29415, 15477, 2606, 2609, 1202, 19619, 2212, 21186, 1073, 26453, 1350, 1375, 1017, 3679, 2837, 1017, 1199, 96, 1298, 2683, 2212, 21186, 2941, 1487, 15025, 3327, 76, 5421, 20700, 1238, 1317, 4127, 1585, 11573, 11123, 2381, 1017, 8099, 2121, 1816, 16436, 16585, 1179, 4546, 1322, 1125, 20707, 4093, 4785, 12726, 1977, 2367, 2717, 1017, 5348, 11957, 1017, 17141, 20006, 1351, 7573, 1179, 19591, 9639, 1813, 1017, 2705, 4932, 96, 1205, 4016, 19704, 1046, 1546, 19853, 29112, 121, 1220, 23878, 1073, 3232, 1046, 1017, 5060, 29396, 3914, 3147, 2173, 24208, 5284, 1043, 12913, 11086, 16647, 1345, 1311, 1017, 5862, 5651, 4155, 9650, 8834, 1550, 21452, 52, 8846, 1179, 19591, 9639, 7378, 4668, 13334, 10827, 17, 1154, 1591, 104, 1734, 1220, 23878, 1073, 13185, 5535, 4529, 1035, 1688, 78, 4172, 13637, 8158, 2730, 1164, 1322, 3027, 17, 1045, 5638, 1231, 2563, 12778, 1035, 24332, 1452, 2730, 1243, 23688, 1452, 2730, 1243, 1046, 1011, 27055, 17956, 2939, 5535, 2683, 2706, 1220, 23878, 1073, 13185, 23839, 47, 1179, 4893, 1035, 23688, 1452, 2730, 1590, 1009, 1017, 6468, 4529, 1220, 23878, 1073, 13185, 9519, 47, 1179, 4893, 1035, 24332, 17, 113, 11291, 1043, 1017, 24480, 4529, 1220, 23878, 1073, 13185, 1067, 1505, 47, 1179, 3638, 2416, 2200, 107, 4769, 1043, 6468, 4529, 1220, 23878, 1073, 16715, 1046, 1043, 24480, 17, 3948, 25831, 1073, 7669, 5587, 56, 1975, 1100, 8472, 5387, 1043, 7139, 2017, 5239, 1688, 1271, 1130, 1462, 4546, 7878, 17, 98, 3920, 1427, 13866, 14415, 8158, 28618, 1208, 23537, 21970, 539, 1321, 1075, 6136, 2494, 2730, 131, 1075, 1321, 1075, 1321, 1440, 539, 6896, 2494, 2730, 131, 1075, 1321, 1075, 1321, 1075, 1321, 1440, 539, 1321, 1075, 1321, 1075, 1321, 1075, 6136, 2494, 2730, 131, 1440, 539, 1321, 1075, 1321, 1075, 6896, 2494, 2730, 131, 1075, 10631, 539, 3939, 2634, 4352, 8554, 1427, 89, 1850, 1317, 20707, 4546, 5295, 6305, 1035, 1585, 16704, 1035, 1017, 4546, 17, 1009, 14748, 1835, 3828, 78, 108, 1052, 2419, 18548, 1345, 1624, 1585, 4568, 1035, 3232, 14835, 3430, 2996, 1035, 6970, 17, 29112, 2954, 52, 13602, 1010, 1215, 13774, 1017, 4546, 3165, 2177, 1017, 4906, 1569, 1286, 1594, 3430, 2996, 1093, 2779, 3926, 2212, 21186, 16888, 3979, 2177, 6551, 121, 2416, 8826, 1351, 1238, 7191, 1017, 16293, 1813, 1017, 3962, 2996, 1035, 2055, 7139, 17, 18805, 1071, 7478, 1171, 1900, 1123, 1153, 3430, 2482, 1158, 1585, 3914, 1966, 1828, 1632, 4358, 3644, 2759, 7260, 1415, 2486, 1123, 1585, 2606, 1035, 21452, 1040, 21147, 1014, 5309, 9797, 17, 1594, 5482, 1035, 6551, 2717, 11573, 1035, 3381, 2996, 1298, 1067, 2619, 47, 7315, 1093, 1688, 1405, 103, 5940, 11147, 6460, 3483, 1125, 2084, 1073, 10715, 1017, 22911, 12305, 17, 23318, 1054, 14288, 3386, 11573, 1220, 1585, 9257, 2972, 11554, 1046, 1415, 7762, 1234, 6258, 1585, 9257, 16293, 1043, 1017, 2833, 1035, 1011, 7957, 28852, 2922, 1073, 1017, 1909, 10518, 2416, 1544, 1017, 2996, 2425, 3928, 1298, 1017, 1585, 7315, 52, 1179, 3081, 4176, 1813, 1688, 9650, 51, 29112, 1046, 1017, 8299, 51, 29112, 1431, 1071, 1123, 1017, 5744, 16762, 1585, 5402, 17, 1544, 1569, 1593, 3914, 1351, 12930, 5482, 1322, 1125, 10628, 1311, 1011, 5768, 5622, 17, 104, 1913, 1138, 1017, 4093, 9702, 1035, 1017, 4546, 2177, 1569, 2783, 4767, 122, 4960, 9580, 1248, 18905, 11765, 2298, 1199, 74, 10211, 1238, 1017, 9607, 93, 10152, 1433, 1153, 5758, 21730, 1062, 1311, 7762, 1028, 7201, 127, 1073, 12830, 1123, 3381, 2996, 5828, 3394, 50, 1017, 3381, 11573, 5592, 17, 1009, 1260, 1585, 1585, 9257, 11554, 3914, 1351, 2059, 3311, 1125, 10140, 1123, 2831, 1688, 9650, 2606, 13571, 1058, 1017, 3381, 2996, 1311, 22911, 12305, 17, 78, 4172, 1188, 2780, 1220, 1487, 19561, 22911, 12305, 52, 5298, 1688, 7473, 2721, 2996, 1220, 1487, 5947, 7787, 9500, 5120, 52, 1179, 18892, 1071, 25381, 4179, 1158, 12830, 1917, 1158, 5768, 2918, 24626, 1061, 2953, 6114, 1035, 1017, 3381, 2996, 4744, 17, 19734, 1071, 7910, 2055, 1311, 3381, 2996, 1298, 1067, 1145, 1631, 7315, 1035, 21452, 17, 118, 21147, 1014, 5309, 1035, 1017, 15792, 55, 1032, 2803, 1852, 1593, 1231, 6147, 11657, 85, 8033, 8709, 4114, 4028, 1293, 1415, 2250, 3163, 1202, 13972, 86, 6389, 12283, 82, 21712, 12250, 16789, 81, 6596, 1238, 1317, 4127, 3381, 3914, 2165, 17145, 1311, 1017, 4573, 7063, 1035, 1874, 7315, 12283, 16789, 81, 6596, 7610, 2721, 2996, 2183, 1008, 1031, 9876, 1220, 1487, 4123, 1093, 6147, 5127, 8033, 8709, 1106, 1046, 6147, 29709, 8033, 8709, 1106, 2646, 1688, 21076, 1631, 3381, 1035, 1874, 1297, 5042, 1071, 1487, 4573, 1046, 2780, 1220, 8377, 1487, 4565, 3244, 4013, 86, 6389, 12283, 82, 24703, 6302, 95, 8327, 9686, 2953, 3381, 2996, 7511, 3501, 3483, 1125, 7222, 1202, 13972, 86, 6389, 1326, 28534, 17, 10093, 7761, 1049, 15420, 1138, 1067, 2619, 47, 7315, 50, 1375, 1220, 9689, 14725, 3315, 3023, 1239, 1016, 52, 2160, 8530, 3483, 1125, 16848, 2177, 1017, 5393, 1035, 10125, 17, 21076, 1631, 18299, 1188, 4231, 17, 15770, 1033, 9600, 83, 5091, 4808, 1011, 7901, 1123, 1624, 2250, 14801, 1093, 1688, 1111, 9920, 1035, 3962, 2996, 1043, 12830, 1229, 1268, 81, 9454, 12259, 1021, 1569, 1035, 1017, 9248, 121, 4744, 1043, 4641, 1548, 1007, 16934, 2068, 5312, 5783, 2783, 1594, 4946, 1035, 29146, 14759, 1351, 6973, 17, 10093, 7761, 1049, 5490, 2827, 10715, 1017, 2506, 1035, 11186, 1375, 1071, 4123, 3315, 1045, 11776, 4801, 1073, 1067, 2619, 47, 5393, 1035, 1017, 4071, 10917, 1238, 2697, 1286, 1594, 4086, 1217, 11017, 10681, 3468, 1158, 6070, 1037, 1035, 1017, 3381, 11573, 3809, 3315, 1028, 12588, 1035, 1017, 2506, 1035, 2996, 2646, 1017, 3381, 2996, 5382, 1851, 1837, 1109, 11303, 52, 2059, 1071, 1033, 5806, 17, 4759, 1026, 5182, 13696, 1073, 1017, 3381, 2996, 2067, 20934, 4568, 1043, 1061, 89, 6413, 1731, 9666, 1035, 1017, 2993, 3931, 51, 1106, 3227, 18446, 1093, 21452, 1040, 21147, 1014, 5309, 3483, 17, 8293, 1360, 1087, 2121, 20671, 1043, 1017, 3381, 11573, 4744, 3501, 2143, 14021, 1009, 1360, 1087, 4406, 3381, 12888, 12381, 4909, 6268, 90, 12516, 9419, 2827, 1671, 1125, 5849, 17, 1350, 4333, 4339, 1316, 1073, 1791, 13577, 5768, 27774, 1202, 1809, 1688, 1308, 2690, 1196, 3373, 1035, 12532, 21452, 1040, 21147, 1014, 5309, 12283, 96, 16280, 10071, 1828, 7363, 2075, 24531, 7260, 8594, 3760, 2636, 3404, 1199, 2255, 106, 3012, 2636, 1227, 1764, 1352, 17616, 1046, 2614, 3760, 3136, 10016, 1263, 3661, 16420, 118, 3674, 29412, 4271, 1707, 1202, 1017, 3889, 13074, 2668, 1601, 3635, 1112, 4682, 1142, 1034, 2572, 11853, 1240, 24708, 7469, 2963, 20891, 16347, 13825, 81, 3363, 1986, 1046, 16485, 1021, 1196, 14754, 1034, 1096, 6111, 17070, 62, 3147, 17309, 6182, 1061, 98, 3920, 4623, 10465, 98, 6617, 3651, 2469, 6596, 5233, 7956, 29884, 3477, 124, 1548, 4698, 1861, 3892, 1048, 1870, 1724, 19120, 98, 6617, 2678, 10987, 6004, 6602, 28746, 2004, 17927, 1046, 4764, 1227, 1764, 1117, 11856, 9085, 4698, 1861, 15755, 1820, 2072, 17, 46, 3002, 1756, 98, 6617, 2856, 103, 81, 6596, 4581, 9177, 1217, 1079, 1028, 1046, 3642, 4545, 24014, 1864, 6807, 6320, 1548, 4698, 22853, 4087, 1357, 1779, 14235, 46, 2800, 1756, 98, 6617, 10550, 111, 96, 5783, 25429, 20195, 1880, 111, 1046, 3042, 18611, 6263, 6807, 6320, 1548, 4698, 1861, 5147, 1048, 10694, 14190, 11060, 15110, 98, 6617, 2927, 93, 96, 12516, 15122, 1185, 2532, 5379, 5782, 4059, 1695, 2048, 1721, 2614, 1435, 1938, 10657, 23570, 1046, 3628, 17550, 9726, 2114, 1249, 2648, 1548, 1199, 1861, 4169, 1048, 1321, 11439, 1848, 19432, 98, 6617, 2927, 16108, 12833, 5022, 13474, 1715, 2028, 10263, 20195, 1880, 1721, 3642, 10290, 52, 7209, 3628, 2004, 25208, 1388, 13964, 1046, 3042, 18611, 10296, 1286, 2226, 1548, 6807, 1199, 1861, 3309, 1048, 1256, 11021, 1724, 18196, 18455, 98, 6617, 3323, 85, 71, 12833, 9546, 1366, 5000, 21399, 3042, 2847, 10517, 3404, 27248, 5885, 4059, 1453, 2438, 1721, 5351, 17942, 25472, 4059, 1366, 1095, 4353, 1286, 1276, 4059, 1100, 2100, 1721, 4698, 6807, 9646, 22255, 3934, 1321, 3188, 10256, 18455, 98, 6617, 2499, 21394, 5783, 6602, 2636, 3404, 1199, 2255, 106, 3012, 2636, 1227, 1764, 1352, 17616, 1046, 3642, 18183, 5054, 2004, 2114, 64, 15912, 27643, 1249, 83, 3197, 1861, 1763, 1048, 1256, 2901, 15322, 19566, 98, 6617, 2068, 72, 90, 6004, 4139, 3136, 115, 3111, 2193, 3760, 2636, 3404, 1199, 2255, 106, 3012, 1046, 3642, 18183, 5054, 4698, 6807, 29989, 13083, 3102, 1048, 1256, 14115, 1834, 19064, 98, 6617, 2856, 103, 89, 12516, 10075, 23501, 1010, 1046, 3042, 4764, 1096, 4364, 17391, 2532, 4698, 6807, 1199, 1861, 4143, 1403, 1690, 2150, 1494, 13061, 65, 2636, 3257, 1408, 16289, 3628, 2004, 1217, 1489, 1188, 4842, 3042, 1072, 2532, 2636, 2636, 2523, 28264, 2824, 1154, 4974, 1245, 1061, 78, 20649, 3012, 2004, 23331, 3074, 2193, 4764, 3642, 4497, 19742, 76, 1024, 13677, 50, 4497, 2636, 9594, 1191, 5085, 6634, 1366, 2100, 8154, 9255, 1149, 1061, 89, 10394, 1188, 2004, 3404, 20713, 50, 1046, 3042, 4764, 1096, 4364, 17391, 2532, 4698, 6807, 1199, 1861, 4784, 1048, 3902, 1848, 1945, 5236, 1760, 11060, 15110, 98, 6617, 2858, 7072, 8115, 10211, 15091, 2321, 14987, 5379, 10401, 1470, 7852, 5379, 1129, 1764, 6764, 3958, 2614, 15091, 6641, 24874, 27057, 83, 16451, 106, 12706, 1046, 2636, 18434, 8907, 1259, 1131, 1548, 4698, 2004, 1199, 1861, 3196, 1048, 1357, 2172, 19244, 98, 6617, 2927, 9767, 6596, 6602, 11318, 7777, 4633, 18302, 1531, 20606, 4497, 1096, 15595, 2636, 3619, 1341, 1028, 1864, 5351, 22189, 12265, 2004, 1217, 1061, 72, 1189, 2081, 4177, 5379, 6979, 2004, 4545, 25407, 5720, 4545, 5782, 10263, 28746, 9177, 1165, 2187, 4059, 1227, 2539, 1046, 1072, 1061, 90, 1469, 17771, 50, 4698, 6807, 9646, 22255, 7243, 15878, 15322, 19120, 98, 6617, 2856, 8991, 5783, 9546, 4633, 5594, 1604, 4974, 5351, 1072, 6122, 15074, 1046, 4633, 17942, 1053, 17055, 4698, 6807, 4189, 1249, 13083, 7945, 1048, 28499, 10256, 19566, 98, 6617, 2483, 81, 90, 5783, 10553, 25944, 5762, 8321, 5720, 1366, 9870, 5885, 2636, 16334, 111, 5885, 4633, 1366, 28194, 5820, 3642, 17550, 9726, 1572, 1061, 90, 1168, 111, 2100, 1666, 4497, 1119, 11856, 2614, 1119, 127, 1869, 4059, 1259, 1031, 17055, 4497, 26377, 2636, 18302, 4329, 111, 8321, 3042, 1119, 2173, 19005, 27057, 91, 1088, 19005, 4059, 1217, 1379, 8321, 1046, 3042, 1453, 112, 1721, 4698, 6807, 9646, 1861, 10773, 1048, 3660, 3811, 2387, 19566, 98, 6617, 2270, 13128, 12516, 2614, 4059, 1129, 5416, 25688, 1869, 5379, 6116, 1211, 1666, 5720, 2636, 3404, 6333, 2042, 4633, 3042, 12580, 1291, 1057, 1473, 1286, 1276, 2614, 4633, 4853, 7299, 6807, 6320, 1548, 4698, 22853, 3934, 14897, 19432, 98, 6617, 3228, 93, 84, 18544, 4581, 1165, 27687, 5885, 4633, 1195, 1469, 1478, 12058, 50, 4633, 18302, 17615, 1046, 4633, 1366, 1124, 12949, 15074, 2004, 2114, 1249, 89, 2049, 1548, 1265, 26574, 1548, 1861, 2477, 1048, 3690, 1056, 20120, 65, 4633, 18302, 17615, 2636, 1165, 27687, 5885, 4177, 1227, 2078, 1057, 12320, 50, 1816, 4581, 3042, 1227, 2078, 1057, 12320, 50, 4698, 6807, 1199, 1861, 4247, 1048, 3660, 2704, 58, 27865, 98, 6617, 2270, 13128, 11599, 4043, 4059, 1129, 5416, 25688, 1869, 5379, 6116, 1211, 1666, 1046, 5720, 2636, 3404, 6333, 2042, 4698, 6807, 29989, 13083, 4994, 1048, 2221, 4247, 2035, 19157, 98, 6617, 2927, 127, 78, 10024, 5022, 1185, 10484, 1046, 5351, 1217, 18886, 1285, 1721, 4698, 6807, 9646, 1861, 3697, 1048, 1321, 3309, 1145, 8760, 46, 6372, 1756, 98, 6617, 6499, 103, 81, 6596, 7295, 20370, 9084, 1046, 4059, 18591, 16449, 1864, 4698, 6807, 1199, 22853, 4087, 9997, 13939, 17, 46, 2800, 1426, 1043, 2697, 3870, 16824, 3966, 98, 6617, 7420, 1248, 18544, 4581, 3404, 1695, 1248, 18905, 19606, 2004, 22271, 4698, 1861, 2280, 1048, 1420, 1969, 60, 20120, 2445, 4043, 2523, 122, 4960, 1046, 2636, 3404, 1695, 1248, 18905, 19606, 4698, 6807, 1199, 1861, 2790, 1048, 18459, 56, 27331, 98, 6617, 2068, 17264, 12833, 4043, 3760, 3136, 10016, 11953, 3042, 15802, 2028, 2614, 1165, 1131, 1124, 17055, 1046, 2614, 5629, 5629, 1161, 1840, 125, 15639, 2114, 1249, 2648, 1548, 1199, 1861, 4315, 1048, 9997, 10430, 18455, 98, 6617, 2859, 21712, 12516, 5233, 4059, 18430, 2636, 1572, 1721, 3042, 5526, 52, 1137, 1869, 2004, 4177, 19917, 1014, 1188, 2004, 17550, 1978, 29393, 4043, 3042, 1259, 10585, 5020, 3628, 2004, 25598, 9177, 1217, 1124, 7309, 2549, 4497, 4059, 4853, 3295, 5684, 6634, 3404, 1165, 1938, 1812, 1046, 9177, 10290, 1061, 1965, 2081, 22266, 1129, 1861, 2901, 15898, 1420, 6093, 19432, 98, 6617, 3588, 82, 81, 6596, 7690, 1259, 3635, 6249, 50, 2614, 1161, 6022, 10091, 1046, 4633, 1366, 10009, 1203, 29774, 4698, 6807, 29989, 13083, 62, 3934, 16163, 18885, 19120, 98, 6617, 2859, 24703, 6596, 4043, 1161, 6022, 10091, 4633, 1366, 10009, 1203, 29774, 3042, 17592, 1031, 13543, 5888, 1695, 1478, 117, 3784, 10016, 127, 1286, 7295, 1199, 3016, 2823, 6944, 2004, 4086, 2085, 1199, 10114, 50, 1046, 4059, 1259, 3635, 6249, 50, 4698, 6807, 1199, 1861, 6347, 1403, 1741, 2150, 1741, 19120, 98, 6617, 6499, 8327, 6004, 4581, 1572, 1721, 3628, 4059, 18430, 3404, 4177, 5932, 14382, 4633, 1366, 28194, 5820, 3642, 17550, 9726, 20465, 79, 127, 1869, 4059, 1259, 1031, 17055, 4497, 1572, 7645, 19005, 2614, 1165, 8167, 1166, 1021, 1721, 1046, 9177, 10290, 52, 21176, 4261, 2004, 2114, 1249, 13083, 21038, 13402, 3195, 1266, 19064, 98, 6617, 3323, 9454, 11436, 15122, 1366, 17414, 50, 4633, 51, 3230, 1165, 3377, 123, 1721, 4497, 1259, 1518, 21399, 4633, 1366, 1124, 12949, 15074, 1816, 15122, 1366, 1478, 2210, 109, 1721, 4698, 6807, 1199, 23386, 3934, 3690, 2386, 1945, 13737, 2445, 15122, 1366, 17414, 50, 4633, 51, 3230, 1165, 3377, 123, 1721, 4497, 1259, 1518, 21399, 1046, 4633, 1366, 1124, 12949, 15074, 4698, 6807, 29989, 13083, 4994, 1048, 12803, 15598, 19157, 98, 6617, 2068, 5312, 5783, 6602, 6573, 1183, 4975, 8659, 9987, 1548, 2792, 1548, 4903, 16043, 1548, 1861, 1923, 1048, 1321, 3078, 1145, 5515, 11060, 15110, 98, 6617, 21019, 90, 12516, 5022, 2847, 1379, 1046, 5351, 17942, 25472, 4698, 6807, 1199, 1861, 4169, 1403, 1700, 2150, 2011, 19432, 98, 6617, 7420, 16280, 8115, 8959, 6263, 3642, 4545, 24014, 1864, 1046, 4764, 2004, 3645, 5684, 4698, 6807, 4189, 1249, 13083, 1460, 3934, 1321, 3456, 58, 2387, 19244, 8554, 4584]\n",
      "[5715, 98, 2181, 4074, 5713, 2287, 17, 17, 98, 1749, 2483, 1390, 5997, 3381, 2996, 1043, 19530, 5940, 1046, 25446, 17, 4380, 1040, 21147, 1014, 5309, 1036, 98, 1219, 2075, 19438, 1161, 1174, 1036, 98, 20429, 8379, 16459, 1035, 11682, 7842, 4903, 116, 27828, 12443, 27899, 17, 74, 1271, 27620, 1321, 1281, 5985, 1227, 1271, 27620, 22953, 98, 1219, 2270, 1024, 21909, 18183, 8065, 19153, 6484, 129, 6105, 21909, 52, 1014, 2785, 70, 21233, 2230, 1271, 4775, 52, 25504, 98, 20429, 8379, 16459, 1035, 11682, 7842, 4903, 116, 27828, 12443, 27899, 17, 74, 1271, 27620, 1321, 1281, 5985, 1227, 1271, 27620, 22953, 98, 5576, 18181, 1036, 98, 3920, 4656, 2953, 9557, 2236, 1035, 21452, 1040, 21147, 1014, 5309, 1071, 22911, 12305, 50, 3809, 2416, 1260, 1017, 13977, 1035, 8456, 28614, 1043, 1017, 3914, 2236, 1093, 1017, 25446, 17, 14703, 52, 5932, 25491, 1202, 1017, 18892, 1158, 8456, 28614, 1043, 2464, 1015, 1864, 1153, 10392, 1688, 2675, 2364, 5482, 17, 1544, 22911, 1169, 18470, 3381, 12381, 7610, 1803, 5585, 1852, 11573, 1035, 3381, 25718, 29861, 3241, 1043, 1017, 19530, 5940, 11147, 1100, 11152, 8299, 51, 29112, 14687, 16578, 1244, 1585, 1593, 3914, 1351, 1238, 1017, 25446, 14032, 1874, 3381, 3914, 2165, 7473, 1505, 1110, 2143, 5592, 52, 1353, 2489, 1017, 7376, 1046, 3381, 7339, 1311, 3541, 17, 27706, 1738, 1035, 8196, 1046, 8299, 51, 29112, 2606, 1043, 1011, 18010, 5853, 1046, 2709, 2165, 1594, 2002, 2725, 1138, 7970, 1061, 8554, 4656, 98, 1239, 3694, 4612, 4888, 2088, 1140, 94, 1666, 1085, 61, 3828, 27919, 71, 2193, 1085, 1724, 2062, 5549, 92, 7388, 1085, 2600, 1887, 1140, 76, 124, 539, 1085, 1036, 98, 13248, 1749, 17, 1828, 1632, 6096, 1036, 27506, 1035, 1017, 2693, 7535, 13504, 1043, 8640, 5255, 19888, 6352, 10499, 1017, 21452, 1040, 21147, 1014, 5309, 4909, 80, 2469, 6302, 74, 10987, 6004, 1046, 5768, 17, 1308, 13251, 1035, 4184, 12283, 78, 103, 81, 6302, 87, 111, 96, 5783, 1179, 21452, 1040, 21147, 1014, 5309, 1220, 1035, 6527, 17, 121, 1850, 2780, 1507, 2130, 8826, 20934, 1158, 1896, 3773, 3033, 2165, 3948, 10080, 1158, 1345, 11275, 1332, 18108, 20220, 1819, 10917, 26771, 1043, 26695, 4184, 12530, 1016, 1087, 7967, 1011, 20537, 1035, 6994, 1043, 3235, 3164, 12305, 7970, 1322, 16468, 17, 7473, 2721, 1326, 3962, 12381, 1582, 2685, 1071, 23512, 1158, 1688, 19327, 2985, 3053, 1046, 3381, 2996, 1035, 21452, 1040, 21147, 1014, 106, 5119, 2289, 21452, 1040, 21147, 1014, 106, 2042, 4419, 21452, 5462, 8963, 24993, 10692, 3653, 4785, 1260, 1017, 9557, 2996, 4801, 1073, 1017, 8099, 15818, 1185, 1028, 15344, 17, 1018, 1901, 1268, 88, 93, 96, 12516, 1415, 12744, 1123, 1317, 2130, 29112, 2954, 1322, 3809, 3315, 116, 1095, 5025, 5768, 18075, 6460, 2633, 3914, 28769, 2096, 1298, 1017, 16669, 11174, 1816, 42, 7547, 13672, 1164, 3079, 1043, 1017, 12219, 9742, 19681, 16088, 6640, 96, 1426, 1375, 1220, 3468, 1158, 5965, 2416, 8459, 121, 1043, 7139, 9080, 2237, 1011, 16782, 1017, 5285, 1035, 1011, 2972, 16424, 3486, 17, 4701, 74, 15883, 1158, 12406, 2784, 3886, 87, 2272, 7547, 8853, 1164, 4716, 4103, 1011, 4285, 5348, 20559, 1047, 1408, 14062, 1033, 3241, 1815, 1035, 8456, 3079, 12283, 88, 93, 96, 12516, 1582, 28253, 21605, 1093, 1011, 8196, 29112, 1431, 5228, 1770, 1017, 2693, 3702, 17, 42, 11699, 11701, 25733, 1046, 5462, 106, 13001, 15137, 24993, 4909, 88, 16108, 12833, 1046, 1093, 1011, 1431, 5228, 13151, 2015, 1110, 5462, 8963, 7139, 1351, 4909, 81, 85, 71, 12833, 6104, 1017, 8196, 29112, 1431, 2941, 11168, 109, 2825, 1011, 11152, 5841, 1286, 1058, 5161, 1011, 16100, 5135, 1035, 1017, 5768, 18075, 2847, 1017, 1920, 3360, 1286, 1594, 8299, 51, 29112, 1431, 4909, 81, 85, 71, 12833, 3747, 1011, 4980, 5570, 1035, 1017, 17368, 3914, 17, 6607, 1035, 1017, 19156, 9980, 1358, 22072, 6147, 11657, 8033, 8709, 85, 1106, 1046, 1671, 5136, 3315, 1016, 4149, 1573, 7486, 1093, 1017, 3289, 1895, 15853, 98, 24462, 12283, 17855, 90, 7807, 24312, 90, 9686, 75, 27311, 1093, 1017, 8456, 3079, 1624, 18768, 3120, 2331, 1311, 2508, 51, 1291, 10295, 1543, 15532, 4909, 78, 103, 89, 11797, 20830, 1117, 1235, 4963, 1707, 4909, 86, 7072, 8115, 1046, 4599, 7813, 7834, 17, 1107, 6919, 1246, 3007, 1067, 4013, 86, 6389, 47, 12283, 88, 9767, 6302, 78, 8991, 5783, 2749, 20221, 1462, 8203, 3147, 25856, 2734, 1043, 1007, 16934, 2483, 81, 90, 5783, 1061, 12045, 1136, 3079, 1043, 1017, 3914, 2236, 1415, 8086, 7359, 1011, 20537, 1035, 6994, 1043, 1688, 1731, 1262, 1035, 12830, 12283, 73, 13128, 12516, 2409, 50, 8456, 3079, 27532, 2922, 1073, 1688, 9650, 19111, 12907, 2236, 1035, 1017, 1102, 18035, 19666, 28005, 6460, 1220, 29691, 3244, 3093, 1203, 2717, 3962, 2996, 1298, 10275, 1906, 1053, 128, 1764, 5393, 1229, 1268, 21758, 84, 27012, 88, 127, 78, 15445, 73, 13128, 11627, 73, 13128, 11797, 4028, 1293, 3658, 1043, 1017, 15477, 3962, 1199, 96, 1813, 1017, 15797, 1035, 1017, 8456, 28153, 17740, 1470, 2589, 1035, 1017, 2055, 3461, 2572, 1035, 1017, 8456, 14763, 1569, 2312, 14459, 5544, 17, 1594, 127, 1415, 2656, 16391, 1043, 1040, 21147, 1014, 5309, 1046, 1043, 2464, 1015, 2338, 5778, 16397, 1286, 1493, 3381, 2996, 1671, 3394, 1043, 1017, 9607, 93, 2728, 1035, 1017, 21452, 1040, 21147, 1014, 5309, 10926, 14612, 1046, 1366, 2701, 4909, 95, 103, 81, 6596, 1415, 8377, 3115, 3381, 11573, 1093, 1011, 8196, 29112, 17, 6091, 1158, 13894, 21592, 2749, 1017, 5188, 8072, 7139, 50, 9607, 16719, 1816, 20245, 16424, 11548, 1895, 1071, 1487, 12744, 1043, 21452, 1040, 21147, 1014, 5309, 1046, 8914, 2095, 1467, 3327, 12867, 5348, 3727, 8456, 28153, 7260, 1800, 1507, 1123, 6551, 2717, 11573, 1035, 3381, 2996, 3394, 3241, 1043, 1688, 98, 11588, 1405, 103, 5940, 131, 2728, 1035, 1017, 21452, 1040, 21147, 1014, 106, 2042, 2922, 1073, 1950, 5768, 17, 18805, 52, 1238, 1017, 9607, 93, 14032, 1017, 3381, 17, 104, 7749, 5592, 52, 1582, 1071, 3115, 1093, 2253, 8196, 29112, 1046, 8299, 51, 29112, 2606, 2143, 1688, 2804, 1134, 4475, 1585, 3381, 3914, 1188, 7413, 1017, 12675, 1624, 1770, 13255, 1353, 19138, 3368, 18347, 1017, 5768, 6114, 1035, 1017, 3381, 23863, 1828, 1632, 11818, 121, 1046, 1928, 1036, 7260, 1556, 28348, 98, 1007, 16934, 3323, 85, 71, 12041, 88, 93, 96, 12516, 1043, 2897, 1291, 2416, 42, 57, 8963, 24993, 1158, 3491, 1073, 1017, 4337, 1046, 9139, 23661, 1035, 1688, 1019, 2329, 109, 3212, 26161, 1375, 1220, 1929, 11971, 1202, 1020, 2150, 13230, 4660, 1073, 1017, 5721, 1046, 3623, 1590, 6595, 1041, 1035, 1017, 6331, 21452, 28005, 1179, 8196, 29112, 1431, 4909, 88, 16108, 12041, 88, 93, 96, 11797, 1016, 1693, 121, 1770, 1874, 1585, 24993, 1043, 1011, 13531, 4380, 3717, 4665, 52, 1179, 4546, 3147, 42, 78, 22098, 1302, 25578, 5628, 1243, 1433, 1017, 2192, 24881, 3235, 1093, 1017, 5922, 1692, 19175, 42, 24134, 1208, 9110, 1735, 13060, 18063, 15833, 7264, 2202, 10221, 539, 1050, 6385, 9428, 3284, 103, 27624, 14415, 1451, 1478, 10342, 113, 4662, 539, 1050, 9428, 3284, 104, 4443, 3055, 78, 1200, 50, 13637, 10342, 113, 2745, 1071, 1011, 25336, 3923, 2514, 1043, 7139, 2017, 1286, 98, 3920, 2584, 4792, 29083, 10897, 14415, 10342, 14964, 1208, 1256, 21119, 1832, 1334, 4318, 1452, 2730, 1253, 6146, 1452, 4590, 4173, 3732, 3056, 2287, 539, 3057, 1440, 6021, 4011, 51, 1256, 1708, 1284, 4168, 24562, 12666, 5028, 1452, 2730, 6118, 1452, 4590, 1832, 3732, 2515, 3057, 1440, 6021, 1023, 3781, 1362, 56, 1708, 1284, 12275, 24562, 12666, 4318, 1452, 2730, 6146, 1452, 4590, 17, 539, 1331, 1256, 122, 15549, 1832, 1126, 4318, 1452, 2730, 1331, 6146, 1452, 4590, 5623, 1832, 3732, 3495, 6730, 1696, 17, 5347, 19959, 29112, 5235, 54, 16517, 8554, 2584, 9026, 3526, 26295, 3526, 9739, 3526, 8250, 1220, 17294, 21567, 3526, 11160, 1071, 1017, 3717, 17, 2762, 50, 1046, 1017, 7139, 4585, 7214, 4889, 3315, 42, 11699, 13001, 15137, 1046, 10815, 1073, 5462, 106, 11701, 96, 1975, 1353, 11038, 1017, 19591, 3039, 4909, 88, 93, 96, 11797, 42, 21119, 3332, 3195, 26795, 3193, 1654, 2383, 15549, 3332, 1945, 26795, 3193, 4114, 42, 20039, 19891, 2371, 23856, 3193, 1654, 1046, 2383, 24562, 3332, 2072, 26795, 3193, 3055, 10900, 1017, 6291, 1153, 4196, 4909, 88, 93, 96, 11797, 98, 3920, 2584, 78, 5628, 1075, 1208, 1075, 1526, 91, 3815, 9110, 1735, 8737, 1334, 1589, 1082, 9428, 2670, 1190, 1205, 7107, 539, 2926, 1082, 9428, 2670, 1342, 1205, 1760, 539, 1331, 11380, 2625, 80, 1270, 2066, 9428, 8737, 1082, 9428, 2670, 1190, 116, 9428, 2670, 1342, 3057, 1440, 6021, 1023, 3781, 1265, 9110, 1735, 8737, 2027, 6250, 4443, 21619, 539, 1050, 9428, 2670, 2371, 1560, 15042, 131, 1050, 9428, 2670, 1754, 1560, 45, 15042, 1036, 539, 1050, 9428, 2670, 2371, 1560, 4996, 1050, 9428, 2670, 1754, 18063, 3057, 1440, 6021, 1023, 3781, 1265, 9110, 1735, 8737, 7140, 9428, 2670, 2371, 7689, 15042, 1036, 539, 1050, 9428, 2670, 2371, 8595, 15042, 131, 106, 9428, 2670, 1754, 8595, 1036, 539, 1050, 9428, 2670, 1754, 7689, 131, 1331, 4673, 7690, 3834, 1212, 5358, 5347, 19959, 29112, 5235, 20878, 8554, 2584, 9026, 6418, 1082, 9428, 2670, 2166, 5288, 2027, 9064, 17, 106, 9428, 2670, 103, 4443, 15042, 131, 1050, 9428, 2670, 103, 4443, 1654, 1046, 1017, 3008, 17, 9737, 121, 1220, 5627, 1231, 3294, 15357, 1056, 26795, 3193, 1106, 1046, 4068, 3332, 1494, 26795, 3193, 3055, 18840, 6348, 1011, 9607, 93, 1158, 12406, 2784, 3886, 87, 2272, 7547, 8853, 4766, 1276, 14386, 20118, 3641, 1017, 2233, 17746, 27641, 1011, 17042, 27579, 4155, 1497, 3528, 1050, 9428, 2670, 103, 4443, 15042, 131, 1050, 9428, 2670, 104, 4443, 7624, 5305, 539, 1082, 21876, 1331, 11420, 5177, 2730, 3141, 25840, 6812, 50, 1099, 8518, 3988, 109, 14527, 1017, 17042, 4546, 17, 98, 3920, 1427, 78, 4320, 10384, 1151, 1208, 24470, 1331, 9110, 1735, 2670, 26577, 11420, 5177, 2730, 131, 83, 8518, 1036, 539, 2311, 5256, 9428, 2670, 12128, 7689, 15042, 131, 1050, 9428, 2670, 20141, 7689, 1036, 539, 1253, 1050, 9428, 2670, 12128, 8595, 15042, 131, 1050, 9428, 2670, 20141, 8595, 21089, 5358, 5347, 19959, 29112, 5235, 10384, 1036, 8554, 1427, 12726, 2313, 8825, 1208, 1253, 7033, 115, 8825, 49, 80, 115, 17366, 1212, 19508, 2313, 15753, 1208, 1253, 7033, 115, 15753, 49, 80, 115, 2463, 4498, 2994, 3351, 42, 83, 7619, 1208, 1137, 13576, 1208, 1253, 80, 115, 22290, 1975, 1179, 16851, 1647, 14309, 2065, 8518, 1106, 1415, 18768, 1911, 1021, 5974, 2177, 2562, 9892, 1179, 3039, 2595, 8518, 1106, 1220, 5095, 15800, 6667, 8306, 1286, 1079, 27385, 6429, 17631, 7158, 24035, 1142, 2996, 1800, 1125, 5417, 1093, 1011, 18010, 1035, 5350, 9645, 1158, 18111, 47, 29039, 2579, 1688, 9775, 118, 1071, 5922, 3641, 1017, 9877, 27641, 2212, 21186, 1071, 1011, 4980, 2508, 1815, 1816, 1626, 12092, 2016, 1011, 7304, 5387, 1043, 1017, 9877, 3637, 1286, 42, 106, 9428, 2670, 103, 27624, 1208, 1245, 4590, 15501, 10732, 101, 3911, 6896, 2494, 4590, 111, 101, 3911, 1050, 1485, 2730, 113, 4590, 103, 4443, 3055, 2953, 17042, 4546, 1711, 6305, 1035, 11392, 1035, 8144, 3383, 93, 2596, 1256, 93, 1590, 1350, 3350, 2212, 4590, 1243, 3014, 1323, 3386, 11392, 5382, 27706, 1983, 4199, 1852, 11648, 1017, 2121, 11573, 1035, 1017, 18010, 8707, 1353, 3501, 17, 11414, 1034, 1123, 1017, 9607, 93, 1043, 1017, 18010, 1071, 3765, 1202, 1017, 2103, 19729, 9737, 121, 2595, 8518, 1106, 1231, 1093, 1017, 5922, 15311, 2953, 8299, 51, 29112, 1431, 4909, 81, 85, 71, 12833, 8431, 13151, 1352, 4081, 9639, 3800, 1917, 5931, 26795, 1034, 20293, 2482, 1073, 28767, 6201, 1351, 7322, 1352, 4081, 9639, 1046, 1138, 19025, 6416, 5382, 3120, 2331, 1311, 2506, 14035, 1018, 5915, 1046, 1220, 29609, 8416, 1043, 12781, 1249, 98, 16934, 3323, 85, 71, 2035, 1418, 1179, 3008, 2562, 23215, 1071, 9307, 3315, 1594, 8196, 29112, 5862, 8214, 1123, 1017, 1501, 29112, 2706, 1043, 4973, 1249, 3134, 19959, 29112, 5235, 79, 1212, 3027, 3567, 17, 2066, 121, 1863, 1546, 6346, 1035, 24993, 23235, 28168, 1158, 2624, 66, 104, 3351, 9026, 24560, 11988, 5913, 2333, 1073, 5462, 106, 4932, 96, 1205, 4016, 1205, 1654, 5462, 106, 13001, 94, 1654, 5462, 106, 11701, 96, 4114, 42, 11699, 5764, 1205, 6131, 1205, 1654, 5462, 106, 5764, 95, 3055, 2953, 3008, 3039, 1220, 5627, 1073, 1125, 3294, 29482, 26795, 3193, 1106, 1816, 42, 80, 3332, 1754, 23856, 3193, 1106, 12283, 88, 93, 96, 11797, 8192, 3583, 1011, 17042, 27579, 1231, 7548, 1153, 2489, 1688, 15191, 8198, 4546, 1835, 19959, 29112, 5235, 10384, 2607, 1433, 3027, 1017, 7139, 9091, 17, 2329, 3009, 24560, 11988, 59, 1243, 1816, 42, 83, 5277, 2166, 18626, 7033, 115, 5277, 2166, 49, 80, 4376, 7044, 5874, 19455, 115, 1060, 1515, 1212, 9707, 1816, 42, 83, 8518, 2272, 1137, 1060, 1785, 131, 1208, 1253, 80, 115, 8518, 1106, 1093, 2624, 5874, 1078, 1713, 2953, 17042, 3039, 2595, 8518, 1106, 1220, 4548, 24087, 1852, 1633, 1116, 2416, 42, 7179, 8834, 1550, 5053, 3012, 2756, 1073, 3232, 14710, 7158, 10900, 1017, 18111, 47, 18010, 50, 1153, 9207, 9307, 1109, 1073, 1017, 8196, 29112, 9758, 2662, 17, 1034, 2457, 1035, 1011, 7304, 5387, 1043, 1017, 9877, 17440, 1017, 2352, 1071, 5323, 17, 1260, 1017, 6468, 1738, 1035, 8567, 93, 2596, 1513, 16926, 4546, 5679, 1093, 3350, 2212, 4590, 3351, 28602, 1713, 98, 3920, 1681, 2516, 1445, 2393, 2300, 2557, 5347, 1682, 2546, 8554, 1681, 1036, 1828, 1632, 13506, 1046, 5135, 1036, 76, 1755, 50, 1153, 1912, 1017, 8196, 29112, 14687, 12726, 1977, 9607, 93, 16906, 4629, 1158, 2595, 21876, 6152, 1043, 1011, 18111, 47, 18010, 26415, 9851, 6648, 12553, 19959, 29112, 101, 1347, 4663, 1411, 1010, 5940, 1048, 1153, 6133, 17, 1594, 2121, 11573, 1035, 1017, 18111, 47, 18010, 1035, 5350, 3720, 25199, 42, 1073, 1017, 11573, 1035, 1017, 3656, 5255, 20252, 13012, 7878, 1017, 18111, 47, 3962, 1199, 22745, 5535, 6416, 1220, 1585, 9257, 2972, 17, 15397, 1061, 7260, 2424, 1123, 1017, 14757, 1035, 1017, 11573, 1035, 1017, 18010, 11123, 3425, 1017, 13012, 17, 18986, 1116, 1035, 7376, 3914, 1351, 2749, 1670, 1071, 1033, 4406, 3914, 1123, 2941, 11168, 1764, 1647, 1158, 1017, 7376, 7840, 52, 1353, 1415, 3115, 1123, 1017, 2756, 2996, 5382, 5635, 1983, 1298, 1017, 5393, 1035, 1017, 18010, 52, 1100, 13639, 17, 22021, 17397, 1123, 1317, 3914, 50, 10927, 10863, 2972, 7479, 1530, 1627, 8914, 17841, 1041, 13415, 8826, 1188, 1375, 1220, 1770, 8393, 11554, 52, 1601, 2528, 20373, 3720, 1243, 1017, 13415, 5737, 1615, 1298, 1796, 2212, 21186, 2333, 1073, 12866, 1049, 1046, 5810, 104, 1539, 1049, 12778, 2183, 5737, 1615, 11651, 1298, 1017, 1585, 29039, 3845, 1670, 1071, 1011, 2528, 8935, 50, 2195, 27822, 17, 1009, 4484, 19959, 29112, 101, 1347, 4663, 1411, 1010, 5940, 1048, 1375, 8802, 5780, 4785, 12726, 5333, 3720, 1713, 98, 3920, 1681, 2516, 1445, 2393, 2300, 2557, 5347, 1682, 2546, 8554, 1681, 1036, 2953, 6114, 1035, 1017, 3962, 2996, 1322, 1125, 10628, 1311, 1011, 5768, 5622, 1061, 7260, 6725, 1311, 1017, 1703, 24881, 1954, 9340, 2742, 7289, 4546, 17, 1497, 19549, 10342, 113, 2745, 1035, 14748, 1835, 19959, 29112, 5235, 54, 3000, 1756, 7260, 1912, 1569, 2972, 8928, 11096, 1046, 17138, 1017, 2972, 4585, 1061, 10900, 1017, 18010, 50, 2212, 21186, 1071, 1011, 2683, 1035, 28604, 1601, 17955, 27943, 2443, 1035, 2212, 4590, 1243, 1153, 2489, 1033, 3878, 15477, 7018, 1601, 1033, 5922, 1692, 1286, 1594, 1199, 96, 1035, 1317, 15477, 1431, 1071, 1017, 5246, 1158, 2212, 4590, 1380, 1781, 19091, 1106, 1035, 1017, 8130, 1199, 96, 1061, 79, 108, 1017, 15477, 1199, 96, 2941, 1487, 3476, 1902, 8099, 20883, 1017, 15477, 1431, 1071, 1114, 29415, 1043, 1688, 4194, 28759, 4348, 1593, 15477, 1199, 96, 1071, 2486, 1202, 1017, 4362, 12673, 1043, 4458, 1249, 9072, 1682, 125, 10255, 1284, 8826, 1418, 13637, 10342, 113, 2745, 1322, 1125, 5638, 17, 1079, 4909, 88, 93, 96, 11797, 98, 3920, 1427, 6450, 78, 10342, 14964, 1208, 1011, 6303, 14964, 1832, 3732, 3495, 1331, 1078, 6303, 113, 4379, 1286, 539, 1334, 5028, 4719, 24331, 113, 3141, 3732, 3056, 1331, 6146, 4719, 24331, 113, 3141, 3732, 19371, 5358, 5347, 3828, 78, 28759, 2505, 8554, 1427, 12726, 3521, 6303, 113, 4379, 1142, 7028, 1179, 2784, 1792, 2871, 4318, 4719, 24331, 113, 1403, 9268, 4719, 24331, 113, 2745, 1071, 11312, 1043, 9102, 3742, 125, 10255, 1284, 8826, 1416, 79, 122, 13682, 23105, 1158, 8642, 1014, 25114, 11542, 8211, 1298, 1017, 3914, 4168, 1084, 4190, 3079, 17, 1497, 1735, 113, 2272, 3980, 11174, 1046, 2871, 1432, 13672, 2171, 5551, 1011, 5965, 2416, 8459, 1035, 1020, 8692, 2977, 1296, 2976, 1071, 1011, 2590, 2140, 2067, 9900, 1311, 2212, 2730, 11612, 1432, 42, 1073, 2212, 2730, 67, 1483, 1432, 42, 3641, 17, 103, 1942, 1158, 2683, 2212, 4590, 4794, 2977, 113, 4590, 16752, 1787, 1179, 3878, 15477, 18033, 1008, 1124, 1624, 1011, 12305, 5768, 2236, 1043, 7139, 2017, 12283, 88, 93, 96, 11797, 2953, 13977, 1035, 3962, 2996, 1071, 4747, 10628, 1202, 1215, 13774, 1688, 78, 4172, 1035, 1017, 3878, 15477, 1692, 2177, 1569, 1158, 1011, 22911, 1169, 18470, 17, 125, 10255, 1815, 1061, 10900, 3350, 2212, 4590, 4794, 2977, 113, 4590, 16752, 1071, 9307, 1426, 1153, 1215, 1984, 1017, 4546, 17, 1009, 1260, 6603, 14415, 8158, 28618, 1208, 6146, 1452, 2730, 1832, 3732, 3056, 1253, 6118, 1452, 2730, 1832, 3732, 2515, 1713, 25141, 9702, 2941, 1487, 4198, 1017, 7970, 1035, 1017, 11573, 6797, 1043, 2697, 1286, 1030, 4897, 1017, 2121, 5348, 4103, 52, 6603, 14415, 8158, 2730, 1164, 1071, 3717, 5973, 3855, 3315, 98, 3920, 1427, 13866, 14415, 8158, 28618, 5288, 23245, 16612, 16663, 3732, 100, 2504, 539, 6027, 14415, 8158, 2730, 4173, 14335, 16612, 16663, 3732, 100, 2504, 539, 1208, 23537, 11069, 539, 1321, 1075, 6136, 2494, 2730, 131, 1440, 539, 6896, 2494, 2730, 131, 1075, 10631, 539, 3939, 2634, 4352, 5347, 3828, 78, 108, 1052, 2419, 2505, 8554, 1427, 2289, 1017, 16464, 3260, 1317, 2840, 4546, 1624, 1017, 7512, 11542, 4556, 1093, 2779, 2212, 2730, 3351, 3230, 3631, 1345, 1624, 6095, 3914, 1351, 5551, 6418, 14415, 8158, 2730, 1164, 1071, 29289, 5600, 17, 21006, 52, 1179, 5810, 29320, 29289, 5600, 3019, 5988, 1322, 1125, 5638, 3723, 42, 90, 24760, 91, 3802, 1243, 1433, 6792, 1071, 1017, 2774, 26090, 1043, 1706, 4302, 1046, 3294, 14564, 1071, 8472, 17, 1276, 3589, 3805, 3294, 3802, 2926, 2378, 7235, 1705, 46, 4089, 28618, 1453, 3802, 6385, 1208, 2926, 17, 6450, 78, 8158, 2730, 1930, 1375, 1071, 25932, 1093, 3294, 3802, 29547, 3495, 1323, 3090, 1123, 5988, 14639, 3315, 42, 90, 1205, 1208, 3732, 3495, 1323, 6418, 14415, 8158, 2730, 1164, 1071, 1671, 5111, 4752, 112, 4050, 18095, 21006, 52, 1179, 5810, 29320, 5111, 4752, 112, 4050, 1083, 3019, 6721, 1322, 1125, 5638, 3723, 42, 73, 24760, 91, 5433, 1243, 1433, 3294, 23722, 1071, 8472, 1046, 3589, 3805, 3294, 5433, 2926, 2378, 7235, 1705, 46, 4089, 2730, 1760, 91, 5433, 6385, 1208, 1253, 2926, 14415, 8158, 2730, 1930, 1375, 1071, 25932, 1093, 3294, 5433, 29547, 2515, 1323, 16406, 108, 1651, 2344, 1205, 1208, 1366, 5294, 2515, 1366, 5294, 2515, 1208, 3732, 3495, 1323, 3386, 4044, 3053, 9297, 2684, 1594, 20707, 15477, 1431, 10754, 1073, 1017, 2523, 122, 4960, 9580, 1248, 18905, 11765, 2298, 1199, 28514, 12283, 96, 1248, 19205, 25141, 2298, 5161, 1011, 20687, 1106, 5768, 4634, 1043, 15477, 12283, 8558, 76, 12168, 10900, 1017, 18010, 50, 1017, 3878, 15477, 1431, 1071, 1011, 2528, 6141, 1035, 3496, 3720, 1323, 7322, 1497, 15314, 1106, 5768, 4634, 4361, 1123, 2996, 11651, 17, 1063, 1017, 17321, 1322, 3394, 50, 2143, 2941, 1487, 14142, 1123, 6418, 14415, 8158, 2730, 4766, 110, 1079, 1902, 52, 2749, 1317, 1071, 5968, 4565, 1202, 5481, 1049, 6418, 17, 6450, 78, 8158, 2730, 1164, 2177, 2521, 8900, 1375, 14563, 1497, 1589, 1217, 1208, 11537, 1094, 93, 2013, 1067, 1050, 2051, 2064, 1229, 7689, 21687, 1050, 2051, 1229, 8595, 1036, 539, 1331, 1050, 2051, 1229, 8595, 21687, 1050, 2051, 2064, 1229, 7689, 131, 539, 8023, 9026, 2497, 7689, 1654, 2497, 8595, 1106, 3027, 4165, 1073, 1017, 1454, 29112, 131, 24833, 5920, 1061, 2953, 2497, 7689, 1106, 2977, 1042, 8595, 6388, 2024, 1298, 3612, 3376, 1590, 10573, 112, 67, 93, 2976, 1071, 1487, 7195, 1073, 1902, 1920, 11147, 2841, 1670, 1220, 1585, 3232, 14835, 25718, 5635, 1983, 1298, 1017, 3430, 1351, 3386, 9848, 1322, 1125, 5497, 1093, 1902, 2212, 21186, 1093, 1375, 1688, 23989, 1199, 96, 2941, 1487, 15025, 1011, 8099, 3381, 1061, 93, 1589, 2941, 1317, 15362, 1295, 3316, 1017, 4906, 4546, 13637, 10342, 113, 17625, 12726, 3350, 2212, 21186, 69, 8236, 4546, 1624, 15155, 5988, 8998, 6721, 4044, 1046, 1071, 25381, 1009, 2298, 9636, 1375, 1071, 22911, 6054, 1043, 1113, 5233, 3752, 2178, 1071, 1123, 1688, 19313, 2073, 4546, 1322, 1125, 2609, 1311, 6418, 14415, 8158, 2730, 1164, 1202, 3327, 29602, 9702, 3727, 2367, 2717, 1017, 5348, 52, 14980, 1017, 9702, 50, 1017, 2258, 1590, 1276, 6721, 10069, 1220, 23418, 1900, 1123, 1017, 3232, 14835, 3430, 2996, 1220, 1459, 8334, 17, 1308, 18470, 52, 2749, 1017, 2121, 1035, 1017, 3430, 2996, 23845, 17, 21357, 1109, 4523, 1017, 9702, 52, 5298, 1093, 13637, 10342, 113, 2745, 1670, 5382, 121, 4108, 1585, 3962, 2996, 1093, 2779, 2212, 21186, 1093, 1375, 1017, 3878, 15477, 4546, 3147, 1285, 1182, 5685, 3386, 2996, 1415, 1459, 4869, 1073, 1125, 1298, 3232, 2121, 1046, 1800, 8601, 4048, 1028, 12996, 2229, 11771, 1158, 1757, 21155, 1375, 22894, 2239, 6416, 1061, 2289, 18066, 1017, 3962, 2996, 1220, 1487, 1169, 18470, 7787, 22206, 1158, 1017, 7376, 17, 18986, 22177, 2749, 1153, 2633, 7290, 3962, 2996, 1433, 1121, 1017, 7376, 1071, 1114, 29415, 1286, 25856, 13196, 6652, 2922, 1073, 3118, 17685, 1312, 1813, 3962, 1046, 7376, 23863, 84, 1871, 1017, 10170, 1073, 12830, 64, 1179, 3962, 3914, 1298, 12830, 1906, 1053, 128, 1764, 5393, 1071, 3327, 15931, 3232, 14835, 3914, 1770, 1093, 1011, 1431, 3727, 4668, 13334, 10827, 13334, 19641, 19591, 52, 9851, 9869, 2464, 1015, 1864, 1345, 1071, 6551, 2717, 12283, 73, 13128, 11627, 73, 13128, 11797, 98, 3920, 1681, 2516, 1445, 2393, 2300, 2557, 5347, 1682, 2546, 8554, 1681, 1036, 2289, 1017, 5505, 1035, 1011, 9607, 93, 1158, 12406, 2784, 3886, 87, 2272, 7547, 8853, 1930, 1017, 3717, 17, 8067, 1035, 1017, 21452, 6331, 4207, 1071, 5671, 106, 1043, 1017, 5721, 18597, 3766, 1688, 104, 7749, 1220, 18940, 1062, 2177, 1017, 3289, 1199, 22745, 9607, 93, 5285, 2095, 1467, 20671, 1298, 1956, 1035, 1688, 1213, 3914, 3476, 2096, 2143, 1487, 1298, 1546, 1035, 3863, 1373, 6473, 11573, 4455, 12492, 1141, 5651, 8266, 12045, 1136, 3079, 12283, 88, 93, 96, 12516, 2879, 3742, 19959, 29112, 101, 1347, 4663, 101, 5940, 131, 1507, 2165, 1594, 3914, 2236, 1035, 1017, 18111, 47, 18010, 4485, 1073, 1017, 13012, 7376, 3914, 1966, 89, 5920, 16293, 1071, 1487, 7478, 1171, 1202, 1017, 9607, 93, 2646, 1017, 17042, 4546, 3147, 24507, 2090, 8072, 2972, 6123, 1046, 4518, 9538, 2070, 2802, 5558, 1323, 11614, 1286, 1594, 3841, 16293, 1813, 12866, 1049, 1046, 5810, 104, 1539, 1049, 12778, 1035, 3962, 25718, 1031, 6196, 13894, 52, 1353, 5402, 2633, 1585, 3962, 2996, 1550, 2972, 17440, 9121, 1506, 11651, 9995, 1298, 1569, 3962, 1046, 1220, 5592, 1043, 2121, 2922, 1073, 1017, 9514, 17, 1737, 6314, 1792, 1298, 1017, 1585, 5393, 1061, 84, 1871, 1123, 1017, 3962, 11573, 1220, 4836, 1073, 1017, 7376, 11573, 1298, 1688, 1308, 11620, 8456, 14763, 2656, 1073, 2464, 1015, 2338, 3900, 1286, 6648, 12553, 19959, 29112, 101, 1347, 4663, 101, 5940, 131, 2968, 1123, 4406, 3962, 3914, 2165, 16832, 3425, 1017, 2840, 20671, 9347, 1311, 1017, 8099, 2121, 1061, 98, 3920, 1681, 2516, 1445, 2393, 2300, 2557, 5347, 1682, 2546, 8554, 1681, 1036, 13708, 5076, 5544, 1017, 3962, 11573, 1671, 4264, 1093, 1017, 8299, 51, 29112, 17, 6091, 1229, 1268, 81, 85, 71, 12041, 88, 93, 96, 12516, 1153, 5982, 1043, 9102, 3742, 59, 101, 29112, 101, 1347, 4663, 1036, 1594, 2121, 11573, 1035, 1017, 18111, 47, 18010, 4485, 1073, 1017, 13012, 7376, 3914, 2165, 1350, 1017, 19530, 5940, 1046, 1017, 9607, 93, 17629, 1238, 1017, 19530, 5940, 2728, 1153, 3027, 16878, 9650, 3962, 3914, 1188, 1757, 1035, 1375, 1071, 1585, 9257, 2972, 11554, 6797, 1043, 1017, 8735, 17, 3798, 12641, 1671, 1585, 9257, 11554, 1813, 12866, 1049, 1046, 5810, 104, 1539, 2416, 3497, 2754, 1083, 1351, 9607, 93, 1895, 4457, 5136, 1073, 1017, 27794, 1035, 20671, 8266, 16218, 2096, 1035, 18940, 1062, 3914, 1351, 1179, 1585, 9257, 2972, 16293, 6355, 2143, 1688, 23777, 16293, 1813, 12866, 1049, 1046, 5810, 104, 1539, 1049, 2996, 1071, 7478, 1171, 50, 1093, 1688, 121, 1090, 4869, 1231, 1093, 1017, 8196, 29112, 11287, 13708, 5290, 1017, 13977, 1035, 3381, 2996, 1043, 1017, 8299, 51, 29112, 1431, 1286, 1626, 4457, 1912, 3878, 1114, 29415, 15477, 2606, 2609, 1202, 19619, 2212, 21186, 1073, 26453, 1350, 1375, 1017, 3679, 2837, 1017, 1199, 96, 1298, 2683, 2212, 21186, 2941, 1487, 15025, 3327, 76, 5421, 20700, 1238, 1317, 4127, 1585, 11573, 11123, 2381, 1017, 8099, 2121, 1816, 16436, 16585, 1179, 4546, 1322, 1125, 20707, 4093, 4785, 12726, 1977, 2367, 2717, 1017, 5348, 11957, 1017, 17141, 20006, 1351, 7573, 1179, 19591, 9639, 1813, 1017, 2705, 4932, 96, 1205, 4016, 19704, 1046, 1546, 19853, 29112, 121, 1220, 23878, 1073, 3232, 1046, 1017, 5060, 29396, 3914, 3147, 2173, 24208, 5284, 1043, 12913, 11086, 16647, 1345, 1311, 1017, 5862, 5651, 4155, 9650, 8834, 1550, 21452, 52, 8846, 1179, 19591, 9639, 7378, 4668, 13334, 10827, 17, 1154, 1591, 104, 1734, 1220, 23878, 1073, 13185, 5535, 4529, 1035, 1688, 78, 4172, 13637, 8158, 2730, 1164, 1322, 3027, 17, 1045, 5638, 1231, 2563, 12778, 1035, 24332, 1452, 2730, 1243, 23688, 1452, 2730, 1243, 1046, 1011, 27055, 17956, 2939, 5535, 2683, 2706, 1220, 23878, 1073, 13185, 23839, 47, 1179, 4893, 1035, 23688, 1452, 2730, 1590, 1009, 1017, 6468, 4529, 1220, 23878, 1073, 13185, 9519, 47, 1179, 4893, 1035, 24332, 17, 113, 11291, 1043, 1017, 24480, 4529, 1220, 23878, 1073, 13185, 1067, 1505, 47, 1179, 3638, 2416, 2200, 107, 4769, 1043, 6468, 4529, 1220, 23878, 1073, 16715, 1046, 1043, 24480, 17, 3948, 25831, 1073, 7669, 5587, 56, 1975, 1100, 8472, 5387, 1043, 7139, 2017, 5239, 1688, 1271, 1130, 1462, 4546, 7878, 17, 98, 3920, 1427, 13866, 14415, 8158, 28618, 1208, 23537, 21970, 539, 1321, 1075, 6136, 2494, 2730, 131, 1075, 1321, 1075, 1321, 1440, 539, 6896, 2494, 2730, 131, 1075, 1321, 1075, 1321, 1075, 1321, 1440, 539, 1321, 1075, 1321, 1075, 1321, 1075, 6136, 2494, 2730, 131, 1440, 539, 1321, 1075, 1321, 1075, 6896, 2494, 2730, 131, 1075, 10631, 539, 3939, 2634, 4352, 8554, 1427, 89, 1850, 1317, 20707, 4546, 5295, 6305, 1035, 1585, 16704, 1035, 1017, 4546, 17, 1009, 14748, 1835, 3828, 78, 108, 1052, 2419, 18548, 1345, 1624, 1585, 4568, 1035, 3232, 14835, 3430, 2996, 1035, 6970, 17, 29112, 2954, 52, 13602, 1010, 1215, 13774, 1017, 4546, 3165, 2177, 1017, 4906, 1569, 1286, 1594, 3430, 2996, 1093, 2779, 3926, 2212, 21186, 16888, 3979, 2177, 6551, 121, 2416, 8826, 1351, 1238, 7191, 1017, 16293, 1813, 1017, 3962, 2996, 1035, 2055, 7139, 17, 18805, 1071, 7478, 1171, 1900, 1123, 1153, 3430, 2482, 1158, 1585, 3914, 1966, 1828, 1632, 4358, 3644, 2759, 7260, 1415, 2486, 1123, 1585, 2606, 1035, 21452, 1040, 21147, 1014, 5309, 9797, 17, 1594, 5482, 1035, 6551, 2717, 11573, 1035, 3381, 2996, 1298, 1067, 2619, 47, 7315, 1093, 1688, 1405, 103, 5940, 11147, 6460, 3483, 1125, 2084, 1073, 10715, 1017, 22911, 12305, 17, 23318, 1054, 14288, 3386, 11573, 1220, 1585, 9257, 2972, 11554, 1046, 1415, 7762, 1234, 6258, 1585, 9257, 16293, 1043, 1017, 2833, 1035, 1011, 7957, 28852, 2922, 1073, 1017, 1909, 10518, 2416, 1544, 1017, 2996, 2425, 3928, 1298, 1017, 1585, 7315, 52, 1179, 3081, 4176, 1813, 1688, 9650, 51, 29112, 1046, 1017, 8299, 51, 29112, 1431, 1071, 1123, 1017, 5744, 16762, 1585, 5402, 17, 1544, 1569, 1593, 3914, 1351, 12930, 5482, 1322, 1125, 10628, 1311, 1011, 5768, 5622, 17, 104, 1913, 1138, 1017, 4093, 9702, 1035, 1017, 4546, 2177, 1569, 2783, 4767, 122, 4960, 9580, 1248, 18905, 11765, 2298, 1199, 74, 10211, 1238, 1017, 9607, 93, 10152, 1433, 1153, 5758, 21730, 1062, 1311, 7762, 1028, 7201, 127, 1073, 12830, 1123, 3381, 2996, 5828, 3394, 50, 1017, 3381, 11573, 5592, 17, 1009, 1260, 1585, 1585, 9257, 11554, 3914, 1351, 2059, 3311, 1125, 10140, 1123, 2831, 1688, 9650, 2606, 13571, 1058, 1017, 3381, 2996, 1311, 22911, 12305, 17, 78, 4172, 1188, 2780, 1220, 1487, 19561, 22911, 12305, 52, 5298, 1688, 7473, 2721, 2996, 1220, 1487, 5947, 7787, 9500, 5120, 52, 1179, 18892, 1071, 25381, 4179, 1158, 12830, 1917, 1158, 5768, 2918, 24626, 1061, 2953, 6114, 1035, 1017, 3381, 2996, 4744, 17, 19734, 1071, 7910, 2055, 1311, 3381, 2996, 1298, 1067, 1145, 1631, 7315, 1035, 21452, 17, 118, 21147, 1014, 5309, 1035, 1017, 15792, 55, 1032, 2803, 1852, 1593, 1231, 6147, 11657, 85, 8033, 8709, 4114, 4028, 1293, 1415, 2250, 3163, 1202, 13972, 86, 6389, 12283, 82, 21712, 12250, 16789, 81, 6596, 1238, 1317, 4127, 3381, 3914, 2165, 17145, 1311, 1017, 4573, 7063, 1035, 1874, 7315, 12283, 16789, 81, 6596, 7610, 2721, 2996, 2183, 1008, 1031, 9876, 1220, 1487, 4123, 1093, 6147, 5127, 8033, 8709, 1106, 1046, 6147, 29709, 8033, 8709, 1106, 2646, 1688, 21076, 1631, 3381, 1035, 1874, 1297, 5042, 1071, 1487, 4573, 1046, 2780, 1220, 8377, 1487, 4565, 3244, 4013, 86, 6389, 12283, 82, 24703, 6302, 95, 8327, 9686, 2953, 3381, 2996, 7511, 3501, 3483, 1125, 7222, 1202, 13972, 86, 6389, 1326, 28534, 17, 10093, 7761, 1049, 15420, 1138, 1067, 2619, 47, 7315, 50, 1375, 1220, 9689, 14725, 3315, 3023, 1239, 1016, 52, 2160, 8530, 3483, 1125, 16848, 2177, 1017, 5393, 1035, 10125, 17, 21076, 1631, 18299, 1188, 4231, 17, 15770, 1033, 9600, 83, 5091, 4808, 1011, 7901, 1123, 1624, 2250, 14801, 1093, 1688, 1111, 9920, 1035, 3962, 2996, 1043, 12830, 1229, 1268, 81, 9454, 12259, 1021, 1569, 1035, 1017, 9248, 121, 4744, 1043, 4641, 1548, 1007, 16934, 2068, 5312, 5783, 2783, 1594, 4946, 1035, 29146, 14759, 1351, 6973, 17, 10093, 7761, 1049, 5490, 2827, 10715, 1017, 2506, 1035, 11186, 1375, 1071, 4123, 3315, 1045, 11776, 4801, 1073, 1067, 2619, 47, 5393, 1035, 1017, 4071, 10917, 1238, 2697, 1286, 1594, 4086, 1217, 11017, 10681, 3468, 1158, 6070, 1037, 1035, 1017, 3381, 11573, 3809, 3315, 1028, 12588, 1035, 1017, 2506, 1035, 2996, 2646, 1017, 3381, 2996, 5382, 1851, 1837, 1109, 11303, 52, 2059, 1071, 1033, 5806, 17, 4759, 1026, 5182, 13696, 1073, 1017, 3381, 2996, 2067, 20934, 4568, 1043, 1061, 89, 6413, 1731, 9666, 1035, 1017, 2993, 3931, 51, 1106, 3227, 18446, 1093, 21452, 1040, 21147, 1014, 5309, 3483, 17, 8293, 1360, 1087, 2121, 20671, 1043, 1017, 3381, 11573, 4744, 3501, 2143, 14021, 1009, 1360, 1087, 4406, 3381, 12888, 12381, 4909, 6268, 90, 12516, 9419, 2827, 1671, 1125, 5849, 17, 1350, 4333, 4339, 1316, 1073, 1791, 13577, 5768, 27774, 1202, 1809, 1688, 1308, 2690, 1196, 3373, 1035, 12532, 21452, 1040, 21147, 1014, 5309, 12283, 96, 16280, 10071, 1828, 7363, 2075, 24531, 7260, 8594, 3760, 2636, 3404, 1199, 2255, 106, 3012, 2636, 1227, 1764, 1352, 17616, 1046, 2614, 3760, 3136, 10016, 1263, 3661, 16420, 118, 3674, 29412, 4271, 1707, 1202, 1017, 3889, 13074, 2668, 1601, 3635, 1112, 4682, 1142, 1034, 2572, 11853, 1240, 24708, 7469, 2963, 20891, 16347, 13825, 81, 3363, 1986, 1046, 16485, 1021, 1196, 14754, 1034, 1096, 6111, 17070, 62, 3147, 17309, 6182, 1061, 98, 3920, 4623, 10465, 98, 6617, 3651, 2469, 6596, 5233, 7956, 29884, 3477, 124, 1548, 4698, 1861, 3892, 1048, 1870, 1724, 19120, 98, 6617, 2678, 10987, 6004, 6602, 28746, 2004, 17927, 1046, 4764, 1227, 1764, 1117, 11856, 9085, 4698, 1861, 15755, 1820, 2072, 17, 46, 3002, 1756, 98, 6617, 2856, 103, 81, 6596, 4581, 9177, 1217, 1079, 1028, 1046, 3642, 4545, 24014, 1864, 6807, 6320, 1548, 4698, 22853, 4087, 1357, 1779, 14235, 46, 2800, 1756, 98, 6617, 10550, 111, 96, 5783, 25429, 20195, 1880, 111, 1046, 3042, 18611, 6263, 6807, 6320, 1548, 4698, 1861, 5147, 1048, 10694, 14190, 11060, 15110, 98, 6617, 2927, 93, 96, 12516, 15122, 1185, 2532, 5379, 5782, 4059, 1695, 2048, 1721, 2614, 1435, 1938, 10657, 23570, 1046, 3628, 17550, 9726, 2114, 1249, 2648, 1548, 1199, 1861, 4169, 1048, 1321, 11439, 1848, 19432, 98, 6617, 2927, 16108, 12833, 5022, 13474, 1715, 2028, 10263, 20195, 1880, 1721, 3642, 10290, 52, 7209, 3628, 2004, 25208, 1388, 13964, 1046, 3042, 18611, 10296, 1286, 2226, 1548, 6807, 1199, 1861, 3309, 1048, 1256, 11021, 1724, 18196, 18455, 98, 6617, 3323, 85, 71, 12833, 9546, 1366, 5000, 21399, 3042, 2847, 10517, 3404, 27248, 5885, 4059, 1453, 2438, 1721, 5351, 17942, 25472, 4059, 1366, 1095, 4353, 1286, 1276, 4059, 1100, 2100, 1721, 4698, 6807, 9646, 22255, 3934, 1321, 3188, 10256, 18455, 98, 6617, 2499, 21394, 5783, 6602, 2636, 3404, 1199, 2255, 106, 3012, 2636, 1227, 1764, 1352, 17616, 1046, 3642, 18183, 5054, 2004, 2114, 64, 15912, 27643, 1249, 83, 3197, 1861, 1763, 1048, 1256, 2901, 15322, 19566, 98, 6617, 2068, 72, 90, 6004, 4139, 3136, 115, 3111, 2193, 3760, 2636, 3404, 1199, 2255, 106, 3012, 1046, 3642, 18183, 5054, 4698, 6807, 29989, 13083, 3102, 1048, 1256, 14115, 1834, 19064, 98, 6617, 2856, 103, 89, 12516, 10075, 23501, 1010, 1046, 3042, 4764, 1096, 4364, 17391, 2532, 4698, 6807, 1199, 1861, 4143, 1403, 1690, 2150, 1494, 13061, 65, 2636, 3257, 1408, 16289, 3628, 2004, 1217, 1489, 1188, 4842, 3042, 1072, 2532, 2636, 2636, 2523, 28264, 2824, 1154, 4974, 1245, 1061, 78, 20649, 3012, 2004, 23331, 3074, 2193, 4764, 3642, 4497, 19742, 76, 1024, 13677, 50, 4497, 2636, 9594, 1191, 5085, 6634, 1366, 2100, 8154, 9255, 1149, 1061, 89, 10394, 1188, 2004, 3404, 20713, 50, 1046, 3042, 4764, 1096, 4364, 17391, 2532, 4698, 6807, 1199, 1861, 4784, 1048, 3902, 1848, 1945, 5236, 1760, 11060, 15110, 98, 6617, 2858, 7072, 8115, 10211, 15091, 2321, 14987, 5379, 10401, 1470, 7852, 5379, 1129, 1764, 6764, 3958, 2614, 15091, 6641, 24874, 27057, 83, 16451, 106, 12706, 1046, 2636, 18434, 8907, 1259, 1131, 1548, 4698, 2004, 1199, 1861, 3196, 1048, 1357, 2172, 19244, 98, 6617, 2927, 9767, 6596, 6602, 11318, 7777, 4633, 18302, 1531, 20606, 4497, 1096, 15595, 2636, 3619, 1341, 1028, 1864, 5351, 22189, 12265, 2004, 1217, 1061, 72, 1189, 2081, 4177, 5379, 6979, 2004, 4545, 25407, 5720, 4545, 5782, 10263, 28746, 9177, 1165, 2187, 4059, 1227, 2539, 1046, 1072, 1061, 90, 1469, 17771, 50, 4698, 6807, 9646, 22255, 7243, 15878, 15322, 19120, 98, 6617, 2856, 8991, 5783, 9546, 4633, 5594, 1604, 4974, 5351, 1072, 6122, 15074, 1046, 4633, 17942, 1053, 17055, 4698, 6807, 4189, 1249, 13083, 7945, 1048, 28499, 10256, 19566, 98, 6617, 2483, 81, 90, 5783, 10553, 25944, 5762, 8321, 5720, 1366, 9870, 5885, 2636, 16334, 111, 5885, 4633, 1366, 28194, 5820, 3642, 17550, 9726, 1572, 1061, 90, 1168, 111, 2100, 1666, 4497, 1119, 11856, 2614, 1119, 127, 1869, 4059, 1259, 1031, 17055, 4497, 26377, 2636, 18302, 4329, 111, 8321, 3042, 1119, 2173, 19005, 27057, 91, 1088, 19005, 4059, 1217, 1379, 8321, 1046, 3042, 1453, 112, 1721, 4698, 6807, 9646, 1861, 10773, 1048, 3660, 3811, 2387, 19566, 98, 6617, 2270, 13128, 12516, 2614, 4059, 1129, 5416, 25688, 1869, 5379, 6116, 1211, 1666, 5720, 2636, 3404, 6333, 2042, 4633, 3042, 12580, 1291, 1057, 1473, 1286, 1276, 2614, 4633, 4853, 7299, 6807, 6320, 1548, 4698, 22853, 3934, 14897, 19432, 98, 6617, 3228, 93, 84, 18544, 4581, 1165, 27687, 5885, 4633, 1195, 1469, 1478, 12058, 50, 4633, 18302, 17615, 1046, 4633, 1366, 1124, 12949, 15074, 2004, 2114, 1249, 89, 2049, 1548, 1265, 26574, 1548, 1861, 2477, 1048, 3690, 1056, 20120, 65, 4633, 18302, 17615, 2636, 1165, 27687, 5885, 4177, 1227, 2078, 1057, 12320, 50, 1816, 4581, 3042, 1227, 2078, 1057, 12320, 50, 4698, 6807, 1199, 1861, 4247, 1048, 3660, 2704, 58, 27865, 98, 6617, 2270, 13128, 11599, 4043, 4059, 1129, 5416, 25688, 1869, 5379, 6116, 1211, 1666, 1046, 5720, 2636, 3404, 6333, 2042, 4698, 6807, 29989, 13083, 4994, 1048, 2221, 4247, 2035, 19157, 98, 6617, 2927, 127, 78, 10024, 5022, 1185, 10484, 1046, 5351, 1217, 18886, 1285, 1721, 4698, 6807, 9646, 1861, 3697, 1048, 1321, 3309, 1145, 8760, 46, 6372, 1756, 98, 6617, 6499, 103, 81, 6596, 7295, 20370, 9084, 1046, 4059, 18591, 16449, 1864, 4698, 6807, 1199, 22853, 4087, 9997, 13939, 17, 46, 2800, 1426, 1043, 2697, 3870, 16824, 3966, 98, 6617, 7420, 1248, 18544, 4581, 3404, 1695, 1248, 18905, 19606, 2004, 22271, 4698, 1861, 2280, 1048, 1420, 1969, 60, 20120, 2445, 4043, 2523, 122, 4960, 1046, 2636, 3404, 1695, 1248, 18905, 19606, 4698, 6807, 1199, 1861, 2790, 1048, 18459, 56, 27331, 98, 6617, 2068, 17264, 12833, 4043, 3760, 3136, 10016, 11953, 3042, 15802, 2028, 2614, 1165, 1131, 1124, 17055, 1046, 2614, 5629, 5629, 1161, 1840, 125, 15639, 2114, 1249, 2648, 1548, 1199, 1861, 4315, 1048, 9997, 10430, 18455, 98, 6617, 2859, 21712, 12516, 5233, 4059, 18430, 2636, 1572, 1721, 3042, 5526, 52, 1137, 1869, 2004, 4177, 19917, 1014, 1188, 2004, 17550, 1978, 29393, 4043, 3042, 1259, 10585, 5020, 3628, 2004, 25598, 9177, 1217, 1124, 7309, 2549, 4497, 4059, 4853, 3295, 5684, 6634, 3404, 1165, 1938, 1812, 1046, 9177, 10290, 1061, 1965, 2081, 22266, 1129, 1861, 2901, 15898, 1420, 6093, 19432, 98, 6617, 3588, 82, 81, 6596, 7690, 1259, 3635, 6249, 50, 2614, 1161, 6022, 10091, 1046, 4633, 1366, 10009, 1203, 29774, 4698, 6807, 29989, 13083, 62, 3934, 16163, 18885, 19120, 98, 6617, 2859, 24703, 6596, 4043, 1161, 6022, 10091, 4633, 1366, 10009, 1203, 29774, 3042, 17592, 1031, 13543, 5888, 1695, 1478, 117, 3784, 10016, 127, 1286, 7295, 1199, 3016, 2823, 6944, 2004, 4086, 2085, 1199, 10114, 50, 1046, 4059, 1259, 3635, 6249, 50, 4698, 6807, 1199, 1861, 6347, 1403, 1741, 2150, 1741, 19120, 98, 6617, 6499, 8327, 6004, 4581, 1572, 1721, 3628, 4059, 18430, 3404, 4177, 5932, 14382, 4633, 1366, 28194, 5820, 3642, 17550, 9726, 20465, 79, 127, 1869, 4059, 1259, 1031, 17055, 4497, 1572, 7645, 19005, 2614, 1165, 8167, 1166, 1021, 1721, 1046, 9177, 10290, 52, 21176, 4261, 2004, 2114, 1249, 13083, 21038, 13402, 3195, 1266, 19064, 98, 6617, 3323, 9454, 11436, 15122, 1366, 17414, 50, 4633, 51, 3230, 1165, 3377, 123, 1721, 4497, 1259, 1518, 21399, 4633, 1366, 1124, 12949, 15074, 1816, 15122, 1366, 1478, 2210, 109, 1721, 4698, 6807, 1199, 23386, 3934, 3690, 2386, 1945, 13737, 2445, 15122, 1366, 17414, 50, 4633, 51, 3230, 1165, 3377, 123, 1721, 4497, 1259, 1518, 21399, 1046, 4633, 1366, 1124, 12949, 15074, 4698, 6807, 29989, 13083, 4994, 1048, 12803, 15598, 19157, 98, 6617, 2068, 5312, 5783, 6602, 6573, 1183, 4975, 8659, 9987, 1548, 2792, 1548, 4903, 16043, 1548, 1861, 1923, 1048, 1321, 3078, 1145, 5515, 11060, 15110, 98, 6617, 21019, 90, 12516, 5022, 2847, 1379, 1046, 5351, 17942, 25472, 4698, 6807, 1199, 1861, 4169, 1403, 1700, 2150, 2011, 19432, 98, 6617, 7420, 16280, 8115, 8959, 6263, 3642, 4545, 24014, 1864, 1046, 4764, 2004, 3645, 5684, 4698, 6807, 4189, 1249, 13083, 1460, 3934, 1321, 3456, 58, 2387, 19244, 8554, 4584]\n"
     ]
    },
    {
     "data": {
      "text/plain": [
       "'\\\\importpackages{}\\n\\\\graphicspath{ {./images/} }\\n\\n\\n\\\\title{Topological surface states in paramagnetic and antiferromagnetic\\niron pnictides}\\n\\\\author{Alexander Lau}\\n\\\\affiliation{Institute of Theoretical Physics, Technische Universit\\\\\"at\\nDresden, 01062 Dresden, Germany}\\n\\\\author{Carsten Timm}\\n\\\\email{carsten.timm@tu-dresden.de}\\n\\\\affiliation{Institute of Theoretical Physics, Technische Universit\\\\\"at\\nDresden, 01062 Dresden, Germany}\\n\\\\date{\\\\today}\\n\\\\begin{abstract}\\nThe electronic structure of iron pnictides is topologically nontrivial, leading\\nto the appearance of Dirac cones in the band structure for the antiferromagnetic\\nphase. Motivated by the analogy with Dirac cones in graphene, we explore the\\npossible existence\\nof topologically protected surface states. Surprisingly, bands of surface states\\nexist even in the paramagnetic state. A realistic five-orbital model\\npredicts two such bands. In the antiferromagnetic phase, these surface bands\\nsurvive but split. We obtain the bulk and surface dispersion from exact\\ndiagonalization of two- and five-orbital models in a strip geometry and discuss\\nthe results based on topology.\\n\\\\end{abstract}\\n\\\\pacs{\\n74.70.Xa, \\n73.20.At, \\n03.65.Vf, \\n75.30.Fv  \\n}\\n\\\\maketitle\\n\\\\section{Introduction}\\nTwo of the most active areas in condensed\\nmatter physics concern the iron pnictides\\\\cite{Joh10,DHD12} and topological\\nproperties of matter.\\\\cite{HaK10,QiZ11} The iron pnictides are of interest\\nsince they show multiband superconductivity with high transition temperatures\\ncompeting with itinerant antiferromagnetism. Topology in condensed matter has\\nreceived a lot of attention in part because nontrivial topology can induce\\nsurface or edge states. This paper is concerned with the\\ntopological properties and surface states of iron pnictides.\\nIn iron pnictides, several iron $3d$ orbitals contribute significantly\\nto the electronic states close to the Fermi energy. Ran \\\\textit{et\\nal.}\\\\cite{RWZ09} have realized that this multiorbital character can lead to\\nnontrivial topological properties. They find band touchings at the $(0,0)$ and\\n$(\\\\pi,\\\\pi)$ points in the Brillouin zone (BZ), which are associated with winding\\nnumbers in orbital space. As a consequence, the formation of a spin-density wave\\n(SDW) with ordering vector $\\\\mathbf{Q}=(\\\\pi,0)$ cannot open a full gap but\\nrather leaves an even number of Dirac points.\\\\cite{RWZ09} This holds\\nboth for a two-orbital model including only the most important\\n$3d_{YZ}$ and $3d_{ZX}$ orbitals\\\\cite{RQL08} and for a model including all\\nfive $3d$ orbitals.\\\\cite{KOA08} While the two-orbital model does not\\ngive a realistic description,\\nit allows a simpler discussion of the topological properties. On the other hand,\\nthe five-orbital model\\\\cite{KOA08} gives a good account of the low-energy band\\nstructure of the prototypical compound $\\\\mathrm{LaFeAsO}$ and also leads to\\nreasonable predictions for the magnetic order vs.\\\\ doping.\\\\cite{BDT11,SBT12}\\nEvidence for the Dirac points has been\\nobtained from quantum-oscillation experiments,\\\\cite{HaS09}\\nmagnetotransport\\\\cite{PBC13} and angle-resolved\\nphotoemission (ARPES).\\\\cite{RNS10,HTT11} However, conflicting evidence is\\npresented in \\\\onlinecite{TKT11}.\\nDirac points in the band structure have attracted a lot of attention in the\\ncontext of graphene.\\\\cite{CGP09} There, Dirac points emerge due to the\\ntwo-sublattice structure of the honeycomb lattice. They are accompanied by\\ndispersing edge states at so-called zigzag edges,\\\\cite{FWN96,RyH02,CGP06,CGP09}\\nwhich appear in the 1D edge BZ between the projections of the Dirac points.\\nRegardless of the different origins of the Dirac points, one may ask whether\\nthey have similar consequences in pnictides and in graphene. Specifically,\\ndo surface states also exist in the SDW phase of the iron pnictides?\\nYang and Kee\\\\cite{YaK10} have indeed found surface bands for a two-orbital\\nmodel with broken symmetry. However, the required combined orbital, SDW, and\\ncharge-density-wave order is not realized in iron pnictides and actually opens a\\nfull gap without Dirac points.\\nWe will show that dispersing bands of surface states exist even in the\\n\\\\emph{paramagnetic} phase of the iron pnictides, due to its topological\\ncharacter. In the SDW phase, the surface\\nbands split. This is found for both two-orbital and five-orbital models but the\\nlatter features two surface bands, whereas the former has only one. We will\\nexplain the topological origin of the surface states.\\n\\\\section{Models and method}\\nWe follow Refs.\\\\ \\\\onlinecite{KOA08,RWZ09} in choosing\\n$3d$ orbitals with respect to the $X$ and $Y$ axes of the\\ntetragonal lattice, which are rotated by $45^\\\\circ$ relative to the $x$ and $y$\\naxes of the square iron lattice. The two-orbital model\\\\cite{RQL08,RWZ09}\\nretains only these two orbitals in a single-iron unit cell. The Hamiltonian is\\n$H=H_0+H_I$, where the non-interacting part for the extended system reads\\n$H_0 = \\\\sum_{\\\\mathbf{k}\\\\sigma} \\\\sum_{a,b=1}^2\\n  d^\\\\dagger_{\\\\mathbf{k}a\\\\sigma} \\\\mathcal{H}_{ab}(\\\\mathbf{k})\\n  d_{\\\\mathbf{k}b\\\\sigma}$.\\nHere, $\\\\mathcal{H}(\\\\mathbf{k})$ is a $2\\\\times2$ matrix in orbital space,\\n\\\\begin{eqnarray}\\n\\\\lefteqn{ \\\\mathcal{H}(\\\\mathbf{k}) = 2t_1\\\\, (\\\\cos k_x - \\\\cos k_y)\\\\, \\\\tau^1 }\\n  \\\\nonumber \\\\\\\\\\n&& {}- 2(t_2-t_2\\')\\\\,\\\\sin k_x \\\\sin k_y\\\\, \\\\tau^3 \\\\nonumber \\\\\\\\\\n&& {}+ [2(t_2+t_2\\')\\\\,\\\\cos k_x \\\\cos k_y\\n  + 2t_1\\'\\\\,(\\\\cos k_x + \\\\cos k_y)]\\\\, \\\\tau^0 ,\\\\quad\\n\\\\label{2_orbital_H0_1}\\n\\\\end{eqnarray}\\nwhere $\\\\tau^1$, $\\\\tau^2$, $\\\\tau^3$ are Pauli matrices, $\\\\tau^0$ is the unit\\nmatrix, and the orbital index $1$ corresponds to\\n$3d_{ZX}$ and $2$ to $3d_{YZ}$. We adopt the hopping parameters\\\\cite{RWZ09}\\n$t_1=0.30\\\\,\\\\mathrm{eV}$, $t_1\\'=0.06\\\\,\\\\mathrm{eV}$,\\n$t_2=0.51\\\\,\\\\mathrm{eV}$, and $t_2\\'=0.09\\\\,\\\\mathrm{eV}$.\\nFor the interactions we take\\\\cite{RWZ09}\\n\\\\begin{eqnarray}\\nH_I & = & \\\\frac{U}{2} \\\\sum_{\\\\mathbf{i}} (\\\\hat n_{\\\\mathbf{i}1}^2 +\\n  \\\\hat n_{\\\\mathbf{i}2}^2)\\n  + (U-2J)\\\\sum_{\\\\mathbf{i}} n_{\\\\mathbf{i}1}n_{\\\\mathbf{i}2} \\\\nonumber \\\\\\\\\\n&& {}+ J \\\\sum_{\\\\mathbf{i}} \\\\sum_{\\\\sigma\\\\sigma\\'}\\n  d_{\\\\mathbf{i}1\\\\sigma}^{\\\\dagger} d_{\\\\mathbf{i}2\\\\sigma\\'}^{\\\\dagger}\\n  d_{\\\\mathbf{i}1\\\\sigma\\'} d_{\\\\mathbf{i}2\\\\sigma} \\\\nonumber \\\\\\\\\\n&& {}+ J \\\\sum_{\\\\mathbf{i}} (d_{\\\\mathbf{i}1\\\\uparrow}^{\\\\dagger}\\n  d_{\\\\mathbf{i}1\\\\downarrow}^{\\\\dagger}d_{\\\\mathbf{i}2\\\\downarrow}\\n  d_{\\\\mathbf{i}2\\\\uparrow} + \\\\mathrm{H.c.}) ,\\n\\\\label{2_orbital_HI}\\n\\\\end{eqnarray}\\nwhere $\\\\hat n_{\\\\mathbf{i}a} \\\\equiv \\\\sum_\\\\sigma\\nd_{\\\\mathbf{i}a\\\\sigma}^{\\\\dagger} d_{\\\\mathbf{i}a\\\\sigma}$, and the interaction\\nparameters are chosen as $U=1.20\\\\,\\\\mathrm{eV}$ and $J=0.12\\\\,\\\\mathrm{eV}$.\\nAssuming a SDW with ordering vector $\\\\mathbf{Q}=(\\\\pi,0)$\\nand spins pointing along the $S_z$ axis, a mean-field decoupling with\\n$\\\\langle d_{\\\\mathbf{i}a\\\\sigma}^{\\\\dagger} d_{\\\\mathbf{i}b\\\\sigma}\\\\rangle =\\n  n_{ab} + (-1)^{i_x}\\\\, \\\\frac{\\\\sigma}{2}\\\\, m_{ab}$\\ngives the mean-field Hamiltonian\\n\\\\begin{equation}\\nH_{\\\\mathrm{MF}} = H_0 + \\\\sum_{\\\\mathbf{i}ab} (-1)^{i_x}M_{ab}\\n  \\\\big(d_{\\\\mathbf{i}a\\\\uparrow}^{\\\\dagger} d_{\\\\mathbf{i}b\\\\uparrow}\\n  - d_{\\\\mathbf{i}a\\\\downarrow}^{\\\\dagger} d_{\\\\mathbf{i}b\\\\downarrow}\\\\big) ,\\n\\\\label{2_orbital_HMF}\\n\\\\end{equation}\\nwith $M_{11} = -(Um_{11}+Jm_{22})/2$, $M_{22} = -(Um_{22}+Jm_{11})/2$,\\n$M_{12} = M_{21} = -Jm_{21}$. The Hartree shifts $n_{ab}$ have been\\nabsorbed into $H_0$. The parameters $m_{ab}$ are calculated self-consistently,\\nassuming half filling.\\nEdge states will be studied for a strip of width $W$ with (10) edges. Since the\\nstrip is extended along the $y$ axis, $k_y$ is a good quantum number and\\nwe carry out a Fourier transformation in the $y$ direction,\\n$d_{\\\\mathbf{i}a\\\\sigma} = N_y^{-1/2} \\\\sum_{k_y} e^{ik_yi_y} d_{i_xk_ya\\\\sigma}$.\\nThe mean-field Hamiltonian then consists of blocks of dimensions $2W\\\\times 2W$\\nfor fixed $k_y$, $\\\\sigma$. These blocks are\\ndiagonalized numerically, giving the energy bands of the strip system. We here\\nassume that the SDW in the strip is described by the same order\\nparameters $m_{ab}$ as for the extended system.\\nThe five-orbital model\\\\cite{KOA08} includes all\\nhopping amplitudes larger than $10\\\\,\\\\mathrm{meV}$ up to fifth neighbors. The\\nhopping amplitudes and onsite energies are\\nobtained from density-functional calculations and are tabulated in Ref.\\\\\\n\\\\onlinecite{KOA08}. The interaction $H_I$ is analogous to\\nthe two-orbital model, except that the interorbital terms in Eq.\\\\\\n(\\\\ref{2_orbital_HI}) now become\\nsums over all pairs of orbitals $a$, $b$, with $a<b$,\\nwhere $a,b=1,\\\\ldots,5$ correspond to $3d_{3Z^2-R^2}$, $3d_{ZX}$, $3d_{YZ}$,\\n$3d_{X^2-Y^2}$, $3d_{XY}$.\\nThe interaction parameters are chosen to be $U=1.0\\\\,\\\\mathrm{eV}$ and\\n$J=0.2\\\\,\\\\mathrm{eV}$.\\\\cite{RWZ09}\\nApplying a mean-field decoupling as above, we obtain the\\nmean-field Hamiltonian (\\\\ref{2_orbital_HMF}), where now the orbital indices\\ntraverse $a,b=1,\\\\ldots,5$, and\\n$M_{aa}=-(Um_{aa}+J\\\\sum_{b\\\\neq a}m_{bb})/2$ and\\n$M_{ab}= M_{ba} = -Jm_{ab}$ for $a\\\\neq b$.\\nThe mean-field parameters $m_{ab}$ are determined self-consistently, assuming\\n$6$ electrons per iron, corresponding to zero doping.\\nFor the (10) strip, we proceed analogously to the two-orbital case. By\\nmeans of a Fourier transformation in the $y$ direction, the problem is reduced\\nto the diagonalization of $5W\\\\times 5W$ Hamiltonian matrices for fixed $k_y$,\\n$\\\\sigma$.\\n\\\\begin{figure}[h]\\n\\\\includegraphics[]{image_name}\\n\\\\label{fig:label}\\n\\\\end{figure}\\n\\\\section{Results and discussion}\\nFirst, we consider the two-orbital model\\nwithout SDW order, i.e., with $m_{ab}=0$, in a (10) strip geometry. In\\nFig.~\\\\ref{fig:2_orbital_energies_nonmagnetic}, we compare\\nthe energy bands of the (10) strip of width $W=100$ to the bands of the extended\\nsystem projected onto the (10) edge BZ. All energies are twofold spin\\ndegenerate.\\nWe see that the majority of the bands of the strip lie within the projected\\ncontinuum of bulk bands. However, there is an additional band that does not\\nagree with the bulk continuum. We have found that the corresponding states are\\nlocalized at the edges of the strip. A closer\\nlook reveals that this band, ignoring spin degeneracy, actually comprises two\\nbands, which are only approximately degenerate. For finite widths $W$, the two\\nstates at given $k_y$ correspond to bonding and antibonding combinations of\\nstates localized at the two edges. Thus, there is a finite splitting, invisible\\nin Fig.~\\\\ref{fig:2_orbital_energies_nonmagnetic}, which decreases exponentially\\nwith increasing $W$.\\n\\\\begin{figure}[h]\\n\\\\includegraphics[]{image_name}\\n\\\\label{fig:label}\\n\\\\end{figure}\\nThe origin of the edge states can be understood from a topological argument.\\nWe start from the noninteracting first-quantized Hamiltonian\\n$\\\\mathcal{H}(\\\\mathbf{k})$ of Eq.\\\\ (\\\\ref{2_orbital_H0_1}).\\nWe consider one spin sector throughout and suppress the spin index.\\nFor the strip, $k_y$ is a constant of motion. For each\\nfixed value of $k_y$, we obtain an effective 1D model. For an extended system,\\nthe BZ of this 1D model is the subset with $k_y=\\\\mathrm{const}$ of the 2D BZ.\\nIf the 1D BZ does not cross any Fermi surface, the 1D model is gapped in the\\nbulk. One such 1D BZ is shown by the black arrow in Fig.\\\\\\n\\\\ref{fig:winding_2band}. $\\\\mathcal{H}(\\\\mathbf{k})$ can be written\\nas\\\\cite{RWZ09}\\n\\\\begin{equation}\\n\\\\mathcal{H}(\\\\mathbf{k}) = a(\\\\mathbf{k})\\\\, \\\\tau^0 + b(\\\\mathbf{k})\\\\,\\n  (\\\\sin\\\\phi_\\\\mathbf{k}\\\\, \\\\tau^1 + \\\\cos\\\\phi_\\\\mathbf{k}\\\\, \\\\tau^3) ,\\n\\\\label{3.Hk.2}\\n\\\\end{equation}\\nwith $b(\\\\mathbf{k})\\\\ge 0$. The vector field $(\\\\cos\\\\phi_\\\\mathbf{k},\\n\\\\sin\\\\phi_\\\\mathbf{k})$ is plotted in Fig.\\\\ \\\\ref{fig:winding_2band}.\\nIt exhibits vortices with vorticities $\\\\pm 2$ at the band-touching points\\n$\\\\mathbf{k}=(0,0)$ and $(\\\\pi,\\\\pi)$. Furthermore, a winding\\nnumber of $+1$ ($-1$) is aquired when moving from $k_x=-\\\\pi$ to $k_x=+\\\\pi$ along\\na line with constant $k_y>0$ ($k_y<0$). The effective 1D system\\nthus has a nontrivial topological structure in orbital space.\\\\cite{RWZ09}\\nThe appearance of edge states is best understood by deforming the\\nHamiltonian of the effective 1D system into one with a topologically protected\\nwinding number.\\nFor fixed $k_y>0$ ($k_y<0$ is analogous), we deform the Hamiltonian\\ninto $\\\\tilde \\\\mathcal{H}(k_x) = \\\\cos k_x\\\\, \\\\tau^1 - \\\\sin k_x\\\\, \\\\tau^3$.\\nThis deformation does not change the topology of the bands and, in particular,\\nleaves the energy gap open. $\\\\tilde \\\\mathcal{H}(k_x)$ is unitarily equivalent to\\n\\\\begin{equation}\\n\\\\hat \\\\mathcal{H}(k_x) \\\\equiv e^{-i \\\\frac{\\\\pi}{4} \\\\tau^1}\\n  \\\\tilde \\\\mathcal{H}(k_x)\\\\, e^{i \\\\frac{\\\\pi}{4} \\\\tau^1}\\n  = \\\\left(\\\\begin{array}{cc}\\n  0 & e^{-ik_x} \\\\\\\\\\n  e^{ik_x} & 0\\n  \\\\end{array}\\\\right) .\\n\\\\label{3.Hflat.2}\\n\\\\end{equation}\\nIn the bulk, this new Hamiltonian has the eigenvalues $\\\\pm 1$ for every $k_x$,\\ni.e., it has flat bands. Furthermore, $\\\\hat \\\\mathcal{H}(k_x)$ is time-reversal\\nsymmetric. The antiunitary time-reversal operator $T$ can be written as\\n$T=KU_T$, where $K$ is the complex conjugation in our basis and $U_T$ is unitary\\nand must satisfy $U_T \\\\hat \\\\mathcal{H}^*(-k_x) U_T^\\\\dagger = \\\\hat\\n\\\\mathcal{H}(k_x)$, which is fulfilled for $U_T=\\\\tau^0$. Note that $T$ squares to\\n$T^2 = \\\\tau^0$. $\\\\hat \\\\mathcal{H}(k_x)$ is also charge-conjugation\\nsymmetric. The antiunitary charge-conjugation operator $C$ can be written as\\n$C=KU_C$, where $U_C$ is unitary and must satisfy $U_C \\\\hat \\\\mathcal{H}^*(-k_x)\\nU_C^\\\\dagger = - \\\\hat \\\\mathcal{H}(k_x)$, which is fulfilled for $U_C=\\\\tau^3$. We\\nfind $C^2 = K\\\\tau^3 K\\\\tau^3 = \\\\tau^0$. These symmetry properties imply that\\nthe deformed 1D model belongs to the Altland-Zirnbauer class BDI.\\\\cite{Zir96}\\nThis class allows a $\\\\mathbb{Z}$ topological invariant in 1D.\\\\cite{SRF08}\\nFor the strip, the effective 1D model is a finite chain of length $W$. The\\n$\\\\mathbb{Z}$ topological invariant means that states localized\\nat the ends can exist, but does not guarantee that $\\\\hat \\\\mathcal{H}(k_x)$\\nhas any. However, this is easily seen by transforming $\\\\hat\\n\\\\mathcal{H}(k_x)$ into real space, which gives\\n$\\\\hat H = \\\\sum_{j=1}^{W-1} ( d_{j+1,\\\\uparrow}^\\\\dagger d_{j,\\\\downarrow}\\n  + d_{j,\\\\downarrow}^\\\\dagger d_{j+1,\\\\uparrow} )$,\\nwhere ${\\\\uparrow}$, ${\\\\downarrow}$ now refer to the \\\\emph{orbital} pseudospin.\\nThe ${\\\\uparrow}$ (${\\\\downarrow}$) state at $j=1$\\n($j=W$) is not coupled to any other state. Thus there are two zero-energy states\\nlocalized at the ends. These arguments can be made for any $k_y$ for which the\\n1D BZ does not intersect a Fermi surface.\\nWhat does this tell us about the original Hamiltonian $\\\\mathcal{H}(\\\\mathbf{k})$\\nwith fixed $k_y$? That Hamiltonian has neither $T$ nor $C$ symmetry and is thus\\nin class A, which is topologically trivial in 1D. Our point is that the\\noriginal Hamiltonian can be obtained from $\\\\hat \\\\mathcal{H}(k_x)$ by a\\ncontinuous deformation without closing the gap. During the deformation, the $T$\\nand $C$ symmetries are lost so that the zero-energy end states are no longer\\nprotected. However, the energy of the end states evolves\\nsmoothly during the deformation. Hence, for $\\\\mathcal{H}(\\\\mathbf{k})$ there are\\nstill two edge states for every $k_y$ for which the effective 1D Hamiltonian is\\ngapped. These states have no reason to be at zero energy and will generally have\\nan exponentially small overlap with each other, which splits their energies.\\nIn principle, the edge states are not protected against merging with the bulk\\ncontinuum. However, we find separate edge states wherever the bulk is gapped,\\npresumably due to level repulsion between edge and bulk states.\\nNote the similarity to graphene: The edge band at graphene zigzag edges is a\\nflat zero-energy band only for a model without next-nearest-neighbor hopping. In\\nreal graphene, it is dispersing.\\\\cite{CGP06,CGP09}\\n\\\\begin{figure}[h]\\n\\\\includegraphics[]{image_name}\\n\\\\label{fig:label}\\n\\\\end{figure}\\nIn the presence of a SDW with ordering vector $\\\\mathbf{Q}=(\\\\pi,0)$, the unit\\ncell of the iron square lattice is doubled in the $x$ direction. Therefore, the\\nbands are folded into the magnetic BZ. SDW formation opens gaps at some of the\\nnew band crossings but not at all of them---the bands still stick together at\\nDirac points.\\\\cite{RWZ09} Figure \\\\ref{fig:2_orbital_energies_magnetic} shows\\nthe band structure of the (10) strip compared to the projected bulk bands.\\nSpin degeneracy is not lifted by the SDW since the mean-field Hamiltonian is\\ninvariant under combined spin rotation and spatial reflection $x\\\\to-x$. However,\\nthe near degeneracy between bonding and antibonding combinations of edge states\\nis strongly broken. We instead find two edge states per spin direction, which\\nare localized mainly at one edge and are split in energy due to the opposite\\nexchange field at the two edges.\\nNote that the edge bands are connected to the bulk bands at the\\nprojected Dirac points, similar to graphene. Moreover,\\nFig.~\\\\ref{fig:2_orbital_energies_magnetic} shows that additional edge bands\\nappear within the new gaps away from the Fermi energy.\\n\\\\begin{figure}[h]\\n\\\\includegraphics[]{image_name}\\n\\\\label{fig:label}\\n\\\\end{figure}\\nTo check whether the edge bands also occur for the five-orbital\\nmodel,\\\\cite{KOA08,RWZ09} we plot in Fig.\\\\ \\\\ref{fig:5_orbital_energies}\\nthe energy bands of the (10) strip compared to the projected bulk bands\\nfor the paramagnetic and the SDW phase. In the paramagnetic phase we now find\\ntwo edge bands, each of which is twofold spin degenerate and, in the wide\\nlimit, also twofold degenerate between bonding and antibonding\\ncombinations. SDW order again leads to the opening of gaps at\\ncrossings of folded bands. The twofold spin degeneracy remains but the\\nasymptotic degeneracy between bonding and antibonding states is lifted, for the\\nsame reason as for the two-orbital model.\\nTo understand the appearance of surface states in the five-orbital model,\\nwe again consider effective gapped 1D models obtained by fixing $k_y$ to values\\nfor which the path through the BZ at constant $k_y$ does not intersect a\\nFermi surface. In this case, two bands lie above the Fermi energy and\\nthree below. The Hamiltonian can be deformed continuously\\nwithout closing the gap performing the following\\nsteps. (i) The hopping amplitudes between the $d_{3Z^2-R^2}$ and all other\\norbitals are tuned to zero and the resulting decoupled band is\\nshifted down in energy, effectively removing it from the model, together with\\ntwo electrons per iron. (ii) The hopping amplitudes beyond next-nearest\\nneighbors are tuned to zero. All components of the\\nHamiltonian $\\\\mathcal{H}(k_x)$ can now\\nbe written as linear combinations of $\\\\cos k_x$, $\\\\sin k_x$, and a constant.\\n(iii) All constant terms are tuned to zero. (iv) The coefficients of $\\\\sin k_x$\\nin the diagonal components are tuned to zero. (v) The coefficients of $\\\\cos\\nk_x$ in the off-diagonal components are tuned to zero. (vi) The remaining\\ncoefficients in diagonal components are tuned to unity and in off-diagonal\\ncomponents to $1/\\\\sqrt{2}$. A unitary transformation in orbital space maps the\\nresulting Hamiltonian onto\\n\\\\begin{equation}\\n\\\\hat \\\\mathcal{H}(k_x) = \\\\left(\\\\begin{array}{cccc}\\n  0 & e^{-ik_x} & 0 & 0 \\\\\\\\\\n  e^{ik_x} & 0 & 0 & 0 \\\\\\\\\\n  0 & 0 & 0 & e^{-ik_x} \\\\\\\\\\n  0 & 0 & e^{ik_x} & 0\\n  \\\\end{array}\\\\right) .\\n\\\\end{equation}\\nSince this deformed Hamiltonian just consists of two copies of the Hamiltonian\\nin Eq.\\\\ (\\\\ref{3.Hflat.2}), it has two sets of zero-energy end states of distinct\\norbital character. Upon deforming the Hamiltonian back into the original one,\\nthe end states for every considered $k_y$ continuously develop into dispersing\\nbands. In addition, the degeneracy between the edge states of different orbital\\ncharacter is lifted so that we end up with two bands.\\n\\\\section{Conclusions}\\nWe have shown that two models of iron pnictides predict\\nthe existence of dispersing bands of surface states at (100) surfaces for the\\nparamagnetic state. They could be used to probe the topologically nontrivial\\nelectronic structure. These bands are twofold spin degenerate and have an\\nadditional twofold degeneracy in the limit of a thick slab due to the decoupling\\nof the states localised at the two surfaces. The main difference between the\\ntwo-orbital and the five-orbital model is that the latter predicts two instead\\nof one such bands. Their existence can be understood from a topological argument\\nbased on the continuous deformation of the Hamiltonian into one in\\nAltland-Zirnbauer class BDI. In the SDW state, where we had guessed from an\\nanalogy to graphene that surface states might exist, the surface bands split\\ninto two twofold degenerate bands. It should be noted that while the\\ntwo models inherit the surface states from topologically nontrivial\\nHamiltonians, they are not themselves topologically nontrivial. Hence, the\\nsurface states are not robust against disorder scattering. The analogy is thus\\nmore with graphene than with topological insulators.\\nThe origin of the surface states discussed\\nhere is completely different from surface states at (001) surfaces of iron\\npnictides of the 1111 family, such as $\\\\mathrm{LaOFeAs}$,\\nwhich have been observed by ARPES.\\\\cite{LYM09,ELK10} In this case, surface bands\\nresult from the polar nature of these surfaces.\\\\cite{ELK10} Surface states of\\nthis kind are not expected for $\\\\mathrm{LiFeAs}$ and $\\\\mathrm{NaFeAs}$ since the\\n(001) surface of these compounds is not polar and they are indeed not seen by\\nARPES.\\\\cite{LKB10,YLM12}\\nThe surface states predicted here could be detected by ARPES or scanning\\ntunneling spectroscopy on (100) surfaces, which are however challenging to\\nprepare. An alternative could be tunneling into the edges of thin\\n(001) films, either\\nusing an STM tip, a technique that has been successful for the\\ndetection of edge states in graphene,\\\\cite{KFE05}\\nor one of the setups discussed in Ref.\\\\ \\\\onlinecite{Sei11} in\\nthe context of Josephson junctions. Such\\ntunneling experiments would probe the density of states, which is expected to\\nbe enhanced close to (100) edges of the film. In particular,\\nthe van Hove singularities associated with extrema of the surface bands lead to\\nan enhancement of the density of states since the surface states are\\nessentially one-dimensional. It is an interesting\\nquestion what happens to the surface states when superconductivity sets in.\\nSuperconductivity of the $s^{+-}$ type preferred for iron pnictides could\\nintroduce energy gaps in the surface bands discussed here but also\\ninduce additional surface-bound states.\\\\cite{OnT09} Both would also be relevant\\nfor recent suggestions to engineer topological superconductors by using the\\nproximity effect of superconducting iron pnictides.\\\\cite{ZKM13}\\n\\\\section*{Acknowledgments}\\nWe thank P. M. R. Brydon, M. Daghofer, and A. P. Schnyder for\\nhelpful discussions. Support by the Deutsche Forschungsgemeinschaft through\\nResearch Training School GRK 1621 and Priority Programme SPP 1458 is\\nacknowledged.\\n\\\\begin{thebibliography}{99}\\n\\\\bibitem{Joh10}D. Johnston, Adv.\\\\ Phys.\\\\ \\\\textbf{59}, 803 (2010).\\n\\\\bibitem{DHD12}P. Dai, J. Hu, and E. Dagotto, Nature Phys.\\\\ \\\\textbf{8}, 709\\n(2012).\\n\\\\bibitem{HaK10}M. Z. Hasan and C. L. Kane, Rev.\\\\ Mod.\\\\ Phys.\\\\ \\\\textbf{82}, 3045\\n(2010).\\n\\\\bibitem{QiZ11}X.-L. Qi and S.-C. Zhang, Rev.\\\\ Mod.\\\\ Phys.\\\\ \\\\textbf{83}, 1057\\n(2011).\\n\\\\bibitem{RWZ09}Y. Ran, F. Wang, H. Zhai, A. Vishwanath, and D.-H. Lee, Phys.\\\\\\nRev.\\\\ B \\\\textbf{79}, 014505 (2009).\\n\\\\bibitem{RQL08}S. Raghu, X.-L. Qi, C.-X. Liu, D. J. Scalapino, and S.-C. Zhang,\\nPhys.\\\\ Rev.\\\\ B \\\\textbf{77}, 220503(R) (2008).\\n\\\\bibitem{KOA08}K. Kuroki, S. Onari, R. Arita, H. Usui, Y. Tanaka, H. Kontani,\\nand H. Aoki, Phys.\\\\ Rev.\\\\ Lett.\\\\ \\\\textbf{101}, 087004 (2008).\\n\\\\bibitem{BDT11}P. M. R. Brydon, M. Daghofer, and C. Timm, J. Phys.: Condens.\\\\\\nMatter \\\\textbf{23}, 246001 (2011).\\n\\\\bibitem{SBT12}J. Schmiedt, P. M. R. Brydon, and C. Timm, Phys.\\\\ Rev.\\\\ B\\n\\\\textbf{85}, 214425 (2012).\\n\\\\bibitem{HaS09}N. Harrison and S. E. Sebastian, Phys.\\\\ Rev.\\\\ B \\\\textbf{80},\\n224512 (2009); M. Sutherland, D. J. Hills, B. S. Tan, M. M. Altarawneh, N.\\nHarrison, J. Gillett, E. C. T. O\\'Farrell, T. M. Benseman, I. Kokanovic, P.\\nSyers, J. R. Cooper, and S. E. Sebastian, Phys.\\\\ Rev.\\\\ B \\\\textbf{84}, 180506(R)\\n(2011).\\n\\\\bibitem{PBC13}I. Pallecchi, F. Bernardini, F. Caglieris, A. Palenzona, S.\\nMassidda, and M. Putti, Eur.\\\\ Phys.\\\\ J. B \\\\textbf{86}, 338 (2013).\\n\\\\bibitem{RNS10}P. Richard, K. Nakayama, T. Sato, M. Neupane, Y.-M. Xu, J. H.\\nBowen, G. F. Chen, J. L. Luo, N. L. Wang, X. Dai, Z. Fang, H. Ding, and T.\\nTakahashi, Phys.\\\\ Rev.\\\\ Lett.\\\\ \\\\textbf{104}, 137001 (2010).\\n\\\\bibitem{HTT11}K. K. Huynh, Y. Tanabe, and K. Tanigaki, Phys.\\\\ Rev.\\\\ Lett.\\\\\\n\\\\textbf{106}, 217004 (2011).\\n\\\\bibitem{TKT11}T. Terashima, N. Kurita, M. Tomita, K. Kihou, C.-H. Lee, Y.\\nTomioka, T. Ito, A. Iyo, H. Eisaki, T. Liang, M. Nakajima, S. Ishida, S.\\nUchida, H. Harima, and S. Uji, Phys.\\\\ Rev.\\\\ Lett.\\\\ \\\\textbf{107}, 176402 (2011).\\n\\\\bibitem{CGP09} A. H. Castro Neto, F. Guinea, N. M. R. Peres, K. S. Novoselov,\\nand A. K. Geim, Rev.\\\\ Mod.\\\\ Phys.\\\\ \\\\textbf{81}, 109 (2009).\\n\\\\bibitem{FWN96}M. Fujita, K. Wakabayashi, K. Nakada, and K. Kusakabe, J. Phys.\\\\\\nSoc.\\\\ Jpn.\\\\ \\\\textbf{65}, 1920 (1996); K. Nakada, M. Fujita, G. Dresselhaus, and\\nM. S. Dresselhaus, Phys.\\\\ Rev.\\\\ B \\\\textbf{54}, 17954 (1996).\\n\\\\bibitem{CGP06}A. H. Castro Neto, F. Guinea, and N. M. R. Peres, Phys.\\\\ Rev.\\\\ B\\n\\\\textbf{73}, 205408 (2006).\\n\\\\bibitem{RyH02}S. Ryu and Y. Hatsugai, Phys.\\\\ Rev.\\\\ Lett.\\\\ \\\\textbf{89}, 077002\\n(2002).\\n\\\\bibitem{YaK10}B.-J. Yang and H.-Y. Kee, Phys.\\\\ Rev.\\\\ B \\\\textbf{82}, 195126\\n(2010), in particular note Fig.~7.\\n\\\\bibitem{Zir96}M. R. Zirnbauer, J. Math.\\\\ Phys.\\\\ \\\\textbf{37}, 4986 (1996);\\nA. Altland and M. R. Zirnbauer, Phys.\\\\ Rev.\\\\ B \\\\textbf{55}, 1142 (1997).\\n\\\\bibitem{SRF08}A. P. Schnyder, S. Ryu, A. Furusaki, and A. W. W. Ludwig, Phys.\\\\\\nRev.\\\\ B \\\\textbf{78}, 195125 (2008).\\n\\\\bibitem{LYM09}D. H. Lu, M. Yi, S.-K. Mo, J. G. Analytis, J.-H. Chu,\\nA. S. Erickson, D. J. Singh, Z. Hussain, T. H. Geballe, I. R. Fisher, and Z.-X.\\nShen, Physica C \\\\textbf{469}, 452 (2009).\\n\\\\bibitem{ELK10}H. Eschrig, A. Lankau, and K. Koepernik, Phys.\\\\ Rev.\\\\ B\\n\\\\textbf{81}, 155447 (2010).\\n\\\\bibitem{LKB10}A. Lankau, K. Koepernik, S. Borisenko, V. Zabolotnyy,\\nB. B\\\\\"uchner, J. van den Brink, and H. Eschrig, Phys.\\\\ Rev.\\\\ B \\\\textbf{82},\\n184518 (2010).\\n\\\\bibitem{YLM12}M. Yi, D. H. Lu, R. G. Moore, K. Kihou, C.-H. Lee, A.\\nIyo, H. Eisaki, T. Yoshida, A. Fujimori, and Z.-X. Shen, New J. Phys.\\\\\\n\\\\textbf{14}, 073019 (2012).\\n\\\\bibitem{KFE05}Y. Kobayashi, K.-i. Fukui, T. Enoki, K. Kusakabe, and\\nY. Kaburagi, Phys.\\\\ Rev.\\\\ B \\\\textbf{71}, 193406 (2005);\\nY. Kobayashi, K.-i. Fukui, T. Enoki, and K. Kusakabe, Phys.\\\\ Rev.\\\\ B\\n\\\\textbf{73}, 125415 (2006).\\n\\\\bibitem{Sei11}P. Seidel, Supercond.\\\\ Sci.\\\\ Technol.\\\\ \\\\textbf{24}, 043001\\n(2011).\\n\\\\bibitem{OnT09}S. Onari and Y. Tanaka, Phys.\\\\ Rev.\\\\ B \\\\textbf{79},\\n174526 (2009).\\n\\\\bibitem{ZKM13}F. Zhang, C. L. Kane, and E. J. Mele, Phys.\\\\ Rev.\\\\ Lett.\\\\\\n\\\\textbf{111}, 056402 (2013).\\n\\\\end{thebibliography}\\n'"
      ]
     },
     "execution_count": 4,
     "metadata": {},
     "output_type": "execute_result"
    }
   ],
   "source": [
    "tokenizer_path = \"/mnt/NAS/patidarritesh/PDF_2_LaTeX/Tokenizer/tokenizer_30k_without_whiteSpace.json\"\n",
    "tokens = tokenize_latex_file(\"/mnt/NAS/patidarritesh/latex_files/1305.1770.tex\", tokenizer_path)\n",
    "print(tokens)\n",
    "decode_tokens(tokens, tokenizer_path)"
   ]
  },
  {
   "cell_type": "code",
   "execution_count": 40,
   "metadata": {},
   "outputs": [],
   "source": [
    "import math\n",
    "import os\n",
    "from typing import List, Optional, Union\n",
    "import numpy as np\n",
    "from PIL import Image\n",
    "import cv2\n",
    "import timm\n",
    "import torch\n",
    "import torch.nn as nn\n",
    "import torch.nn.functional as F\n",
    "from PIL import ImageOps\n",
    "from timm.models.swin_transformer import SwinTransformer\n",
    "from torchvision.transforms.functional import resize, rotate\n",
    "from torchvision import transforms\n",
    "\n",
    "\n",
    "\n",
    "class SwinEncoder(nn.Module):\n",
    "\n",
    "    def __init__(\n",
    "        self,\n",
    "        input_size: List[int],\n",
    "        align_long_axis: bool,\n",
    "        window_size: int,\n",
    "        encoder_layer: List[int],\n",
    "        patch_size: int,\n",
    "        embed_dim: int,\n",
    "        num_heads: List[int],\n",
    "        name_or_path: Union[str, bytes, os.PathLike] = None,\n",
    "    ):\n",
    "        super().__init__()\n",
    "        self.input_size = input_size\n",
    "        self.align_long_axis = align_long_axis\n",
    "        self.window_size = window_size\n",
    "        self.encoder_layer = encoder_layer\n",
    "        self.patch_size = patch_size\n",
    "        self.embed_dim = embed_dim\n",
    "        self.num_heads = num_heads\n",
    "\n",
    "        self.model = SwinTransformer(\n",
    "            img_size=self.input_size,\n",
    "            depths=self.encoder_layer,\n",
    "            window_size=self.window_size,\n",
    "            patch_size=self.patch_size,\n",
    "            embed_dim=self.embed_dim,\n",
    "            num_heads=self.num_heads,\n",
    "            num_classes=0,\n",
    "        )\n",
    "\n",
    "        # weight init with swin\n",
    "        if not name_or_path:\n",
    "            swin_state_dict = timm.create_model(\n",
    "                \"swin_base_patch4_window12_384\", pretrained=True\n",
    "            ).state_dict()\n",
    "            new_swin_state_dict = self.model.state_dict()\n",
    "            for x in new_swin_state_dict:\n",
    "                if x.endswith(\"relative_position_index\") or x.endswith(\"attn_mask\"):\n",
    "                    pass\n",
    "                elif (\n",
    "                    x.endswith(\"relative_position_bias_table\")\n",
    "                    and self.model.layers[0].blocks[0].attn.window_size[0] != 12\n",
    "                ):\n",
    "                    pos_bias = swin_state_dict[x].unsqueeze(0)[0]\n",
    "                    old_len = int(math.sqrt(len(pos_bias)))\n",
    "                    new_len = int(2 * window_size - 1)\n",
    "                    pos_bias = pos_bias.reshape(1, old_len, old_len, -1).permute(\n",
    "                        0, 3, 1, 2\n",
    "                    )\n",
    "                    pos_bias = F.interpolate(\n",
    "                        pos_bias,\n",
    "                        size=(new_len, new_len),\n",
    "                        mode=\"bicubic\",\n",
    "                        align_corners=False,\n",
    "                    )\n",
    "                    new_swin_state_dict[x] = (\n",
    "                        pos_bias.permute(0, 2, 3, 1)\n",
    "                        .reshape(1, new_len**2, -1)\n",
    "                        .squeeze(0)\n",
    "                    )\n",
    "                else:\n",
    "                    new_swin_state_dict[x] = swin_state_dict[x]\n",
    "            self.model.load_state_dict(new_swin_state_dict)\n",
    "\n",
    "    def forward(self, x: torch.Tensor) -> torch.Tensor:\n",
    "        \"\"\"\n",
    "        Args:\n",
    "            x: (batch_size, num_channels, height, width)\n",
    "        \"\"\"\n",
    "        x = self.model.patch_embed(x)\n",
    "        x = self.model.pos_drop(x)\n",
    "        x = self.model.layers(x)\n",
    "        return x\n",
    "\n",
    "    @staticmethod\n",
    "    def crop_margin(img: Image.Image) -> Image.Image:\n",
    "        data = np.array(img.convert(\"L\"))\n",
    "        data = data.astype(np.uint8)\n",
    "        max_val = data.max()\n",
    "        min_val = data.min()\n",
    "        if max_val == min_val:\n",
    "            return img\n",
    "        data = (data - min_val) / (max_val - min_val) * 255\n",
    "        gray = 255 * (data < 200).astype(np.uint8)\n",
    "\n",
    "        coords = cv2.findNonZero(gray)  # Find all non-zero points (text)\n",
    "        a, b, w, h = cv2.boundingRect(coords)  # Find minimum spanning bounding box\n",
    "        return img.crop((a, b, w + a, h + b))\n",
    "\n",
    "  \n",
    "    def to_tensor(self, img: Image.Image):\n",
    "        if self.training:\n",
    "            \n",
    "            return transforms.ToTensor()(img)\n",
    "        else:\n",
    "            return transforms.ToTensor()(img)\n",
    "   \n",
    "    def prepare_input(self, pdf_path:str, random_padding: bool = False):\n",
    "        self.input_tensor = None\n",
    "        if pdf_path is None:\n",
    "            return\n",
    "        input_size= [896,672]\n",
    "        # Convert PDF to images using PyMuPDF\n",
    "        doc = fitz.open(pdf_path)\n",
    "        i=0\n",
    "        for page_number in range(len(doc)):\n",
    "            if i==1:\n",
    "                break\n",
    "            page = doc[page_number]\n",
    "            image = page.get_pixmap()\n",
    "            # Convert Pixmap to PIL Image\n",
    "            img = Image.frombytes(\"RGB\", [image.width, image.height], image.samples)\n",
    "\n",
    "            # crop margins\n",
    "            try:\n",
    "                img = self.crop_margin(img.convert(\"RGB\"))\n",
    "            except OSError:\n",
    "                # might throw an error for broken files\n",
    "                return\n",
    "            if img.height == 0 or img.width == 0:\n",
    "                return\n",
    "            if self.align_long_axis and (\n",
    "                (input_size[0] > input_size[1] and img.width > img.height)\n",
    "                or (input_size[0] < input_size[1] and img.width < img.height)\n",
    "            ):\n",
    "                img = rotate(img, angle=-90, expand=True)\n",
    "            img = resize(img, min(input_size))\n",
    "            img.thumbnail((input_size[1], input_size[0]))\n",
    "            delta_width = input_size[1] - img.width\n",
    "            delta_height = input_size[0] - img.height\n",
    "            if random_padding:\n",
    "                pad_width = np.random.randint(low=0, high=delta_width + 1)\n",
    "                pad_height = np.random.randint(low=0, high=delta_height + 1)\n",
    "            else:\n",
    "                pad_width = delta_width // 2\n",
    "                pad_height = delta_height // 2\n",
    "            padding = (\n",
    "                pad_width,\n",
    "                pad_height,\n",
    "                delta_width - pad_width,\n",
    "                delta_height - pad_height,\n",
    "            )\n",
    "            padded_img = ImageOps.expand(img, padding)\n",
    "\n",
    "            # resize the image (224,224)\n",
    "            # padded_img= padded_img.resize((224,224))\n",
    "            page_tensor = self.to_tensor(padded_img)\n",
    "            # page_tensor = self.to_tensor(ImageOps.expand(img, padding))\n",
    "            # print(\"Page Tensor: \", page_tensor.shape)\n",
    "            if self.input_tensor is None:\n",
    "               self.input_tensor = page_tensor\n",
    "            else:\n",
    "                self.input_tensor = torch.cat([self.input_tensor, page_tensor], dim=1)\n",
    "            i+=1\n",
    "\n",
    "        # ---------------------------------------------------VERTICAL PADDING added--------------------------------------\n",
    "        # target_shape = (3, self.input_size[0], self.input_size[1])\n",
    "        # padding_needed = (target_shape[1] - self.input_tensor.size(1))\n",
    "        # self.input_tensor = torch.nn.functional.pad(self.input_tensor, (0, 0,0, padding_needed))\n",
    "\n",
    "        #------------------------------------------------------------------------------------------------------------------\n",
    "        # img = tensor_to_image(self.input_tensor, '/home/husainmalwat/PDF_2_LaTeX/img_test_2.png')\n",
    "\n",
    "        # print(\"final Input Tensor: \", )\n",
    "        return self.input_tensor\n",
    "\n"
   ]
  },
  {
   "cell_type": "code",
   "execution_count": 75,
   "metadata": {},
   "outputs": [],
   "source": [
    "img_processor = SwinEncoder(\n",
    "            input_size=[3584,672],\n",
    "            align_long_axis=False,\n",
    "            window_size=7,\n",
    "            encoder_layer=[2, 2, 14, 2],\n",
    "            name_or_path=\"exp1\",\n",
    "            patch_size=4,\n",
    "            embed_dim=128,\n",
    "            num_heads=[4, 8, 16, 32],\n",
    "        )"
   ]
  },
  {
   "cell_type": "code",
   "execution_count": 77,
   "metadata": {},
   "outputs": [],
   "source": [
    "input_tensor = img_processor.prepare_input(\"/mnt/NAS/patidarritesh/swin_transformer.pdf\", random_padding=True)"
   ]
  },
  {
   "cell_type": "code",
   "execution_count": 80,
   "metadata": {},
   "outputs": [
    {
     "data": {
      "text/plain": [
       "torch.Size([896, 672])"
      ]
     },
     "execution_count": 80,
     "metadata": {},
     "output_type": "execute_result"
    }
   ],
   "source": [
    "input_tensor.shape\n",
    "input_tensor_grayscle = 0.299 * input_tensor[0] + 0.587 * input_tensor[1] + 0.114 * input_tensor[2]\n",
    "input_tensor_grayscle.shape\n"
   ]
  },
  {
   "cell_type": "code",
   "execution_count": 1,
   "metadata": {},
   "outputs": [
    {
     "name": "stderr",
     "output_type": "stream",
     "text": [
      "/home/patidarritesh/miniconda3/lib/python3.11/site-packages/tqdm/auto.py:21: TqdmWarning: IProgress not found. Please update jupyter and ipywidgets. See https://ipywidgets.readthedocs.io/en/stable/user_install.html\n",
      "  from .autonotebook import tqdm as notebook_tqdm\n",
      "Could not find image processor class in the image processor config or the model config. Loading based on pattern matching with the model's feature extractor configuration.\n",
      "Some weights of the model checkpoint at microsoft/swin-tiny-patch4-window7-224 were not used when initializing SwinModel: ['classifier.bias', 'classifier.weight']\n",
      "- This IS expected if you are initializing SwinModel from the checkpoint of a model trained on another task or with another architecture (e.g. initializing a BertForSequenceClassification model from a BertForPreTraining model).\n",
      "- This IS NOT expected if you are initializing SwinModel from the checkpoint of a model that you expect to be exactly identical (initializing a BertForSequenceClassification model from a BertForSequenceClassification model).\n"
     ]
    }
   ],
   "source": [
    "# SWIN embedding\n",
    "\n",
    "import os\n",
    "from transformers import AutoImageProcessor, SwinModel\n",
    "import torch\n",
    "from datasets import load_dataset\n",
    "from PIL import Image\n",
    "\n",
    "\n",
    "os.environ[\"CUDA_VISIBLE_DEVICES\"]=\"0\"\n",
    "\n",
    "# dataset = load_dataset(\"huggingface/cats-image\")\n",
    "# image = dataset[\"test\"][\"image\"][0]\n",
    "image = \"/mnt/NAS/patidarritesh/PDF_2_LaTeX/Experiments/output_1.png\"\n",
    "\n",
    "# open image file\n",
    "img = Image.open(image)\n",
    "\n",
    "image_processor = AutoImageProcessor.from_pretrained(\"microsoft/swin-tiny-patch4-window7-224\")\n",
    "model = SwinModel.from_pretrained(\"microsoft/swin-tiny-patch4-window7-224\")\n",
    "\n",
    "inputs = image_processor(img, return_tensors=\"pt\")\n",
    "with torch.no_grad():\n",
    "    outputs = model(**inputs)\n",
    "\n",
    "last_hidden_states = outputs.last_hidden_state\n",
    "img_tensor = last_hidden_states[0]"
   ]
  },
  {
   "cell_type": "code",
   "execution_count": 2,
   "metadata": {},
   "outputs": [
    {
     "data": {
      "text/plain": [
       "torch.Size([49, 768])"
      ]
     },
     "execution_count": 2,
     "metadata": {},
     "output_type": "execute_result"
    }
   ],
   "source": [
    "img_tensor.shape"
   ]
  },
  {
   "cell_type": "code",
   "execution_count": 6,
   "metadata": {},
   "outputs": [
    {
     "name": "stderr",
     "output_type": "stream",
     "text": [
      "Some weights of the model checkpoint at mosaicml/mosaic-bert-base-seqlen-1024 were not used when initializing BertModel: ['cls.predictions.decoder.bias', 'bert.encoder.layer.11.mlp.wo.weight', 'bert.encoder.layer.5.mlp.wo.weight', 'bert.encoder.layer.4.mlp.wo.bias', 'bert.encoder.layer.8.mlp.layernorm.weight', 'bert.encoder.layer.3.mlp.gated_layers.weight', 'bert.encoder.layer.11.mlp.wo.bias', 'bert.encoder.layer.11.mlp.gated_layers.weight', 'bert.encoder.layer.6.mlp.wo.bias', 'bert.encoder.layer.8.attention.self.Wqkv.bias', 'bert.encoder.layer.2.mlp.wo.weight', 'bert.encoder.layer.11.attention.self.Wqkv.bias', 'bert.encoder.layer.6.mlp.layernorm.weight', 'bert.encoder.layer.10.mlp.gated_layers.weight', 'bert.encoder.layer.4.mlp.layernorm.weight', 'bert.encoder.layer.1.mlp.wo.bias', 'bert.encoder.layer.4.attention.self.Wqkv.weight', 'bert.encoder.layer.8.mlp.wo.bias', 'bert.encoder.layer.3.mlp.wo.bias', 'cls.predictions.transform.dense.bias', 'bert.encoder.layer.9.mlp.wo.weight', 'cls.predictions.transform.LayerNorm.bias', 'bert.encoder.layer.10.mlp.layernorm.weight', 'bert.encoder.layer.9.mlp.gated_layers.weight', 'bert.encoder.layer.1.mlp.wo.weight', 'bert.encoder.layer.7.mlp.gated_layers.weight', 'bert.encoder.layer.4.mlp.gated_layers.weight', 'bert.encoder.layer.4.mlp.wo.weight', 'bert.encoder.layer.5.mlp.wo.bias', 'bert.encoder.layer.9.mlp.layernorm.weight', 'bert.encoder.layer.8.attention.self.Wqkv.weight', 'cls.predictions.decoder.weight', 'bert.encoder.layer.7.mlp.layernorm.weight', 'bert.encoder.layer.10.mlp.wo.bias', 'bert.encoder.layer.5.mlp.gated_layers.weight', 'bert.encoder.layer.5.attention.self.Wqkv.bias', 'bert.encoder.layer.6.mlp.layernorm.bias', 'bert.encoder.layer.5.attention.self.Wqkv.weight', 'bert.encoder.layer.7.mlp.wo.weight', 'bert.encoder.layer.8.mlp.gated_layers.weight', 'bert.encoder.layer.3.attention.self.Wqkv.bias', 'bert.encoder.layer.9.mlp.layernorm.bias', 'bert.encoder.layer.1.mlp.layernorm.weight', 'bert.encoder.layer.6.mlp.wo.weight', 'bert.encoder.layer.10.attention.self.Wqkv.weight', 'bert.encoder.layer.0.mlp.layernorm.bias', 'bert.encoder.layer.3.mlp.layernorm.weight', 'bert.encoder.layer.10.mlp.layernorm.bias', 'bert.encoder.layer.0.mlp.layernorm.weight', 'bert.encoder.layer.2.attention.self.Wqkv.weight', 'bert.encoder.layer.2.mlp.layernorm.weight', 'bert.encoder.layer.5.mlp.layernorm.bias', 'bert.encoder.layer.9.attention.self.Wqkv.weight', 'bert.encoder.layer.3.attention.self.Wqkv.weight', 'bert.encoder.layer.11.attention.self.Wqkv.weight', 'bert.encoder.layer.1.attention.self.Wqkv.weight', 'bert.encoder.layer.0.mlp.wo.bias', 'bert.encoder.layer.0.attention.self.Wqkv.weight', 'bert.encoder.layer.9.attention.self.Wqkv.bias', 'bert.encoder.layer.1.mlp.gated_layers.weight', 'bert.encoder.layer.10.attention.self.Wqkv.bias', 'bert.encoder.layer.6.attention.self.Wqkv.weight', 'bert.encoder.layer.7.mlp.layernorm.bias', 'bert.encoder.layer.1.mlp.layernorm.bias', 'bert.encoder.layer.9.mlp.wo.bias', 'bert.encoder.layer.2.mlp.layernorm.bias', 'bert.encoder.layer.4.attention.self.Wqkv.bias', 'bert.encoder.layer.5.mlp.layernorm.weight', 'bert.encoder.layer.7.attention.self.Wqkv.weight', 'cls.predictions.transform.dense.weight', 'bert.encoder.layer.0.attention.self.Wqkv.bias', 'bert.encoder.layer.2.mlp.gated_layers.weight', 'bert.encoder.layer.1.attention.self.Wqkv.bias', 'bert.encoder.layer.7.attention.self.Wqkv.bias', 'bert.encoder.layer.6.attention.self.Wqkv.bias', 'bert.encoder.layer.11.mlp.layernorm.bias', 'bert.encoder.layer.8.mlp.layernorm.bias', 'bert.encoder.layer.3.mlp.layernorm.bias', 'bert.encoder.layer.3.mlp.wo.weight', 'bert.encoder.layer.10.mlp.wo.weight', 'bert.encoder.layer.7.mlp.wo.bias', 'bert.encoder.layer.11.mlp.layernorm.weight', 'bert.encoder.layer.2.mlp.wo.bias', 'bert.encoder.layer.4.mlp.layernorm.bias', 'bert.encoder.layer.8.mlp.wo.weight', 'bert.encoder.layer.0.mlp.gated_layers.weight', 'cls.predictions.transform.LayerNorm.weight', 'bert.encoder.layer.2.attention.self.Wqkv.bias', 'bert.encoder.layer.0.mlp.wo.weight', 'bert.encoder.layer.6.mlp.gated_layers.weight']\n",
      "- This IS expected if you are initializing BertModel from the checkpoint of a model trained on another task or with another architecture (e.g. initializing a BertForSequenceClassification model from a BertForPreTraining model).\n",
      "- This IS NOT expected if you are initializing BertModel from the checkpoint of a model that you expect to be exactly identical (initializing a BertForSequenceClassification model from a BertForSequenceClassification model).\n",
      "Some weights of BertModel were not initialized from the model checkpoint at mosaicml/mosaic-bert-base-seqlen-1024 and are newly initialized: ['bert.encoder.layer.1.intermediate.dense.weight', 'bert.encoder.layer.11.output.dense.weight', 'bert.encoder.layer.10.attention.self.query.weight', 'bert.encoder.layer.1.attention.self.value.bias', 'bert.encoder.layer.0.attention.self.value.bias', 'bert.encoder.layer.0.output.LayerNorm.weight', 'bert.encoder.layer.7.attention.self.query.weight', 'bert.encoder.layer.9.output.LayerNorm.bias', 'bert.encoder.layer.3.attention.self.query.bias', 'bert.encoder.layer.8.attention.self.value.bias', 'bert.encoder.layer.9.intermediate.dense.bias', 'bert.encoder.layer.5.output.dense.weight', 'bert.encoder.layer.3.attention.self.value.weight', 'bert.encoder.layer.10.attention.self.key.weight', 'bert.encoder.layer.9.attention.self.key.bias', 'bert.encoder.layer.7.attention.self.key.bias', 'bert.encoder.layer.2.intermediate.dense.weight', 'bert.encoder.layer.6.attention.self.key.bias', 'bert.encoder.layer.9.attention.self.query.bias', 'bert.embeddings.position_embeddings.weight', 'bert.encoder.layer.3.attention.self.key.weight', 'bert.encoder.layer.3.intermediate.dense.weight', 'bert.encoder.layer.3.attention.self.key.bias', 'bert.encoder.layer.10.attention.self.query.bias', 'bert.encoder.layer.7.attention.self.key.weight', 'bert.encoder.layer.5.attention.self.query.weight', 'bert.encoder.layer.11.output.dense.bias', 'bert.encoder.layer.8.output.LayerNorm.weight', 'bert.encoder.layer.3.output.dense.weight', 'bert.encoder.layer.8.attention.self.key.weight', 'bert.encoder.layer.8.output.dense.bias', 'bert.encoder.layer.10.attention.self.value.bias', 'bert.encoder.layer.6.attention.self.value.bias', 'bert.encoder.layer.4.output.dense.bias', 'bert.encoder.layer.5.attention.self.value.weight', 'bert.encoder.layer.4.intermediate.dense.bias', 'bert.encoder.layer.6.output.dense.weight', 'bert.encoder.layer.0.output.LayerNorm.bias', 'bert.encoder.layer.4.attention.self.query.weight', 'bert.encoder.layer.9.attention.self.value.bias', 'bert.encoder.layer.5.attention.self.query.bias', 'bert.encoder.layer.4.attention.self.value.weight', 'bert.encoder.layer.8.intermediate.dense.bias', 'bert.encoder.layer.2.attention.self.value.weight', 'bert.encoder.layer.1.attention.self.value.weight', 'bert.encoder.layer.8.output.LayerNorm.bias', 'bert.encoder.layer.9.attention.self.value.weight', 'bert.encoder.layer.1.output.LayerNorm.weight', 'bert.encoder.layer.1.intermediate.dense.bias', 'bert.encoder.layer.11.output.LayerNorm.weight', 'bert.encoder.layer.10.intermediate.dense.weight', 'bert.encoder.layer.2.attention.self.key.bias', 'bert.encoder.layer.4.output.dense.weight', 'bert.encoder.layer.11.attention.self.key.bias', 'bert.encoder.layer.6.output.LayerNorm.weight', 'bert.encoder.layer.2.attention.self.value.bias', 'bert.encoder.layer.4.intermediate.dense.weight', 'bert.encoder.layer.6.attention.self.value.weight', 'bert.encoder.layer.9.output.dense.weight', 'bert.encoder.layer.0.output.dense.bias', 'bert.encoder.layer.5.output.LayerNorm.bias', 'bert.encoder.layer.6.output.LayerNorm.bias', 'bert.encoder.layer.5.attention.self.key.bias', 'bert.encoder.layer.7.output.dense.bias', 'bert.encoder.layer.7.attention.self.query.bias', 'bert.encoder.layer.0.attention.self.key.weight', 'bert.encoder.layer.10.attention.self.value.weight', 'bert.encoder.layer.5.attention.self.value.bias', 'bert.encoder.layer.4.attention.self.query.bias', 'bert.encoder.layer.11.intermediate.dense.weight', 'bert.encoder.layer.7.output.LayerNorm.weight', 'bert.encoder.layer.2.intermediate.dense.bias', 'bert.encoder.layer.5.output.dense.bias', 'bert.encoder.layer.6.intermediate.dense.bias', 'bert.encoder.layer.11.attention.self.key.weight', 'bert.encoder.layer.0.attention.self.key.bias', 'bert.encoder.layer.2.output.dense.weight', 'bert.encoder.layer.0.output.dense.weight', 'bert.encoder.layer.3.attention.self.query.weight', 'bert.encoder.layer.5.output.LayerNorm.weight', 'bert.encoder.layer.0.attention.self.query.weight', 'bert.encoder.layer.1.output.LayerNorm.bias', 'bert.encoder.layer.9.intermediate.dense.weight', 'bert.encoder.layer.11.attention.self.query.bias', 'bert.encoder.layer.6.attention.self.query.bias', 'bert.encoder.layer.1.attention.self.key.bias', 'bert.encoder.layer.6.attention.self.query.weight', 'bert.encoder.layer.2.output.LayerNorm.bias', 'bert.encoder.layer.6.intermediate.dense.weight', 'bert.encoder.layer.9.attention.self.query.weight', 'bert.encoder.layer.11.intermediate.dense.bias', 'bert.encoder.layer.9.attention.self.key.weight', 'bert.encoder.layer.4.output.LayerNorm.bias', 'bert.pooler.dense.bias', 'bert.encoder.layer.2.attention.self.query.weight', 'bert.encoder.layer.1.attention.self.query.weight', 'bert.encoder.layer.3.output.LayerNorm.bias', 'bert.encoder.layer.7.output.dense.weight', 'bert.encoder.layer.6.output.dense.bias', 'bert.encoder.layer.9.output.LayerNorm.weight', 'bert.encoder.layer.2.output.dense.bias', 'bert.encoder.layer.7.intermediate.dense.bias', 'bert.encoder.layer.0.attention.self.value.weight', 'bert.encoder.layer.3.output.dense.bias', 'bert.encoder.layer.11.attention.self.value.weight', 'bert.encoder.layer.8.attention.self.key.bias', 'bert.encoder.layer.3.attention.self.value.bias', 'bert.encoder.layer.0.intermediate.dense.weight', 'bert.encoder.layer.11.attention.self.query.weight', 'bert.encoder.layer.3.intermediate.dense.bias', 'bert.encoder.layer.1.output.dense.bias', 'bert.encoder.layer.6.attention.self.key.weight', 'bert.encoder.layer.7.intermediate.dense.weight', 'bert.encoder.layer.4.attention.self.key.weight', 'bert.encoder.layer.2.attention.self.key.weight', 'bert.encoder.layer.8.attention.self.query.bias', 'bert.encoder.layer.2.attention.self.query.bias', 'bert.encoder.layer.8.attention.self.query.weight', 'bert.encoder.layer.0.attention.self.query.bias', 'bert.encoder.layer.10.output.LayerNorm.weight', 'bert.pooler.dense.weight', 'bert.encoder.layer.4.attention.self.key.bias', 'bert.encoder.layer.9.output.dense.bias', 'bert.encoder.layer.5.intermediate.dense.bias', 'bert.encoder.layer.1.attention.self.key.weight', 'bert.encoder.layer.11.output.LayerNorm.bias', 'bert.encoder.layer.10.output.dense.bias', 'bert.encoder.layer.7.attention.self.value.bias', 'bert.encoder.layer.2.output.LayerNorm.weight', 'bert.encoder.layer.4.output.LayerNorm.weight', 'bert.encoder.layer.3.output.LayerNorm.weight', 'bert.encoder.layer.1.attention.self.query.bias', 'bert.encoder.layer.10.output.LayerNorm.bias', 'bert.encoder.layer.10.attention.self.key.bias', 'bert.encoder.layer.7.output.LayerNorm.bias', 'bert.encoder.layer.5.attention.self.key.weight', 'bert.encoder.layer.4.attention.self.value.bias', 'bert.encoder.layer.11.attention.self.value.bias', 'bert.encoder.layer.8.intermediate.dense.weight', 'bert.encoder.layer.10.intermediate.dense.bias', 'bert.encoder.layer.5.intermediate.dense.weight', 'bert.encoder.layer.0.intermediate.dense.bias', 'bert.encoder.layer.1.output.dense.weight', 'bert.encoder.layer.8.attention.self.value.weight', 'bert.encoder.layer.8.output.dense.weight', 'bert.encoder.layer.7.attention.self.value.weight', 'bert.encoder.layer.10.output.dense.weight']\n",
      "You should probably TRAIN this model on a down-stream task to be able to use it for predictions and inference.\n"
     ]
    }
   ],
   "source": [
    "from transformers import BertModel, BertTokenizer\n",
    "import fitz  # PyMuPDF\n",
    "\n",
    "def extract_text_page_by_page(pdf_path):\n",
    "    doc = fitz.open(pdf_path)\n",
    "    text_pages = []\n",
    "    for page_number in range(len(doc)):\n",
    "        page = doc[page_number]\n",
    "        text = page.get_text()\n",
    "        text_pages.append(text)\n",
    "    return text_pages\n",
    "\n",
    "pdf_path = \"/mnt/NAS/patidarritesh/swin_transformer.pdf\"\n",
    "text_pages = extract_text_page_by_page(pdf_path)\n",
    "text = text_pages[0]\n",
    "\n",
    "# pdf_path = \"/mnt/NAS/patidarritesh/swin_transformer.pdf\"\n",
    "# text_pages = extract_text_page_by_page(pdf_path)\n",
    "# # print(text)\n",
    "model = BertModel.from_pretrained('mosaicml/mosaic-bert-base-seqlen-1024')\n",
    "tokenizer = BertTokenizer.from_pretrained('bert-base-uncased')\n",
    "tokens = tokenizer.tokenize(text)"
   ]
  },
  {
   "cell_type": "code",
   "execution_count": 7,
   "metadata": {},
   "outputs": [
    {
     "data": {
      "text/plain": [
       "869"
      ]
     },
     "execution_count": 7,
     "metadata": {},
     "output_type": "execute_result"
    }
   ],
   "source": [
    "len(tokens)"
   ]
  },
  {
   "cell_type": "code",
   "execution_count": 8,
   "metadata": {},
   "outputs": [
    {
     "name": "stdout",
     "output_type": "stream",
     "text": [
      "torch.Size([512, 768])\n"
     ]
    }
   ],
   "source": [
    "import torch\n",
    "\n",
    "\n",
    "input_ids = tokenizer.convert_tokens_to_ids(tokens)\n",
    "\n",
    "input_ids_new = []\n",
    "for i in range(0,len(input_ids)//512):\n",
    "    input_ids_new.append(input_ids[i*512:i*512+512])\n",
    "input_ids_new.append(input_ids[(i+1)*512:len(input_ids)])\n",
    "\n",
    "embeddings = []\n",
    "for i in range(len(input_ids_new)):\n",
    "    input_ids_new[i] = torch.tensor(input_ids_new[i]).unsqueeze(0)\n",
    "    with torch.no_grad():\n",
    "        outputs = model(input_ids_new[i])\n",
    "        embeddings.append(outputs.last_hidden_state[0])\n",
    "print((embeddings[0]).shape)\n",
    "# input_ids = torch.tensor(input_ids).unsqueeze(0)\n",
    "\n"
   ]
  },
  {
   "cell_type": "code",
   "execution_count": 9,
   "metadata": {},
   "outputs": [
    {
     "name": "stdout",
     "output_type": "stream",
     "text": [
      "torch.Size([869, 768])\n"
     ]
    }
   ],
   "source": [
    "embeddings_new = torch.concat(embeddings, dim=0)\n",
    "\n",
    "print(embeddings_new.shape)"
   ]
  },
  {
   "cell_type": "code",
   "execution_count": 27,
   "metadata": {},
   "outputs": [],
   "source": [
    "os.environ[\"CUDA_VISIBLE_DEVICES\"]=\"0\"\n"
   ]
  },
  {
   "cell_type": "code",
   "execution_count": 41,
   "metadata": {},
   "outputs": [],
   "source": [
    "# code to combine tensors with a linear layer\n",
    "\n",
    "import torch\n",
    "import torch.nn as nn\n",
    "\n",
    "tensor1 = embeddings_new\n",
    "tensor2 = img_tensor\n",
    "\n",
    "padding1 = 1024 - tensor1.size(0)\n",
    "padding2 = 49 - tensor2.size(0) # 588 for final image size of 896*672\n",
    "\n",
    "# Pad the tensor with zeros to make it of size 500x500\n",
    "padded_tensor_1 = torch.nn.functional.pad(tensor1, (0, 0, 0, padding1))\n",
    "padded_tensor_2 = torch.nn.functional.pad(tensor2, (0, 0, 0, padding2))\n",
    "\n",
    "# Concatenate the flattened embeddings\n",
    "combined_tensor = torch.cat((padded_tensor_1, padded_tensor_2), dim=0)\n",
    "\n",
    "with torch.no_grad():   \n",
    "    linear_layer = nn.Linear(768,1000)\n",
    "    output = linear_layer(combined_tensor)\n",
    "\n",
    "# output_tensor = linear_layer(combined_tensor)"
   ]
  },
  {
   "cell_type": "code",
   "execution_count": 42,
   "metadata": {},
   "outputs": [
    {
     "data": {
      "text/plain": [
       "torch.Size([1073, 1000])"
      ]
     },
     "execution_count": 42,
     "metadata": {},
     "output_type": "execute_result"
    }
   ],
   "source": [
    "output.shape"
   ]
  },
  {
   "cell_type": "code",
   "execution_count": 43,
   "metadata": {},
   "outputs": [
    {
     "data": {
      "text/plain": [
       "49"
      ]
     },
     "execution_count": 43,
     "metadata": {},
     "output_type": "execute_result"
    }
   ],
   "source": [
    "padded_tensor_2.shape[0]"
   ]
  },
  {
   "cell_type": "code",
   "execution_count": 44,
   "metadata": {},
   "outputs": [
    {
     "data": {
      "text/plain": [
       "49"
      ]
     },
     "execution_count": 44,
     "metadata": {},
     "output_type": "execute_result"
    }
   ],
   "source": [
    "tensor2.shape[0]"
   ]
  },
  {
   "cell_type": "code",
   "execution_count": 45,
   "metadata": {},
   "outputs": [
    {
     "name": "stdout",
     "output_type": "stream",
     "text": [
      "tensor([[-0.9732, -0.3425, -0.2130,  ...,  0.3627, -0.4804,  0.6546],\n",
      "        [-1.7553, -1.0483,  0.6857,  ...,  0.2230, -0.1326,  0.1200],\n",
      "        [-1.2787, -1.0483, -0.1752,  ...,  1.1283, -0.2527,  1.1791],\n",
      "        ...,\n",
      "        [-0.3335,  0.3159,  0.2549,  ..., -0.0097,  0.3009,  0.4155],\n",
      "        [-0.1315,  0.3890,  0.3493,  ...,  0.1082,  0.2266,  0.2570],\n",
      "        [ 0.5022, -0.0506,  0.3930,  ...,  0.3663, -0.0213,  0.6247]])\n"
     ]
    }
   ],
   "source": [
    "print(combined_tensor)"
   ]
  },
  {
   "cell_type": "code",
   "execution_count": 46,
   "metadata": {},
   "outputs": [
    {
     "name": "stdout",
     "output_type": "stream",
     "text": [
      "tensor([[-0.0476, -0.6364, -0.3562,  ..., -0.6168, -0.3195, -0.1962],\n",
      "        [-0.2231,  0.3488, -0.1409,  ..., -0.7402, -0.1919, -0.3527],\n",
      "        [ 0.2109,  0.0545, -0.4859,  ..., -0.4634,  0.2458,  0.1142],\n",
      "        ...,\n",
      "        [-0.1514,  0.0286, -0.3471,  ...,  0.0236,  0.1454,  0.0763],\n",
      "        [-0.1960, -0.0190, -0.3103,  ..., -0.0895,  0.1193, -0.0025],\n",
      "        [-0.1134,  0.3029, -0.4336,  ..., -0.3468,  0.1653,  0.1559]])\n"
     ]
    }
   ],
   "source": [
    "print(output)"
   ]
  },
  {
   "cell_type": "code",
   "execution_count": 1,
   "metadata": {},
   "outputs": [],
   "source": [
    "import torch\n",
    "import torch.nn as nn\n",
    "tensor1 = torch.randn(5, 3)\n",
    "tensor2 = torch.randn(5, 3) \n",
    "combined_tensor = torch.cat((tensor1, tensor2), dim=1) \n",
    "with torch.no_grad(): #do not need gradients in this case\n",
    "    linear_layer = nn.Linear(in_features=(tensor1.shape[1]+tensor2.shape[1]), out_features=tensor1.shape[1]) #output shape is original shape \n",
    "    output_tensor = linear_layer(combined_tensor)"
   ]
  },
  {
   "cell_type": "code",
   "execution_count": 4,
   "metadata": {},
   "outputs": [
    {
     "name": "stdout",
     "output_type": "stream",
     "text": [
      "torch.Size([5, 6])\n",
      "torch.Size([5, 3])\n"
     ]
    }
   ],
   "source": [
    "print(combined_tensor.shape)\n",
    "print(output_tensor.shape)"
   ]
  },
  {
   "cell_type": "code",
   "execution_count": null,
   "metadata": {},
   "outputs": [],
   "source": []
  },
  {
   "cell_type": "code",
   "execution_count": null,
   "metadata": {},
   "outputs": [],
   "source": []
  },
  {
   "cell_type": "code",
   "execution_count": 3,
   "metadata": {},
   "outputs": [],
   "source": [
    "import logging\n",
    "import math\n",
    "import os\n",
    "from typing import List, Optional, Union\n",
    "from collections import defaultdict\n",
    "from pathlib import Path\n",
    "\n",
    "import numpy as np\n",
    "from PIL import Image\n",
    "import cv2\n",
    "import timm\n",
    "import torch\n",
    "import torch.nn as nn\n",
    "import torch.nn.functional as F\n",
    "from PIL import ImageOps\n",
    "from timm.models.swin_transformer import SwinTransformer\n",
    "from torchvision.transforms.functional import resize, rotate\n",
    "from transformers import (\n",
    "    BertModel,\n",
    "    BertTokenizer,\n",
    "    BertConfig,\n",
    "    PreTrainedTokenizerFast,\n",
    "    StoppingCriteria,\n",
    "    StoppingCriteriaList,\n",
    "    MBartConfig,\n",
    "    MBartForCausalLM,\n",
    ")\n",
    "from transformers.file_utils import ModelOutput\n",
    "from transformers.modeling_utils import PretrainedConfig, PreTrainedModel\n",
    "from torchvision import transforms\n",
    "import fitz # PyMuPDF\n",
    "\n",
    "class modifiedBERTEncoder(nn.Module):\n",
    "    \"\"\"\n",
    "    Encoder based on BERT (Bidirectional Encoder Representations from Transformers)\n",
    "\n",
    "    Args:\n",
    "        encoder_layer:\n",
    "            Number of layers of the BERT encoder.\n",
    "        max_position_embeddings:\n",
    "            The maximum sequence length to be trained.\n",
    "        hidden_dimension:\n",
    "            The dimensionality of the hidden layers.\n",
    "        name_or_path:\n",
    "            Name of a pretrained model name either registered in huggingface.co or saved locally.\n",
    "            Otherwise, `bert-base-multilingual-cased` will be set.\n",
    "    \"\"\"\n",
    "\n",
    "    def __init__(\n",
    "        self,\n",
    "        # encoder_layer: int,\n",
    "        max_position_embeddings: int,\n",
    "        hidden_size: int,\n",
    "        num_attention_heads: int,\n",
    "        txt_enc_name_or_path: Union[str, bytes, Path] = None,\n",
    "    ):\n",
    "        super().__init__()\n",
    "        # self.encoder_layer = encoder_layer\n",
    "        self.max_position_embeddings = max_position_embeddings\n",
    "        self.hidden_size = hidden_size\n",
    "        self.num_attention_heads = num_attention_heads\n",
    "        \n",
    "\n",
    "        self.model = BertModel(\n",
    "            config = BertConfig(\n",
    "                hidden_size=1024,\n",
    "                max_position_embeddings=1024,\n",
    "                num_attention_heads=16\n",
    "            )\n",
    "        )\n",
    "        \n",
    "        # Initialize BERT model\n",
    "        if not txt_enc_name_or_path:\n",
    "            txt_enc_name_or_path = \"bert-base-uncased\"\n",
    "        self.model = BertModel.from_pretrained(txt_enc_name_or_path)\n"
   ]
  },
  {
   "cell_type": "code",
   "execution_count": null,
   "metadata": {},
   "outputs": [],
   "source": [
    "import os\n",
    "\n",
    "os.environ[\"CUDA_VISIBLE_DEVICES\"]=\"3\""
   ]
  },
  {
   "cell_type": "code",
   "execution_count": 4,
   "metadata": {},
   "outputs": [
    {
     "name": "stderr",
     "output_type": "stream",
     "text": [
      "Some weights of the model checkpoint at bert-base-uncased were not used when initializing BertModel: ['cls.predictions.bias', 'cls.predictions.transform.dense.bias', 'cls.predictions.transform.LayerNorm.weight', 'cls.predictions.transform.dense.weight', 'cls.predictions.transform.LayerNorm.bias', 'cls.seq_relationship.bias', 'cls.seq_relationship.weight']\n",
      "- This IS expected if you are initializing BertModel from the checkpoint of a model trained on another task or with another architecture (e.g. initializing a BertForSequenceClassification model from a BertForPreTraining model).\n",
      "- This IS NOT expected if you are initializing BertModel from the checkpoint of a model that you expect to be exactly identical (initializing a BertForSequenceClassification model from a BertForSequenceClassification model).\n"
     ]
    }
   ],
   "source": [
    "model = modifiedBERTEncoder(\n",
    "            max_position_embeddings=1024,\n",
    "            hidden_size=1024,\n",
    "            num_attention_heads=16,\n",
    "            txt_enc_name_or_path=\"bert-base-uncased\"\n",
    "            )"
   ]
  },
  {
   "cell_type": "code",
   "execution_count": null,
   "metadata": {},
   "outputs": [],
   "source": []
  },
  {
   "cell_type": "code",
   "execution_count": null,
   "metadata": {},
   "outputs": [],
   "source": [
    "import pickle\n",
    "import torch\n",
    "\n",
    "# Create sample tensors\n",
    "tensor1 = torch.tensor([[1, 2, 3], [4, 5, 6]])\n",
    "tensor2 = torch.tensor([[7, 8, 9], [10, 11, 12]])\n",
    "\n",
    "# Create a dictionary to store the tensors\n",
    "tensors_dict = {'tensor1': tensor1, 'tensor2': tensor2}\n",
    "\n",
    "# Specify the file path where you want to store the tensors\n",
    "file_path = \"tensors_data.pickle\"\n",
    "\n",
    "# Open a file in binary write mode\n",
    "with open(file_path, \"wb\") as file:\n",
    "    # Use pickle to dump the dictionary containing tensors into the file\n",
    "    pickle.dump(tensors_dict, file)\n",
    "\n",
    "print(\"Tensors have been stored in\", file_path)\n"
   ]
  },
  {
   "cell_type": "code",
   "execution_count": 6,
   "metadata": {},
   "outputs": [
    {
     "name": "stdout",
     "output_type": "stream",
     "text": [
      "1168 1168 1168\n"
     ]
    }
   ],
   "source": [
    "import os\n",
    "print(len(os.listdir('/mnt/NAS/patidarritesh/grounding_text_PDF_2_LaTeX/pdf_2_tex/dataset/img_tensor')), len(os.listdir('/mnt/NAS/patidarritesh/grounding_text_PDF_2_LaTeX/pdf_2_tex/dataset/latex_tensor')), len(os.listdir('/mnt/NAS/patidarritesh/grounding_text_PDF_2_LaTeX/pdf_2_tex/dataset/text_tensor')))"
   ]
  },
  {
   "cell_type": "code",
   "execution_count": null,
   "metadata": {},
   "outputs": [],
   "source": []
  },
  {
   "cell_type": "code",
   "execution_count": 4,
   "metadata": {},
   "outputs": [
    {
     "name": "stdout",
     "output_type": "stream",
     "text": [
      "1110.5406.pdf\n"
     ]
    }
   ],
   "source": [
    "pth = \"/mnt/NAS/patidarritesh/5_page_pdfs/1110.5406.pdf\"\n",
    "\n",
    "print(pth.split(\"/\")[-1])"
   ]
  },
  {
   "cell_type": "code",
   "execution_count": 11,
   "metadata": {},
   "outputs": [
    {
     "name": "stdout",
     "output_type": "stream",
     "text": [
      "<class 'torch.Tensor'>\n"
     ]
    }
   ],
   "source": [
    "import pickle\n",
    "\n",
    "\n",
    "# open  a pickle file from a path\n",
    "file_path = \"/mnt/NAS/patidarritesh/grounding_text_PDF_2_LaTeX/pdf_2_tex/dataset/img_tensor/0704.3345.pdf.pkl\"\n",
    "with open(file_path, \"rb\") as file:\n",
    "    # Load the dictionary containing tensors from the file\n",
    "    tensors_dict = pickle.load(file)\n",
    "\n",
    "print(type(tensors_dict))\n",
    "# with open(img_file, \"r\") as f:\n",
    "#     self.input_tensor = f.read()\n",
    "#     self.input_tensor = torch.tensor(self.input_tensor)"
   ]
  },
  {
   "cell_type": "code",
   "execution_count": null,
   "metadata": {},
   "outputs": [],
   "source": []
  }
 ],
 "metadata": {
  "kernelspec": {
   "display_name": "Python 3",
   "language": "python",
   "name": "python3"
  },
  "language_info": {
   "codemirror_mode": {
    "name": "ipython",
    "version": 3
   },
   "file_extension": ".py",
   "mimetype": "text/x-python",
   "name": "python",
   "nbconvert_exporter": "python",
   "pygments_lexer": "ipython3",
   "version": "3.11.5"
  }
 },
 "nbformat": 4,
 "nbformat_minor": 2
}
