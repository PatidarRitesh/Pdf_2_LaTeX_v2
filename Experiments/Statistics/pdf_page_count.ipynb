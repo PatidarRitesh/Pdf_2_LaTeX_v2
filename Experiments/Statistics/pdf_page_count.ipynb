{
 "cells": [
  {
   "cell_type": "code",
   "execution_count": 3,
   "metadata": {},
   "outputs": [
    {
     "name": "stdout",
     "output_type": "stream",
     "text": [
      "Collecting PyPDF2\n",
      "  Downloading pypdf2-3.0.1-py3-none-any.whl (232 kB)\n",
      "\u001b[2K     \u001b[90m━━━━━━━━━━━━━━━━━━━━━━━━━━━━━━━━━━━━━\u001b[0m \u001b[32m232.6/232.6 kB\u001b[0m \u001b[31m604.9 kB/s\u001b[0m eta \u001b[36m0:00:00\u001b[0ma \u001b[36m0:00:01\u001b[0m\n",
      "\u001b[?25hInstalling collected packages: PyPDF2\n",
      "Successfully installed PyPDF2-3.0.1\n"
     ]
    }
   ],
   "source": [
    "!pip install PyPDF2\n"
   ]
  },
  {
   "cell_type": "code",
   "execution_count": 1,
   "metadata": {},
   "outputs": [],
   "source": [
    "import PyPDF2\n",
    "import os\n",
    "from tqdm import tqdm\n",
    "\n",
    "def count_pdf_pages(pdf_file_path):\n",
    "    try:\n",
    "        with open(pdf_file_path, 'rb') as file:\n",
    "            pdf_reader = PyPDF2.PdfReader(file)\n",
    "            num_pages = len(pdf_reader.pages)\n",
    "            return num_pages\n",
    "    except FileNotFoundError:\n",
    "        print(f\"File not found: {pdf_file_path}\")\n",
    "        return None\n",
    "    except:\n",
    "        print(f\"Error reading PDF file: {pdf_file_path}\")\n",
    "        return None\n"
   ]
  },
  {
   "cell_type": "markdown",
   "metadata": {},
   "source": [
    "## Smaller Dataset of 1k papers for experiment"
   ]
  },
  {
   "cell_type": "code",
   "execution_count": 5,
   "metadata": {},
   "outputs": [
    {
     "name": "stderr",
     "output_type": "stream",
     "text": [
      " 38%|███▊      | 9/24 [00:01<00:02,  5.34it/s]"
     ]
    },
    {
     "name": "stdout",
     "output_type": "stream",
     "text": [
      "Error reading PDF file: /mnt/HDFS/patidarritesh/husain/data/2008/0804/0804.2473.pdf\n",
      "Error could not read PDF file /mnt/HDFS/patidarritesh/husain/data/2008/0804/0804.2473.pdf.\n"
     ]
    },
    {
     "name": "stderr",
     "output_type": "stream",
     "text": [
      "100%|██████████| 24/24 [00:04<00:00,  5.08it/s]"
     ]
    },
    {
     "name": "stdout",
     "output_type": "stream",
     "text": [
      "Statistics saved to /mnt/HDFS/patidarritesh/husain/pdf_statistics.json\n",
      "Failed to read 1 PDF files.\n"
     ]
    },
    {
     "name": "stderr",
     "output_type": "stream",
     "text": [
      "\n"
     ]
    }
   ],
   "source": [
    "import os\n",
    "import json\n",
    "from tqdm import tqdm\n",
    "import json\n",
    "\n",
    "data = {}  # Dictionary to store statistics\n",
    "fail_count = 0\n",
    "ls_fail = []\n",
    "for year in tqdm(sorted(os.listdir('/mnt/HDFS/patidarritesh/husain/data'))):\n",
    "    year_path = os.path.join('/mnt/HDFS/patidarritesh/husain/data', year)\n",
    "    data[year] = {}  # Create a sub-dictionary for the year\n",
    "\n",
    "    for month in sorted(os.listdir(year_path)):\n",
    "        month_path = os.path.join(year_path, month)\n",
    "        data[year][month] = {}  # Create a sub-dictionary for the month\n",
    "        data[year][month]['lst_num_pages'] = []  # Initialize the total count for the month\n",
    "        \n",
    "        for path in sorted(os.listdir(month_path)):\n",
    "            pdf_file_path = os.path.join(month_path, path)\n",
    "\n",
    "            num_pages = count_pdf_pages(pdf_file_path)\n",
    "            if num_pages is not None:\n",
    "                # Store the number of pages in the dictionary\n",
    "                data[year][month]['lst_num_pages'].append(num_pages)\n",
    "            else:\n",
    "                print(f'Error could not read PDF file {pdf_file_path}.')\n",
    "                fail_count += 1\n",
    "                ls_fail.append(pdf_file_path)\n",
    "\n",
    "        # Store the total count for the month\n",
    "        data[year][month]['total_pages'] = sum(data[year][month]['lst_num_pages'])\n",
    "        data[year][month]['total_pdf'] = len(data[year][month]['lst_num_pages'])\n",
    "# Save the data to a JSON file\n",
    "output_file_path = '/mnt/HDFS/patidarritesh/husain/pdf_statistics.json'\n",
    "with open(output_file_path, 'w') as json_file:\n",
    "    json.dump(data, json_file, indent=2)\n",
    "\n",
    "print(f\"Statistics saved to {output_file_path}\")\n",
    "\n",
    "print(f\"Failed to read {fail_count} PDF files.\")\n"
   ]
  },
  {
   "cell_type": "markdown",
   "metadata": {},
   "source": [
    "## Entire Dataset 2.2M papers"
   ]
  },
  {
   "cell_type": "code",
   "execution_count": 2,
   "metadata": {},
   "outputs": [
    {
     "name": "stdout",
     "output_type": "stream",
     "text": [
      "2000:  271 7672\n",
      "2001:  595 7025\n",
      "2002:  583 1408\n",
      "2003:  462 23529\n",
      "2004:  1653 30732\n",
      "2005:  876 13800\n",
      "2006:  4593 18915\n",
      "2007:  701 31748\n",
      "2008:  814 39565\n",
      "2009:  1852 510\n",
      "2010:  1106 51378\n",
      "2011:  1235 63423\n",
      "2012:  926 38125\n",
      "2013:  1673 75572\n",
      "2014:  2349 33818\n",
      "2015:  1851 94527\n",
      "2016:  3762 81834\n",
      "2017:  907 108665\n",
      "2018:  2457 78210\n",
      "2019:  1377 21668\n",
      "2020:  1885 167724\n",
      "2021:  1226 14201\n",
      "2022:  3134 55111\n",
      "2023:  1664 110036\n",
      "Mean number of pages: 18.833867321794884\n",
      "Median number of pages: 14\n",
      "Mode number of pages: 10\n",
      "Mean number of pages per year: [16.500965410713302, 16.17007318520472, 16.081686612858334, 16.141152168923572, 16.638926544585622, 16.740104009971205, 17.180734955442073, 16.871385950637375, 17.395671040043734, 17.75993518139769, 17.874273852939904, 18.17269584949471, 18.30739095122068, 18.526563946207872, 19.00410030778129, 19.178375999693873, 19.345465356727637, 19.183525047589608, 19.093923441216596, 19.10212091332676, 19.904200686975617, 20.24792958945611, 20.239104466317492, 19.703582134292567]\n",
      "Median number of pages per year: [12, 12.0, 12.0, 12, 12, 12.0, 12, 12, 13.0, 13.0, 13, 14.0, 14.0, 14, 15.0, 15.0, 15, 15.0, 15, 15, 15.0, 16.0, 16, 15.0]\n",
      "Mode number of pages per year: [4, 4, 4, 4, 4, 4, 4, 4, 4, 4, 5, 5, 5, 5, 5, 6, 6, 8, 10, 10, 10, 10, 10, 10]\n",
      "Total number of PDF files: 2170771\n",
      "+-----------+---------+\n",
      "| Statistic |  Value  |\n",
      "+-----------+---------+\n",
      "|   Mean    |  18.83  |\n",
      "|  Median   |   14    |\n",
      "|   Mode    |   10    |\n",
      "|  Tot_PDF  | 2170771 |\n",
      "|    Min    |    0    |\n",
      "|    Max    |  4593   |\n",
      "+-----------+---------+\n",
      "\n",
      " \n",
      " \n",
      " \n",
      " \n",
      "\n",
      "+------+-------+--------+------+-----+-----+\n",
      "| Year | Mean  | Median | Mode | Min | Max |\n",
      "+------+-------+--------+------+-----+-----+\n",
      "| 2000 | 16.50 |   12   |  4   | N/A | N/A |\n",
      "| 2001 | 16.17 |  12.0  |  4   | N/A | N/A |\n",
      "| 2002 | 16.08 |  12.0  |  4   | N/A | N/A |\n",
      "| 2003 | 16.14 |   12   |  4   | N/A | N/A |\n",
      "| 2004 | 16.64 |   12   |  4   | N/A | N/A |\n",
      "| 2005 | 16.74 |  12.0  |  4   | N/A | N/A |\n",
      "| 2006 | 17.18 |   12   |  4   | N/A | N/A |\n",
      "| 2007 | 16.87 |   12   |  4   | N/A | N/A |\n",
      "| 2008 | 17.40 |  13.0  |  4   | N/A | N/A |\n",
      "| 2009 | 17.76 |  13.0  |  4   | N/A | N/A |\n",
      "| 2010 | 17.87 |   13   |  5   | N/A | N/A |\n",
      "| 2011 | 18.17 |  14.0  |  5   | N/A | N/A |\n",
      "| 2012 | 18.31 |  14.0  |  5   | N/A | N/A |\n",
      "| 2013 | 18.53 |   14   |  5   | N/A | N/A |\n",
      "| 2014 | 19.00 |  15.0  |  5   | N/A | N/A |\n",
      "| 2015 | 19.18 |  15.0  |  6   | N/A | N/A |\n",
      "| 2016 | 19.35 |   15   |  6   | N/A | N/A |\n",
      "| 2017 | 19.18 |  15.0  |  8   | N/A | N/A |\n",
      "| 2018 | 19.09 |   15   |  10  | N/A | N/A |\n",
      "| 2019 | 19.10 |   15   |  10  | N/A | N/A |\n",
      "| 2020 | 19.90 |  15.0  |  10  | N/A | N/A |\n",
      "| 2021 | 20.25 |  16.0  |  10  | N/A | N/A |\n",
      "| 2022 | 20.24 |   16   |  10  | N/A | N/A |\n",
      "| 2023 | 19.70 |  15.0  |  10  | N/A | N/A |\n",
      "+------+-------+--------+------+-----+-----+\n"
     ]
    }
   ],
   "source": [
    "import statistics\n",
    "from tabulate import tabulate\n",
    "import json\n",
    "\n",
    "# Calculate the mean, median, and mode\n",
    "all_pages = []\n",
    "year_stats = {\n",
    "    'mean': [],\n",
    "    'median': [],\n",
    "    'mode': []  # Added 'mode' to the dictionary\n",
    "}\n",
    "\n",
    "output_file_path = '/mnt/HDFS/patidarritesh/husain/final_statistics.json'\n",
    "\n",
    "# Read the JSON file into a Python dictionary\n",
    "with open(output_file_path, 'r') as json_file:\n",
    "    data = json.load(json_file)\n",
    "\n",
    "for year in data:\n",
    "    year_pages = []  # Use a different name for the list\n",
    "    for month in data[year]:\n",
    "        all_pages.extend(data[year][month]['lst_num_pages'])\n",
    "        year_pages.extend(data[year][month]['lst_num_pages'])\n",
    "    \n",
    "    mean_year_pages = statistics.mean(year_pages)\n",
    "    median_year_pages = statistics.median(year_pages)\n",
    "    mode_year_pages = statistics.mode(year_pages)\n",
    "\n",
    "    print(f\"{year}: \", max(year_pages),     year_pages.index(max(year_pages))\n",
    ")\n",
    "    \n",
    "    year_stats['mean'].append(mean_year_pages)\n",
    "    year_stats['median'].append(median_year_pages)\n",
    "    year_stats['mode'].append(mode_year_pages)\n",
    "\n",
    "mean_pages = statistics.mean(all_pages)\n",
    "median_pages = statistics.median(all_pages)\n",
    "mode_pages = statistics.mode(all_pages)\n",
    "\n",
    "print(f\"Mean number of pages: {mean_pages}\")\n",
    "print(f\"Median number of pages: {median_pages}\")\n",
    "print(f\"Mode number of pages: {mode_pages}\")\n",
    "print(f\"Mean number of pages per year: {year_stats['mean']}\")\n",
    "print(f\"Median number of pages per year: {year_stats['median']}\")\n",
    "print(f\"Mode number of pages per year: {year_stats['mode']}\")\n",
    "print(f\"Total number of PDF files: {len(all_pages)}\")\n",
    "\n",
    "\n",
    "\n",
    "\n",
    "# Prepare data for the table\n",
    "table_data = [\n",
    "    [\"Mean\", f\"{mean_pages:.2f}\"],\n",
    "    [\"Median\", median_pages],\n",
    "    [\"Mode\", mode_pages],\n",
    "    [\"Tot_PDF\", len(all_pages)],\n",
    "    [\"Min\", min(all_pages)],\n",
    "    [\"Max\", max(all_pages)]\n",
    "]\n",
    "\n",
    "table_data2 = []\n",
    "min_yearwise = float('inf')\n",
    "max_yearwise = float('-inf')\n",
    "\n",
    "for i, (mean, median, mode, year) in enumerate(zip(year_stats['mean'], year_stats['median'], year_stats['mode'], data.keys())):\n",
    "    if 'total_pdf' in data[year]:\n",
    "        year_data = data[year]['total_pdf']\n",
    "        year_min = min(year_data, default=0)\n",
    "        year_max = max(year_data, default=0)\n",
    "\n",
    "        # Update global min and max\n",
    "        min_yearwise = min(min_yearwise, year_min)\n",
    "        max_yearwise = max(max_yearwise, year_max)\n",
    "\n",
    "        table_data2.append([f\"{year}\", f\"{mean:.2f}\", median, mode, year_min, year_max])\n",
    "    else:\n",
    "        # Handle the case where 'total_pdf' is not present in data[year]\n",
    "        table_data2.append([f\"{year}\", f\"{mean:.2f}\", median, mode, \"N/A\", \"N/A\"])\n",
    "\n",
    "# Print the table\n",
    "table = tabulate(table_data, headers=[\"Statistic\", \"Value\"], tablefmt=\"pretty\")\n",
    "\n",
    "print(table)\n",
    "\n",
    "print('\\n \\n \\n \\n \\n')\n",
    "\n",
    "\n",
    "table2 = tabulate(table_data2, headers=[\"Year\", \"Mean\", \"Median\",\"Mode\", \"Min\", \"Max\"], tablefmt=\"pretty\")\n",
    "\n",
    "print(table2)\n",
    "\n"
   ]
  },
  {
   "cell_type": "code",
   "execution_count": 3,
   "metadata": {},
   "outputs": [
    {
     "name": "stdout",
     "output_type": "stream",
     "text": [
      "Error reading PDF file: /mnt/HDFS/patidarritesh/pdf_extr/2006/0601/astro-ph0601081.pdf\n"
     ]
    }
   ],
   "source": [
    "import os\n",
    "\n",
    "def process_year(year_path):\n",
    "\n",
    "    for month in sorted(os.listdir(year_path)):\n",
    "        if(month != 'json_files'):\n",
    "            month_path = os.path.join(year_path, month)\n",
    "            month_pages = {}\n",
    "\n",
    "            for path in sorted(os.listdir(month_path)):\n",
    "                pdf_file_path = os.path.join(month_path, path)\n",
    "                num_pages = count_pdf_pages(pdf_file_path)\n",
    "\n",
    "                if num_pages is not None:\n",
    "                    # Store the number of pages in the dictionary\n",
    "                    month_pages[path] = num_pages\n",
    "\n",
    "            if month_pages:\n",
    "                max_pdf_path = max(month_pages, key=month_pages.get)\n",
    "                max_num_pages = month_pages[max_pdf_path]\n",
    "\n",
    "                print(f\"{month}: Maximum pages - {max_num_pages}, PDF path - {max_pdf_path}\")\n",
    "\n",
    "\n",
    "process_year('/mnt/HDFS/patidarritesh/pdf_extr/2006')\n"
   ]
  },
  {
   "cell_type": "code",
   "execution_count": 2,
   "metadata": {},
   "outputs": [],
   "source": [
    "import os\n",
    "\n",
    "def process_year(year_path):\n",
    "\n",
    "    for month in sorted(os.listdir(year_path)):\n",
    "        if(month != 'json_files'):\n",
    "            month_path = os.path.join(year_path, month)\n",
    "            month_pages = {}\n",
    "\n",
    "            for path in sorted(os.listdir(month_path)):\n",
    "                pdf_file_path = os.path.join(month_path, path)\n",
    "                num_pages = count_pdf_pages(pdf_file_path)\n",
    "\n",
    "                if num_pages is not None:\n",
    "                    # Store the number of pages in the dictionary\n",
    "                    month_pages[path] = num_pages\n",
    "\n",
    "            if month_pages:\n",
    "                max_pdf_path = max(month_pages, key=month_pages.get)\n",
    "                max_num_pages = month_pages[max_pdf_path]\n",
    "\n",
    "                print(f\"{month}: Maximum pages - {max_num_pages}, PDF path - {max_pdf_path}\")\n",
    "\n",
    "\n",
    "process_year('/mnt/HDFS/patidarritesh/pdf_extr/2022')\n"
   ]
  },
  {
   "cell_type": "code",
   "execution_count": 4,
   "metadata": {},
   "outputs": [
    {
     "data": {
      "image/png": "[encoded data removed]",
      "text/plain": [
       "<Figure size 1200x600 with 2 Axes>"
      ]
     },
     "metadata": {},
     "output_type": "display_data"
    },
    {
     "data": {
      "image/png": "[encoded data removed]",
      "text/plain": [
       "<Figure size 1000x600 with 1 Axes>"
      ]
     },
     "metadata": {},
     "output_type": "display_data"
    },
    {
     "data": {
      "image/png": "[encoded data removed]",
      "text/plain": [
       "<Figure size 1000x600 with 1 Axes>"
      ]
     },
     "metadata": {},
     "output_type": "display_data"
    }
   ],
   "source": [
    "import statistics\n",
    "import matplotlib.pyplot as plt\n",
    "import seaborn as sns\n",
    "\n",
    "\n",
    "\n",
    "# Create a histogram with table\n",
    "plt.figure(figsize=(12, 6))\n",
    "ax1 = plt.subplot(1, 2, 1)  # Create a subplot for the histogram\n",
    "# Draw the histogram\n",
    "sns.histplot(all_pages, bins=20, kde=True, color='blue', ax=ax1)\n",
    "plt.title('Histogram of Number of Pages')\n",
    "plt.xlabel('Number of Pages')\n",
    "plt.ylabel('Frequency')\n",
    "\n",
    "# Set x-axis ticks to multiples of 5\n",
    "plt.xticks(range(0, max(all_pages) + 5, 10))\n",
    "\n",
    "# Add a table to the right of the histogram\n",
    "ax2 = plt.subplot(1, 2, 2)\n",
    "ax2.axis('off')  # Turn off the axis for the table\n",
    "\n",
    "# Create a table showing the frequency in each class\n",
    "table_data = []\n",
    "for i in range(0, 100, 5):\n",
    "    count = sum((i <= page < i + 5) for page in all_pages)\n",
    "    table_data.append([f'{i}-{i+4}', count])\n",
    "for i in range(100, 1000, 100):\n",
    "    count = sum((i <= page < i + 100) for page in all_pages)\n",
    "    table_data.append([f'{i}-{i+99}', count])\n",
    "for i in range(1000, max(all_pages), 1000):\n",
    "    count = sum((i <= page < i + 1000) for page in all_pages)\n",
    "    table_data.append([f'{i}-{i+999}', count])\n",
    "\n",
    "\n",
    "\n",
    "\n",
    "table_headers = ['Class', 'Frequency']\n",
    "ax2.table(cellText=table_data, colLabels=table_headers, loc='center')\n",
    "\n",
    "plt.tight_layout()\n",
    "plt.show()\n",
    "\n",
    "# Create a histogram\n",
    "plt.figure(figsize=(10, 6))\n",
    "sns.histplot(all_pages, bins=20, kde=True, color='blue')\n",
    "plt.title('Histogram of Number of Pages')\n",
    "plt.xlabel('Number of Pages')\n",
    "plt.ylabel('Frequency')\n",
    "# Set x-axis ticks to multiples of 5\n",
    "plt.xticks(range(0, max(all_pages) + 5, 10))\n",
    "plt.show()\n",
    "\n",
    "# Create a box plot\n",
    "plt.figure(figsize=(10, 6))\n",
    "sns.boxplot(x=all_pages, color='green')\n",
    "plt.title('Box Plot of Number of Pages')\n",
    "plt.xlabel('Number of Pages')\n",
    "plt.show()\n",
    "\n",
    "\n",
    "\n",
    "\n"
   ]
  },
  {
   "cell_type": "code",
   "execution_count": 3,
   "metadata": {},
   "outputs": [
    {
     "name": "stdout",
     "output_type": "stream",
     "text": [
      "Range: 4593\n",
      "Interquartile Range (IQR): 14.0\n",
      "Standard Deviation: 20.23349473514029\n",
      "Variance: 409.39430919694985\n",
      "Coefficient of Variation (CV): 107.43%\n"
     ]
    }
   ],
   "source": [
    "import statistics\n",
    "\n",
    "# Your existing code for data retrieval and calculation\n",
    "\n",
    "# Calculate Range\n",
    "data_range = max(all_pages) - min(all_pages)\n",
    "\n",
    "# Calculate Interquartile Range (IQR)\n",
    "q1 = statistics.quantiles(all_pages, n=4)[0]\n",
    "q3 = statistics.quantiles(all_pages, n=4)[2]\n",
    "iqr = q3 - q1\n",
    "\n",
    "# Calculate Standard Deviation and Variance\n",
    "std_deviation = statistics.stdev(all_pages)\n",
    "variance = statistics.variance(all_pages)\n",
    "\n",
    "coefficient_of_variation = (std_deviation / mean_pages) * 100\n",
    "\n",
    "\n",
    "# Print the results\n",
    "print(f\"Range: {data_range}\")\n",
    "print(f\"Interquartile Range (IQR): {iqr}\")\n",
    "print(f\"Standard Deviation: {std_deviation}\")\n",
    "print(f\"Variance: {variance}\")\n",
    "print(f\"Coefficient of Variation (CV): {coefficient_of_variation:.2f}%\")\n",
    "\n"
   ]
  },
  {
   "cell_type": "code",
   "execution_count": null,
   "metadata": {},
   "outputs": [],
   "source": []
  },
  {
   "cell_type": "code",
   "execution_count": null,
   "metadata": {},
   "outputs": [],
   "source": []
  },
  {
   "cell_type": "code",
   "execution_count": null,
   "metadata": {},
   "outputs": [],
   "source": []
  },
  {
   "cell_type": "code",
   "execution_count": null,
   "metadata": {},
   "outputs": [],
   "source": []
  },
  {
   "cell_type": "code",
   "execution_count": null,
   "metadata": {},
   "outputs": [],
   "source": []
  },
  {
   "cell_type": "code",
   "execution_count": null,
   "metadata": {},
   "outputs": [],
   "source": []
  },
  {
   "cell_type": "code",
   "execution_count": null,
   "metadata": {},
   "outputs": [],
   "source": []
  },
  {
   "cell_type": "code",
   "execution_count": null,
   "metadata": {},
   "outputs": [],
   "source": []
  },
  {
   "cell_type": "code",
   "execution_count": 4,
   "metadata": {},
   "outputs": [
    {
     "name": "stdout",
     "output_type": "stream",
     "text": [
      "Total Pages Yearwise:\n",
      "[{'year': '2019', 'total_pages': 1019}, {'year': '2011', 'total_pages': 1089}, {'year': '2023', 'total_pages': 914}, {'year': '2009', 'total_pages': 876}, {'year': '2008', 'total_pages': 767}, {'year': '2002', 'total_pages': 1085}, {'year': '2007', 'total_pages': 913}, {'year': '2016', 'total_pages': 1020}, {'year': '2000', 'total_pages': 689}, {'year': '2017', 'total_pages': 1006}, {'year': '2003', 'total_pages': 960}, {'year': '2012', 'total_pages': 942}, {'year': '2010', 'total_pages': 912}, {'year': '2001', 'total_pages': 894}, {'year': '2022', 'total_pages': 1186}, {'year': '2004', 'total_pages': 1099}, {'year': '2014', 'total_pages': 1139}, {'year': '2006', 'total_pages': 1150}, {'year': '2020', 'total_pages': 1270}, {'year': '2005', 'total_pages': 1039}, {'year': '2018', 'total_pages': 1234}, {'year': '2013', 'total_pages': 986}, {'year': '2021', 'total_pages': 1186}, {'year': '2015', 'total_pages': 873}]\n",
      "\n",
      "Mean Total Pages:  1010.3333333333334\n",
      "Median Total Pages:  1012.5\n",
      "Mode Total Pages:  1186\n"
     ]
    },
    {
     "name": "stderr",
     "output_type": "stream",
     "text": [
      "/tmp/ipykernel_74857/4079750054.py:71: FutureWarning: Unlike other reduction functions (e.g. `skew`, `kurtosis`), the default behavior of `mode` typically preserves the axis it acts along. In SciPy 1.11.0, this behavior will change: the default value of `keepdims` will become False, the `axis` over which the statistic is taken will be eliminated, and the value None will no longer be accepted. Set `keepdims` to True or False to avoid this warning.\n",
      "  mode_total_pages = mode(all_years_total_pages).mode[0]\n"
     ]
    }
   ],
   "source": [
    "# import json\n",
    "\n",
    "# # Replace 'your_json_file.json' with the actual file path\n",
    "# file_path = '/mnt/HDFS/patidarritesh/husain/pdf_statistics.json'\n",
    "\n",
    "# # Open the JSON file and load its contents\n",
    "# with open(file_path, 'r') as file:\n",
    "#     json_data = json.load(file)\n",
    "\n",
    "# # Initialize an empty list to store the total number of pages yearwise\n",
    "# total_pages_per_year = []\n",
    "\n",
    "# # Iterate through the years in the JSON data\n",
    "# for year, months_data in json_data.items():\n",
    "#     # Initialize total pages for the current year\n",
    "#     total_pages_current_year = 0\n",
    "    \n",
    "#     # Iterate through the months in the current year\n",
    "#     for month, month_data in months_data.items():\n",
    "#         # Sum up the total pages for the current month and add to the total for the year\n",
    "#         total_pages_current_year += month_data[\"total_pages\"]\n",
    "    \n",
    "#     # Append the total pages for the current year to the list\n",
    "#     total_pages_per_year.append({\"year\": year, \"total_pages\": total_pages_current_year})\n",
    "\n",
    "# # Print or use the total_pages_per_year list as needed\n",
    "# print(total_pages_per_year)\n",
    "\n",
    "\n",
    "\n",
    "import json\n",
    "from statistics import mean, median\n",
    "from scipy.stats import mode\n",
    "\n",
    "# Replace 'your_json_file.json' with the actual file path\n",
    "file_path = '/mnt/HDFS/patidarritesh/husain/pdf_statistics.json'\n",
    "\n",
    "# Open the JSON file and load its contents\n",
    "with open(file_path, 'r') as file:\n",
    "    json_data = json.load(file)\n",
    "\n",
    "# Initialize an empty list to store the total number of pages yearwise\n",
    "total_pages_per_year = []\n",
    "\n",
    "# Initialize an empty list to store the total pages of all years\n",
    "all_years_total_pages = []\n",
    "\n",
    "# Iterate through the years in the JSON data\n",
    "for year, months_data in json_data.items():\n",
    "    # Initialize total pages for the current year\n",
    "    total_pages_current_year = 0\n",
    "    \n",
    "    # Iterate through the months in the current year\n",
    "    for month, month_data in months_data.items():\n",
    "        # Sum up the total pages for the current month and add to the total for the year\n",
    "        total_pages_current_year += month_data[\"total_pages\"]\n",
    "    \n",
    "    # Append the total pages for the current year to the list\n",
    "    total_pages_per_year.append({\"year\": year, \"total_pages\": total_pages_current_year})\n",
    "    \n",
    "    # Add the total pages for the current year to the list of all years\n",
    "    all_years_total_pages.append(total_pages_current_year)\n",
    "\n",
    "# Print or use the total_pages_per_year list as needed\n",
    "print(\"Total Pages Yearwise:\")\n",
    "print(total_pages_per_year)\n",
    "\n",
    "# Calculate mean, median, and mode of total pages across all years\n",
    "mean_total_pages = mean(all_years_total_pages)\n",
    "median_total_pages = median(all_years_total_pages)\n",
    "mode_total_pages = mode(all_years_total_pages).mode[0]\n",
    "\n",
    "# Print or use the mean, median, and mode values\n",
    "print(\"\\nMean Total Pages: \", mean_total_pages)\n",
    "print(\"Median Total Pages: \", median_total_pages)\n",
    "print(\"Mode Total Pages: \", mode_total_pages)\n"
   ]
  },
  {
   "cell_type": "code",
   "execution_count": null,
   "metadata": {},
   "outputs": [],
   "source": []
  },
  {
   "cell_type": "code",
   "execution_count": null,
   "metadata": {},
   "outputs": [],
   "source": [
    "import os\n",
    "import json\n",
    "import pandas as pd\n",
    "import matplotlib.pyplot as plt\n",
    "import seaborn as sns\n",
    "from scipy.stats import shapiro\n",
    "# from your_pdf_count_function_module import count_pdf_pages  # Replace with the actual module containing your function\n",
    "\n",
    "# Assuming you have the count_pdf_pages function defined\n",
    "\n",
    "# Function to perform detailed statistical analysis\n",
    "def detailed_statistics(data):\n",
    "    df = pd.DataFrame(data).transpose()\n",
    "    summary = df.describe()\n",
    "\n",
    "    return df, summary\n",
    "\n",
    "# Function to create descriptive statistics\n",
    "def create_descriptive_statistics(data):\n",
    "    all_data = [pages for month_data in data.values() for pages in month_data.values()]\n",
    "\n",
    "    mean = pd.Series(all_data).mean()\n",
    "    median = pd.Series(all_data).median()\n",
    "    mode = pd.Series(all_data).mode().values[0]\n",
    "    range_val = pd.Series(all_data).max() - pd.Series(all_data).min()\n",
    "    iqr = pd.Series(all_data).quantile(0.75) - pd.Series(all_data).quantile(0.25)\n",
    "    std_dev = pd.Series(all_data).std()\n",
    "    variance = pd.Series(all_data).var()\n",
    "\n",
    "    print(f\"Descriptive Statistics:\")\n",
    "    print(f\"Mean: {mean}\")\n",
    "    print(f\"Median: {median}\")\n",
    "    print(f\"Mode: {mode}\")\n",
    "    print(f\"Range: {range_val}\")\n",
    "    print(f\"IQR: {iqr}\")\n",
    "    print(f\"Standard Deviation: {std_dev}\")\n",
    "    print(f\"Variance: {variance}\")\n",
    "\n",
    "    # Plotting histogram\n",
    "    plt.hist(all_data, bins=20, edgecolor='black')\n",
    "    plt.xlabel('Number of Pages')\n",
    "    plt.ylabel('Frequency')\n",
    "    plt.title('Histogram of Number of Pages')\n",
    "    plt.show()\n",
    "\n",
    "    # Box plot\n",
    "    sns.boxplot(x=all_data)\n",
    "    plt.xlabel('Number of Pages')\n",
    "    plt.title('Box Plot of Number of Pages')\n",
    "    plt.show()\n",
    "\n",
    "    # Cumulative Distribution Function (CDF)\n",
    "    sns.ecdfplot(all_data)\n",
    "    plt.xlabel('Number of Pages')\n",
    "    plt.ylabel('Cumulative Probability')\n",
    "    plt.title('Cumulative Distribution Function (CDF) of Number of Pages')\n",
    "    plt.show()\n",
    "\n",
    "    # Shapiro-Wilk test for normality\n",
    "    _, p_value = shapiro(all_data)\n",
    "    print(f\"Shapiro-Wilk Test for Normality: p-value = {p_value}\")\n",
    "    if p_value < 0.05:\n",
    "        print(\"The data is not normally distributed.\")\n",
    "\n",
    "# Load data from JSON file\n",
    "input_file_path = 'pdf_statistics.json'\n",
    "with open(input_file_path, 'r') as json_file:\n",
    "    data = json.load(json_file)\n",
    "\n",
    "# Create detailed statistical analysis\n",
    "df, summary = detailed_statistics(data)\n",
    "print(\"Detailed Statistical Analysis:\")\n",
    "print(df)\n",
    "print(\"\\nSummary:\")\n",
    "print(summary)\n",
    "\n",
    "# Create descriptive statistics and visualizations\n",
    "create_descriptive_statistics(data)\n"
   ]
  },
  {
   "cell_type": "code",
   "execution_count": null,
   "metadata": {},
   "outputs": [],
   "source": []
  },
  {
   "cell_type": "code",
   "execution_count": null,
   "metadata": {},
   "outputs": [],
   "source": []
  },
  {
   "cell_type": "code",
   "execution_count": 1,
   "metadata": {},
   "outputs": [
    {
     "name": "stderr",
     "output_type": "stream",
     "text": [
      "  0%|          | 0/3837 [00:00<?, ?it/s]"
     ]
    },
    {
     "name": "stderr",
     "output_type": "stream",
     "text": [
      "100%|██████████| 3837/3837 [00:11<00:00, 326.06it/s]\n"
     ]
    },
    {
     "name": "stdout",
     "output_type": "stream",
     "text": [
      "{'astro-ph0601067.pdf': 3, 'astro-ph0601068.pdf': 3, 'astro-ph0601069.pdf': 3, 'astro-ph0601070.pdf': 3, 'astro-ph0601071.pdf': 3, 'astro-ph0601253.pdf': 3, 'astro-ph0601259.pdf': 3, 'astro-ph0601285.pdf': 3, 'astro-ph0601462.pdf': 3, 'astro-ph0601559.pdf': 3, 'astro-ph0601571.pdf': 3, 'astro-ph0601638.pdf': 3, 'astro-ph0601712.pdf': 3, 'cond-mat0601039.pdf': 3, 'cond-mat0601370.pdf': 3, 'cond-mat0601387.pdf': 3, 'cond-mat0601407.pdf': 3, 'cond-mat0601580.pdf': 3, 'cond-mat0601581.pdf': 3, 'cond-mat0601651.pdf': 3, 'cs0601028.pdf': 3, 'cs0601086.pdf': 3, 'cs0601120.pdf': 3, 'gr-qc0601020.pdf': 3, 'gr-qc0601021.pdf': 3, 'gr-qc0601106.pdf': 3, 'gr-qc0601107.pdf': 3, 'hep-ex0601006.pdf': 3, 'hep-ex0601033.pdf': 3, 'hep-ex0601041.pdf': 3, 'hep-lat0601003.pdf': 3, 'hep-lat0601005.pdf': 3, 'hep-lat0601006.pdf': 3, 'hep-lat0601008.pdf': 3, 'hep-lat0601010.pdf': 3, 'hep-lat0601032.pdf': 3, 'hep-ph0601005.pdf': 3, 'hep-ph0601008.pdf': 3, 'hep-ph0601011.pdf': 3, 'hep-ph0601055.pdf': 3, 'hep-ph0601061.pdf': 3, 'hep-ph0601070.pdf': 3, 'hep-ph0601081.pdf': 3, 'hep-ph0601088.pdf': 3, 'hep-ph0601107.pdf': 3, 'hep-ph0601166.pdf': 3, 'hep-ph0601208.pdf': 3, 'hep-ph0601236.pdf': 3, 'hep-th0601103.pdf': 3, 'hep-th0601147.pdf': 3, 'math0601406.pdf': 3, 'math0601493.pdf': 3, 'math0601652.pdf': 3, 'nlin0601041.pdf': 3, 'nlin0601070.pdf': 3, 'nlin0601072.pdf': 3, 'nucl-ex0601004.pdf': 3, 'nucl-ex0601005.pdf': 3, 'nucl-ex0601008.pdf': 3, 'nucl-ex0601010.pdf': 3, 'nucl-ex0601011.pdf': 3, 'nucl-ex0601022.pdf': 3, 'nucl-ex0601023.pdf': 3, 'nucl-ex0601026.pdf': 3, 'nucl-th0601020.pdf': 3, 'nucl-th0601021.pdf': 3, 'physics0601010.pdf': 3, 'physics0601024.pdf': 3, 'physics0601079.pdf': 3, 'physics0601103.pdf': 3, 'physics0601147.pdf': 3, 'physics0601175.pdf': 3, 'physics0601211.pdf': 3, 'q-bio0601010.pdf': 3, 'quant-ph0601073.pdf': 3, 'quant-ph0601136.pdf': 3, 'quant-ph0601157.pdf': 3, 'quant-ph0601179.pdf': 3, 'quant-ph0601200.pdf': 3}\n"
     ]
    },
    {
     "name": "stderr",
     "output_type": "stream",
     "text": [
      "100%|██████████| 3509/3509 [00:10<00:00, 332.30it/s]\n"
     ]
    },
    {
     "name": "stdout",
     "output_type": "stream",
     "text": [
      "{'astro-ph0602007.pdf': 3, 'astro-ph0602013.pdf': 3, 'astro-ph0602083.pdf': 3, 'astro-ph0602148.pdf': 3, 'astro-ph0602182.pdf': 3, 'astro-ph0602203.pdf': 3, 'astro-ph0602233.pdf': 3, 'astro-ph0602299.pdf': 3, 'astro-ph0602336.pdf': 3, 'astro-ph0602416.pdf': 3, 'astro-ph0602513.pdf': 3, 'astro-ph0602620.pdf': 3, 'cond-mat0602057.pdf': 3, 'cond-mat0602069.pdf': 3, 'cond-mat0602071.pdf': 3, 'cond-mat0602120.pdf': 3, 'cond-mat0602121.pdf': 3, 'cond-mat0602125.pdf': 3, 'cond-mat0602170.pdf': 3, 'cond-mat0602221.pdf': 3, 'cond-mat0602287.pdf': 3, 'cond-mat0602329.pdf': 3, 'cond-mat0602341.pdf': 3, 'cond-mat0602454.pdf': 3, 'cond-mat0602578.pdf': 3, 'cond-mat0602586.pdf': 3, 'cond-mat0602655.pdf': 3, 'cond-mat0602673.pdf': 3, 'cond-mat0602677.pdf': 3, 'gr-qc0602048.pdf': 3, 'hep-ex0602011.pdf': 3, 'hep-ex0602018.pdf': 3, 'hep-ex0602019.pdf': 3, 'hep-lat0602021.pdf': 3, 'hep-ph0602003.pdf': 3, 'hep-ph0602069.pdf': 3, 'hep-ph0602083.pdf': 3, 'hep-ph0602101.pdf': 3, 'hep-ph0602127.pdf': 3, 'hep-ph0602135.pdf': 3, 'hep-ph0602212.pdf': 3, 'hep-th0602181.pdf': 3, 'hep-th0602232.pdf': 3, 'hep-th0602237.pdf': 3, 'math0602174.pdf': 3, 'math0602320.pdf': 3, 'math0602339.pdf': 3, 'math0602464.pdf': 3, 'math0602631.pdf': 3, 'nlin0602004.pdf': 3, 'nucl-ex0602015.pdf': 3, 'physics0602066.pdf': 3, 'physics0602067.pdf': 3, 'physics0602068.pdf': 3, 'physics0602073.pdf': 3, 'physics0602095.pdf': 3, 'physics0602099.pdf': 3, 'physics0602104.pdf': 3, 'physics0602117.pdf': 3, 'physics0602130.pdf': 3, 'physics0602153.pdf': 3, 'physics0602161.pdf': 3, 'q-bio0602012.pdf': 3, 'quant-ph0602137.pdf': 3, 'quant-ph0602206.pdf': 3}\n"
     ]
    },
    {
     "name": "stderr",
     "output_type": "stream",
     "text": [
      "100%|██████████| 4185/4185 [00:43<00:00, 97.23it/s] \n"
     ]
    },
    {
     "name": "stdout",
     "output_type": "stream",
     "text": [
      "{'astro-ph0603293.pdf': 3, 'astro-ph0603319.pdf': 3, 'astro-ph0603418.pdf': 3, 'astro-ph0603570.pdf': 3, 'astro-ph0603633.pdf': 3, 'astro-ph0603645.pdf': 3, 'astro-ph0603653.pdf': 3, 'astro-ph0603733.pdf': 3, 'astro-ph0603788.pdf': 3, 'cond-mat0603033.pdf': 3, 'cond-mat0603069.pdf': 3, 'cond-mat0603169.pdf': 3, 'cond-mat0603238.pdf': 3, 'cond-mat0603262.pdf': 3, 'cond-mat0603284.pdf': 3, 'cond-mat0603313.pdf': 3, 'cond-mat0603336.pdf': 3, 'cond-mat0603343.pdf': 3, 'cond-mat0603398.pdf': 3, 'cond-mat0603402.pdf': 3, 'cond-mat0603467.pdf': 3, 'cond-mat0603468.pdf': 3, 'cond-mat0603489.pdf': 3, 'cond-mat0603508.pdf': 3, 'cond-mat0603549.pdf': 3, 'cond-mat0603569.pdf': 3, 'cond-mat0603815.pdf': 3, 'cond-mat0603831.pdf': 3, 'cond-mat0603845.pdf': 3, 'cond-mat0603862.pdf': 3, 'gr-qc0603024.pdf': 3, 'gr-qc0603125.pdf': 3, 'hep-ex0603030.pdf': 3, 'hep-ex0603031.pdf': 3, 'hep-ex0603051.pdf': 3, 'hep-lat0603002.pdf': 3, 'hep-lat0603006.pdf': 3, 'hep-ph0603002.pdf': 3, 'hep-ph0603056.pdf': 3, 'hep-ph0603067.pdf': 3, 'hep-th0603059.pdf': 3, 'hep-th0603124.pdf': 3, 'math-ph0603084.pdf': 3, 'math0603377.pdf': 3, 'math0603546.pdf': 3, 'math0603724.pdf': 3, 'nlin0603011.pdf': 3, 'nucl-ex0603008.pdf': 3, 'nucl-th0603032.pdf': 3, 'physics0603109.pdf': 3, 'physics0603158.pdf': 3, 'physics0603177.pdf': 3, 'physics0603182.pdf': 3, 'physics0603193.pdf': 3, 'physics0603264.pdf': 3, 'quant-ph0603001.pdf': 3, 'quant-ph0603003.pdf': 3, 'quant-ph0603125.pdf': 3, 'quant-ph0603151.pdf': 3, 'quant-ph0603276.pdf': 3}\n"
     ]
    },
    {
     "name": "stderr",
     "output_type": "stream",
     "text": [
      " 33%|███▎      | 1146/3446 [00:26<00:46, 49.97it/s]Multiple definitions in dictionary at byte 0xcf77 for key /Type\n",
      "100%|██████████| 3446/3446 [01:23<00:00, 41.26it/s]\n"
     ]
    },
    {
     "name": "stdout",
     "output_type": "stream",
     "text": [
      "{'astro-ph0604269.pdf': 3, 'astro-ph0604475.pdf': 3, 'cond-mat0604021.pdf': 3, 'cond-mat0604091.pdf': 3, 'cond-mat0604112.pdf': 3, 'cond-mat0604125.pdf': 3, 'cond-mat0604132.pdf': 3, 'cond-mat0604174.pdf': 3, 'cond-mat0604200.pdf': 3, 'cond-mat0604206.pdf': 3, 'cond-mat0604237.pdf': 3, 'cond-mat0604239.pdf': 3, 'cond-mat0604268.pdf': 3, 'cond-mat0604283.pdf': 3, 'cond-mat0604492.pdf': 3, 'cond-mat0604507.pdf': 3, 'cond-mat0604536.pdf': 3, 'cond-mat0604610.pdf': 3, 'cond-mat0604616.pdf': 3, 'gr-qc0604046.pdf': 3, 'hep-ex0604001.pdf': 3, 'math0604017.pdf': 3, 'math0604049.pdf': 3, 'math0604496.pdf': 3, 'nlin0604021.pdf': 3, 'nucl-ex0604008.pdf': 3, 'nucl-ex0604016.pdf': 3, 'nucl-th0604034.pdf': 3, 'physics0604002.pdf': 3, 'physics0604077.pdf': 3, 'physics0604087.pdf': 3, 'physics0604141.pdf': 3, 'physics0604173.pdf': 3, 'physics0604188.pdf': 3, 'quant-ph0604032.pdf': 3, 'quant-ph0604042.pdf': 3, 'quant-ph0604083.pdf': 3, 'quant-ph0604129.pdf': 3, 'quant-ph0604139.pdf': 3, 'quant-ph0604159.pdf': 3}\n"
     ]
    },
    {
     "name": "stderr",
     "output_type": "stream",
     "text": [
      " 34%|███▎      | 1401/4174 [00:32<00:55, 49.59it/s]incorrect startxref pointer(1)\n",
      "100%|██████████| 4174/4174 [01:41<00:00, 41.19it/s]\n"
     ]
    },
    {
     "name": "stdout",
     "output_type": "stream",
     "text": [
      "{'astro-ph0605089.pdf': 3, 'astro-ph0605109.pdf': 3, 'astro-ph0605175.pdf': 3, 'astro-ph0605176.pdf': 3, 'astro-ph0605342.pdf': 3, 'astro-ph0605394.pdf': 3, 'astro-ph0605466.pdf': 3, 'cond-mat0605029.pdf': 3, 'cond-mat0605071.pdf': 3, 'cond-mat0605130.pdf': 3, 'cond-mat0605289.pdf': 3, 'cond-mat0605349.pdf': 3, 'cond-mat0605366.pdf': 3, 'cond-mat0605368.pdf': 3, 'cond-mat0605453.pdf': 3, 'cond-mat0605475.pdf': 3, 'cond-mat0605593.pdf': 3, 'cond-mat0605603.pdf': 3, 'gr-qc0605008.pdf': 3, 'gr-qc0605033.pdf': 3, 'gr-qc0605129.pdf': 3, 'hep-ex0605020.pdf': 3, 'hep-lat0605015.pdf': 3, 'hep-ph0605046.pdf': 3, 'hep-ph0605188.pdf': 3, 'hep-ph0605283.pdf': 3, 'hep-th0605287.pdf': 3, 'math-ph0605018.pdf': 3, 'math0605007.pdf': 3, 'math0605039.pdf': 3, 'math0605068.pdf': 3, 'math0605259.pdf': 3, 'math0605398.pdf': 3, 'math0605578.pdf': 3, 'math0605756.pdf': 3, 'nucl-ex0605019.pdf': 3, 'physics0605043.pdf': 3, 'physics0605062.pdf': 3, 'physics0605079.pdf': 3, 'physics0605091.pdf': 3, 'physics0605152.pdf': 3, 'physics0605188.pdf': 3, 'physics0605236.pdf': 3, 'physics0605255.pdf': 3, 'physics0605257.pdf': 3, 'quant-ph0605087.pdf': 3, 'quant-ph0605155.pdf': 3, 'quant-ph0605213.pdf': 3}\n"
     ]
    },
    {
     "name": "stderr",
     "output_type": "stream",
     "text": [
      " 41%|████      | 1671/4123 [00:39<01:06, 37.02it/s]"
     ]
    }
   ],
   "source": [
    "import os\n",
    "from tqdm import tqdm\n",
    "import PyPDF2\n",
    "import os\n",
    "from tqdm import tqdm\n",
    "\n",
    "def count_pdf_pages(pdf_file_path):\n",
    "    try:\n",
    "        with open(pdf_file_path, 'rb') as file:\n",
    "            pdf_reader = PyPDF2.PdfReader(file)\n",
    "            num_pages = len(pdf_reader.pages)\n",
    "            return num_pages\n",
    "    except FileNotFoundError:\n",
    "        print(f\"File not found: {pdf_file_path}\")\n",
    "        return None\n",
    "    except:\n",
    "        print(f\"Error reading PDF file: {pdf_file_path}\")\n",
    "        return None\n",
    "\n",
    "year_path = '/mnt/HDFS/patidarritesh/pdf_extr/2006'\n",
    "for month in (sorted(os.listdir(year_path))):\n",
    "    if(month != 'json_files'):\n",
    "        month_path = os.path.join(year_path, month)\n",
    "        month_pages = {}\n",
    "\n",
    "        for path in tqdm(sorted(os.listdir(month_path))):\n",
    "            pdf_file_path = os.path.join(month_path, path)\n",
    "            num_pages = count_pdf_pages(pdf_file_path)\n",
    "\n",
    "            if num_pages==3:\n",
    "                # Store the number of pages in the dictionary\n",
    "                month_pages[path] = num_pages\n",
    "\n",
    "        print(month_pages)"
   ]
  },
  {
   "cell_type": "code",
   "execution_count": 1,
   "metadata": {},
   "outputs": [
    {
     "name": "stdout",
     "output_type": "stream",
     "text": [
      "2000:  271 7672\n",
      "2001:  595 7025\n",
      "2002:  583 1408\n",
      "2003:  462 23529\n",
      "2004:  1653 30732\n",
      "2005:  876 13800\n",
      "2006:  4593 18915\n",
      "2007:  701 31748\n",
      "2008:  814 39565\n",
      "2009:  1852 510\n",
      "2010:  1106 51378\n",
      "2011:  1235 63423\n",
      "2012:  926 38125\n",
      "2013:  1673 75572\n",
      "2014:  2349 33818\n",
      "2015:  1851 94527\n",
      "2016:  3762 81834\n",
      "2017:  907 108665\n",
      "2018:  2457 78210\n",
      "2019:  1377 21668\n",
      "2020:  1885 167724\n",
      "2021:  1226 14201\n",
      "2022:  3134 55111\n",
      "2023:  1664 110036\n",
      "Mean number of pages: 18.833867321794884\n",
      "Median number of pages: 14\n",
      "Mode number of pages: 10\n",
      "Mean number of pages per year: [16.500965410713302, 16.17007318520472, 16.081686612858334, 16.141152168923572, 16.638926544585622, 16.740104009971205, 17.180734955442073, 16.871385950637375, 17.395671040043734, 17.75993518139769, 17.874273852939904, 18.17269584949471, 18.30739095122068, 18.526563946207872, 19.00410030778129, 19.178375999693873, 19.345465356727637, 19.183525047589608, 19.093923441216596, 19.10212091332676, 19.904200686975617, 20.24792958945611, 20.239104466317492, 19.703582134292567]\n",
      "Median number of pages per year: [12, 12.0, 12.0, 12, 12, 12.0, 12, 12, 13.0, 13.0, 13, 14.0, 14.0, 14, 15.0, 15.0, 15, 15.0, 15, 15, 15.0, 16.0, 16, 15.0]\n",
      "Mode number of pages per year: [4, 4, 4, 4, 4, 4, 4, 4, 4, 4, 5, 5, 5, 5, 5, 6, 6, 8, 10, 10, 10, 10, 10, 10]\n",
      "Total number of PDF files: 2170771\n",
      "+-----------+---------+\n",
      "| Statistic |  Value  |\n",
      "+-----------+---------+\n",
      "|   Mean    |  18.83  |\n",
      "|  Median   |   14    |\n",
      "|   Mode    |   10    |\n",
      "|  Tot_PDF  | 2170771 |\n",
      "|    Min    |    0    |\n",
      "|    Max    |  4593   |\n",
      "+-----------+---------+\n",
      "\n",
      " \n",
      " \n",
      " \n",
      " \n",
      "\n",
      "+------+-------+--------+------+-----+-----+\n",
      "| Year | Mean  | Median | Mode | Min | Max |\n",
      "+------+-------+--------+------+-----+-----+\n",
      "| 2000 | 16.50 |   12   |  4   | N/A | N/A |\n",
      "| 2001 | 16.17 |  12.0  |  4   | N/A | N/A |\n",
      "| 2002 | 16.08 |  12.0  |  4   | N/A | N/A |\n",
      "| 2003 | 16.14 |   12   |  4   | N/A | N/A |\n",
      "| 2004 | 16.64 |   12   |  4   | N/A | N/A |\n",
      "| 2005 | 16.74 |  12.0  |  4   | N/A | N/A |\n",
      "| 2006 | 17.18 |   12   |  4   | N/A | N/A |\n",
      "| 2007 | 16.87 |   12   |  4   | N/A | N/A |\n",
      "| 2008 | 17.40 |  13.0  |  4   | N/A | N/A |\n",
      "| 2009 | 17.76 |  13.0  |  4   | N/A | N/A |\n",
      "| 2010 | 17.87 |   13   |  5   | N/A | N/A |\n",
      "| 2011 | 18.17 |  14.0  |  5   | N/A | N/A |\n",
      "| 2012 | 18.31 |  14.0  |  5   | N/A | N/A |\n",
      "| 2013 | 18.53 |   14   |  5   | N/A | N/A |\n",
      "| 2014 | 19.00 |  15.0  |  5   | N/A | N/A |\n",
      "| 2015 | 19.18 |  15.0  |  6   | N/A | N/A |\n",
      "| 2016 | 19.35 |   15   |  6   | N/A | N/A |\n",
      "| 2017 | 19.18 |  15.0  |  8   | N/A | N/A |\n",
      "| 2018 | 19.09 |   15   |  10  | N/A | N/A |\n",
      "| 2019 | 19.10 |   15   |  10  | N/A | N/A |\n",
      "| 2020 | 19.90 |  15.0  |  10  | N/A | N/A |\n",
      "| 2021 | 20.25 |  16.0  |  10  | N/A | N/A |\n",
      "| 2022 | 20.24 |   16   |  10  | N/A | N/A |\n",
      "| 2023 | 19.70 |  15.0  |  10  | N/A | N/A |\n",
      "+------+-------+--------+------+-----+-----+\n"
     ]
    }
   ],
   "source": [
    "import statistics\n",
    "from tabulate import tabulate\n",
    "import json\n",
    "\n",
    "# Calculate the mean, median, and mode\n",
    "all_pages = []\n",
    "year_stats = {\n",
    "    'mean': [],\n",
    "    'median': [],\n",
    "    'mode': []  # Added 'mode' to the dictionary\n",
    "}\n",
    "\n",
    "output_file_path = '/mnt/HDFS/patidarritesh/husain/final_statistics.json'\n",
    "\n",
    "# Read the JSON file into a Python dictionary\n",
    "with open(output_file_path, 'r') as json_file:\n",
    "    data = json.load(json_file)\n",
    "\n",
    "for year in data:\n",
    "    year_pages = []  # Use a different name for the list\n",
    "    for month in data[year]:\n",
    "        all_pages.extend(data[year][month]['lst_num_pages'])\n",
    "        year_pages.extend(data[year][month]['lst_num_pages'])\n",
    "    \n",
    "    mean_year_pages = statistics.mean(year_pages)\n",
    "    median_year_pages = statistics.median(year_pages)\n",
    "    mode_year_pages = statistics.mode(year_pages)\n",
    "\n",
    "    print(f\"{year}: \", max(year_pages),     year_pages.index(max(year_pages))\n",
    ")\n",
    "    \n",
    "    year_stats['mean'].append(mean_year_pages)\n",
    "    year_stats['median'].append(median_year_pages)\n",
    "    year_stats['mode'].append(mode_year_pages)\n",
    "\n",
    "mean_pages = statistics.mean(all_pages)\n",
    "median_pages = statistics.median(all_pages)\n",
    "mode_pages = statistics.mode(all_pages)\n",
    "\n",
    "print(f\"Mean number of pages: {mean_pages}\")\n",
    "print(f\"Median number of pages: {median_pages}\")\n",
    "print(f\"Mode number of pages: {mode_pages}\")\n",
    "print(f\"Mean number of pages per year: {year_stats['mean']}\")\n",
    "print(f\"Median number of pages per year: {year_stats['median']}\")\n",
    "print(f\"Mode number of pages per year: {year_stats['mode']}\")\n",
    "print(f\"Total number of PDF files: {len(all_pages)}\")\n",
    "\n",
    "\n",
    "\n",
    "\n",
    "# Prepare data for the table\n",
    "table_data = [\n",
    "    [\"Mean\", f\"{mean_pages:.2f}\"],\n",
    "    [\"Median\", median_pages],\n",
    "    [\"Mode\", mode_pages],\n",
    "    [\"Tot_PDF\", len(all_pages)],\n",
    "    [\"Min\", min(all_pages)],\n",
    "    [\"Max\", max(all_pages)]\n",
    "]\n",
    "\n",
    "table_data2 = []\n",
    "min_yearwise = float('inf')\n",
    "max_yearwise = float('-inf')\n",
    "\n",
    "for i, (mean, median, mode, year) in enumerate(zip(year_stats['mean'], year_stats['median'], year_stats['mode'], data.keys())):\n",
    "    if 'total_pdf' in data[year]:\n",
    "        year_data = data[year]['total_pdf']\n",
    "        year_min = min(year_data, default=0)\n",
    "        year_max = max(year_data, default=0)\n",
    "\n",
    "        # Update global min and max\n",
    "        min_yearwise = min(min_yearwise, year_min)\n",
    "        max_yearwise = max(max_yearwise, year_max)\n",
    "\n",
    "        table_data2.append([f\"{year}\", f\"{mean:.2f}\", median, mode, year_min, year_max])\n",
    "    else:\n",
    "        # Handle the case where 'total_pdf' is not present in data[year]\n",
    "        table_data2.append([f\"{year}\", f\"{mean:.2f}\", median, mode, \"N/A\", \"N/A\"])\n",
    "\n",
    "# Print the table\n",
    "table = tabulate(table_data, headers=[\"Statistic\", \"Value\"], tablefmt=\"pretty\")\n",
    "\n",
    "print(table)\n",
    "\n",
    "print('\\n \\n \\n \\n \\n')\n",
    "\n",
    "\n",
    "table2 = tabulate(table_data2, headers=[\"Year\", \"Mean\", \"Median\",\"Mode\", \"Min\", \"Max\"], tablefmt=\"pretty\")\n",
    "\n",
    "print(table2)\n",
    "\n"
   ]
  },
  {
   "cell_type": "code",
   "execution_count": 3,
   "metadata": {},
   "outputs": [
    {
     "name": "stdout",
     "output_type": "stream",
     "text": [
      "1694\n"
     ]
    }
   ],
   "source": [
    "count = 0\n",
    "for i in all_pages:\n",
    "    if i == 1:\n",
    "        count+=1\n",
    "print(count)"
   ]
  },
  {
   "cell_type": "markdown",
   "metadata": {},
   "source": [
    "### Sample data creation"
   ]
  },
  {
   "cell_type": "code",
   "execution_count": 37,
   "metadata": {},
   "outputs": [
    {
     "name": "stderr",
     "output_type": "stream",
     "text": [
      "100%|██████████| 13/13 [00:00<00:00, 52.42it/s]\n",
      "100%|██████████| 13/13 [00:00<00:00, 146.12it/s]\n",
      "100%|██████████| 13/13 [00:00<00:00, 75.42it/s]\n",
      "100%|██████████| 13/13 [00:00<00:00, 18.18it/s]\n",
      "100%|██████████| 13/13 [00:00<00:00, 20.90it/s]\n",
      "100%|██████████| 13/13 [00:00<00:00, 22.70it/s]\n",
      "100%|██████████| 13/13 [00:00<00:00, 19.36it/s]\n",
      "100%|██████████| 13/13 [00:01<00:00,  7.76it/s]\n",
      "100%|██████████| 12/12 [00:00<00:00, 24.03it/s]\n",
      "100%|██████████| 13/13 [00:01<00:00,  8.15it/s]\n",
      "100%|██████████| 13/13 [00:00<00:00, 22.38it/s]\n",
      "100%|██████████| 13/13 [00:01<00:00, 11.35it/s]\n",
      "100%|██████████| 13/13 [00:00<00:00, 16.27it/s]\n",
      "100%|██████████| 12/12 [00:00<00:00, 21.13it/s]\n",
      "100%|██████████| 13/13 [00:01<00:00,  7.29it/s]\n",
      "100%|██████████| 13/13 [00:00<00:00, 21.48it/s]\n",
      "100%|██████████| 13/13 [00:01<00:00, 10.47it/s]\n",
      "100%|██████████| 13/13 [00:00<00:00, 18.42it/s]\n",
      "100%|██████████| 13/13 [00:01<00:00,  7.54it/s]\n",
      "100%|██████████| 13/13 [00:00<00:00, 21.52it/s]\n",
      "100%|██████████| 13/13 [00:01<00:00,  7.07it/s]\n",
      "100%|██████████| 13/13 [00:01<00:00,  8.94it/s]\n",
      "100%|██████████| 13/13 [00:01<00:00,  6.94it/s]\n",
      "100%|██████████| 13/13 [00:01<00:00, 11.19it/s]\n",
      "100%|██████████| 27/27 [00:23<00:00,  1.17it/s]\n"
     ]
    }
   ],
   "source": [
    "import os\n",
    "import shutil\n",
    "from tqdm import tqdm\n",
    "\n",
    "source_root = '/mnt/HDFS/patidarritesh/pdf_extr'\n",
    "destination_root = '/mnt/HDFS/patidarritesh/husain/data'  # Replace with your destination path\n",
    "\n",
    "for year in tqdm(os.listdir(source_root), position=0, leave=True):\n",
    "    if os.path.isdir(os.path.join(source_root,year)):\n",
    "        for month in tqdm(os.listdir(os.path.join(source_root, year)), position=1, leave=True):\n",
    "            source_month_path = os.path.join(source_root, year, month)\n",
    "            destination_month_path = os.path.join(destination_root, year, month)\n",
    "\n",
    "            os.makedirs(destination_month_path, exist_ok=True)  # Create destination directory if it doesn't exist\n",
    "\n",
    "            # List all PDF files in the source month directory\n",
    "            pdf_files = [file for file in os.listdir(source_month_path) if file.endswith('.pdf')]\n",
    "\n",
    "            # Copy only the first 5 PDFs to the destination\n",
    "            for pdf_file in pdf_files[:5]:\n",
    "                source_pdf_path = os.path.join(source_month_path, pdf_file)\n",
    "                destination_pdf_path = os.path.join(destination_month_path, pdf_file)\n",
    "                shutil.copy2(source_pdf_path, destination_pdf_path)\n"
   ]
  },
  {
   "cell_type": "code",
   "execution_count": null,
   "metadata": {},
   "outputs": [],
   "source": []
  }
 ],
 "metadata": {
  "kernelspec": {
   "display_name": "py-envs",
   "language": "python",
   "name": "python3"
  },
  "language_info": {
   "codemirror_mode": {
    "name": "ipython",
    "version": 3
   },
   "file_extension": ".py",
   "mimetype": "text/x-python",
   "name": "python",
   "nbconvert_exporter": "python",
   "pygments_lexer": "ipython3",
   "version": "3.10.10"
  }
 },
 "nbformat": 4,
 "nbformat_minor": 2
}
