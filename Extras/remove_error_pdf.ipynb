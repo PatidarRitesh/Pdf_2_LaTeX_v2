{
 "cells": [
  {
   "cell_type": "code",
   "execution_count": 1,
   "metadata": {},
   "outputs": [],
   "source": [
    "import os\n",
    "import json\n",
    "\n",
    "output_directory = '/home/patidarritesh/Nougat/'\n",
    "output_file_path = os.path.join(output_directory, 'error_files.json')\n",
    "\n",
    "lst_error = os.listdir('/home/patidarritesh/Nougat/pdffigures2/error_pdf')\n",
    "data = {'lst_error': lst_error}\n",
    "\n",
    "# Ensure the directory exists before writing the file\n",
    "os.makedirs(output_directory, exist_ok=True)\n",
    "\n",
    "with open(output_file_path, 'w') as json_file:\n",
    "    json.dump(data, json_file, indent=2)\n"
   ]
  },
  {
   "cell_type": "code",
   "execution_count": 2,
   "metadata": {},
   "outputs": [
    {
     "data": {
      "text/plain": [
       "76"
      ]
     },
     "execution_count": 2,
     "metadata": {},
     "output_type": "execute_result"
    }
   ],
   "source": [
    "len(lst_error)"
   ]
  },
  {
   "cell_type": "code",
   "execution_count": 1,
   "metadata": {},
   "outputs": [
    {
     "name": "stdout",
     "output_type": "stream",
     "text": [
      "The length of the JSON file is: 199\n"
     ]
    }
   ],
   "source": [
    "import json\n",
    "\n",
    "# Load the JSON file\n",
    "with open('/home/patidarritesh/Nougat/husain_error_files.json', 'r') as json_file:\n",
    "    data = json.load(json_file)\n",
    "\n",
    "# Count the length of the 'lst_error' list\n",
    "json_length = len(data['lst_error'])\n",
    "\n",
    "# Print the length\n",
    "print(f'The length of the JSON file is: {json_length}')\n"
   ]
  },
  {
   "cell_type": "code",
   "execution_count": null,
   "metadata": {},
   "outputs": [],
   "source": []
  }
 ],
 "metadata": {
  "kernelspec": {
   "display_name": "base",
   "language": "python",
   "name": "python3"
  },
  "language_info": {
   "codemirror_mode": {
    "name": "ipython",
    "version": 3
   },
   "file_extension": ".py",
   "mimetype": "text/x-python",
   "name": "python",
   "nbconvert_exporter": "python",
   "pygments_lexer": "ipython3",
   "version": "3.11.5"
  }
 },
 "nbformat": 4,
 "nbformat_minor": 2
}
