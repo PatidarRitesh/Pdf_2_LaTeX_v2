{
 "cells": [
  {
   "cell_type": "code",
   "execution_count": 1,
   "metadata": {},
   "outputs": [],
   "source": [
    "import os\n",
    "import subprocess\n",
    "import shutil\n"
   ]
  },
  {
   "cell_type": "code",
   "execution_count": 2,
   "metadata": {},
   "outputs": [],
   "source": [
    "latex_base_names =[]\n",
    "latex_base_names.append(os.listdir(\"/mnt/NFS/patidarritesh/test_path\"))"
   ]
  },
  {
   "cell_type": "code",
   "execution_count": 3,
   "metadata": {},
   "outputs": [
    {
     "name": "stdout",
     "output_type": "stream",
     "text": [
      "1109.5118\n"
     ]
    }
   ],
   "source": [
    "pdf_directory = \"/mnt/HDFS/patidarritesh/pdf_extr\"\n",
    "print(latex_base_names[0][0][:-4])\n",
    "\n"
   ]
  },
  {
   "cell_type": "code",
   "execution_count": 14,
   "metadata": {},
   "outputs": [
    {
     "name": "stderr",
     "output_type": "stream",
     "text": [
      "cp: cannot stat ‘/mnt/HDFS/patidarritesh/pdf_extr/2000/0009/hep-ph0009080.pdf’: No such file or directory\n",
      "cp: cannot stat ‘/mnt/HDFS/patidarritesh/pdf_extr/2000/0010/astro-ph0010024.pdf’: No such file or directory\n",
      "cp: cannot stat ‘/mnt/HDFS/patidarritesh/pdf_extr/2000/0005/astro-ph0005335.pdf’: No such file or directory\n",
      "cp: cannot stat ‘/mnt/HDFS/patidarritesh/pdf_extr/2001/0103/hep-ph0103057.pdf’: No such file or directory\n",
      "cp: cannot stat ‘/mnt/HDFS/patidarritesh/pdf_extr/2000/0009/math0009173.pdf’: No such file or directory\n",
      "cp: cannot stat ‘/mnt/HDFS/patidarritesh/pdf_extr/2000/0010/hep-ph0010125.pdf’: No such file or directory\n",
      "cp: cannot stat ‘/mnt/HDFS/patidarritesh/pdf_extr/2000/0003/astro-ph0003405.pdf’: No such file or directory\n",
      "cp: cannot stat ‘/mnt/HDFS/patidarritesh/pdf_extr/2000/0012/astro-ph0012229.pdf’: No such file or directory\n",
      "cp: cannot stat ‘/mnt/HDFS/patidarritesh/pdf_extr/2000/0012/quant-ph0012083.pdf’: No such file or directory\n",
      "cp: cannot stat ‘/mnt/HDFS/patidarritesh/pdf_extr/2000/0010/hep-ph0010149.pdf’: No such file or directory\n",
      "cp: cannot stat ‘/mnt/HDFS/patidarritesh/pdf_extr/2020/2011/2011.10361.pdf’: No such file or directory\n",
      "cp: cannot stat ‘/mnt/HDFS/patidarritesh/pdf_extr/2018/1812/1812.10398.pdf’: No such file or directory\n",
      "cp: cannot stat ‘/mnt/HDFS/patidarritesh/pdf_extr/2000/0005/hep-ph0005257.pdf’: No such file or directory\n",
      "cp: cannot stat ‘/mnt/HDFS/patidarritesh/pdf_extr/2000/0003/cond-mat0003023.pdf’: No such file or directory\n",
      "cp: cannot stat ‘/mnt/HDFS/patidarritesh/pdf_extr/2000/0012/math-ph0012007.pdf’: No such file or directory\n",
      "cp: cannot stat ‘/mnt/HDFS/patidarritesh/pdf_extr/2007/0709/0709.4571.pdf’: No such file or directory\n",
      "cp: cannot stat ‘/mnt/HDFS/patidarritesh/pdf_extr/2000/0010/gr-qc0010027.pdf’: No such file or directory\n",
      "cp: cannot stat ‘/mnt/HDFS/patidarritesh/pdf_extr/2000/0003/astro-ph0003193.pdf’: No such file or directory\n",
      "cp: cannot stat ‘/mnt/HDFS/patidarritesh/pdf_extr/2000/0005/cond-mat0005427.pdf’: No such file or directory\n",
      "cp: cannot stat ‘/mnt/HDFS/patidarritesh/pdf_extr/2000/0005/astro-ph0005195.pdf’: No such file or directory\n",
      "cp: cannot stat ‘/mnt/HDFS/patidarritesh/pdf_extr/2000/0009/cond-mat0009270.pdf’: No such file or directory\n"
     ]
    },
    {
     "ename": "KeyboardInterrupt",
     "evalue": "",
     "output_type": "error",
     "traceback": [
      "\u001b[0;31m---------------------------------------------------------------------------\u001b[0m",
      "\u001b[0;31mKeyboardInterrupt\u001b[0m                         Traceback (most recent call last)",
      "\u001b[1;32m/mnt/HDFS/patidarritesh/pdf_latex_map.ipynb Cell 4\u001b[0m line \u001b[0;36m3\n\u001b[1;32m     <a href='vscode-notebook-cell://ssh-remote%2B10.0.62.212/mnt/HDFS/patidarritesh/pdf_latex_map.ipynb#W3sdnNjb2RlLXJlbW90ZQ%3D%3D?line=28'>29</a>\u001b[0m     \u001b[39m# print(pdf_path)\u001b[39;00m\n\u001b[1;32m     <a href='vscode-notebook-cell://ssh-remote%2B10.0.62.212/mnt/HDFS/patidarritesh/pdf_latex_map.ipynb#W3sdnNjb2RlLXJlbW90ZQ%3D%3D?line=29'>30</a>\u001b[0m     \u001b[39m# copy file.pdf to destination folder\u001b[39;00m\n\u001b[1;32m     <a href='vscode-notebook-cell://ssh-remote%2B10.0.62.212/mnt/HDFS/patidarritesh/pdf_latex_map.ipynb#W3sdnNjb2RlLXJlbW90ZQ%3D%3D?line=30'>31</a>\u001b[0m     pdf_file \u001b[39m=\u001b[39m file[:\u001b[39m-\u001b[39m\u001b[39m4\u001b[39m] \u001b[39m+\u001b[39m \u001b[39m'\u001b[39m\u001b[39m.pdf\u001b[39m\u001b[39m'\u001b[39m\n\u001b[0;32m---> <a href='vscode-notebook-cell://ssh-remote%2B10.0.62.212/mnt/HDFS/patidarritesh/pdf_latex_map.ipynb#W3sdnNjb2RlLXJlbW90ZQ%3D%3D?line=31'>32</a>\u001b[0m     subprocess\u001b[39m.\u001b[39;49mrun([\u001b[39m'\u001b[39;49m\u001b[39mcp\u001b[39;49m\u001b[39m'\u001b[39;49m, os\u001b[39m.\u001b[39;49mpath\u001b[39m.\u001b[39;49mjoin(pdf_path, pdf_file), destination_directory])\n\u001b[1;32m     <a href='vscode-notebook-cell://ssh-remote%2B10.0.62.212/mnt/HDFS/patidarritesh/pdf_latex_map.ipynb#W3sdnNjb2RlLXJlbW90ZQ%3D%3D?line=32'>33</a>\u001b[0m     \u001b[39m# for pdf_file in os.listdir(pdf_directory):\u001b[39;00m\n\u001b[1;32m     <a href='vscode-notebook-cell://ssh-remote%2B10.0.62.212/mnt/HDFS/patidarritesh/pdf_latex_map.ipynb#W3sdnNjb2RlLXJlbW90ZQ%3D%3D?line=33'>34</a>\u001b[0m \u001b[39mexcept\u001b[39;00m \u001b[39mException\u001b[39;00m \u001b[39mas\u001b[39;00m e:\n",
      "File \u001b[0;32m~/miniconda3/lib/python3.10/subprocess.py:505\u001b[0m, in \u001b[0;36mrun\u001b[0;34m(input, capture_output, timeout, check, *popenargs, **kwargs)\u001b[0m\n\u001b[1;32m    503\u001b[0m \u001b[39mwith\u001b[39;00m Popen(\u001b[39m*\u001b[39mpopenargs, \u001b[39m*\u001b[39m\u001b[39m*\u001b[39mkwargs) \u001b[39mas\u001b[39;00m process:\n\u001b[1;32m    504\u001b[0m     \u001b[39mtry\u001b[39;00m:\n\u001b[0;32m--> 505\u001b[0m         stdout, stderr \u001b[39m=\u001b[39m process\u001b[39m.\u001b[39;49mcommunicate(\u001b[39minput\u001b[39;49m, timeout\u001b[39m=\u001b[39;49mtimeout)\n\u001b[1;32m    506\u001b[0m     \u001b[39mexcept\u001b[39;00m TimeoutExpired \u001b[39mas\u001b[39;00m exc:\n\u001b[1;32m    507\u001b[0m         process\u001b[39m.\u001b[39mkill()\n",
      "File \u001b[0;32m~/miniconda3/lib/python3.10/subprocess.py:1146\u001b[0m, in \u001b[0;36mPopen.communicate\u001b[0;34m(self, input, timeout)\u001b[0m\n\u001b[1;32m   1144\u001b[0m         stderr \u001b[39m=\u001b[39m \u001b[39mself\u001b[39m\u001b[39m.\u001b[39mstderr\u001b[39m.\u001b[39mread()\n\u001b[1;32m   1145\u001b[0m         \u001b[39mself\u001b[39m\u001b[39m.\u001b[39mstderr\u001b[39m.\u001b[39mclose()\n\u001b[0;32m-> 1146\u001b[0m     \u001b[39mself\u001b[39;49m\u001b[39m.\u001b[39;49mwait()\n\u001b[1;32m   1147\u001b[0m \u001b[39melse\u001b[39;00m:\n\u001b[1;32m   1148\u001b[0m     \u001b[39mif\u001b[39;00m timeout \u001b[39mis\u001b[39;00m \u001b[39mnot\u001b[39;00m \u001b[39mNone\u001b[39;00m:\n",
      "File \u001b[0;32m~/miniconda3/lib/python3.10/subprocess.py:1209\u001b[0m, in \u001b[0;36mPopen.wait\u001b[0;34m(self, timeout)\u001b[0m\n\u001b[1;32m   1207\u001b[0m     endtime \u001b[39m=\u001b[39m _time() \u001b[39m+\u001b[39m timeout\n\u001b[1;32m   1208\u001b[0m \u001b[39mtry\u001b[39;00m:\n\u001b[0;32m-> 1209\u001b[0m     \u001b[39mreturn\u001b[39;00m \u001b[39mself\u001b[39;49m\u001b[39m.\u001b[39;49m_wait(timeout\u001b[39m=\u001b[39;49mtimeout)\n\u001b[1;32m   1210\u001b[0m \u001b[39mexcept\u001b[39;00m \u001b[39mKeyboardInterrupt\u001b[39;00m:\n\u001b[1;32m   1211\u001b[0m     \u001b[39m# https://bugs.python.org/issue25942\u001b[39;00m\n\u001b[1;32m   1212\u001b[0m     \u001b[39m# The first keyboard interrupt waits briefly for the child to\u001b[39;00m\n\u001b[1;32m   1213\u001b[0m     \u001b[39m# exit under the common assumption that it also received the ^C\u001b[39;00m\n\u001b[1;32m   1214\u001b[0m     \u001b[39m# generated SIGINT and will exit rapidly.\u001b[39;00m\n\u001b[1;32m   1215\u001b[0m     \u001b[39mif\u001b[39;00m timeout \u001b[39mis\u001b[39;00m \u001b[39mnot\u001b[39;00m \u001b[39mNone\u001b[39;00m:\n",
      "File \u001b[0;32m~/miniconda3/lib/python3.10/subprocess.py:1943\u001b[0m, in \u001b[0;36mPopen._wait\u001b[0;34m(self, timeout)\u001b[0m\n\u001b[1;32m   1941\u001b[0m \u001b[39mif\u001b[39;00m \u001b[39mself\u001b[39m\u001b[39m.\u001b[39mreturncode \u001b[39mis\u001b[39;00m \u001b[39mnot\u001b[39;00m \u001b[39mNone\u001b[39;00m:\n\u001b[1;32m   1942\u001b[0m     \u001b[39mbreak\u001b[39;00m  \u001b[39m# Another thread waited.\u001b[39;00m\n\u001b[0;32m-> 1943\u001b[0m (pid, sts) \u001b[39m=\u001b[39m \u001b[39mself\u001b[39;49m\u001b[39m.\u001b[39;49m_try_wait(\u001b[39m0\u001b[39;49m)\n\u001b[1;32m   1944\u001b[0m \u001b[39m# Check the pid and loop as waitpid has been known to\u001b[39;00m\n\u001b[1;32m   1945\u001b[0m \u001b[39m# return 0 even without WNOHANG in odd situations.\u001b[39;00m\n\u001b[1;32m   1946\u001b[0m \u001b[39m# http://bugs.python.org/issue14396.\u001b[39;00m\n\u001b[1;32m   1947\u001b[0m \u001b[39mif\u001b[39;00m pid \u001b[39m==\u001b[39m \u001b[39mself\u001b[39m\u001b[39m.\u001b[39mpid:\n",
      "File \u001b[0;32m~/miniconda3/lib/python3.10/subprocess.py:1901\u001b[0m, in \u001b[0;36mPopen._try_wait\u001b[0;34m(self, wait_flags)\u001b[0m\n\u001b[1;32m   1899\u001b[0m \u001b[39m\u001b[39m\u001b[39m\"\"\"All callers to this function MUST hold self._waitpid_lock.\"\"\"\u001b[39;00m\n\u001b[1;32m   1900\u001b[0m \u001b[39mtry\u001b[39;00m:\n\u001b[0;32m-> 1901\u001b[0m     (pid, sts) \u001b[39m=\u001b[39m os\u001b[39m.\u001b[39;49mwaitpid(\u001b[39mself\u001b[39;49m\u001b[39m.\u001b[39;49mpid, wait_flags)\n\u001b[1;32m   1902\u001b[0m \u001b[39mexcept\u001b[39;00m \u001b[39mChildProcessError\u001b[39;00m:\n\u001b[1;32m   1903\u001b[0m     \u001b[39m# This happens if SIGCLD is set to be ignored or waiting\u001b[39;00m\n\u001b[1;32m   1904\u001b[0m     \u001b[39m# for child processes has otherwise been disabled for our\u001b[39;00m\n\u001b[1;32m   1905\u001b[0m     \u001b[39m# process.  This child is dead, we can't get the status.\u001b[39;00m\n\u001b[1;32m   1906\u001b[0m     pid \u001b[39m=\u001b[39m \u001b[39mself\u001b[39m\u001b[39m.\u001b[39mpid\n",
      "\u001b[0;31mKeyboardInterrupt\u001b[0m: "
     ]
    }
   ],
   "source": [
    "\n",
    "# Replace these paths with your actual paths\n",
    "\n",
    "pdf_directory = '/mnt/HDFS/patidarritesh/pdf_extr'\n",
    "destination_directory = '/mnt/HDFS/patidarritesh/test_pdf'\n",
    "\n",
    "# Create the destination directory if it doesn't exist\n",
    "if not os.path.exists(destination_directory):\n",
    "    os.makedirs(destination_directory)\n",
    "\n",
    "# Iterate through the base names\n",
    "for file in latex_base_names[0]:\n",
    "    try:\n",
    "        # Construct the paths for LaTeX and PDF files\n",
    "        # latex_file = os.path.join('/mnt/NFS/patidarritesh/test_path', file)\n",
    "        if len(file.split('.')) == 3:\n",
    "            \n",
    "            yymm = file.split('.')[0]\n",
    "            year, month = int(yymm[:2]), int(yymm[2:])\n",
    "            year_ = f'200{year}' if year < 10 else f'20{year}'\n",
    "            month_ = f'{year_[2:]}0{month}' if month < 10 else f'{year_[2:]}{month}'\n",
    "\n",
    "        else:\n",
    "            month_ = file[-11:-7]\n",
    "            year = int(month_[:2])\n",
    "            year_ = f'200{year}' if year < 10 else f'20{year}'\n",
    "            # print(year_, month_)\n",
    "\n",
    "        pdf_path = os.path.join(pdf_directory, str(year_), str(month_))\n",
    "        # print(pdf_path)\n",
    "        # copy file.pdf to destination folder\n",
    "        pdf_file = file[:-4] + '.pdf'\n",
    "        subprocess.run(['cp', os.path.join(pdf_path, pdf_file), destination_directory])\n",
    "        # for pdf_file in os.listdir(pdf_directory):\n",
    "    except Exception as e:\n",
    "        print(e)\n",
    "        print(\"file\", file, \"pdf\", pdf_file)       \n",
    "       \n",
    "    #     if pdf_file.startswith(file[:-4]):\n",
    "    #         pdf_file = os.path.join(pdf_directory, file[:-4] + '.pdf')\n",
    "\n",
    "    #         # Check if the PDF file exists\n",
    "    #         if os.path.exists(pdf_file):\n",
    "    #             # Copy the PDF file to the destination directory\n",
    "    #             shutil.copy(pdf_file, destination_directory)\n",
    "    #             print(f\"Copied {pdf_file} to {destination_directory}\")\n",
    "    #         else:\n",
    "    #             print(f\"PDF file not found for {file}\")\n",
    "\n",
    "\n",
    "print(\"Copy operation completed.\")\n"
   ]
  },
  {
   "cell_type": "code",
   "execution_count": null,
   "metadata": {},
   "outputs": [],
   "source": []
  }
 ],
 "metadata": {
  "kernelspec": {
   "display_name": "py-envs",
   "language": "python",
   "name": "python3"
  },
  "language_info": {
   "codemirror_mode": {
    "name": "ipython",
    "version": 3
   },
   "file_extension": ".py",
   "mimetype": "text/x-python",
   "name": "python",
   "nbconvert_exporter": "python",
   "pygments_lexer": "ipython3",
   "version": "3.10.10"
  }
 },
 "nbformat": 4,
 "nbformat_minor": 2
}
