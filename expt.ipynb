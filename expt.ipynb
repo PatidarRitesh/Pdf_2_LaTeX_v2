{
 "cells": [
  {
   "cell_type": "code",
   "execution_count": 4,
   "metadata": {},
   "outputs": [],
   "source": [
    "import os\n",
    "import torch\n",
    "import pandas as pd\n",
    "from skimage import io, transform\n",
    "import numpy as np\n",
    "import matplotlib.pyplot as plt\n",
    "from torch.utils.data import Dataset, DataLoader\n",
    "\n",
    "from pathlib import Path\n",
    "from functools import partial\n",
    "import random\n",
    "from typing import Dict, Tuple, Callable\n",
    "from PIL import Image, UnidentifiedImageError\n",
    "from typing import List, Optional\n",
    "import pypdf\n",
    "import orjson\n",
    "import jsonlines     \n",
    "import fitz  # PyMuPDF\n",
    "from transformers import (\n",
    "    LongformerModel,\n",
    "    LongformerTokenizer,\n",
    "    LongformerConfig,\n",
    "    PreTrainedTokenizerFast,\n",
    "    StoppingCriteria,\n",
    "    StoppingCriteriaList,\n",
    "    MBartConfig,\n",
    "    MBartForCausalLM,\n",
    ")\n",
    "\n",
    "\n",
    "os.environ[\"CUDA_VISIBLE_DEVICES\"]=\"2\"\n",
    "import pickle\n"
   ]
  },
  {
   "cell_type": "code",
   "execution_count": 12,
   "metadata": {},
   "outputs": [
    {
     "name": "stdout",
     "output_type": "stream",
     "text": [
      "inside if, creating text tensor\n",
      "Text Input IDS:  tensor([    0,   271,  1000,  1879,    35,  3669,  2663,     4,  3367,  1922,\n",
      "          705,   134,  1437,   646,   700,   642,    12,  3463,   742,  1437,\n",
      "          883,  1133,  2266, 50118, 28012,  6528,   783,     7, 22328,  1757,\n",
      "            9, 46927,   862,  1640,   642, 47350,   642, 42484,   525,    43,\n",
      "        43413, 16366,  1640,  1301, 42484, 48353, 47264,    43,    23, 47444,\n",
      "        15113,    29,  5457,   134,     4,  5607,  2941,   846,     6,  1027,\n",
      "           11, 50118, 43827,     4,  7161,     4,   211,  6121,     6, 13470,\n",
      "        34972,    36, 32857,    43, 50118,  1640,   495,  1070,    35,   759,\n",
      "          389,     6,   199,    43, 50118, 35765,   104,  1530,    35,   508,\n",
      "            4,  3170,     4,   495,   571,     6,  1558,     4,  4531,     4,\n",
      "         1864,   330,     6,  1570,     4,  3083,     4,   725,   642, 50118,\n",
      "          133, 20104,     9, 46927,   862,  1640,   642, 47350,   642, 42484,\n",
      "          525,    43, 43413, 16366,  1640,  1301, 42484, 48353, 47264,    43,\n",
      "         8881,    12, 50118, 49411,    11,  4013,   646,   134,   742,  3441,\n",
      "           10, 14921,    13,    41,   712,    11, 50118,   627,   431,  6818,\n",
      "        30878, 39533,     4, 50118,   133, 43658, 50118,   462, 18140, 39533,\n",
      "           23,   211,  3849,   711,    16,  9550,    30, 10581,     5, 15009,\n",
      "           12, 50118,  1943,     9,    11,   523, 11599, 25062,    14,  2592,\n",
      "         1340, 16710, 50118, 34451,     5, 10502,     9,     5, 30878, 39533,\n",
      "         5271,   646,   176,  8174,    20, 50118, 32962,     9,     5, 30878,\n",
      "        39533,    34,   682,    57,  4356,    12, 50118,  4892,  5202,   149,\n",
      "         3218,     9,     5, 40158,   636,  2192,  6373,    11, 50118,   627,\n",
      "        30878, 39533,  5271,   646,   246,  8174,  1216,  3218,  4658,    14,\n",
      "        50118,   627, 13484,     9, 45472,    11,   523, 11599, 25062,    21,\n",
      "           81,    12, 50118,   990, 24985,    11,    84,   986,  1966,   646,\n",
      "          306,  8174,   286,    42, 23815,    12, 50118, 20394,     5,  2319,\n",
      "         6818, 30878, 39533,  1130,    31, 50118, 29190,   181,   428, 47677,\n",
      "          134,     7, 33921,   181,   428, 47677,   134,     8,     5, 30878,\n",
      "        39533,  4983, 50118, 11127,   241, 11835,    31,   231,     4,   245,\n",
      "          207,     7,   231,     4,   134,  2153,    20, 17261,   923,    13,\n",
      "        50118, 47721,  1640,   642, 47350,   642, 42484,   525,    43, 43413,\n",
      "        16366,  1640,  1301, 42484, 48353, 47264,    43,    16, 28036, 46710,\n",
      "          508,  1640, 24344,  1592, 46710,   545,  1640,  8628,   620,  1592,\n",
      "        46710, 50118,  1558,  1640,   462,   783,  1592,   181,   428,     4,\n",
      "        50118,   133,    92,   923,    16,    11,  5701,  2854,    12, 50118,\n",
      "         1757,    19,     5,   234,   487, 19787,  2526,  1421, 12535,     9,\n",
      "        50118, 29911,  2744,   245, 50118, 47677,  1092,   181,   428,   634,\n",
      "            5, 18838,  4014, 34972,     8, 34676,  2744,   246,     4,   401,\n",
      "        50118, 47677,   246,     4,   176,   181,   428,   634, 50118,   627,\n",
      "          230,  6433,  1864,   401,     4,   134,   448, 40206,   594, 21645,\n",
      "         1258,     9,     5,   233,   261,  7018,  8643,   257,    12, 50118,\n",
      "        31291,   646,   245,  8174, 50118, 10975,   134,   742,   468,     4,\n",
      "          448,     4,  2060,  1222,  1417,  4400,  1076,     4,    36,   495,\n",
      "         3849,   711, 24807,  1258,   238, 27592,     4,  7161,     4,   211,\n",
      "         6121,     6, 50118,  3570, 34972,    36, 32857,   322, 50118, 10975,\n",
      "          176,   742,   468,     4,   448,     4,  2060,  1222,  1417,  4400,\n",
      "         1076,     4,    36,   495,  3849,   711, 24807,  1258,   238, 12907,\n",
      "         3998,     4,  8857, 10904,     4, 50118, 49111, 27592,     4,  4787,\n",
      "            4,    83,   195,  3506,     6,   204,  5449,    36, 32701,   322,\n",
      "        50118, 10975,   246,   742,   255,     4,   178, 14102,  4400,  1076,\n",
      "          482,   274,  2076,   448,  3063,  4546,    12, 14386,    12,  1922,\n",
      "         3506,    36, 30741,   322, 50118, 10975,   306,   742,   255,     4,\n",
      "         7020,  4400,  1076,   482,   274,  2076,   448,  3063,  4546,    12,\n",
      "        14386,    12,  2036,  5479,    12,   717,    36, 34972,   322, 50118,\n",
      "        10975,   245,   742,   248,     4,  3600,  2865,     6, 50118,   771,\n",
      "            4,   574,     4,  3538,  3864,   254,  2987,     8,   255,     4,\n",
      "          256, 29689,  3851,     6, 50118,   487, 47133,     4, 27592,     4,\n",
      "          163, 34414, 34016,    36, 42478,    43,   646, 28012,  6528,   783,\n",
      "           12,  1452,   808,     4,   163, 36520, 35611, 50118,  1640, 31099,\n",
      "        49151,  7655,  8194,     9, 10389,    64,    28, 50118, 19256,    11,\n",
      "           35,    83,     4,   495,     4,  1896,     6,   248,     4,   534,\n",
      "            4,  6274,     6,   305,     4,   863,     4,   312, 25662,     8,\n",
      "        50118,   500,     4,   104,     4,  2032, 12266,     6, 20939,     4,\n",
      "        27592,     4,   344,     4,   230,  1718,     6, 27888,    36, 34972,\n",
      "         4397,    83,     4,   495,     4,  1127,    12, 50118, 24276,     6,\n",
      "          248,     4,   534,     4,  6274,     6,   305,     4,   863,     4,\n",
      "          312, 25662,     8,   248,     4,   104,     4,  2032, 12266,     6,\n",
      "        27592,     4, 50118,   574,  2645,     4,   163,   231,  3387,     6,\n",
      "         5659,    36, 34972,  4397,   344,     4,   221,   783, 28291,  4400,\n",
      "         1076,   482,   344,   725,  9662,   321, 22782,     6, 50118, 37524,\n",
      "           36, 31099,  4397,   211,     4,   312,  7198,  4400,  1076,   482,\n",
      "          344,   725,  9662, 15171,   698,     6,   321,  3761,    36, 35153,\n",
      "          322, 50118,     2])\n",
      "Text Input IDS Shape:  torch.Size([723])\n"
     ]
    }
   ],
   "source": [
    "pdf_path = \"/mnt/NAS/patidarritesh/5_page_pdfs/0801.3623.pdf\"\n",
    "paper_id = pdf_path.split('/')[-1][:-4]\n",
    "txt_path = f\"/mnt/NAS/patidarritesh/Pdf_2_LaTeX_v2_LONGFORMER/pdf_2_tex/dataset/text_tensor/{paper_id}.pkl\"\n",
    "    \n",
    "# if not os.path.exists(txt_path):\n",
    "print(\"inside if, creating text tensor\")\n",
    "doc = fitz.open(pdf_path)\n",
    "text = doc[0].get_text()\n",
    "# print(\"text: \", text)\n",
    "\n",
    "# Tokenize the text\n",
    "tokenizer = LongformerTokenizer.from_pretrained(\"allenai/longformer-base-4096\")\n",
    "text_input_ids = tokenizer(text, return_tensors=\"pt\" , max_length=4096, truncation=True, padding=True)[\"input_ids\"].squeeze(0)\n",
    "print(\"Text Input IDS: \", text_input_ids)\n",
    "print(\"Text Input IDS Shape: \", text_input_ids.shape)\n",
    "\n",
    "# Serialize the dictionary to bytes\n",
    "data = {\"text_input_ids\": text_input_ids}\n",
    "serialized_data = pickle.dumps(data)\n",
    "\n",
    "with open(txt_path, \"wb\") as f:\n",
    "    f.write(serialized_data)\n",
    "\n"
   ]
  },
  {
   "cell_type": "code",
   "execution_count": 13,
   "metadata": {},
   "outputs": [
    {
     "name": "stdout",
     "output_type": "stream",
     "text": [
      "inside else, opening text tensor\n"
     ]
    },
    {
     "name": "stderr",
     "output_type": "stream",
     "text": [
      "/tmp/ipykernel_3339736/1244349852.py:7: UserWarning: To copy construct from a tensor, it is recommended to use sourceTensor.clone().detach() or sourceTensor.clone().detach().requires_grad_(True), rather than torch.tensor(sourceTensor).\n",
      "  text_input_ids = torch.tensor(text_input_ids['text_input_ids'])\n"
     ]
    }
   ],
   "source": [
    "# else:\n",
    "print(\"inside else, opening text tensor\")\n",
    "if os.path.getsize(txt_path) > 0:  # Check if file is not empty\n",
    "    with open(txt_path, \"rb\") as f:\n",
    "        try:\n",
    "            text_input_ids = pickle.load(f)\n",
    "            text_input_ids = torch.tensor(text_input_ids['text_input_ids'])\n",
    "        except Exception as e:\n",
    "\n",
    "            # save to log text file instead of printing\n",
    "            \n",
    "            \n",
    "            print(f\"Error in {pdf_path}: {e}\")\n",
    "            text_input_ids = None  # or any other appropriate action\n",
    "else:\n",
    "    print(f\"Error: {pdf_path} is empty.\")\n",
    "    text_input_ids = None \n",
    "\n",
    "# if(len(text_input_ids) > 4096):\n",
    "#     text_input_ids = text_input_ids[:4096]\n",
    "\n"
   ]
  },
  {
   "cell_type": "code",
   "execution_count": 14,
   "metadata": {},
   "outputs": [
    {
     "data": {
      "text/plain": [
       "torch.Size([723])"
      ]
     },
     "execution_count": 14,
     "metadata": {},
     "output_type": "execute_result"
    }
   ],
   "source": [
    "text_input_ids.shape"
   ]
  },
  {
   "cell_type": "code",
   "execution_count": null,
   "metadata": {},
   "outputs": [],
   "source": []
  }
 ],
 "metadata": {
  "kernelspec": {
   "display_name": "base",
   "language": "python",
   "name": "python3"
  },
  "language_info": {
   "codemirror_mode": {
    "name": "ipython",
    "version": 3
   },
   "file_extension": ".py",
   "mimetype": "text/x-python",
   "name": "python",
   "nbconvert_exporter": "python",
   "pygments_lexer": "ipython3",
   "version": "3.11.5"
  }
 },
 "nbformat": 4,
 "nbformat_minor": 2
}
